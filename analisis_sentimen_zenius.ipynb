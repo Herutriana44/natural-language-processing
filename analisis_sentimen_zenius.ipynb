{
  "cells": [
    {
      "cell_type": "markdown",
      "metadata": {
        "id": "o7wyadZN6MTE"
      },
      "source": [
        "sentimen aplikasi zenius"
      ]
    },
    {
      "cell_type": "markdown",
      "metadata": {
        "id": "DmKwOCH98YBC"
      },
      "source": [
        "1.instal *lebery*"
      ]
    },
    {
      "cell_type": "code",
      "execution_count": null,
      "metadata": {
        "id": "kjv6Y5Ql6Qnb"
      },
      "outputs": [],
      "source": [
        "import pandas as pd\n",
        "import string\n",
        "from sklearn.pipeline import Pipeline\n",
        "import numpy as np\n"
      ]
    },
    {
      "cell_type": "markdown",
      "source": [
        "Dataset"
      ],
      "metadata": {
        "id": "bvc1SaixSoM9"
      }
    },
    {
      "cell_type": "code",
      "execution_count": null,
      "metadata": {
        "colab": {
          "base_uri": "https://localhost:8080/",
          "height": 206
        },
        "id": "vzF5eTjB6jzj",
        "outputId": "08770d5e-68fe-4fef-99f4-dbe9f26b0117"
      },
      "outputs": [
        {
          "output_type": "execute_result",
          "data": {
            "text/plain": [
              "              userName  ranting             tanggal  \\\n",
              "0         Dewi Adikara        5 2022-06-27 13:20:04   \n",
              "1  KEYSHA DWI SETIYANI        5 2022-06-27 12:57:24   \n",
              "2          Sri Wahyuni        5 2022-06-27 05:58:22   \n",
              "3       D.A.P Official        5 2022-06-27 05:41:55   \n",
              "4       Nabila Albatul        1 2022-06-27 04:59:09   \n",
              "\n",
              "                                              ulasan  \n",
              "0  Dewi udah cobain Zenius, menyenangkan banget c...  \n",
              "1              pembelajaran seru dan mudahh dipahami  \n",
              "2  Aplikasi Zenius sangat membantu adikku untuk b...  \n",
              "3  Ada kurikulum baru kurikulum 2022 Implementasi...  \n",
              "4  Hai Zenius aku akan memberi 5 bintang nanti ka...  "
            ],
            "text/html": [
              "\n",
              "  <div id=\"df-d50b1037-7412-461d-8943-396aaca19a33\">\n",
              "    <div class=\"colab-df-container\">\n",
              "      <div>\n",
              "<style scoped>\n",
              "    .dataframe tbody tr th:only-of-type {\n",
              "        vertical-align: middle;\n",
              "    }\n",
              "\n",
              "    .dataframe tbody tr th {\n",
              "        vertical-align: top;\n",
              "    }\n",
              "\n",
              "    .dataframe thead th {\n",
              "        text-align: right;\n",
              "    }\n",
              "</style>\n",
              "<table border=\"1\" class=\"dataframe\">\n",
              "  <thead>\n",
              "    <tr style=\"text-align: right;\">\n",
              "      <th></th>\n",
              "      <th>userName</th>\n",
              "      <th>ranting</th>\n",
              "      <th>tanggal</th>\n",
              "      <th>ulasan</th>\n",
              "    </tr>\n",
              "  </thead>\n",
              "  <tbody>\n",
              "    <tr>\n",
              "      <th>0</th>\n",
              "      <td>Dewi Adikara</td>\n",
              "      <td>5</td>\n",
              "      <td>2022-06-27 13:20:04</td>\n",
              "      <td>Dewi udah cobain Zenius, menyenangkan banget c...</td>\n",
              "    </tr>\n",
              "    <tr>\n",
              "      <th>1</th>\n",
              "      <td>KEYSHA DWI SETIYANI</td>\n",
              "      <td>5</td>\n",
              "      <td>2022-06-27 12:57:24</td>\n",
              "      <td>pembelajaran seru dan mudahh dipahami</td>\n",
              "    </tr>\n",
              "    <tr>\n",
              "      <th>2</th>\n",
              "      <td>Sri Wahyuni</td>\n",
              "      <td>5</td>\n",
              "      <td>2022-06-27 05:58:22</td>\n",
              "      <td>Aplikasi Zenius sangat membantu adikku untuk b...</td>\n",
              "    </tr>\n",
              "    <tr>\n",
              "      <th>3</th>\n",
              "      <td>D.A.P Official</td>\n",
              "      <td>5</td>\n",
              "      <td>2022-06-27 05:41:55</td>\n",
              "      <td>Ada kurikulum baru kurikulum 2022 Implementasi...</td>\n",
              "    </tr>\n",
              "    <tr>\n",
              "      <th>4</th>\n",
              "      <td>Nabila Albatul</td>\n",
              "      <td>1</td>\n",
              "      <td>2022-06-27 04:59:09</td>\n",
              "      <td>Hai Zenius aku akan memberi 5 bintang nanti ka...</td>\n",
              "    </tr>\n",
              "  </tbody>\n",
              "</table>\n",
              "</div>\n",
              "      <button class=\"colab-df-convert\" onclick=\"convertToInteractive('df-d50b1037-7412-461d-8943-396aaca19a33')\"\n",
              "              title=\"Convert this dataframe to an interactive table.\"\n",
              "              style=\"display:none;\">\n",
              "        \n",
              "  <svg xmlns=\"http://www.w3.org/2000/svg\" height=\"24px\"viewBox=\"0 0 24 24\"\n",
              "       width=\"24px\">\n",
              "    <path d=\"M0 0h24v24H0V0z\" fill=\"none\"/>\n",
              "    <path d=\"M18.56 5.44l.94 2.06.94-2.06 2.06-.94-2.06-.94-.94-2.06-.94 2.06-2.06.94zm-11 1L8.5 8.5l.94-2.06 2.06-.94-2.06-.94L8.5 2.5l-.94 2.06-2.06.94zm10 10l.94 2.06.94-2.06 2.06-.94-2.06-.94-.94-2.06-.94 2.06-2.06.94z\"/><path d=\"M17.41 7.96l-1.37-1.37c-.4-.4-.92-.59-1.43-.59-.52 0-1.04.2-1.43.59L10.3 9.45l-7.72 7.72c-.78.78-.78 2.05 0 2.83L4 21.41c.39.39.9.59 1.41.59.51 0 1.02-.2 1.41-.59l7.78-7.78 2.81-2.81c.8-.78.8-2.07 0-2.86zM5.41 20L4 18.59l7.72-7.72 1.47 1.35L5.41 20z\"/>\n",
              "  </svg>\n",
              "      </button>\n",
              "      \n",
              "  <style>\n",
              "    .colab-df-container {\n",
              "      display:flex;\n",
              "      flex-wrap:wrap;\n",
              "      gap: 12px;\n",
              "    }\n",
              "\n",
              "    .colab-df-convert {\n",
              "      background-color: #E8F0FE;\n",
              "      border: none;\n",
              "      border-radius: 50%;\n",
              "      cursor: pointer;\n",
              "      display: none;\n",
              "      fill: #1967D2;\n",
              "      height: 32px;\n",
              "      padding: 0 0 0 0;\n",
              "      width: 32px;\n",
              "    }\n",
              "\n",
              "    .colab-df-convert:hover {\n",
              "      background-color: #E2EBFA;\n",
              "      box-shadow: 0px 1px 2px rgba(60, 64, 67, 0.3), 0px 1px 3px 1px rgba(60, 64, 67, 0.15);\n",
              "      fill: #174EA6;\n",
              "    }\n",
              "\n",
              "    [theme=dark] .colab-df-convert {\n",
              "      background-color: #3B4455;\n",
              "      fill: #D2E3FC;\n",
              "    }\n",
              "\n",
              "    [theme=dark] .colab-df-convert:hover {\n",
              "      background-color: #434B5C;\n",
              "      box-shadow: 0px 1px 3px 1px rgba(0, 0, 0, 0.15);\n",
              "      filter: drop-shadow(0px 1px 2px rgba(0, 0, 0, 0.3));\n",
              "      fill: #FFFFFF;\n",
              "    }\n",
              "  </style>\n",
              "\n",
              "      <script>\n",
              "        const buttonEl =\n",
              "          document.querySelector('#df-d50b1037-7412-461d-8943-396aaca19a33 button.colab-df-convert');\n",
              "        buttonEl.style.display =\n",
              "          google.colab.kernel.accessAllowed ? 'block' : 'none';\n",
              "\n",
              "        async function convertToInteractive(key) {\n",
              "          const element = document.querySelector('#df-d50b1037-7412-461d-8943-396aaca19a33');\n",
              "          const dataTable =\n",
              "            await google.colab.kernel.invokeFunction('convertToInteractive',\n",
              "                                                     [key], {});\n",
              "          if (!dataTable) return;\n",
              "\n",
              "          const docLinkHtml = 'Like what you see? Visit the ' +\n",
              "            '<a target=\"_blank\" href=https://colab.research.google.com/notebooks/data_table.ipynb>data table notebook</a>'\n",
              "            + ' to learn more about interactive tables.';\n",
              "          element.innerHTML = '';\n",
              "          dataTable['output_type'] = 'display_data';\n",
              "          await google.colab.output.renderOutput(dataTable, element);\n",
              "          const docLink = document.createElement('div');\n",
              "          docLink.innerHTML = docLinkHtml;\n",
              "          element.appendChild(docLink);\n",
              "        }\n",
              "      </script>\n",
              "    </div>\n",
              "  </div>\n",
              "  "
            ]
          },
          "metadata": {},
          "execution_count": 109
        }
      ],
      "source": [
        "df_review = pd.read_excel(\"/content/zenius_data.xlsx\")\n",
        "df_review.head(5)"
      ]
    },
    {
      "cell_type": "code",
      "source": [
        "df_as = pd.read_excel(\"/content/zenius_data.xlsx\")"
      ],
      "metadata": {
        "id": "0nTeVhGb7m9n"
      },
      "execution_count": null,
      "outputs": []
    },
    {
      "cell_type": "code",
      "source": [
        "df_as['ranting'].value_counts()"
      ],
      "metadata": {
        "colab": {
          "base_uri": "https://localhost:8080/"
        },
        "id": "lKjPgxfJ3D-o",
        "outputId": "6fe89adf-cd5a-46f0-cc5a-bc14fea5e928"
      },
      "execution_count": null,
      "outputs": [
        {
          "output_type": "execute_result",
          "data": {
            "text/plain": [
              "5    887\n",
              "4    242\n",
              "3    159\n",
              "1    130\n",
              "2     82\n",
              "Name: ranting, dtype: int64"
            ]
          },
          "metadata": {},
          "execution_count": 111
        }
      ]
    },
    {
      "cell_type": "markdown",
      "source": [
        "Menampilkan grafik frekuensi rating"
      ],
      "metadata": {
        "id": "zHm4yhVwS9ni"
      }
    },
    {
      "cell_type": "code",
      "source": [
        "import matplotlib.pyplot as plt\n",
        "\n",
        "# x-coordinates of left sides of bars\n",
        "left = [1, 2, 3, 4, 5]\n",
        "\n",
        "# heights of bars\n",
        "height = [93, 59, 124, 195, 1029]\n",
        "\n",
        "# labels for bars\n",
        "tick_label = [1, 2, 3, 4, 5]\n",
        "\n",
        "# plotting a bar chart\n",
        "plt.bar(left, height, tick_label = tick_label,\n",
        "        width = 0.8, color = ['red', 'green'])\n",
        "\n",
        "# naming the x-axis\n",
        "plt.xlabel('Rating')\n",
        "# naming the y-axis\n",
        "plt.ylabel('Frekuensi Data')\n",
        "# plot title\n",
        "plt.title('Frekuensi Rating Dalam Dataset Ruang Guru')\n",
        "\n",
        "# function to show the plot\n",
        "plt.show()"
      ],
      "metadata": {
        "colab": {
          "base_uri": "https://localhost:8080/",
          "height": 295
        },
        "id": "0v26PghG3-kN",
        "outputId": "77c32728-d59c-4d2e-8596-77a8679fcfd8"
      },
      "execution_count": null,
      "outputs": [
        {
          "output_type": "display_data",
          "data": {
            "text/plain": [
              "<Figure size 432x288 with 1 Axes>"
            ],
            "image/png": "[encoded data removed]"
          },
          "metadata": {
            "needs_background": "light"
          }
        }
      ]
    },
    {
      "cell_type": "markdown",
      "metadata": {
        "id": "8So-dbpMDNrG"
      },
      "source": [
        "#jumlah rating"
      ]
    },
    {
      "cell_type": "code",
      "execution_count": null,
      "metadata": {
        "colab": {
          "base_uri": "https://localhost:8080/"
        },
        "id": "aMU6Fhzw7LuG",
        "outputId": "319889d0-1f97-41b6-90f2-49e2241be7d8"
      },
      "outputs": [
        {
          "output_type": "execute_result",
          "data": {
            "text/plain": [
              "5    887\n",
              "4    242\n",
              "3    159\n",
              "1    130\n",
              "2     82\n",
              "Name: ranting, dtype: int64"
            ]
          },
          "metadata": {},
          "execution_count": 113
        }
      ],
      "source": [
        "df_review[\"ranting\"].value_counts()"
      ]
    },
    {
      "cell_type": "markdown",
      "metadata": {
        "id": "iEPDMjdM8c9H"
      },
      "source": [
        "2.plabelan"
      ]
    },
    {
      "cell_type": "code",
      "execution_count": null,
      "metadata": {
        "colab": {
          "base_uri": "https://localhost:8080/",
          "height": 206
        },
        "id": "ieHwjKoN8dTq",
        "outputId": "52022afd-65c2-4f85-ef2c-68a1fa609841"
      },
      "outputs": [
        {
          "output_type": "execute_result",
          "data": {
            "text/plain": [
              "              userName             tanggal  \\\n",
              "0         Dewi Adikara 2022-06-27 13:20:04   \n",
              "1  KEYSHA DWI SETIYANI 2022-06-27 12:57:24   \n",
              "2          Sri Wahyuni 2022-06-27 05:58:22   \n",
              "3       D.A.P Official 2022-06-27 05:41:55   \n",
              "4       Nabila Albatul 2022-06-27 04:59:09   \n",
              "\n",
              "                                              ulasan sentimen  \n",
              "0  Dewi udah cobain Zenius, menyenangkan banget c...  positif  \n",
              "1              pembelajaran seru dan mudahh dipahami  positif  \n",
              "2  Aplikasi Zenius sangat membantu adikku untuk b...  positif  \n",
              "3  Ada kurikulum baru kurikulum 2022 Implementasi...  positif  \n",
              "4  Hai Zenius aku akan memberi 5 bintang nanti ka...  negatif  "
            ],
            "text/html": [
              "\n",
              "  <div id=\"df-29ab40ce-9fcb-46a3-8d74-a5040ec81791\">\n",
              "    <div class=\"colab-df-container\">\n",
              "      <div>\n",
              "<style scoped>\n",
              "    .dataframe tbody tr th:only-of-type {\n",
              "        vertical-align: middle;\n",
              "    }\n",
              "\n",
              "    .dataframe tbody tr th {\n",
              "        vertical-align: top;\n",
              "    }\n",
              "\n",
              "    .dataframe thead th {\n",
              "        text-align: right;\n",
              "    }\n",
              "</style>\n",
              "<table border=\"1\" class=\"dataframe\">\n",
              "  <thead>\n",
              "    <tr style=\"text-align: right;\">\n",
              "      <th></th>\n",
              "      <th>userName</th>\n",
              "      <th>tanggal</th>\n",
              "      <th>ulasan</th>\n",
              "      <th>sentimen</th>\n",
              "    </tr>\n",
              "  </thead>\n",
              "  <tbody>\n",
              "    <tr>\n",
              "      <th>0</th>\n",
              "      <td>Dewi Adikara</td>\n",
              "      <td>2022-06-27 13:20:04</td>\n",
              "      <td>Dewi udah cobain Zenius, menyenangkan banget c...</td>\n",
              "      <td>positif</td>\n",
              "    </tr>\n",
              "    <tr>\n",
              "      <th>1</th>\n",
              "      <td>KEYSHA DWI SETIYANI</td>\n",
              "      <td>2022-06-27 12:57:24</td>\n",
              "      <td>pembelajaran seru dan mudahh dipahami</td>\n",
              "      <td>positif</td>\n",
              "    </tr>\n",
              "    <tr>\n",
              "      <th>2</th>\n",
              "      <td>Sri Wahyuni</td>\n",
              "      <td>2022-06-27 05:58:22</td>\n",
              "      <td>Aplikasi Zenius sangat membantu adikku untuk b...</td>\n",
              "      <td>positif</td>\n",
              "    </tr>\n",
              "    <tr>\n",
              "      <th>3</th>\n",
              "      <td>D.A.P Official</td>\n",
              "      <td>2022-06-27 05:41:55</td>\n",
              "      <td>Ada kurikulum baru kurikulum 2022 Implementasi...</td>\n",
              "      <td>positif</td>\n",
              "    </tr>\n",
              "    <tr>\n",
              "      <th>4</th>\n",
              "      <td>Nabila Albatul</td>\n",
              "      <td>2022-06-27 04:59:09</td>\n",
              "      <td>Hai Zenius aku akan memberi 5 bintang nanti ka...</td>\n",
              "      <td>negatif</td>\n",
              "    </tr>\n",
              "  </tbody>\n",
              "</table>\n",
              "</div>\n",
              "      <button class=\"colab-df-convert\" onclick=\"convertToInteractive('df-29ab40ce-9fcb-46a3-8d74-a5040ec81791')\"\n",
              "              title=\"Convert this dataframe to an interactive table.\"\n",
              "              style=\"display:none;\">\n",
              "        \n",
              "  <svg xmlns=\"http://www.w3.org/2000/svg\" height=\"24px\"viewBox=\"0 0 24 24\"\n",
              "       width=\"24px\">\n",
              "    <path d=\"M0 0h24v24H0V0z\" fill=\"none\"/>\n",
              "    <path d=\"M18.56 5.44l.94 2.06.94-2.06 2.06-.94-2.06-.94-.94-2.06-.94 2.06-2.06.94zm-11 1L8.5 8.5l.94-2.06 2.06-.94-2.06-.94L8.5 2.5l-.94 2.06-2.06.94zm10 10l.94 2.06.94-2.06 2.06-.94-2.06-.94-.94-2.06-.94 2.06-2.06.94z\"/><path d=\"M17.41 7.96l-1.37-1.37c-.4-.4-.92-.59-1.43-.59-.52 0-1.04.2-1.43.59L10.3 9.45l-7.72 7.72c-.78.78-.78 2.05 0 2.83L4 21.41c.39.39.9.59 1.41.59.51 0 1.02-.2 1.41-.59l7.78-7.78 2.81-2.81c.8-.78.8-2.07 0-2.86zM5.41 20L4 18.59l7.72-7.72 1.47 1.35L5.41 20z\"/>\n",
              "  </svg>\n",
              "      </button>\n",
              "      \n",
              "  <style>\n",
              "    .colab-df-container {\n",
              "      display:flex;\n",
              "      flex-wrap:wrap;\n",
              "      gap: 12px;\n",
              "    }\n",
              "\n",
              "    .colab-df-convert {\n",
              "      background-color: #E8F0FE;\n",
              "      border: none;\n",
              "      border-radius: 50%;\n",
              "      cursor: pointer;\n",
              "      display: none;\n",
              "      fill: #1967D2;\n",
              "      height: 32px;\n",
              "      padding: 0 0 0 0;\n",
              "      width: 32px;\n",
              "    }\n",
              "\n",
              "    .colab-df-convert:hover {\n",
              "      background-color: #E2EBFA;\n",
              "      box-shadow: 0px 1px 2px rgba(60, 64, 67, 0.3), 0px 1px 3px 1px rgba(60, 64, 67, 0.15);\n",
              "      fill: #174EA6;\n",
              "    }\n",
              "\n",
              "    [theme=dark] .colab-df-convert {\n",
              "      background-color: #3B4455;\n",
              "      fill: #D2E3FC;\n",
              "    }\n",
              "\n",
              "    [theme=dark] .colab-df-convert:hover {\n",
              "      background-color: #434B5C;\n",
              "      box-shadow: 0px 1px 3px 1px rgba(0, 0, 0, 0.15);\n",
              "      filter: drop-shadow(0px 1px 2px rgba(0, 0, 0, 0.3));\n",
              "      fill: #FFFFFF;\n",
              "    }\n",
              "  </style>\n",
              "\n",
              "      <script>\n",
              "        const buttonEl =\n",
              "          document.querySelector('#df-29ab40ce-9fcb-46a3-8d74-a5040ec81791 button.colab-df-convert');\n",
              "        buttonEl.style.display =\n",
              "          google.colab.kernel.accessAllowed ? 'block' : 'none';\n",
              "\n",
              "        async function convertToInteractive(key) {\n",
              "          const element = document.querySelector('#df-29ab40ce-9fcb-46a3-8d74-a5040ec81791');\n",
              "          const dataTable =\n",
              "            await google.colab.kernel.invokeFunction('convertToInteractive',\n",
              "                                                     [key], {});\n",
              "          if (!dataTable) return;\n",
              "\n",
              "          const docLinkHtml = 'Like what you see? Visit the ' +\n",
              "            '<a target=\"_blank\" href=https://colab.research.google.com/notebooks/data_table.ipynb>data table notebook</a>'\n",
              "            + ' to learn more about interactive tables.';\n",
              "          element.innerHTML = '';\n",
              "          dataTable['output_type'] = 'display_data';\n",
              "          await google.colab.output.renderOutput(dataTable, element);\n",
              "          const docLink = document.createElement('div');\n",
              "          docLink.innerHTML = docLinkHtml;\n",
              "          element.appendChild(docLink);\n",
              "        }\n",
              "      </script>\n",
              "    </div>\n",
              "  </div>\n",
              "  "
            ]
          },
          "metadata": {},
          "execution_count": 114
        }
      ],
      "source": [
        "sentimen = []\n",
        "for index, row in df_review.iterrows():\n",
        "     if row['ranting']>=3:\n",
        "        sentimen.append('positif')\n",
        "     else:\n",
        "       sentimen.append('negatif')\n",
        "df_review['sentimen'] = sentimen\n",
        "df_review = df_review.drop(columns=['ranting'])\n",
        "df_review.head()"
      ]
    },
    {
      "cell_type": "code",
      "execution_count": null,
      "metadata": {
        "colab": {
          "base_uri": "https://localhost:8080/"
        },
        "id": "R1w5Tx3292TL",
        "outputId": "090ad2a6-1a13-44d4-97b8-5216ac8a4e1f"
      },
      "outputs": [
        {
          "output_type": "execute_result",
          "data": {
            "text/plain": [
              "positif    1288\n",
              "negatif     212\n",
              "Name: sentimen, dtype: int64"
            ]
          },
          "metadata": {},
          "execution_count": 115
        }
      ],
      "source": [
        "df_review['sentimen'].value_counts()"
      ]
    },
    {
      "cell_type": "code",
      "source": [
        "import matplotlib.pyplot as plt\n",
        "\n",
        "# Data to plot\n",
        "labels = 'Negatif', 'Positif'\n",
        "sizes = [212, 1288]\n",
        "colors = ['red', 'blue']\n",
        "explode = (0.1, 0)  # explode 1st slice\n",
        "\n",
        "# Plot\n",
        "plt.pie(sizes, explode=explode, labels=labels, colors=colors,\n",
        "autopct='%1.1f%%', shadow=True, startangle=140)\n",
        "\n",
        "plt.axis('equal')\n",
        "plt.title(\"Persentase Sentimen Sebelum Menerapkan Model Pada Aplikasi Zenius\")\n",
        "plt.show()\n",
        "print(\"Negatif =\",sizes[0])\n",
        "print(\"Positif =\",sizes[1])\n",
        "print(\"Jumlah Keseluruhan Data =\",sum(sizes))"
      ],
      "metadata": {
        "colab": {
          "base_uri": "https://localhost:8080/",
          "height": 316
        },
        "id": "a79FTesj8DpC",
        "outputId": "a64d7772-cf16-4f73-fad6-a271ccaf2d2c"
      },
      "execution_count": null,
      "outputs": [
        {
          "output_type": "display_data",
          "data": {
            "text/plain": [
              "<Figure size 432x288 with 1 Axes>"
            ],
            "image/png": "[encoded data removed]"
          },
          "metadata": {}
        },
        {
          "output_type": "stream",
          "name": "stdout",
          "text": [
            "Negatif = 212\n",
            "Positif = 1288\n",
            "Jumlah Keseluruhan Data = 1500\n"
          ]
        }
      ]
    },
    {
      "cell_type": "markdown",
      "metadata": {
        "id": "5Tc1dAtI-q8W"
      },
      "source": [
        "3.menghilangkan tabel yang tidak digunakan"
      ]
    },
    {
      "cell_type": "code",
      "execution_count": null,
      "metadata": {
        "colab": {
          "base_uri": "https://localhost:8080/",
          "height": 206
        },
        "id": "D1OAG1uC-tnF",
        "outputId": "2db4f8b6-c9ee-46b6-9e9a-3ecea3ea393b"
      },
      "outputs": [
        {
          "output_type": "execute_result",
          "data": {
            "text/plain": [
              "                                              ulasan sentimen\n",
              "0  Dewi udah cobain Zenius, menyenangkan banget c...  positif\n",
              "1              pembelajaran seru dan mudahh dipahami  positif\n",
              "2  Aplikasi Zenius sangat membantu adikku untuk b...  positif\n",
              "3  Ada kurikulum baru kurikulum 2022 Implementasi...  positif\n",
              "4  Hai Zenius aku akan memberi 5 bintang nanti ka...  negatif"
            ],
            "text/html": [
              "\n",
              "  <div id=\"df-3691ad91-0400-4e45-97fc-2ae2ee238274\">\n",
              "    <div class=\"colab-df-container\">\n",
              "      <div>\n",
              "<style scoped>\n",
              "    .dataframe tbody tr th:only-of-type {\n",
              "        vertical-align: middle;\n",
              "    }\n",
              "\n",
              "    .dataframe tbody tr th {\n",
              "        vertical-align: top;\n",
              "    }\n",
              "\n",
              "    .dataframe thead th {\n",
              "        text-align: right;\n",
              "    }\n",
              "</style>\n",
              "<table border=\"1\" class=\"dataframe\">\n",
              "  <thead>\n",
              "    <tr style=\"text-align: right;\">\n",
              "      <th></th>\n",
              "      <th>ulasan</th>\n",
              "      <th>sentimen</th>\n",
              "    </tr>\n",
              "  </thead>\n",
              "  <tbody>\n",
              "    <tr>\n",
              "      <th>0</th>\n",
              "      <td>Dewi udah cobain Zenius, menyenangkan banget c...</td>\n",
              "      <td>positif</td>\n",
              "    </tr>\n",
              "    <tr>\n",
              "      <th>1</th>\n",
              "      <td>pembelajaran seru dan mudahh dipahami</td>\n",
              "      <td>positif</td>\n",
              "    </tr>\n",
              "    <tr>\n",
              "      <th>2</th>\n",
              "      <td>Aplikasi Zenius sangat membantu adikku untuk b...</td>\n",
              "      <td>positif</td>\n",
              "    </tr>\n",
              "    <tr>\n",
              "      <th>3</th>\n",
              "      <td>Ada kurikulum baru kurikulum 2022 Implementasi...</td>\n",
              "      <td>positif</td>\n",
              "    </tr>\n",
              "    <tr>\n",
              "      <th>4</th>\n",
              "      <td>Hai Zenius aku akan memberi 5 bintang nanti ka...</td>\n",
              "      <td>negatif</td>\n",
              "    </tr>\n",
              "  </tbody>\n",
              "</table>\n",
              "</div>\n",
              "      <button class=\"colab-df-convert\" onclick=\"convertToInteractive('df-3691ad91-0400-4e45-97fc-2ae2ee238274')\"\n",
              "              title=\"Convert this dataframe to an interactive table.\"\n",
              "              style=\"display:none;\">\n",
              "        \n",
              "  <svg xmlns=\"http://www.w3.org/2000/svg\" height=\"24px\"viewBox=\"0 0 24 24\"\n",
              "       width=\"24px\">\n",
              "    <path d=\"M0 0h24v24H0V0z\" fill=\"none\"/>\n",
              "    <path d=\"M18.56 5.44l.94 2.06.94-2.06 2.06-.94-2.06-.94-.94-2.06-.94 2.06-2.06.94zm-11 1L8.5 8.5l.94-2.06 2.06-.94-2.06-.94L8.5 2.5l-.94 2.06-2.06.94zm10 10l.94 2.06.94-2.06 2.06-.94-2.06-.94-.94-2.06-.94 2.06-2.06.94z\"/><path d=\"M17.41 7.96l-1.37-1.37c-.4-.4-.92-.59-1.43-.59-.52 0-1.04.2-1.43.59L10.3 9.45l-7.72 7.72c-.78.78-.78 2.05 0 2.83L4 21.41c.39.39.9.59 1.41.59.51 0 1.02-.2 1.41-.59l7.78-7.78 2.81-2.81c.8-.78.8-2.07 0-2.86zM5.41 20L4 18.59l7.72-7.72 1.47 1.35L5.41 20z\"/>\n",
              "  </svg>\n",
              "      </button>\n",
              "      \n",
              "  <style>\n",
              "    .colab-df-container {\n",
              "      display:flex;\n",
              "      flex-wrap:wrap;\n",
              "      gap: 12px;\n",
              "    }\n",
              "\n",
              "    .colab-df-convert {\n",
              "      background-color: #E8F0FE;\n",
              "      border: none;\n",
              "      border-radius: 50%;\n",
              "      cursor: pointer;\n",
              "      display: none;\n",
              "      fill: #1967D2;\n",
              "      height: 32px;\n",
              "      padding: 0 0 0 0;\n",
              "      width: 32px;\n",
              "    }\n",
              "\n",
              "    .colab-df-convert:hover {\n",
              "      background-color: #E2EBFA;\n",
              "      box-shadow: 0px 1px 2px rgba(60, 64, 67, 0.3), 0px 1px 3px 1px rgba(60, 64, 67, 0.15);\n",
              "      fill: #174EA6;\n",
              "    }\n",
              "\n",
              "    [theme=dark] .colab-df-convert {\n",
              "      background-color: #3B4455;\n",
              "      fill: #D2E3FC;\n",
              "    }\n",
              "\n",
              "    [theme=dark] .colab-df-convert:hover {\n",
              "      background-color: #434B5C;\n",
              "      box-shadow: 0px 1px 3px 1px rgba(0, 0, 0, 0.15);\n",
              "      filter: drop-shadow(0px 1px 2px rgba(0, 0, 0, 0.3));\n",
              "      fill: #FFFFFF;\n",
              "    }\n",
              "  </style>\n",
              "\n",
              "      <script>\n",
              "        const buttonEl =\n",
              "          document.querySelector('#df-3691ad91-0400-4e45-97fc-2ae2ee238274 button.colab-df-convert');\n",
              "        buttonEl.style.display =\n",
              "          google.colab.kernel.accessAllowed ? 'block' : 'none';\n",
              "\n",
              "        async function convertToInteractive(key) {\n",
              "          const element = document.querySelector('#df-3691ad91-0400-4e45-97fc-2ae2ee238274');\n",
              "          const dataTable =\n",
              "            await google.colab.kernel.invokeFunction('convertToInteractive',\n",
              "                                                     [key], {});\n",
              "          if (!dataTable) return;\n",
              "\n",
              "          const docLinkHtml = 'Like what you see? Visit the ' +\n",
              "            '<a target=\"_blank\" href=https://colab.research.google.com/notebooks/data_table.ipynb>data table notebook</a>'\n",
              "            + ' to learn more about interactive tables.';\n",
              "          element.innerHTML = '';\n",
              "          dataTable['output_type'] = 'display_data';\n",
              "          await google.colab.output.renderOutput(dataTable, element);\n",
              "          const docLink = document.createElement('div');\n",
              "          docLink.innerHTML = docLinkHtml;\n",
              "          element.appendChild(docLink);\n",
              "        }\n",
              "      </script>\n",
              "    </div>\n",
              "  </div>\n",
              "  "
            ]
          },
          "metadata": {},
          "execution_count": 117
        }
      ],
      "source": [
        "df_preprocessed = df_review.copy()\n",
        "df_preprocessed = df_preprocessed.drop (columns=['userName', 'tanggal'])\n",
        "df_preprocessed.head()"
      ]
    },
    {
      "cell_type": "markdown",
      "metadata": {
        "id": "QPlr8_Ll_xeV"
      },
      "source": [
        "3.data disama ratakan(resempling)"
      ]
    },
    {
      "cell_type": "markdown",
      "metadata": {
        "id": "tgSqbjeYFZWo"
      },
      "source": [
        "#cleansing"
      ]
    },
    {
      "cell_type": "code",
      "execution_count": null,
      "metadata": {
        "id": "uWIZVUYEFxIT"
      },
      "outputs": [],
      "source": [
        "import string, re\n",
        "\n",
        "def cleansing(data):\n",
        "  #lower text\n",
        "  data = data.lower()\n",
        "\n",
        "  #hapus punctuation\n",
        "  remove =string.punctuation\n",
        "  translator = str.maketrans(remove,' '*len(remove))\n",
        "  data = data.translate(translator)\n",
        "\n",
        "  #remove ASCII dan unicode\n",
        "  data = data.encode('ascii','ignore').decode('utf-8')\n",
        "  data = re.sub(r'[^\\x00-\\x7f]',r'', data)\n",
        "\n",
        "  #remove newline\n",
        "  data = data.replace('\\n','')\n",
        "\n",
        "  return data\n",
        "\n"
      ]
    },
    {
      "cell_type": "code",
      "execution_count": null,
      "metadata": {
        "colab": {
          "base_uri": "https://localhost:8080/",
          "height": 206
        },
        "id": "B2EEcRHAFZ9L",
        "outputId": "765f8307-8556-468c-a758-1dc7b234c946"
      },
      "outputs": [
        {
          "output_type": "execute_result",
          "data": {
            "text/plain": [
              "                                              ulasan sentimen\n",
              "0  dewi udah cobain zenius  menyenangkan banget c...  positif\n",
              "1              pembelajaran seru dan mudahh dipahami  positif\n",
              "2  aplikasi zenius sangat membantu adikku untuk b...  positif\n",
              "3  ada kurikulum baru kurikulum 2022 implementasi...  positif\n",
              "4  hai zenius aku akan memberi 5 bintang nanti ka...  negatif"
            ],
            "text/html": [
              "\n",
              "  <div id=\"df-37b14676-0e1e-4f1e-ac32-e103b0c20853\">\n",
              "    <div class=\"colab-df-container\">\n",
              "      <div>\n",
              "<style scoped>\n",
              "    .dataframe tbody tr th:only-of-type {\n",
              "        vertical-align: middle;\n",
              "    }\n",
              "\n",
              "    .dataframe tbody tr th {\n",
              "        vertical-align: top;\n",
              "    }\n",
              "\n",
              "    .dataframe thead th {\n",
              "        text-align: right;\n",
              "    }\n",
              "</style>\n",
              "<table border=\"1\" class=\"dataframe\">\n",
              "  <thead>\n",
              "    <tr style=\"text-align: right;\">\n",
              "      <th></th>\n",
              "      <th>ulasan</th>\n",
              "      <th>sentimen</th>\n",
              "    </tr>\n",
              "  </thead>\n",
              "  <tbody>\n",
              "    <tr>\n",
              "      <th>0</th>\n",
              "      <td>dewi udah cobain zenius  menyenangkan banget c...</td>\n",
              "      <td>positif</td>\n",
              "    </tr>\n",
              "    <tr>\n",
              "      <th>1</th>\n",
              "      <td>pembelajaran seru dan mudahh dipahami</td>\n",
              "      <td>positif</td>\n",
              "    </tr>\n",
              "    <tr>\n",
              "      <th>2</th>\n",
              "      <td>aplikasi zenius sangat membantu adikku untuk b...</td>\n",
              "      <td>positif</td>\n",
              "    </tr>\n",
              "    <tr>\n",
              "      <th>3</th>\n",
              "      <td>ada kurikulum baru kurikulum 2022 implementasi...</td>\n",
              "      <td>positif</td>\n",
              "    </tr>\n",
              "    <tr>\n",
              "      <th>4</th>\n",
              "      <td>hai zenius aku akan memberi 5 bintang nanti ka...</td>\n",
              "      <td>negatif</td>\n",
              "    </tr>\n",
              "  </tbody>\n",
              "</table>\n",
              "</div>\n",
              "      <button class=\"colab-df-convert\" onclick=\"convertToInteractive('df-37b14676-0e1e-4f1e-ac32-e103b0c20853')\"\n",
              "              title=\"Convert this dataframe to an interactive table.\"\n",
              "              style=\"display:none;\">\n",
              "        \n",
              "  <svg xmlns=\"http://www.w3.org/2000/svg\" height=\"24px\"viewBox=\"0 0 24 24\"\n",
              "       width=\"24px\">\n",
              "    <path d=\"M0 0h24v24H0V0z\" fill=\"none\"/>\n",
              "    <path d=\"M18.56 5.44l.94 2.06.94-2.06 2.06-.94-2.06-.94-.94-2.06-.94 2.06-2.06.94zm-11 1L8.5 8.5l.94-2.06 2.06-.94-2.06-.94L8.5 2.5l-.94 2.06-2.06.94zm10 10l.94 2.06.94-2.06 2.06-.94-2.06-.94-.94-2.06-.94 2.06-2.06.94z\"/><path d=\"M17.41 7.96l-1.37-1.37c-.4-.4-.92-.59-1.43-.59-.52 0-1.04.2-1.43.59L10.3 9.45l-7.72 7.72c-.78.78-.78 2.05 0 2.83L4 21.41c.39.39.9.59 1.41.59.51 0 1.02-.2 1.41-.59l7.78-7.78 2.81-2.81c.8-.78.8-2.07 0-2.86zM5.41 20L4 18.59l7.72-7.72 1.47 1.35L5.41 20z\"/>\n",
              "  </svg>\n",
              "      </button>\n",
              "      \n",
              "  <style>\n",
              "    .colab-df-container {\n",
              "      display:flex;\n",
              "      flex-wrap:wrap;\n",
              "      gap: 12px;\n",
              "    }\n",
              "\n",
              "    .colab-df-convert {\n",
              "      background-color: #E8F0FE;\n",
              "      border: none;\n",
              "      border-radius: 50%;\n",
              "      cursor: pointer;\n",
              "      display: none;\n",
              "      fill: #1967D2;\n",
              "      height: 32px;\n",
              "      padding: 0 0 0 0;\n",
              "      width: 32px;\n",
              "    }\n",
              "\n",
              "    .colab-df-convert:hover {\n",
              "      background-color: #E2EBFA;\n",
              "      box-shadow: 0px 1px 2px rgba(60, 64, 67, 0.3), 0px 1px 3px 1px rgba(60, 64, 67, 0.15);\n",
              "      fill: #174EA6;\n",
              "    }\n",
              "\n",
              "    [theme=dark] .colab-df-convert {\n",
              "      background-color: #3B4455;\n",
              "      fill: #D2E3FC;\n",
              "    }\n",
              "\n",
              "    [theme=dark] .colab-df-convert:hover {\n",
              "      background-color: #434B5C;\n",
              "      box-shadow: 0px 1px 3px 1px rgba(0, 0, 0, 0.15);\n",
              "      filter: drop-shadow(0px 1px 2px rgba(0, 0, 0, 0.3));\n",
              "      fill: #FFFFFF;\n",
              "    }\n",
              "  </style>\n",
              "\n",
              "      <script>\n",
              "        const buttonEl =\n",
              "          document.querySelector('#df-37b14676-0e1e-4f1e-ac32-e103b0c20853 button.colab-df-convert');\n",
              "        buttonEl.style.display =\n",
              "          google.colab.kernel.accessAllowed ? 'block' : 'none';\n",
              "\n",
              "        async function convertToInteractive(key) {\n",
              "          const element = document.querySelector('#df-37b14676-0e1e-4f1e-ac32-e103b0c20853');\n",
              "          const dataTable =\n",
              "            await google.colab.kernel.invokeFunction('convertToInteractive',\n",
              "                                                     [key], {});\n",
              "          if (!dataTable) return;\n",
              "\n",
              "          const docLinkHtml = 'Like what you see? Visit the ' +\n",
              "            '<a target=\"_blank\" href=https://colab.research.google.com/notebooks/data_table.ipynb>data table notebook</a>'\n",
              "            + ' to learn more about interactive tables.';\n",
              "          element.innerHTML = '';\n",
              "          dataTable['output_type'] = 'display_data';\n",
              "          await google.colab.output.renderOutput(dataTable, element);\n",
              "          const docLink = document.createElement('div');\n",
              "          docLink.innerHTML = docLinkHtml;\n",
              "          element.appendChild(docLink);\n",
              "        }\n",
              "      </script>\n",
              "    </div>\n",
              "  </div>\n",
              "  "
            ]
          },
          "metadata": {},
          "execution_count": 119
        }
      ],
      "source": [
        "#jalankan cleansing data\n",
        "review =[]\n",
        "for index, row in df_preprocessed.iterrows():\n",
        "    review.append(cleansing(row[\"ulasan\"]))\n",
        "\n",
        "df_preprocessed[\"ulasan\"] = review\n",
        "df_preprocessed.head()\n"
      ]
    },
    {
      "cell_type": "code",
      "source": [
        "df_as['ulasan'].iloc[3]"
      ],
      "metadata": {
        "colab": {
          "base_uri": "https://localhost:8080/",
          "height": 35
        },
        "id": "H8ixs1gF_lAM",
        "outputId": "79a77f0e-48ed-4c3a-c60a-dd2380b8ef0e"
      },
      "execution_count": null,
      "outputs": [
        {
          "output_type": "execute_result",
          "data": {
            "text/plain": [
              "'Ada kurikulum baru kurikulum 2022 Implementasi kurikulum merdeka'"
            ],
            "application/vnd.google.colaboratory.intrinsic+json": {
              "type": "string"
            }
          },
          "metadata": {},
          "execution_count": 120
        }
      ]
    },
    {
      "cell_type": "code",
      "source": [
        "df_as['ulasan'].iloc[110]"
      ],
      "metadata": {
        "colab": {
          "base_uri": "https://localhost:8080/",
          "height": 35
        },
        "id": "7Md8EZD5-4Qy",
        "outputId": "48cea3bd-be76-4289-bb80-7e6d25bec39a"
      },
      "execution_count": null,
      "outputs": [
        {
          "output_type": "execute_result",
          "data": {
            "text/plain": [
              "'Sangat membantu dan recomend buat yang mau blajar matematika, IPA dan dll materi mudah di fahami semoga membantu 🥰🥰🥰'"
            ],
            "application/vnd.google.colaboratory.intrinsic+json": {
              "type": "string"
            }
          },
          "metadata": {},
          "execution_count": 121
        }
      ]
    },
    {
      "cell_type": "code",
      "source": [
        "text = df_as['ulasan'].iloc[110]\n",
        "print(cleansing(text))"
      ],
      "metadata": {
        "colab": {
          "base_uri": "https://localhost:8080/"
        },
        "id": "YtgHyQLB_42j",
        "outputId": "8ed90f0e-bbe5-4146-acbe-80910d6f75e9"
      },
      "execution_count": null,
      "outputs": [
        {
          "output_type": "stream",
          "name": "stdout",
          "text": [
            "sangat membantu dan recomend buat yang mau blajar matematika  ipa dan dll materi mudah di fahami semoga membantu \n"
          ]
        }
      ]
    },
    {
      "cell_type": "markdown",
      "metadata": {
        "id": "3BNQvzUOZwUa"
      },
      "source": [
        "#remove stopword"
      ]
    },
    {
      "cell_type": "code",
      "execution_count": null,
      "metadata": {
        "colab": {
          "base_uri": "https://localhost:8080/"
        },
        "id": "Wy4BUD4RZxDY",
        "outputId": "2dd6543d-99ae-4bd5-db56-03e6df5a8e2a"
      },
      "outputs": [
        {
          "output_type": "stream",
          "name": "stdout",
          "text": [
            "Looking in indexes: https://pypi.org/simple, https://us-python.pkg.dev/colab-wheels/public/simple/\n",
            "Requirement already satisfied: Sastrawi in /usr/local/lib/python3.7/dist-packages (1.0.1)\n"
          ]
        }
      ],
      "source": [
        "!pip install Sastrawi"
      ]
    },
    {
      "cell_type": "code",
      "execution_count": null,
      "metadata": {
        "colab": {
          "base_uri": "https://localhost:8080/"
        },
        "id": "0inRGBCtaAVc",
        "outputId": "fae2a998-983a-4ca1-f880-8f4561ebb413"
      },
      "outputs": [
        {
          "output_type": "stream",
          "name": "stdout",
          "text": [
            "Aplikasi yg keren nih, khususnya fitur terbaru ZenCore.. Kita melatih kemampuan belajar CorePractice berkali-kali.. Belajar jadi lebih asik nyaman.. Semoga kedepannya muncul fitur\" keren ya\n"
          ]
        }
      ],
      "source": [
        "# import libary\n",
        "from Sastrawi.StopWordRemover.StopWordRemoverFactory import StopWordRemoverFactory\n",
        "\n",
        "factory = StopWordRemoverFactory()\n",
        "stopword = factory.create_stop_word_remover()\n",
        "\n",
        "#contoh\n",
        "kalimat ='Aplikasi yg keren nih, khususnya untuk fitur terbaru ZenCore.. Kita bisa melatih kemampuan belajar di CorePractice berkali-kali.. Belajar jadi lebih asik dan nyaman.. Semoga kedepannya muncul fitur\" keren lagi ya'\n",
        "stop = stopword.remove(kalimat)\n",
        "print(stop)\n"
      ]
    },
    {
      "cell_type": "code",
      "source": [
        "text = df_as['ulasan'].iloc[30]\n",
        "txt = cleansing(text)\n",
        "text2 = stopword.remove(txt)\n",
        "print(\"Awal : \",text)\n",
        "print(\"Cleansing : \",txt)\n",
        "print(\"Stopword : \", text2)"
      ],
      "metadata": {
        "colab": {
          "base_uri": "https://localhost:8080/"
        },
        "id": "a9cGqOnzB9pt",
        "outputId": "0fe4c35b-e01b-43cb-fd0f-b8456e2fe4e5"
      },
      "execution_count": null,
      "outputs": [
        {
          "output_type": "stream",
          "name": "stdout",
          "text": [
            "Awal :  Secara keseluruhan, zenius sangat recomended. But, entah kenapa video-video di zenius sangat nguras kuota padahal cuma board. Saya sarankan zenius untuk mengatasi masalah kuota dengan dikompresi atau cara lain agar kuota untuk menonton video jadi lebih irit. By the way, dulu zenius saya kasih bintang satu karena ada beberapa masalah. Namun, setelah itu pihak zenius bisa menyelesaikan masalah saya tersebut dengan baik. Jangan kecewakan kami dan tetap maju terus zenius!!!!\n",
            "Cleansing :  secara keseluruhan  zenius sangat recomended  but  entah kenapa video video di zenius sangat nguras kuota padahal cuma board  saya sarankan zenius untuk mengatasi masalah kuota dengan dikompresi atau cara lain agar kuota untuk menonton video jadi lebih irit  by the way  dulu zenius saya kasih bintang satu karena ada beberapa masalah  namun  setelah itu pihak zenius bisa menyelesaikan masalah saya tersebut dengan baik  jangan kecewakan kami dan tetap maju terus zenius    \n",
            "Stopword :  keseluruhan  zenius sangat recomended  but  entah video video zenius sangat nguras kuota padahal cuma board  sarankan zenius mengatasi masalah kuota dikompresi cara agar kuota menonton video jadi lebih irit  by the way  dulu zenius kasih bintang satu ada beberapa masalah   itu pihak zenius menyelesaikan masalah tersebut baik  jangan kecewakan dan tetap maju terus zenius    \n"
          ]
        }
      ]
    },
    {
      "cell_type": "code",
      "execution_count": null,
      "metadata": {
        "colab": {
          "base_uri": "https://localhost:8080/",
          "height": 206
        },
        "id": "tjhSHGoscnTc",
        "outputId": "44d6950e-dd3e-4ab1-cfb2-1b43d5edd9d2"
      },
      "outputs": [
        {
          "output_type": "execute_result",
          "data": {
            "text/plain": [
              "                                              ulasan sentimen\n",
              "0  dewi udah cobain zenius  menyenangkan banget c...  positif\n",
              "1                  pembelajaran seru mudahh dipahami  positif\n",
              "2  aplikasi zenius sangat membantu adikku belajar...  positif\n",
              "3  kurikulum baru kurikulum 2022 implementasi kur...  positif\n",
              "4  hai zenius aku memberi 5 bintang kalau bneran ...  negatif"
            ],
            "text/html": [
              "\n",
              "  <div id=\"df-551fa993-6b7a-478d-961c-50c64e284683\">\n",
              "    <div class=\"colab-df-container\">\n",
              "      <div>\n",
              "<style scoped>\n",
              "    .dataframe tbody tr th:only-of-type {\n",
              "        vertical-align: middle;\n",
              "    }\n",
              "\n",
              "    .dataframe tbody tr th {\n",
              "        vertical-align: top;\n",
              "    }\n",
              "\n",
              "    .dataframe thead th {\n",
              "        text-align: right;\n",
              "    }\n",
              "</style>\n",
              "<table border=\"1\" class=\"dataframe\">\n",
              "  <thead>\n",
              "    <tr style=\"text-align: right;\">\n",
              "      <th></th>\n",
              "      <th>ulasan</th>\n",
              "      <th>sentimen</th>\n",
              "    </tr>\n",
              "  </thead>\n",
              "  <tbody>\n",
              "    <tr>\n",
              "      <th>0</th>\n",
              "      <td>dewi udah cobain zenius  menyenangkan banget c...</td>\n",
              "      <td>positif</td>\n",
              "    </tr>\n",
              "    <tr>\n",
              "      <th>1</th>\n",
              "      <td>pembelajaran seru mudahh dipahami</td>\n",
              "      <td>positif</td>\n",
              "    </tr>\n",
              "    <tr>\n",
              "      <th>2</th>\n",
              "      <td>aplikasi zenius sangat membantu adikku belajar...</td>\n",
              "      <td>positif</td>\n",
              "    </tr>\n",
              "    <tr>\n",
              "      <th>3</th>\n",
              "      <td>kurikulum baru kurikulum 2022 implementasi kur...</td>\n",
              "      <td>positif</td>\n",
              "    </tr>\n",
              "    <tr>\n",
              "      <th>4</th>\n",
              "      <td>hai zenius aku memberi 5 bintang kalau bneran ...</td>\n",
              "      <td>negatif</td>\n",
              "    </tr>\n",
              "  </tbody>\n",
              "</table>\n",
              "</div>\n",
              "      <button class=\"colab-df-convert\" onclick=\"convertToInteractive('df-551fa993-6b7a-478d-961c-50c64e284683')\"\n",
              "              title=\"Convert this dataframe to an interactive table.\"\n",
              "              style=\"display:none;\">\n",
              "        \n",
              "  <svg xmlns=\"http://www.w3.org/2000/svg\" height=\"24px\"viewBox=\"0 0 24 24\"\n",
              "       width=\"24px\">\n",
              "    <path d=\"M0 0h24v24H0V0z\" fill=\"none\"/>\n",
              "    <path d=\"M18.56 5.44l.94 2.06.94-2.06 2.06-.94-2.06-.94-.94-2.06-.94 2.06-2.06.94zm-11 1L8.5 8.5l.94-2.06 2.06-.94-2.06-.94L8.5 2.5l-.94 2.06-2.06.94zm10 10l.94 2.06.94-2.06 2.06-.94-2.06-.94-.94-2.06-.94 2.06-2.06.94z\"/><path d=\"M17.41 7.96l-1.37-1.37c-.4-.4-.92-.59-1.43-.59-.52 0-1.04.2-1.43.59L10.3 9.45l-7.72 7.72c-.78.78-.78 2.05 0 2.83L4 21.41c.39.39.9.59 1.41.59.51 0 1.02-.2 1.41-.59l7.78-7.78 2.81-2.81c.8-.78.8-2.07 0-2.86zM5.41 20L4 18.59l7.72-7.72 1.47 1.35L5.41 20z\"/>\n",
              "  </svg>\n",
              "      </button>\n",
              "      \n",
              "  <style>\n",
              "    .colab-df-container {\n",
              "      display:flex;\n",
              "      flex-wrap:wrap;\n",
              "      gap: 12px;\n",
              "    }\n",
              "\n",
              "    .colab-df-convert {\n",
              "      background-color: #E8F0FE;\n",
              "      border: none;\n",
              "      border-radius: 50%;\n",
              "      cursor: pointer;\n",
              "      display: none;\n",
              "      fill: #1967D2;\n",
              "      height: 32px;\n",
              "      padding: 0 0 0 0;\n",
              "      width: 32px;\n",
              "    }\n",
              "\n",
              "    .colab-df-convert:hover {\n",
              "      background-color: #E2EBFA;\n",
              "      box-shadow: 0px 1px 2px rgba(60, 64, 67, 0.3), 0px 1px 3px 1px rgba(60, 64, 67, 0.15);\n",
              "      fill: #174EA6;\n",
              "    }\n",
              "\n",
              "    [theme=dark] .colab-df-convert {\n",
              "      background-color: #3B4455;\n",
              "      fill: #D2E3FC;\n",
              "    }\n",
              "\n",
              "    [theme=dark] .colab-df-convert:hover {\n",
              "      background-color: #434B5C;\n",
              "      box-shadow: 0px 1px 3px 1px rgba(0, 0, 0, 0.15);\n",
              "      filter: drop-shadow(0px 1px 2px rgba(0, 0, 0, 0.3));\n",
              "      fill: #FFFFFF;\n",
              "    }\n",
              "  </style>\n",
              "\n",
              "      <script>\n",
              "        const buttonEl =\n",
              "          document.querySelector('#df-551fa993-6b7a-478d-961c-50c64e284683 button.colab-df-convert');\n",
              "        buttonEl.style.display =\n",
              "          google.colab.kernel.accessAllowed ? 'block' : 'none';\n",
              "\n",
              "        async function convertToInteractive(key) {\n",
              "          const element = document.querySelector('#df-551fa993-6b7a-478d-961c-50c64e284683');\n",
              "          const dataTable =\n",
              "            await google.colab.kernel.invokeFunction('convertToInteractive',\n",
              "                                                     [key], {});\n",
              "          if (!dataTable) return;\n",
              "\n",
              "          const docLinkHtml = 'Like what you see? Visit the ' +\n",
              "            '<a target=\"_blank\" href=https://colab.research.google.com/notebooks/data_table.ipynb>data table notebook</a>'\n",
              "            + ' to learn more about interactive tables.';\n",
              "          element.innerHTML = '';\n",
              "          dataTable['output_type'] = 'display_data';\n",
              "          await google.colab.output.renderOutput(dataTable, element);\n",
              "          const docLink = document.createElement('div');\n",
              "          docLink.innerHTML = docLinkHtml;\n",
              "          element.appendChild(docLink);\n",
              "        }\n",
              "      </script>\n",
              "    </div>\n",
              "  </div>\n",
              "  "
            ]
          },
          "metadata": {},
          "execution_count": 126
        }
      ],
      "source": [
        "review = []\n",
        "for index, row in df_preprocessed.iterrows():\n",
        "     review.append(stopword.remove(row[\"ulasan\"]))\n",
        "\n",
        "df_preprocessed[\"ulasan\"] = review\n",
        "df_preprocessed.head()"
      ]
    },
    {
      "cell_type": "markdown",
      "metadata": {
        "id": "qSePcv7_fZlY"
      },
      "source": [
        "#steaming"
      ]
    },
    {
      "cell_type": "code",
      "source": [
        "!pip install Sastrawi"
      ],
      "metadata": {
        "colab": {
          "base_uri": "https://localhost:8080/"
        },
        "id": "2_Hw6WJhyf9d",
        "outputId": "847d5127-b0f2-4ef9-c009-da83c4f57dad"
      },
      "execution_count": null,
      "outputs": [
        {
          "output_type": "stream",
          "name": "stdout",
          "text": [
            "Looking in indexes: https://pypi.org/simple, https://us-python.pkg.dev/colab-wheels/public/simple/\n",
            "Requirement already satisfied: Sastrawi in /usr/local/lib/python3.7/dist-packages (1.0.1)\n"
          ]
        }
      ]
    },
    {
      "cell_type": "code",
      "execution_count": null,
      "metadata": {
        "colab": {
          "base_uri": "https://localhost:8080/"
        },
        "id": "Xcke2Yfsfgz4",
        "outputId": "eab4ae76-1bc7-42db-dfd7-81b05fd1a67a"
      },
      "outputs": [
        {
          "output_type": "stream",
          "name": "stdout",
          "text": [
            "aplikasi yg keren nih khusus untuk fitur baru zencore kita bisa latih mampu ajar di corepractice kali ajar jadi lebih asik dan nyaman moga depan muncul fitur keren lagi ya\n"
          ]
        }
      ],
      "source": [
        "from Sastrawi.Stemmer.StemmerFactory import StemmerFactory\n",
        "factory = StemmerFactory()\n",
        "Stemmer = factory.create_stemmer()\n",
        "#contoh\n",
        "kalimat = 'Aplikasi yg keren nih, khususnya untuk fitur terbaru ZenCore.. Kita bisa melatih kemampuan belajar di CorePractice berkali-kali.. Belajar jadi lebih asik dan nyaman.. Semoga kedepannya muncul fitur\" keren lagi ya'\n",
        "katadasar = Stemmer.stem(kalimat)\n",
        "print(katadasar)"
      ]
    },
    {
      "cell_type": "code",
      "source": [
        "text = df_as['ulasan'].iloc[28]\n",
        "txt = cleansing(text)\n",
        "text2 = stopword.remove(txt)\n",
        "text3 = Stemmer.stem(text2)\n",
        "print(\"Awal : \",text)\n",
        "print(\"Cleansing : \",txt)\n",
        "print(\"Stopword : \", text2)\n",
        "print(\"Stemming : \", text3)"
      ],
      "metadata": {
        "colab": {
          "base_uri": "https://localhost:8080/"
        },
        "id": "4MSradQKDaGj",
        "outputId": "2a412138-54d9-4149-c8d3-e89eae16ea17"
      },
      "execution_count": null,
      "outputs": [
        {
          "output_type": "stream",
          "name": "stdout",
          "text": [
            "Awal :  HALO ZEN!! Sayang banget sama Zeni. Tapi aku lebih sayang kalo Zeni nyediain dark mode untuk mata sensitifku. Buat tampilan webnya di buat simpel dan minimalis aja dong Zen. Aku gak nyaman sama tampilan web tiap ngerjain TO di laptop. Terkesan berhimpitan. Gak enak dipandang. MAKASIH ZEN\n",
            "Cleansing :  halo zen   sayang banget sama zeni  tapi aku lebih sayang kalo zeni nyediain dark mode untuk mata sensitifku  buat tampilan webnya di buat simpel dan minimalis aja dong zen  aku gak nyaman sama tampilan web tiap ngerjain to di laptop  terkesan berhimpitan  gak enak dipandang  makasih zen\n",
            "Stopword :  halo zen   sayang banget sama zeni  aku lebih sayang kalo zeni nyediain dark mode mata sensitifku  buat tampilan webnya buat simpel minimalis aja dong zen  aku gak nyaman sama tampilan web tiap ngerjain to laptop  terkesan berhimpitan  gak enak dipandang  makasih zen\n",
            "Stemming :  halo zen sayang banget sama zeni aku lebih sayang kalo zeni nyediain dark mode mata sensitif buat tampil webnya buat simpel minimal aja dong zen aku gak nyaman sama tampil web tiap ngerjain to laptop kes berhimpitan gak enak pandang makasih zen\n"
          ]
        }
      ]
    },
    {
      "cell_type": "code",
      "execution_count": null,
      "metadata": {
        "colab": {
          "base_uri": "https://localhost:8080/",
          "height": 206
        },
        "id": "GchAoTFog6R-",
        "outputId": "57da11d4-46a4-4f20-9cfa-28471accaf8b"
      },
      "outputs": [
        {
          "output_type": "execute_result",
          "data": {
            "text/plain": [
              "                                              ulasan sentimen\n",
              "0  dewi udah cobain zenius senang banget cara aja...  positif\n",
              "1                             ajar seru mudahh paham  positif\n",
              "2  aplikasi zenius sangat bantu adik ajar selesai...  positif\n",
              "3  kurikulum baru kurikulum 2022 implementasi kur...  positif\n",
              "4  hai zenius aku beri 5 bintang kalau bneran apl...  negatif"
            ],
            "text/html": [
              "\n",
              "  <div id=\"df-a666978f-138d-46eb-9360-94590a72ce6f\">\n",
              "    <div class=\"colab-df-container\">\n",
              "      <div>\n",
              "<style scoped>\n",
              "    .dataframe tbody tr th:only-of-type {\n",
              "        vertical-align: middle;\n",
              "    }\n",
              "\n",
              "    .dataframe tbody tr th {\n",
              "        vertical-align: top;\n",
              "    }\n",
              "\n",
              "    .dataframe thead th {\n",
              "        text-align: right;\n",
              "    }\n",
              "</style>\n",
              "<table border=\"1\" class=\"dataframe\">\n",
              "  <thead>\n",
              "    <tr style=\"text-align: right;\">\n",
              "      <th></th>\n",
              "      <th>ulasan</th>\n",
              "      <th>sentimen</th>\n",
              "    </tr>\n",
              "  </thead>\n",
              "  <tbody>\n",
              "    <tr>\n",
              "      <th>0</th>\n",
              "      <td>dewi udah cobain zenius senang banget cara aja...</td>\n",
              "      <td>positif</td>\n",
              "    </tr>\n",
              "    <tr>\n",
              "      <th>1</th>\n",
              "      <td>ajar seru mudahh paham</td>\n",
              "      <td>positif</td>\n",
              "    </tr>\n",
              "    <tr>\n",
              "      <th>2</th>\n",
              "      <td>aplikasi zenius sangat bantu adik ajar selesai...</td>\n",
              "      <td>positif</td>\n",
              "    </tr>\n",
              "    <tr>\n",
              "      <th>3</th>\n",
              "      <td>kurikulum baru kurikulum 2022 implementasi kur...</td>\n",
              "      <td>positif</td>\n",
              "    </tr>\n",
              "    <tr>\n",
              "      <th>4</th>\n",
              "      <td>hai zenius aku beri 5 bintang kalau bneran apl...</td>\n",
              "      <td>negatif</td>\n",
              "    </tr>\n",
              "  </tbody>\n",
              "</table>\n",
              "</div>\n",
              "      <button class=\"colab-df-convert\" onclick=\"convertToInteractive('df-a666978f-138d-46eb-9360-94590a72ce6f')\"\n",
              "              title=\"Convert this dataframe to an interactive table.\"\n",
              "              style=\"display:none;\">\n",
              "        \n",
              "  <svg xmlns=\"http://www.w3.org/2000/svg\" height=\"24px\"viewBox=\"0 0 24 24\"\n",
              "       width=\"24px\">\n",
              "    <path d=\"M0 0h24v24H0V0z\" fill=\"none\"/>\n",
              "    <path d=\"M18.56 5.44l.94 2.06.94-2.06 2.06-.94-2.06-.94-.94-2.06-.94 2.06-2.06.94zm-11 1L8.5 8.5l.94-2.06 2.06-.94-2.06-.94L8.5 2.5l-.94 2.06-2.06.94zm10 10l.94 2.06.94-2.06 2.06-.94-2.06-.94-.94-2.06-.94 2.06-2.06.94z\"/><path d=\"M17.41 7.96l-1.37-1.37c-.4-.4-.92-.59-1.43-.59-.52 0-1.04.2-1.43.59L10.3 9.45l-7.72 7.72c-.78.78-.78 2.05 0 2.83L4 21.41c.39.39.9.59 1.41.59.51 0 1.02-.2 1.41-.59l7.78-7.78 2.81-2.81c.8-.78.8-2.07 0-2.86zM5.41 20L4 18.59l7.72-7.72 1.47 1.35L5.41 20z\"/>\n",
              "  </svg>\n",
              "      </button>\n",
              "      \n",
              "  <style>\n",
              "    .colab-df-container {\n",
              "      display:flex;\n",
              "      flex-wrap:wrap;\n",
              "      gap: 12px;\n",
              "    }\n",
              "\n",
              "    .colab-df-convert {\n",
              "      background-color: #E8F0FE;\n",
              "      border: none;\n",
              "      border-radius: 50%;\n",
              "      cursor: pointer;\n",
              "      display: none;\n",
              "      fill: #1967D2;\n",
              "      height: 32px;\n",
              "      padding: 0 0 0 0;\n",
              "      width: 32px;\n",
              "    }\n",
              "\n",
              "    .colab-df-convert:hover {\n",
              "      background-color: #E2EBFA;\n",
              "      box-shadow: 0px 1px 2px rgba(60, 64, 67, 0.3), 0px 1px 3px 1px rgba(60, 64, 67, 0.15);\n",
              "      fill: #174EA6;\n",
              "    }\n",
              "\n",
              "    [theme=dark] .colab-df-convert {\n",
              "      background-color: #3B4455;\n",
              "      fill: #D2E3FC;\n",
              "    }\n",
              "\n",
              "    [theme=dark] .colab-df-convert:hover {\n",
              "      background-color: #434B5C;\n",
              "      box-shadow: 0px 1px 3px 1px rgba(0, 0, 0, 0.15);\n",
              "      filter: drop-shadow(0px 1px 2px rgba(0, 0, 0, 0.3));\n",
              "      fill: #FFFFFF;\n",
              "    }\n",
              "  </style>\n",
              "\n",
              "      <script>\n",
              "        const buttonEl =\n",
              "          document.querySelector('#df-a666978f-138d-46eb-9360-94590a72ce6f button.colab-df-convert');\n",
              "        buttonEl.style.display =\n",
              "          google.colab.kernel.accessAllowed ? 'block' : 'none';\n",
              "\n",
              "        async function convertToInteractive(key) {\n",
              "          const element = document.querySelector('#df-a666978f-138d-46eb-9360-94590a72ce6f');\n",
              "          const dataTable =\n",
              "            await google.colab.kernel.invokeFunction('convertToInteractive',\n",
              "                                                     [key], {});\n",
              "          if (!dataTable) return;\n",
              "\n",
              "          const docLinkHtml = 'Like what you see? Visit the ' +\n",
              "            '<a target=\"_blank\" href=https://colab.research.google.com/notebooks/data_table.ipynb>data table notebook</a>'\n",
              "            + ' to learn more about interactive tables.';\n",
              "          element.innerHTML = '';\n",
              "          dataTable['output_type'] = 'display_data';\n",
              "          await google.colab.output.renderOutput(dataTable, element);\n",
              "          const docLink = document.createElement('div');\n",
              "          docLink.innerHTML = docLinkHtml;\n",
              "          element.appendChild(docLink);\n",
              "        }\n",
              "      </script>\n",
              "    </div>\n",
              "  </div>\n",
              "  "
            ]
          },
          "metadata": {},
          "execution_count": 130
        }
      ],
      "source": [
        "#implementasi pada data kita\n",
        "review = []\n",
        "for index, row in df_preprocessed.iterrows():\n",
        "     review.append(Stemmer.stem(row[\"ulasan\"]))\n",
        "\n",
        "df_preprocessed[\"ulasan\"] = review\n",
        "df_preprocessed.head()"
      ]
    },
    {
      "cell_type": "code",
      "execution_count": null,
      "metadata": {
        "id": "xA2YO0jSE1TA"
      },
      "outputs": [],
      "source": [
        "df_preprocessed.to_excel(\"zen.xlsx\", index = False)  #Save the file as CSV , to download: click the folder icon on the left. the csv file should be there."
      ]
    },
    {
      "cell_type": "code",
      "execution_count": null,
      "metadata": {
        "id": "or60UM1bHwXu"
      },
      "outputs": [],
      "source": [
        "def preprocess_data(data):\n",
        "  # cleansing data\n",
        "  data = cleansing(data)\n",
        "\n",
        "  #hapus stopwords\n",
        "  factory = StopWordRemoverFactory()\n",
        "  stopword = factory.create_stop_word_remover()\n",
        "  data = stopword.remove(data)\n",
        "\n",
        "  #steming\n",
        "  factory = StemmerFactory()\n",
        "  Stemmer = factory.create_stemmer()\n",
        "  data = Stemmer.stem(data)\n",
        "\n",
        "  # count vectorizer\n",
        "  #data = vectorizer.transform([data])\n",
        "  return data"
      ]
    },
    {
      "cell_type": "code",
      "source": [
        "text = df_as['ulasan'].iloc[33]\n",
        "print(\"text asli : \",text)\n",
        "print(\"text prepocess : \",preprocess_data(text))"
      ],
      "metadata": {
        "colab": {
          "base_uri": "https://localhost:8080/"
        },
        "id": "um2ngbQUN2cE",
        "outputId": "961d3bb8-19c1-48d0-bfc6-d9dc8c4bfcde"
      },
      "execution_count": null,
      "outputs": [
        {
          "output_type": "stream",
          "name": "stdout",
          "text": [
            "text asli :  Mohon maaf ya min,saya menemukan masalah di zenius,setiap saya meliat video pasti lag,padahal jaringan saya lancar 60mbps,tapi kalau lihat video pasti lag,mohon di perbaiki ya min🙏😁\n",
            "text prepocess :  mohon maaf min temu masalah zenius liat video lag padahal jaring saya lancar 60mbps kalau lihat video lag mohon baik min\n"
          ]
        }
      ]
    },
    {
      "cell_type": "markdown",
      "metadata": {
        "id": "6sP31s2xrZTH"
      },
      "source": [
        "menbagi data train dan data test"
      ]
    },
    {
      "cell_type": "code",
      "execution_count": null,
      "metadata": {
        "id": "XQabcm5br5qU"
      },
      "outputs": [],
      "source": [
        "from sklearn.model_selection import train_test_split\n",
        "x_train,x_test, y_train, y_test = train_test_split(df_preprocessed['ulasan'],df_preprocessed['sentimen'],\n",
        "                                                   test_size=0.2, stratify=df_preprocessed['sentimen'], random_state=0)"
      ]
    },
    {
      "cell_type": "markdown",
      "source": [
        "pembobotan TFID"
      ],
      "metadata": {
        "id": "uEdzEIWeTEJS"
      }
    },
    {
      "cell_type": "code",
      "execution_count": null,
      "metadata": {
        "colab": {
          "base_uri": "https://localhost:8080/"
        },
        "id": "ygzVexfi8lUz",
        "outputId": "fddbd888-2bfd-4e8e-edbf-f1744d305bf0"
      },
      "outputs": [
        {
          "output_type": "execute_result",
          "data": {
            "text/plain": [
              "TfidfVectorizer()"
            ]
          },
          "metadata": {},
          "execution_count": 135
        }
      ],
      "source": [
        "from sklearn.feature_extraction.text import TfidfVectorizer\n",
        "\n",
        "vectorizer = TfidfVectorizer()\n",
        "vectorizer.fit(x_train)"
      ]
    },
    {
      "cell_type": "markdown",
      "source": [
        "hasil pembobotan tfid"
      ],
      "metadata": {
        "id": "bN6_f2yXTJvf"
      }
    },
    {
      "cell_type": "code",
      "source": [
        "import matplotlib.pyplot as plt\n",
        "\n",
        "# x-coordinates of left sides of bars\n",
        "left = [1, 2, 3, 4, 5,6,7,8]\n",
        "\n",
        "# heights of bars\n",
        "height = [316, 1348, 1931, 1093, 1357,167,185,344]\n",
        "\n",
        "# labels for bars\n",
        "tick_label = [\"buka\", \"padahal\", \"tulis\", \"masuk\", \"paket\",\"bagus\",\"banget\",\"cara\"]\n",
        "\n",
        "# plotting a bar chart\n",
        "plt.bar(left, height, tick_label = tick_label,\n",
        "        width = 0.8, color = ['red', 'orange','blue'])\n",
        "\n",
        "# naming the x-axis\n",
        "plt.xlabel('Kata')\n",
        "# naming the y-axis\n",
        "plt.ylabel('Hasil Pembobotan')\n",
        "# plot title\n",
        "plt.title('Hasil Pembobotan TF-IDF')\n",
        "\n",
        "# function to show the plot\n",
        "plt.show()"
      ],
      "metadata": {
        "id": "yYNZAMmyzfpK",
        "colab": {
          "base_uri": "https://localhost:8080/",
          "height": 295
        },
        "outputId": "03b6c3ca-a010-438c-f80f-43fea57da7a9"
      },
      "execution_count": null,
      "outputs": [
        {
          "output_type": "display_data",
          "data": {
            "text/plain": [
              "<Figure size 432x288 with 1 Axes>"
            ],
            "image/png": "[encoded data removed]"
          },
          "metadata": {
            "needs_background": "light"
          }
        }
      ]
    },
    {
      "cell_type": "markdown",
      "metadata": {
        "id": "3kBIzT0ev3y9"
      },
      "source": [
        "merubah data training dan test ke data vektor menggunakan pembobotan tfid"
      ]
    },
    {
      "cell_type": "code",
      "execution_count": null,
      "metadata": {
        "colab": {
          "base_uri": "https://localhost:8080/"
        },
        "id": "Jxpzu2Fev4Tl",
        "outputId": "7571af1e-6ac2-4526-c583-5492e759b54f"
      },
      "outputs": [
        {
          "output_type": "stream",
          "name": "stdout",
          "text": [
            "(300, 3574)\n",
            "(300, 3574)\n"
          ]
        }
      ],
      "source": [
        "#pada data kita\n",
        "x_train = vectorizer.fit_transform(x_train)\n",
        "x_test = vectorizer.transform(x_test)\n",
        "\n",
        "print(x_test.shape)\n",
        "print(x_test.shape)"
      ]
    },
    {
      "cell_type": "code",
      "execution_count": null,
      "metadata": {
        "colab": {
          "base_uri": "https://localhost:8080/"
        },
        "id": "OMpQM1678d_3",
        "outputId": "46990002-0eea-4cc0-cb61-59583ed56559"
      },
      "outputs": [
        {
          "output_type": "execute_result",
          "data": {
            "text/plain": [
              "array([[0., 0., 0., ..., 0., 0., 0.],\n",
              "       [0., 0., 0., ..., 0., 0., 0.],\n",
              "       [0., 0., 0., ..., 0., 0., 0.],\n",
              "       ...,\n",
              "       [0., 0., 0., ..., 0., 0., 0.],\n",
              "       [0., 0., 0., ..., 0., 0., 0.],\n",
              "       [0., 0., 0., ..., 0., 0., 0.]])"
            ]
          },
          "metadata": {},
          "execution_count": 138
        }
      ],
      "source": [
        "x_train.toarray()"
      ]
    },
    {
      "cell_type": "markdown",
      "metadata": {
        "id": "G3mpAr8uwddd"
      },
      "source": [
        "#preproses data"
      ]
    },
    {
      "cell_type": "markdown",
      "metadata": {
        "id": "crzpuD750vEj"
      },
      "source": [
        "proses svm"
      ]
    },
    {
      "cell_type": "code",
      "execution_count": null,
      "metadata": {
        "colab": {
          "base_uri": "https://localhost:8080/"
        },
        "id": "b87vYLWT1GTY",
        "outputId": "22a51e3d-b080-41c5-be25-aa9c687c006c"
      },
      "outputs": [
        {
          "output_type": "stream",
          "name": "stdout",
          "text": [
            "Akurasi untuk c = 0.01: 0.86\n",
            "Akurasi untuk c = 0.05: 0.86\n",
            "Akurasi untuk c = 0.25: 0.87\n",
            "Akurasi untuk c = 0.5: 0.8566666666666667\n",
            "Akurasi untuk c = 0.75: 0.86\n",
            "Akurasi untuk c = 1: 0.8633333333333333\n"
          ]
        }
      ],
      "source": [
        "from sklearn import svm\n",
        "from sklearn.svm import LinearSVC\n",
        "from sklearn.metrics import accuracy_score\n",
        "\n",
        "acc_model = []\n",
        "for c in [0.01, 0.05, 0.25, 0.5, 0.75, 1]:\n",
        "    svm = LinearSVC(C=c)\n",
        "    svm.fit(x_train,y_train)\n",
        "    print('Akurasi untuk c = %s: %s' %(c, accuracy_score(y_test, svm.predict(x_test))))\n",
        "    acc_model.append(accuracy_score(y_test, svm.predict(x_test)))"
      ]
    },
    {
      "cell_type": "markdown",
      "source": [
        "Training ulang menggunakan parameter regulasi yang baik"
      ],
      "metadata": {
        "id": "9pd_77fnTaGe"
      }
    },
    {
      "cell_type": "code",
      "execution_count": null,
      "metadata": {
        "colab": {
          "base_uri": "https://localhost:8080/"
        },
        "id": "gm7QexhYrLI0",
        "outputId": "a7936452-644d-4eb8-9b9f-140c41545306"
      },
      "outputs": [
        {
          "output_type": "execute_result",
          "data": {
            "text/plain": [
              "LinearSVC(C=0.75)"
            ]
          },
          "metadata": {},
          "execution_count": 142
        }
      ],
      "source": [
        "#final model\n",
        "svm = LinearSVC(C=0.75)\n",
        "svm.fit(x_train, y_train)"
      ]
    },
    {
      "cell_type": "markdown",
      "source": [
        "Menampilkan akurasi"
      ],
      "metadata": {
        "id": "L2u28COcTfUy"
      }
    },
    {
      "cell_type": "code",
      "execution_count": null,
      "metadata": {
        "id": "En2J1ZDzsCsL",
        "colab": {
          "base_uri": "https://localhost:8080/"
        },
        "outputId": "d3abfbe5-066c-403e-ff0f-9685b071c624"
      },
      "outputs": [
        {
          "output_type": "stream",
          "name": "stdout",
          "text": [
            "Accuracy score model final: 0.86 \n"
          ]
        }
      ],
      "source": [
        "print('Accuracy score model final: %s ' %accuracy_score(y_test, svm.predict(x_test)))"
      ]
    },
    {
      "cell_type": "markdown",
      "source": [
        "Lakukan prediksi terhadap seluruh dataset zenius"
      ],
      "metadata": {
        "id": "wrr6vdtEUmfV"
      }
    },
    {
      "cell_type": "code",
      "source": [
        "dfZen = pd.read_excel(\"/content/zenius_data.xlsx\")\n",
        "dfZen.head()"
      ],
      "metadata": {
        "id": "qU6kin6r7xCD",
        "colab": {
          "base_uri": "https://localhost:8080/",
          "height": 206
        },
        "outputId": "ee5241fb-b320-456d-8b7f-45a3b00af780"
      },
      "execution_count": null,
      "outputs": [
        {
          "output_type": "execute_result",
          "data": {
            "text/plain": [
              "              userName  ranting             tanggal  \\\n",
              "0         Dewi Adikara        5 2022-06-27 13:20:04   \n",
              "1  KEYSHA DWI SETIYANI        5 2022-06-27 12:57:24   \n",
              "2          Sri Wahyuni        5 2022-06-27 05:58:22   \n",
              "3       D.A.P Official        5 2022-06-27 05:41:55   \n",
              "4       Nabila Albatul        1 2022-06-27 04:59:09   \n",
              "\n",
              "                                              ulasan  \n",
              "0  Dewi udah cobain Zenius, menyenangkan banget c...  \n",
              "1              pembelajaran seru dan mudahh dipahami  \n",
              "2  Aplikasi Zenius sangat membantu adikku untuk b...  \n",
              "3  Ada kurikulum baru kurikulum 2022 Implementasi...  \n",
              "4  Hai Zenius aku akan memberi 5 bintang nanti ka...  "
            ],
            "text/html": [
              "\n",
              "  <div id=\"df-c661c8f1-777b-4b12-91af-190df73281b6\">\n",
              "    <div class=\"colab-df-container\">\n",
              "      <div>\n",
              "<style scoped>\n",
              "    .dataframe tbody tr th:only-of-type {\n",
              "        vertical-align: middle;\n",
              "    }\n",
              "\n",
              "    .dataframe tbody tr th {\n",
              "        vertical-align: top;\n",
              "    }\n",
              "\n",
              "    .dataframe thead th {\n",
              "        text-align: right;\n",
              "    }\n",
              "</style>\n",
              "<table border=\"1\" class=\"dataframe\">\n",
              "  <thead>\n",
              "    <tr style=\"text-align: right;\">\n",
              "      <th></th>\n",
              "      <th>userName</th>\n",
              "      <th>ranting</th>\n",
              "      <th>tanggal</th>\n",
              "      <th>ulasan</th>\n",
              "    </tr>\n",
              "  </thead>\n",
              "  <tbody>\n",
              "    <tr>\n",
              "      <th>0</th>\n",
              "      <td>Dewi Adikara</td>\n",
              "      <td>5</td>\n",
              "      <td>2022-06-27 13:20:04</td>\n",
              "      <td>Dewi udah cobain Zenius, menyenangkan banget c...</td>\n",
              "    </tr>\n",
              "    <tr>\n",
              "      <th>1</th>\n",
              "      <td>KEYSHA DWI SETIYANI</td>\n",
              "      <td>5</td>\n",
              "      <td>2022-06-27 12:57:24</td>\n",
              "      <td>pembelajaran seru dan mudahh dipahami</td>\n",
              "    </tr>\n",
              "    <tr>\n",
              "      <th>2</th>\n",
              "      <td>Sri Wahyuni</td>\n",
              "      <td>5</td>\n",
              "      <td>2022-06-27 05:58:22</td>\n",
              "      <td>Aplikasi Zenius sangat membantu adikku untuk b...</td>\n",
              "    </tr>\n",
              "    <tr>\n",
              "      <th>3</th>\n",
              "      <td>D.A.P Official</td>\n",
              "      <td>5</td>\n",
              "      <td>2022-06-27 05:41:55</td>\n",
              "      <td>Ada kurikulum baru kurikulum 2022 Implementasi...</td>\n",
              "    </tr>\n",
              "    <tr>\n",
              "      <th>4</th>\n",
              "      <td>Nabila Albatul</td>\n",
              "      <td>1</td>\n",
              "      <td>2022-06-27 04:59:09</td>\n",
              "      <td>Hai Zenius aku akan memberi 5 bintang nanti ka...</td>\n",
              "    </tr>\n",
              "  </tbody>\n",
              "</table>\n",
              "</div>\n",
              "      <button class=\"colab-df-convert\" onclick=\"convertToInteractive('df-c661c8f1-777b-4b12-91af-190df73281b6')\"\n",
              "              title=\"Convert this dataframe to an interactive table.\"\n",
              "              style=\"display:none;\">\n",
              "        \n",
              "  <svg xmlns=\"http://www.w3.org/2000/svg\" height=\"24px\"viewBox=\"0 0 24 24\"\n",
              "       width=\"24px\">\n",
              "    <path d=\"M0 0h24v24H0V0z\" fill=\"none\"/>\n",
              "    <path d=\"M18.56 5.44l.94 2.06.94-2.06 2.06-.94-2.06-.94-.94-2.06-.94 2.06-2.06.94zm-11 1L8.5 8.5l.94-2.06 2.06-.94-2.06-.94L8.5 2.5l-.94 2.06-2.06.94zm10 10l.94 2.06.94-2.06 2.06-.94-2.06-.94-.94-2.06-.94 2.06-2.06.94z\"/><path d=\"M17.41 7.96l-1.37-1.37c-.4-.4-.92-.59-1.43-.59-.52 0-1.04.2-1.43.59L10.3 9.45l-7.72 7.72c-.78.78-.78 2.05 0 2.83L4 21.41c.39.39.9.59 1.41.59.51 0 1.02-.2 1.41-.59l7.78-7.78 2.81-2.81c.8-.78.8-2.07 0-2.86zM5.41 20L4 18.59l7.72-7.72 1.47 1.35L5.41 20z\"/>\n",
              "  </svg>\n",
              "      </button>\n",
              "      \n",
              "  <style>\n",
              "    .colab-df-container {\n",
              "      display:flex;\n",
              "      flex-wrap:wrap;\n",
              "      gap: 12px;\n",
              "    }\n",
              "\n",
              "    .colab-df-convert {\n",
              "      background-color: #E8F0FE;\n",
              "      border: none;\n",
              "      border-radius: 50%;\n",
              "      cursor: pointer;\n",
              "      display: none;\n",
              "      fill: #1967D2;\n",
              "      height: 32px;\n",
              "      padding: 0 0 0 0;\n",
              "      width: 32px;\n",
              "    }\n",
              "\n",
              "    .colab-df-convert:hover {\n",
              "      background-color: #E2EBFA;\n",
              "      box-shadow: 0px 1px 2px rgba(60, 64, 67, 0.3), 0px 1px 3px 1px rgba(60, 64, 67, 0.15);\n",
              "      fill: #174EA6;\n",
              "    }\n",
              "\n",
              "    [theme=dark] .colab-df-convert {\n",
              "      background-color: #3B4455;\n",
              "      fill: #D2E3FC;\n",
              "    }\n",
              "\n",
              "    [theme=dark] .colab-df-convert:hover {\n",
              "      background-color: #434B5C;\n",
              "      box-shadow: 0px 1px 3px 1px rgba(0, 0, 0, 0.15);\n",
              "      filter: drop-shadow(0px 1px 2px rgba(0, 0, 0, 0.3));\n",
              "      fill: #FFFFFF;\n",
              "    }\n",
              "  </style>\n",
              "\n",
              "      <script>\n",
              "        const buttonEl =\n",
              "          document.querySelector('#df-c661c8f1-777b-4b12-91af-190df73281b6 button.colab-df-convert');\n",
              "        buttonEl.style.display =\n",
              "          google.colab.kernel.accessAllowed ? 'block' : 'none';\n",
              "\n",
              "        async function convertToInteractive(key) {\n",
              "          const element = document.querySelector('#df-c661c8f1-777b-4b12-91af-190df73281b6');\n",
              "          const dataTable =\n",
              "            await google.colab.kernel.invokeFunction('convertToInteractive',\n",
              "                                                     [key], {});\n",
              "          if (!dataTable) return;\n",
              "\n",
              "          const docLinkHtml = 'Like what you see? Visit the ' +\n",
              "            '<a target=\"_blank\" href=https://colab.research.google.com/notebooks/data_table.ipynb>data table notebook</a>'\n",
              "            + ' to learn more about interactive tables.';\n",
              "          element.innerHTML = '';\n",
              "          dataTable['output_type'] = 'display_data';\n",
              "          await google.colab.output.renderOutput(dataTable, element);\n",
              "          const docLink = document.createElement('div');\n",
              "          docLink.innerHTML = docLinkHtml;\n",
              "          element.appendChild(docLink);\n",
              "        }\n",
              "      </script>\n",
              "    </div>\n",
              "  </div>\n",
              "  "
            ]
          },
          "metadata": {},
          "execution_count": 149
        }
      ]
    },
    {
      "cell_type": "code",
      "source": [
        "prediction = []\n",
        "for i in range(0,len(dfZen['ulasan'])):\n",
        "  predict_transform = vectorizer.transform([dfZen['ulasan'][i]])\n",
        "  prediction.append(svm.predict(predict_transform))"
      ],
      "metadata": {
        "id": "EoZgqWW87-uc"
      },
      "execution_count": null,
      "outputs": []
    },
    {
      "cell_type": "code",
      "source": [
        "dfZen['predict'] = prediction"
      ],
      "metadata": {
        "id": "-sPpXrNb9szZ"
      },
      "execution_count": null,
      "outputs": []
    },
    {
      "cell_type": "code",
      "source": [
        "import matplotlib.pyplot as plt\n",
        "\n",
        "# Data to plot\n",
        "labels = 'Negatif', 'Positif'\n",
        "sizes = [486, 1014]\n",
        "colors = ['red', 'green']\n",
        "explode = (0.1, 0)  # explode 1st slice\n",
        "\n",
        "# Plot\n",
        "plt.pie(sizes, explode=explode, labels=labels, colors=colors,\n",
        "autopct='%1.1f%%', shadow=True, startangle=140)\n",
        "\n",
        "plt.axis('equal')\n",
        "plt.title(\"Persentase Sentimen Pada Aplikasi Zenius\")\n",
        "plt.show()\n",
        "print(\"Negatif =\",sizes[0])\n",
        "print(\"Positif =\",sizes[1])\n",
        "print(\"Jumlah Keseluruhan Data =\",sum(sizes))"
      ],
      "metadata": {
        "id": "2NQIr70wCaSD",
        "colab": {
          "base_uri": "https://localhost:8080/",
          "height": 316
        },
        "outputId": "1cbba7ff-d1d4-4cd5-d933-64cd041d6083"
      },
      "execution_count": null,
      "outputs": [
        {
          "output_type": "display_data",
          "data": {
            "text/plain": [
              "<Figure size 432x288 with 1 Axes>"
            ],
            "image/png": "[encoded data removed]"
          },
          "metadata": {}
        },
        {
          "output_type": "stream",
          "name": "stdout",
          "text": [
            "Negatif = 486\n",
            "Positif = 1014\n",
            "Jumlah Keseluruhan Data = 1500\n"
          ]
        }
      ]
    },
    {
      "cell_type": "code",
      "source": [
        "dfZen.to_excel(\"zenPredict.xlsx\", index = False)  #Save the file as CSV , to download: click the folder icon on the left. the csv file should be there."
      ],
      "metadata": {
        "id": "FWd0EcNc-WNO"
      },
      "execution_count": null,
      "outputs": []
    },
    {
      "cell_type": "markdown",
      "metadata": {
        "id": "_JnatFv0tC4y"
      },
      "source": [
        "#evaluasi model svm"
      ]
    },
    {
      "cell_type": "markdown",
      "source": [
        "Evaluasi dan menampilkan confussion matrix untuk menghitung evaluasi"
      ],
      "metadata": {
        "id": "55y0s63HTrCw"
      }
    },
    {
      "cell_type": "code",
      "execution_count": null,
      "metadata": {
        "id": "uAv8iqAItDTf",
        "colab": {
          "base_uri": "https://localhost:8080/"
        },
        "outputId": "5506f9d8-9ef9-4374-b046-b7c84f4ceb27"
      },
      "outputs": [
        {
          "output_type": "stream",
          "name": "stdout",
          "text": [
            "Accuracy of SVM classifier on test set : 0.86\n",
            "[[  6  36]\n",
            " [  6 252]]\n",
            "              precision    recall  f1-score   support\n",
            "\n",
            "     negatif       0.50      0.14      0.22        42\n",
            "     positif       0.88      0.98      0.92       258\n",
            "\n",
            "    accuracy                           0.86       300\n",
            "   macro avg       0.69      0.56      0.57       300\n",
            "weighted avg       0.82      0.86      0.82       300\n",
            "\n"
          ]
        }
      ],
      "source": [
        "from sklearn.metrics import  confusion_matrix\n",
        "from sklearn.metrics import classification_report\n",
        "from sklearn.metrics import accuracy_score\n",
        "y_pred = svm.predict(x_test)\n",
        "print('Accuracy of SVM classifier on test set : {:.2f}'.format(svm.score(x_test, y_test)))\n",
        "\n",
        "confusion_matrix = confusion_matrix(y_test, y_pred)\n",
        "print(confusion_matrix)\n",
        "print(classification_report(y_test, y_pred))"
      ]
    },
    {
      "cell_type": "code",
      "source": [
        "import matplotlib.pyplot as plt\n",
        "from sklearn import metrics\n",
        "\n",
        "cm_display = metrics.ConfusionMatrixDisplay(confusion_matrix = confusion_matrix, display_labels = [False, True])\n",
        "cm_display.plot()\n",
        "plt.show()"
      ],
      "metadata": {
        "colab": {
          "base_uri": "https://localhost:8080/",
          "height": 282
        },
        "id": "eZnDQGHAwRGD",
        "outputId": "9d33f8fe-37d2-4ca4-edb2-e59e587e4045"
      },
      "execution_count": null,
      "outputs": [
        {
          "output_type": "display_data",
          "data": {
            "text/plain": [
              "<Figure size 432x288 with 2 Axes>"
            ],
            "image/png": "[encoded data removed]"
          },
          "metadata": {
            "needs_background": "light"
          }
        }
      ]
    }
  ],
  "metadata": {
    "colab": {
      "collapsed_sections": [
        "8So-dbpMDNrG"
      ],
      "provenance": []
    },
    "kernelspec": {
      "display_name": "Python 3",
      "name": "python3"
    },
    "language_info": {
      "name": "python"
    },
    "gpuClass": "standard"
  },
  "nbformat": 4,
  "nbformat_minor": 0
}