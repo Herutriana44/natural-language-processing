{
  "cells": [
    {
      "cell_type": "markdown",
      "metadata": {
        "id": "o7wyadZN6MTE"
      },
      "source": [
        "# **ANALISIS SENTIMEN KOMENTAR YOUTUBE TENTANG PENUTUPAN TIKTOK SHOP MENGGUNAKAN PERBANDINGAN METODE NAIVE BAYES DAN DECISION TREE**"
      ]
    },
    {
      "cell_type": "markdown",
      "source": [
        "## Awalan"
      ],
      "metadata": {
        "id": "KQ7RO0vxRp5U"
      }
    },
    {
      "cell_type": "markdown",
      "metadata": {
        "id": "DmKwOCH98YBC"
      },
      "source": [
        "### Import Library"
      ]
    },
    {
      "cell_type": "code",
      "execution_count": null,
      "metadata": {
        "id": "kjv6Y5Ql6Qnb"
      },
      "outputs": [],
      "source": [
        "import pandas as pd\n",
        "import string\n",
        "import numpy as np"
      ]
    },
    {
      "cell_type": "markdown",
      "source": [
        "### Dataset"
      ],
      "metadata": {
        "id": "bvc1SaixSoM9"
      }
    },
    {
      "cell_type": "code",
      "source": [
        "#@markdown jalur file atau link/URL ke dataset dalam bentuk google spreadsheet\n",
        "filepath = \"https://docs.google.com/spreadsheets/d/1xsx3f4lJBswSe39yxzvl7_k6M1OTSnSrJt5lpmIEyDA/gviz/tq?tqx=out:csv\" #@param"
      ],
      "metadata": {
        "id": "ntrIS3q2oyp4"
      },
      "execution_count": null,
      "outputs": []
    },
    {
      "cell_type": "code",
      "execution_count": null,
      "metadata": {
        "colab": {
          "base_uri": "https://localhost:8080/",
          "height": 206
        },
        "id": "vzF5eTjB6jzj",
        "outputId": "a662f0cd-77c3-4981-b638-5abfdbf3fc39"
      },
      "outputs": [
        {
          "output_type": "execute_result",
          "data": {
            "text/plain": [
              "            publishedAt   authorDisplayName  \\\n",
              "0  2023-11-14T03:32:13Z  @yanglucu-lucu4280   \n",
              "1  2023-10-30T08:37:26Z   @umbetchannel2844   \n",
              "2  2023-10-28T07:57:03Z       @kageming8926   \n",
              "3  2023-10-27T08:21:18Z    @bayunugroho9197   \n",
              "4  2023-10-27T02:43:15Z  @agungabdillah4557   \n",
              "\n",
              "                                         textDisplay  likeCount    label  \n",
              "0  Partai PAN SI ZUL NIH. BELUM JADI PRESIDEN AJA...        0.0  negatif  \n",
              "1  mohon game-game juga di tutupanakku saja sampa...        0.0  negatif  \n",
              "2  jujur setelah tiktok shop di tutup Uang semaki...        0.0   netral  \n",
              "3  Pemerintah cuma minta urus ijin ya kali nyedot...        0.0  negatif  \n",
              "4  Menutup tiktokshop supaya pasar tanah abang ra...        0.0  negatif  "
            ],
            "text/html": [
              "\n",
              "  <div id=\"df-9415a435-2c9c-4a9f-82c2-ec7bda4a9b31\" class=\"colab-df-container\">\n",
              "    <div>\n",
              "<style scoped>\n",
              "    .dataframe tbody tr th:only-of-type {\n",
              "        vertical-align: middle;\n",
              "    }\n",
              "\n",
              "    .dataframe tbody tr th {\n",
              "        vertical-align: top;\n",
              "    }\n",
              "\n",
              "    .dataframe thead th {\n",
              "        text-align: right;\n",
              "    }\n",
              "</style>\n",
              "<table border=\"1\" class=\"dataframe\">\n",
              "  <thead>\n",
              "    <tr style=\"text-align: right;\">\n",
              "      <th></th>\n",
              "      <th>publishedAt</th>\n",
              "      <th>authorDisplayName</th>\n",
              "      <th>textDisplay</th>\n",
              "      <th>likeCount</th>\n",
              "      <th>label</th>\n",
              "    </tr>\n",
              "  </thead>\n",
              "  <tbody>\n",
              "    <tr>\n",
              "      <th>0</th>\n",
              "      <td>2023-11-14T03:32:13Z</td>\n",
              "      <td>@yanglucu-lucu4280</td>\n",
              "      <td>Partai PAN SI ZUL NIH. BELUM JADI PRESIDEN AJA...</td>\n",
              "      <td>0.0</td>\n",
              "      <td>negatif</td>\n",
              "    </tr>\n",
              "    <tr>\n",
              "      <th>1</th>\n",
              "      <td>2023-10-30T08:37:26Z</td>\n",
              "      <td>@umbetchannel2844</td>\n",
              "      <td>mohon game-game juga di tutupanakku saja sampa...</td>\n",
              "      <td>0.0</td>\n",
              "      <td>negatif</td>\n",
              "    </tr>\n",
              "    <tr>\n",
              "      <th>2</th>\n",
              "      <td>2023-10-28T07:57:03Z</td>\n",
              "      <td>@kageming8926</td>\n",
              "      <td>jujur setelah tiktok shop di tutup Uang semaki...</td>\n",
              "      <td>0.0</td>\n",
              "      <td>netral</td>\n",
              "    </tr>\n",
              "    <tr>\n",
              "      <th>3</th>\n",
              "      <td>2023-10-27T08:21:18Z</td>\n",
              "      <td>@bayunugroho9197</td>\n",
              "      <td>Pemerintah cuma minta urus ijin ya kali nyedot...</td>\n",
              "      <td>0.0</td>\n",
              "      <td>negatif</td>\n",
              "    </tr>\n",
              "    <tr>\n",
              "      <th>4</th>\n",
              "      <td>2023-10-27T02:43:15Z</td>\n",
              "      <td>@agungabdillah4557</td>\n",
              "      <td>Menutup tiktokshop supaya pasar tanah abang ra...</td>\n",
              "      <td>0.0</td>\n",
              "      <td>negatif</td>\n",
              "    </tr>\n",
              "  </tbody>\n",
              "</table>\n",
              "</div>\n",
              "    <div class=\"colab-df-buttons\">\n",
              "\n",
              "  <div class=\"colab-df-container\">\n",
              "    <button class=\"colab-df-convert\" onclick=\"convertToInteractive('df-9415a435-2c9c-4a9f-82c2-ec7bda4a9b31')\"\n",
              "            title=\"Convert this dataframe to an interactive table.\"\n",
              "            style=\"display:none;\">\n",
              "\n",
              "  <svg xmlns=\"http://www.w3.org/2000/svg\" height=\"24px\" viewBox=\"0 -960 960 960\">\n",
              "    <path d=\"M120-120v-720h720v720H120Zm60-500h600v-160H180v160Zm220 220h160v-160H400v160Zm0 220h160v-160H400v160ZM180-400h160v-160H180v160Zm440 0h160v-160H620v160ZM180-180h160v-160H180v160Zm440 0h160v-160H620v160Z\"/>\n",
              "  </svg>\n",
              "    </button>\n",
              "\n",
              "  <style>\n",
              "    .colab-df-container {\n",
              "      display:flex;\n",
              "      gap: 12px;\n",
              "    }\n",
              "\n",
              "    .colab-df-convert {\n",
              "      background-color: #E8F0FE;\n",
              "      border: none;\n",
              "      border-radius: 50%;\n",
              "      cursor: pointer;\n",
              "      display: none;\n",
              "      fill: #1967D2;\n",
              "      height: 32px;\n",
              "      padding: 0 0 0 0;\n",
              "      width: 32px;\n",
              "    }\n",
              "\n",
              "    .colab-df-convert:hover {\n",
              "      background-color: #E2EBFA;\n",
              "      box-shadow: 0px 1px 2px rgba(60, 64, 67, 0.3), 0px 1px 3px 1px rgba(60, 64, 67, 0.15);\n",
              "      fill: #174EA6;\n",
              "    }\n",
              "\n",
              "    .colab-df-buttons div {\n",
              "      margin-bottom: 4px;\n",
              "    }\n",
              "\n",
              "    [theme=dark] .colab-df-convert {\n",
              "      background-color: #3B4455;\n",
              "      fill: #D2E3FC;\n",
              "    }\n",
              "\n",
              "    [theme=dark] .colab-df-convert:hover {\n",
              "      background-color: #434B5C;\n",
              "      box-shadow: 0px 1px 3px 1px rgba(0, 0, 0, 0.15);\n",
              "      filter: drop-shadow(0px 1px 2px rgba(0, 0, 0, 0.3));\n",
              "      fill: #FFFFFF;\n",
              "    }\n",
              "  </style>\n",
              "\n",
              "    <script>\n",
              "      const buttonEl =\n",
              "        document.querySelector('#df-9415a435-2c9c-4a9f-82c2-ec7bda4a9b31 button.colab-df-convert');\n",
              "      buttonEl.style.display =\n",
              "        google.colab.kernel.accessAllowed ? 'block' : 'none';\n",
              "\n",
              "      async function convertToInteractive(key) {\n",
              "        const element = document.querySelector('#df-9415a435-2c9c-4a9f-82c2-ec7bda4a9b31');\n",
              "        const dataTable =\n",
              "          await google.colab.kernel.invokeFunction('convertToInteractive',\n",
              "                                                    [key], {});\n",
              "        if (!dataTable) return;\n",
              "\n",
              "        const docLinkHtml = 'Like what you see? Visit the ' +\n",
              "          '<a target=\"_blank\" href=https://colab.research.google.com/notebooks/data_table.ipynb>data table notebook</a>'\n",
              "          + ' to learn more about interactive tables.';\n",
              "        element.innerHTML = '';\n",
              "        dataTable['output_type'] = 'display_data';\n",
              "        await google.colab.output.renderOutput(dataTable, element);\n",
              "        const docLink = document.createElement('div');\n",
              "        docLink.innerHTML = docLinkHtml;\n",
              "        element.appendChild(docLink);\n",
              "      }\n",
              "    </script>\n",
              "  </div>\n",
              "\n",
              "\n",
              "<div id=\"df-c7b4569d-e19f-4e56-903b-4f5dc4e73859\">\n",
              "  <button class=\"colab-df-quickchart\" onclick=\"quickchart('df-c7b4569d-e19f-4e56-903b-4f5dc4e73859')\"\n",
              "            title=\"Suggest charts\"\n",
              "            style=\"display:none;\">\n",
              "\n",
              "<svg xmlns=\"http://www.w3.org/2000/svg\" height=\"24px\"viewBox=\"0 0 24 24\"\n",
              "     width=\"24px\">\n",
              "    <g>\n",
              "        <path d=\"M19 3H5c-1.1 0-2 .9-2 2v14c0 1.1.9 2 2 2h14c1.1 0 2-.9 2-2V5c0-1.1-.9-2-2-2zM9 17H7v-7h2v7zm4 0h-2V7h2v10zm4 0h-2v-4h2v4z\"/>\n",
              "    </g>\n",
              "</svg>\n",
              "  </button>\n",
              "\n",
              "<style>\n",
              "  .colab-df-quickchart {\n",
              "      --bg-color: #E8F0FE;\n",
              "      --fill-color: #1967D2;\n",
              "      --hover-bg-color: #E2EBFA;\n",
              "      --hover-fill-color: #174EA6;\n",
              "      --disabled-fill-color: #AAA;\n",
              "      --disabled-bg-color: #DDD;\n",
              "  }\n",
              "\n",
              "  [theme=dark] .colab-df-quickchart {\n",
              "      --bg-color: #3B4455;\n",
              "      --fill-color: #D2E3FC;\n",
              "      --hover-bg-color: #434B5C;\n",
              "      --hover-fill-color: #FFFFFF;\n",
              "      --disabled-bg-color: #3B4455;\n",
              "      --disabled-fill-color: #666;\n",
              "  }\n",
              "\n",
              "  .colab-df-quickchart {\n",
              "    background-color: var(--bg-color);\n",
              "    border: none;\n",
              "    border-radius: 50%;\n",
              "    cursor: pointer;\n",
              "    display: none;\n",
              "    fill: var(--fill-color);\n",
              "    height: 32px;\n",
              "    padding: 0;\n",
              "    width: 32px;\n",
              "  }\n",
              "\n",
              "  .colab-df-quickchart:hover {\n",
              "    background-color: var(--hover-bg-color);\n",
              "    box-shadow: 0 1px 2px rgba(60, 64, 67, 0.3), 0 1px 3px 1px rgba(60, 64, 67, 0.15);\n",
              "    fill: var(--button-hover-fill-color);\n",
              "  }\n",
              "\n",
              "  .colab-df-quickchart-complete:disabled,\n",
              "  .colab-df-quickchart-complete:disabled:hover {\n",
              "    background-color: var(--disabled-bg-color);\n",
              "    fill: var(--disabled-fill-color);\n",
              "    box-shadow: none;\n",
              "  }\n",
              "\n",
              "  .colab-df-spinner {\n",
              "    border: 2px solid var(--fill-color);\n",
              "    border-color: transparent;\n",
              "    border-bottom-color: var(--fill-color);\n",
              "    animation:\n",
              "      spin 1s steps(1) infinite;\n",
              "  }\n",
              "\n",
              "  @keyframes spin {\n",
              "    0% {\n",
              "      border-color: transparent;\n",
              "      border-bottom-color: var(--fill-color);\n",
              "      border-left-color: var(--fill-color);\n",
              "    }\n",
              "    20% {\n",
              "      border-color: transparent;\n",
              "      border-left-color: var(--fill-color);\n",
              "      border-top-color: var(--fill-color);\n",
              "    }\n",
              "    30% {\n",
              "      border-color: transparent;\n",
              "      border-left-color: var(--fill-color);\n",
              "      border-top-color: var(--fill-color);\n",
              "      border-right-color: var(--fill-color);\n",
              "    }\n",
              "    40% {\n",
              "      border-color: transparent;\n",
              "      border-right-color: var(--fill-color);\n",
              "      border-top-color: var(--fill-color);\n",
              "    }\n",
              "    60% {\n",
              "      border-color: transparent;\n",
              "      border-right-color: var(--fill-color);\n",
              "    }\n",
              "    80% {\n",
              "      border-color: transparent;\n",
              "      border-right-color: var(--fill-color);\n",
              "      border-bottom-color: var(--fill-color);\n",
              "    }\n",
              "    90% {\n",
              "      border-color: transparent;\n",
              "      border-bottom-color: var(--fill-color);\n",
              "    }\n",
              "  }\n",
              "</style>\n",
              "\n",
              "  <script>\n",
              "    async function quickchart(key) {\n",
              "      const quickchartButtonEl =\n",
              "        document.querySelector('#' + key + ' button');\n",
              "      quickchartButtonEl.disabled = true;  // To prevent multiple clicks.\n",
              "      quickchartButtonEl.classList.add('colab-df-spinner');\n",
              "      try {\n",
              "        const charts = await google.colab.kernel.invokeFunction(\n",
              "            'suggestCharts', [key], {});\n",
              "      } catch (error) {\n",
              "        console.error('Error during call to suggestCharts:', error);\n",
              "      }\n",
              "      quickchartButtonEl.classList.remove('colab-df-spinner');\n",
              "      quickchartButtonEl.classList.add('colab-df-quickchart-complete');\n",
              "    }\n",
              "    (() => {\n",
              "      let quickchartButtonEl =\n",
              "        document.querySelector('#df-c7b4569d-e19f-4e56-903b-4f5dc4e73859 button');\n",
              "      quickchartButtonEl.style.display =\n",
              "        google.colab.kernel.accessAllowed ? 'block' : 'none';\n",
              "    })();\n",
              "  </script>\n",
              "</div>\n",
              "    </div>\n",
              "  </div>\n"
            ],
            "application/vnd.google.colaboratory.intrinsic+json": {
              "type": "dataframe",
              "variable_name": "df_review",
              "summary": "{\n  \"name\": \"df_review\",\n  \"rows\": 7855,\n  \"fields\": [\n    {\n      \"column\": \"publishedAt\",\n      \"properties\": {\n        \"dtype\": \"string\",\n        \"num_unique_values\": 7826,\n        \"samples\": [\n          \"2023-09-28T03:15:44Z\",\n          \"2023-09-12T14:27:41Z\",\n          \"2023-09-20T11:50:49Z\"\n        ],\n        \"semantic_type\": \"\",\n        \"description\": \"\"\n      }\n    },\n    {\n      \"column\": \"authorDisplayName\",\n      \"properties\": {\n        \"dtype\": \"string\",\n        \"num_unique_values\": 6350,\n        \"samples\": [\n          \"@user-nd6qc3vb8o\",\n          \"@megawatimega1694\",\n          \"@mumunid4980\"\n        ],\n        \"semantic_type\": \"\",\n        \"description\": \"\"\n      }\n    },\n    {\n      \"column\": \"textDisplay\",\n      \"properties\": {\n        \"dtype\": \"string\",\n        \"num_unique_values\": 7691,\n        \"samples\": [\n          \"Harus di terapkan berapa nilai barang yg di tiktok\",\n          \"Se 7\",\n          \"Setuju kak jangan biarkan pengangguran merajalela di Indonesia karena jajahan pedangang luar\"\n        ],\n        \"semantic_type\": \"\",\n        \"description\": \"\"\n      }\n    },\n    {\n      \"column\": \"likeCount\",\n      \"properties\": {\n        \"dtype\": \"number\",\n        \"std\": 15.53868263853261,\n        \"min\": 0.0,\n        \"max\": 1020.0,\n        \"num_unique_values\": 70,\n        \"samples\": [\n          85.0,\n          0.0,\n          77.0\n        ],\n        \"semantic_type\": \"\",\n        \"description\": \"\"\n      }\n    },\n    {\n      \"column\": \"label\",\n      \"properties\": {\n        \"dtype\": \"category\",\n        \"num_unique_values\": 3,\n        \"samples\": [\n          \"negatif\",\n          \"netral\",\n          \"positif\"\n        ],\n        \"semantic_type\": \"\",\n        \"description\": \"\"\n      }\n    }\n  ]\n}"
            }
          },
          "metadata": {},
          "execution_count": 3
        }
      ],
      "source": [
        "#@markdown buat dataframe pandas dari file csv dan tampilkan 5 data teratas\n",
        "df_review = pd.read_csv(filepath)\n",
        "del df_review['clean_review']\n",
        "df_review.head(5)"
      ]
    },
    {
      "cell_type": "markdown",
      "source": [
        "### Fitur Dan Label"
      ],
      "metadata": {
        "id": "GIRRT035oIn5"
      }
    },
    {
      "cell_type": "code",
      "source": [
        "#@markdown inisiasi fitur dan juga label dari kolom yang dipakai\n",
        "fitur = \"textDisplay\" #@param\n",
        "label = \"label\" #@param"
      ],
      "metadata": {
        "id": "w7SjeXZtoOqU"
      },
      "execution_count": null,
      "outputs": []
    },
    {
      "cell_type": "code",
      "source": [
        "#@markdown copy dataframe yang sudah dibuat ke dataframe df_preprocessed untuk menjaga keaslian dataset\n",
        "df_preprocessed = df_review.copy()\n",
        "df_preprocessed.head()"
      ],
      "metadata": {
        "colab": {
          "base_uri": "https://localhost:8080/",
          "height": 206
        },
        "id": "cmkJaTP5pNqE",
        "outputId": "427bd8dc-7ea7-42c7-c756-a81041f11083"
      },
      "execution_count": null,
      "outputs": [
        {
          "output_type": "execute_result",
          "data": {
            "text/plain": [
              "            publishedAt   authorDisplayName  \\\n",
              "0  2023-11-14T03:32:13Z  @yanglucu-lucu4280   \n",
              "1  2023-10-30T08:37:26Z   @umbetchannel2844   \n",
              "2  2023-10-28T07:57:03Z       @kageming8926   \n",
              "3  2023-10-27T08:21:18Z    @bayunugroho9197   \n",
              "4  2023-10-27T02:43:15Z  @agungabdillah4557   \n",
              "\n",
              "                                         textDisplay  likeCount    label  \n",
              "0  Partai PAN SI ZUL NIH. BELUM JADI PRESIDEN AJA...        0.0  negatif  \n",
              "1  mohon game-game juga di tutupanakku saja sampa...        0.0  negatif  \n",
              "2  jujur setelah tiktok shop di tutup Uang semaki...        0.0   netral  \n",
              "3  Pemerintah cuma minta urus ijin ya kali nyedot...        0.0  negatif  \n",
              "4  Menutup tiktokshop supaya pasar tanah abang ra...        0.0  negatif  "
            ],
            "text/html": [
              "\n",
              "  <div id=\"df-45e7549b-d139-4e60-aa41-b2a654fc3be9\" class=\"colab-df-container\">\n",
              "    <div>\n",
              "<style scoped>\n",
              "    .dataframe tbody tr th:only-of-type {\n",
              "        vertical-align: middle;\n",
              "    }\n",
              "\n",
              "    .dataframe tbody tr th {\n",
              "        vertical-align: top;\n",
              "    }\n",
              "\n",
              "    .dataframe thead th {\n",
              "        text-align: right;\n",
              "    }\n",
              "</style>\n",
              "<table border=\"1\" class=\"dataframe\">\n",
              "  <thead>\n",
              "    <tr style=\"text-align: right;\">\n",
              "      <th></th>\n",
              "      <th>publishedAt</th>\n",
              "      <th>authorDisplayName</th>\n",
              "      <th>textDisplay</th>\n",
              "      <th>likeCount</th>\n",
              "      <th>label</th>\n",
              "    </tr>\n",
              "  </thead>\n",
              "  <tbody>\n",
              "    <tr>\n",
              "      <th>0</th>\n",
              "      <td>2023-11-14T03:32:13Z</td>\n",
              "      <td>@yanglucu-lucu4280</td>\n",
              "      <td>Partai PAN SI ZUL NIH. BELUM JADI PRESIDEN AJA...</td>\n",
              "      <td>0.0</td>\n",
              "      <td>negatif</td>\n",
              "    </tr>\n",
              "    <tr>\n",
              "      <th>1</th>\n",
              "      <td>2023-10-30T08:37:26Z</td>\n",
              "      <td>@umbetchannel2844</td>\n",
              "      <td>mohon game-game juga di tutupanakku saja sampa...</td>\n",
              "      <td>0.0</td>\n",
              "      <td>negatif</td>\n",
              "    </tr>\n",
              "    <tr>\n",
              "      <th>2</th>\n",
              "      <td>2023-10-28T07:57:03Z</td>\n",
              "      <td>@kageming8926</td>\n",
              "      <td>jujur setelah tiktok shop di tutup Uang semaki...</td>\n",
              "      <td>0.0</td>\n",
              "      <td>netral</td>\n",
              "    </tr>\n",
              "    <tr>\n",
              "      <th>3</th>\n",
              "      <td>2023-10-27T08:21:18Z</td>\n",
              "      <td>@bayunugroho9197</td>\n",
              "      <td>Pemerintah cuma minta urus ijin ya kali nyedot...</td>\n",
              "      <td>0.0</td>\n",
              "      <td>negatif</td>\n",
              "    </tr>\n",
              "    <tr>\n",
              "      <th>4</th>\n",
              "      <td>2023-10-27T02:43:15Z</td>\n",
              "      <td>@agungabdillah4557</td>\n",
              "      <td>Menutup tiktokshop supaya pasar tanah abang ra...</td>\n",
              "      <td>0.0</td>\n",
              "      <td>negatif</td>\n",
              "    </tr>\n",
              "  </tbody>\n",
              "</table>\n",
              "</div>\n",
              "    <div class=\"colab-df-buttons\">\n",
              "\n",
              "  <div class=\"colab-df-container\">\n",
              "    <button class=\"colab-df-convert\" onclick=\"convertToInteractive('df-45e7549b-d139-4e60-aa41-b2a654fc3be9')\"\n",
              "            title=\"Convert this dataframe to an interactive table.\"\n",
              "            style=\"display:none;\">\n",
              "\n",
              "  <svg xmlns=\"http://www.w3.org/2000/svg\" height=\"24px\" viewBox=\"0 -960 960 960\">\n",
              "    <path d=\"M120-120v-720h720v720H120Zm60-500h600v-160H180v160Zm220 220h160v-160H400v160Zm0 220h160v-160H400v160ZM180-400h160v-160H180v160Zm440 0h160v-160H620v160ZM180-180h160v-160H180v160Zm440 0h160v-160H620v160Z\"/>\n",
              "  </svg>\n",
              "    </button>\n",
              "\n",
              "  <style>\n",
              "    .colab-df-container {\n",
              "      display:flex;\n",
              "      gap: 12px;\n",
              "    }\n",
              "\n",
              "    .colab-df-convert {\n",
              "      background-color: #E8F0FE;\n",
              "      border: none;\n",
              "      border-radius: 50%;\n",
              "      cursor: pointer;\n",
              "      display: none;\n",
              "      fill: #1967D2;\n",
              "      height: 32px;\n",
              "      padding: 0 0 0 0;\n",
              "      width: 32px;\n",
              "    }\n",
              "\n",
              "    .colab-df-convert:hover {\n",
              "      background-color: #E2EBFA;\n",
              "      box-shadow: 0px 1px 2px rgba(60, 64, 67, 0.3), 0px 1px 3px 1px rgba(60, 64, 67, 0.15);\n",
              "      fill: #174EA6;\n",
              "    }\n",
              "\n",
              "    .colab-df-buttons div {\n",
              "      margin-bottom: 4px;\n",
              "    }\n",
              "\n",
              "    [theme=dark] .colab-df-convert {\n",
              "      background-color: #3B4455;\n",
              "      fill: #D2E3FC;\n",
              "    }\n",
              "\n",
              "    [theme=dark] .colab-df-convert:hover {\n",
              "      background-color: #434B5C;\n",
              "      box-shadow: 0px 1px 3px 1px rgba(0, 0, 0, 0.15);\n",
              "      filter: drop-shadow(0px 1px 2px rgba(0, 0, 0, 0.3));\n",
              "      fill: #FFFFFF;\n",
              "    }\n",
              "  </style>\n",
              "\n",
              "    <script>\n",
              "      const buttonEl =\n",
              "        document.querySelector('#df-45e7549b-d139-4e60-aa41-b2a654fc3be9 button.colab-df-convert');\n",
              "      buttonEl.style.display =\n",
              "        google.colab.kernel.accessAllowed ? 'block' : 'none';\n",
              "\n",
              "      async function convertToInteractive(key) {\n",
              "        const element = document.querySelector('#df-45e7549b-d139-4e60-aa41-b2a654fc3be9');\n",
              "        const dataTable =\n",
              "          await google.colab.kernel.invokeFunction('convertToInteractive',\n",
              "                                                    [key], {});\n",
              "        if (!dataTable) return;\n",
              "\n",
              "        const docLinkHtml = 'Like what you see? Visit the ' +\n",
              "          '<a target=\"_blank\" href=https://colab.research.google.com/notebooks/data_table.ipynb>data table notebook</a>'\n",
              "          + ' to learn more about interactive tables.';\n",
              "        element.innerHTML = '';\n",
              "        dataTable['output_type'] = 'display_data';\n",
              "        await google.colab.output.renderOutput(dataTable, element);\n",
              "        const docLink = document.createElement('div');\n",
              "        docLink.innerHTML = docLinkHtml;\n",
              "        element.appendChild(docLink);\n",
              "      }\n",
              "    </script>\n",
              "  </div>\n",
              "\n",
              "\n",
              "<div id=\"df-df1b5943-cd81-4a34-bde5-97d31136893c\">\n",
              "  <button class=\"colab-df-quickchart\" onclick=\"quickchart('df-df1b5943-cd81-4a34-bde5-97d31136893c')\"\n",
              "            title=\"Suggest charts\"\n",
              "            style=\"display:none;\">\n",
              "\n",
              "<svg xmlns=\"http://www.w3.org/2000/svg\" height=\"24px\"viewBox=\"0 0 24 24\"\n",
              "     width=\"24px\">\n",
              "    <g>\n",
              "        <path d=\"M19 3H5c-1.1 0-2 .9-2 2v14c0 1.1.9 2 2 2h14c1.1 0 2-.9 2-2V5c0-1.1-.9-2-2-2zM9 17H7v-7h2v7zm4 0h-2V7h2v10zm4 0h-2v-4h2v4z\"/>\n",
              "    </g>\n",
              "</svg>\n",
              "  </button>\n",
              "\n",
              "<style>\n",
              "  .colab-df-quickchart {\n",
              "      --bg-color: #E8F0FE;\n",
              "      --fill-color: #1967D2;\n",
              "      --hover-bg-color: #E2EBFA;\n",
              "      --hover-fill-color: #174EA6;\n",
              "      --disabled-fill-color: #AAA;\n",
              "      --disabled-bg-color: #DDD;\n",
              "  }\n",
              "\n",
              "  [theme=dark] .colab-df-quickchart {\n",
              "      --bg-color: #3B4455;\n",
              "      --fill-color: #D2E3FC;\n",
              "      --hover-bg-color: #434B5C;\n",
              "      --hover-fill-color: #FFFFFF;\n",
              "      --disabled-bg-color: #3B4455;\n",
              "      --disabled-fill-color: #666;\n",
              "  }\n",
              "\n",
              "  .colab-df-quickchart {\n",
              "    background-color: var(--bg-color);\n",
              "    border: none;\n",
              "    border-radius: 50%;\n",
              "    cursor: pointer;\n",
              "    display: none;\n",
              "    fill: var(--fill-color);\n",
              "    height: 32px;\n",
              "    padding: 0;\n",
              "    width: 32px;\n",
              "  }\n",
              "\n",
              "  .colab-df-quickchart:hover {\n",
              "    background-color: var(--hover-bg-color);\n",
              "    box-shadow: 0 1px 2px rgba(60, 64, 67, 0.3), 0 1px 3px 1px rgba(60, 64, 67, 0.15);\n",
              "    fill: var(--button-hover-fill-color);\n",
              "  }\n",
              "\n",
              "  .colab-df-quickchart-complete:disabled,\n",
              "  .colab-df-quickchart-complete:disabled:hover {\n",
              "    background-color: var(--disabled-bg-color);\n",
              "    fill: var(--disabled-fill-color);\n",
              "    box-shadow: none;\n",
              "  }\n",
              "\n",
              "  .colab-df-spinner {\n",
              "    border: 2px solid var(--fill-color);\n",
              "    border-color: transparent;\n",
              "    border-bottom-color: var(--fill-color);\n",
              "    animation:\n",
              "      spin 1s steps(1) infinite;\n",
              "  }\n",
              "\n",
              "  @keyframes spin {\n",
              "    0% {\n",
              "      border-color: transparent;\n",
              "      border-bottom-color: var(--fill-color);\n",
              "      border-left-color: var(--fill-color);\n",
              "    }\n",
              "    20% {\n",
              "      border-color: transparent;\n",
              "      border-left-color: var(--fill-color);\n",
              "      border-top-color: var(--fill-color);\n",
              "    }\n",
              "    30% {\n",
              "      border-color: transparent;\n",
              "      border-left-color: var(--fill-color);\n",
              "      border-top-color: var(--fill-color);\n",
              "      border-right-color: var(--fill-color);\n",
              "    }\n",
              "    40% {\n",
              "      border-color: transparent;\n",
              "      border-right-color: var(--fill-color);\n",
              "      border-top-color: var(--fill-color);\n",
              "    }\n",
              "    60% {\n",
              "      border-color: transparent;\n",
              "      border-right-color: var(--fill-color);\n",
              "    }\n",
              "    80% {\n",
              "      border-color: transparent;\n",
              "      border-right-color: var(--fill-color);\n",
              "      border-bottom-color: var(--fill-color);\n",
              "    }\n",
              "    90% {\n",
              "      border-color: transparent;\n",
              "      border-bottom-color: var(--fill-color);\n",
              "    }\n",
              "  }\n",
              "</style>\n",
              "\n",
              "  <script>\n",
              "    async function quickchart(key) {\n",
              "      const quickchartButtonEl =\n",
              "        document.querySelector('#' + key + ' button');\n",
              "      quickchartButtonEl.disabled = true;  // To prevent multiple clicks.\n",
              "      quickchartButtonEl.classList.add('colab-df-spinner');\n",
              "      try {\n",
              "        const charts = await google.colab.kernel.invokeFunction(\n",
              "            'suggestCharts', [key], {});\n",
              "      } catch (error) {\n",
              "        console.error('Error during call to suggestCharts:', error);\n",
              "      }\n",
              "      quickchartButtonEl.classList.remove('colab-df-spinner');\n",
              "      quickchartButtonEl.classList.add('colab-df-quickchart-complete');\n",
              "    }\n",
              "    (() => {\n",
              "      let quickchartButtonEl =\n",
              "        document.querySelector('#df-df1b5943-cd81-4a34-bde5-97d31136893c button');\n",
              "      quickchartButtonEl.style.display =\n",
              "        google.colab.kernel.accessAllowed ? 'block' : 'none';\n",
              "    })();\n",
              "  </script>\n",
              "</div>\n",
              "    </div>\n",
              "  </div>\n"
            ],
            "application/vnd.google.colaboratory.intrinsic+json": {
              "type": "dataframe",
              "variable_name": "df_preprocessed",
              "summary": "{\n  \"name\": \"df_preprocessed\",\n  \"rows\": 7855,\n  \"fields\": [\n    {\n      \"column\": \"publishedAt\",\n      \"properties\": {\n        \"dtype\": \"string\",\n        \"num_unique_values\": 7826,\n        \"samples\": [\n          \"2023-09-28T03:15:44Z\",\n          \"2023-09-12T14:27:41Z\",\n          \"2023-09-20T11:50:49Z\"\n        ],\n        \"semantic_type\": \"\",\n        \"description\": \"\"\n      }\n    },\n    {\n      \"column\": \"authorDisplayName\",\n      \"properties\": {\n        \"dtype\": \"string\",\n        \"num_unique_values\": 6350,\n        \"samples\": [\n          \"@user-nd6qc3vb8o\",\n          \"@megawatimega1694\",\n          \"@mumunid4980\"\n        ],\n        \"semantic_type\": \"\",\n        \"description\": \"\"\n      }\n    },\n    {\n      \"column\": \"textDisplay\",\n      \"properties\": {\n        \"dtype\": \"string\",\n        \"num_unique_values\": 7691,\n        \"samples\": [\n          \"Harus di terapkan berapa nilai barang yg di tiktok\",\n          \"Se 7\",\n          \"Setuju kak jangan biarkan pengangguran merajalela di Indonesia karena jajahan pedangang luar\"\n        ],\n        \"semantic_type\": \"\",\n        \"description\": \"\"\n      }\n    },\n    {\n      \"column\": \"likeCount\",\n      \"properties\": {\n        \"dtype\": \"number\",\n        \"std\": 15.53868263853261,\n        \"min\": 0.0,\n        \"max\": 1020.0,\n        \"num_unique_values\": 70,\n        \"samples\": [\n          85.0,\n          0.0,\n          77.0\n        ],\n        \"semantic_type\": \"\",\n        \"description\": \"\"\n      }\n    },\n    {\n      \"column\": \"label\",\n      \"properties\": {\n        \"dtype\": \"category\",\n        \"num_unique_values\": 3,\n        \"samples\": [\n          \"negatif\",\n          \"netral\",\n          \"positif\"\n        ],\n        \"semantic_type\": \"\",\n        \"description\": \"\"\n      }\n    }\n  ]\n}"
            }
          },
          "metadata": {},
          "execution_count": 5
        }
      ]
    },
    {
      "cell_type": "markdown",
      "source": [
        "## Text Preprocessing"
      ],
      "metadata": {
        "id": "X7qFVEYhRycT"
      }
    },
    {
      "cell_type": "markdown",
      "metadata": {
        "id": "tgSqbjeYFZWo"
      },
      "source": [
        "### Cleansing, Case Folding"
      ]
    },
    {
      "cell_type": "code",
      "execution_count": null,
      "metadata": {
        "id": "uWIZVUYEFxIT"
      },
      "outputs": [],
      "source": [
        "import string, re\n",
        "\n",
        "#@markdown ini adalah fungsi cleansing() untuk melakukan cleansing, dimana dalam fungsi ini menghapus punctuation, ASCII, unicode dan garis baru setelah itu fungsi ini mengembalikan data dalam bentuk string\n",
        "def cleansing(data):\n",
        "  #lower text\n",
        "  # data = data.lower()\n",
        "\n",
        "  #hapus punctuation\n",
        "  remove =string.punctuation\n",
        "  translator = str.maketrans(remove,' '*len(remove))\n",
        "  data = data.translate(translator)\n",
        "\n",
        "  #remove ASCII dan unicode\n",
        "  data = data.encode('ascii','ignore').decode('utf-8')\n",
        "  data = re.sub(r'[^\\x00-\\x7f]',r'', data)\n",
        "\n",
        "  #remove newline\n",
        "  data = data.replace('\\n','')\n",
        "\n",
        "  return data\n",
        "\n"
      ]
    },
    {
      "cell_type": "code",
      "source": [
        "#@markdown kode ini menerapkan fungsi cleansing pada kolom baru\n",
        "review =[]\n",
        "for index, row in df_preprocessed.iterrows():\n",
        "    review.append(cleansing(row[fitur]))\n",
        "\n",
        "df_preprocessed[fitur + \"_Cleansing\"] = review\n",
        "df_preprocessed.head()\n"
      ],
      "metadata": {
        "colab": {
          "base_uri": "https://localhost:8080/",
          "height": 206
        },
        "id": "273CbG9B2QEr",
        "outputId": "79740801-afc3-406b-f993-658822951581"
      },
      "execution_count": null,
      "outputs": [
        {
          "output_type": "execute_result",
          "data": {
            "text/plain": [
              "            publishedAt   authorDisplayName  \\\n",
              "0  2023-11-14T03:32:13Z  @yanglucu-lucu4280   \n",
              "1  2023-10-30T08:37:26Z   @umbetchannel2844   \n",
              "2  2023-10-28T07:57:03Z       @kageming8926   \n",
              "3  2023-10-27T08:21:18Z    @bayunugroho9197   \n",
              "4  2023-10-27T02:43:15Z  @agungabdillah4557   \n",
              "\n",
              "                                         textDisplay  likeCount    label  \\\n",
              "0  Partai PAN SI ZUL NIH. BELUM JADI PRESIDEN AJA...        0.0  negatif   \n",
              "1  mohon game-game juga di tutupanakku saja sampa...        0.0  negatif   \n",
              "2  jujur setelah tiktok shop di tutup Uang semaki...        0.0   netral   \n",
              "3  Pemerintah cuma minta urus ijin ya kali nyedot...        0.0  negatif   \n",
              "4  Menutup tiktokshop supaya pasar tanah abang ra...        0.0  negatif   \n",
              "\n",
              "                               textDisplay_Cleansing  \n",
              "0  Partai PAN SI ZUL NIH  BELUM JADI PRESIDEN AJA...  \n",
              "1  mohon game game juga di tutupanakku saja sampa...  \n",
              "2  jujur setelah tiktok shop di tutup Uang semaki...  \n",
              "3  Pemerintah cuma minta urus ijin ya kali nyedot...  \n",
              "4  Menutup tiktokshop supaya pasar tanah abang ra...  "
            ],
            "text/html": [
              "\n",
              "  <div id=\"df-d2265644-508b-4f9a-b8fb-3578bb1d065a\" class=\"colab-df-container\">\n",
              "    <div>\n",
              "<style scoped>\n",
              "    .dataframe tbody tr th:only-of-type {\n",
              "        vertical-align: middle;\n",
              "    }\n",
              "\n",
              "    .dataframe tbody tr th {\n",
              "        vertical-align: top;\n",
              "    }\n",
              "\n",
              "    .dataframe thead th {\n",
              "        text-align: right;\n",
              "    }\n",
              "</style>\n",
              "<table border=\"1\" class=\"dataframe\">\n",
              "  <thead>\n",
              "    <tr style=\"text-align: right;\">\n",
              "      <th></th>\n",
              "      <th>publishedAt</th>\n",
              "      <th>authorDisplayName</th>\n",
              "      <th>textDisplay</th>\n",
              "      <th>likeCount</th>\n",
              "      <th>label</th>\n",
              "      <th>textDisplay_Cleansing</th>\n",
              "    </tr>\n",
              "  </thead>\n",
              "  <tbody>\n",
              "    <tr>\n",
              "      <th>0</th>\n",
              "      <td>2023-11-14T03:32:13Z</td>\n",
              "      <td>@yanglucu-lucu4280</td>\n",
              "      <td>Partai PAN SI ZUL NIH. BELUM JADI PRESIDEN AJA...</td>\n",
              "      <td>0.0</td>\n",
              "      <td>negatif</td>\n",
              "      <td>Partai PAN SI ZUL NIH  BELUM JADI PRESIDEN AJA...</td>\n",
              "    </tr>\n",
              "    <tr>\n",
              "      <th>1</th>\n",
              "      <td>2023-10-30T08:37:26Z</td>\n",
              "      <td>@umbetchannel2844</td>\n",
              "      <td>mohon game-game juga di tutupanakku saja sampa...</td>\n",
              "      <td>0.0</td>\n",
              "      <td>negatif</td>\n",
              "      <td>mohon game game juga di tutupanakku saja sampa...</td>\n",
              "    </tr>\n",
              "    <tr>\n",
              "      <th>2</th>\n",
              "      <td>2023-10-28T07:57:03Z</td>\n",
              "      <td>@kageming8926</td>\n",
              "      <td>jujur setelah tiktok shop di tutup Uang semaki...</td>\n",
              "      <td>0.0</td>\n",
              "      <td>netral</td>\n",
              "      <td>jujur setelah tiktok shop di tutup Uang semaki...</td>\n",
              "    </tr>\n",
              "    <tr>\n",
              "      <th>3</th>\n",
              "      <td>2023-10-27T08:21:18Z</td>\n",
              "      <td>@bayunugroho9197</td>\n",
              "      <td>Pemerintah cuma minta urus ijin ya kali nyedot...</td>\n",
              "      <td>0.0</td>\n",
              "      <td>negatif</td>\n",
              "      <td>Pemerintah cuma minta urus ijin ya kali nyedot...</td>\n",
              "    </tr>\n",
              "    <tr>\n",
              "      <th>4</th>\n",
              "      <td>2023-10-27T02:43:15Z</td>\n",
              "      <td>@agungabdillah4557</td>\n",
              "      <td>Menutup tiktokshop supaya pasar tanah abang ra...</td>\n",
              "      <td>0.0</td>\n",
              "      <td>negatif</td>\n",
              "      <td>Menutup tiktokshop supaya pasar tanah abang ra...</td>\n",
              "    </tr>\n",
              "  </tbody>\n",
              "</table>\n",
              "</div>\n",
              "    <div class=\"colab-df-buttons\">\n",
              "\n",
              "  <div class=\"colab-df-container\">\n",
              "    <button class=\"colab-df-convert\" onclick=\"convertToInteractive('df-d2265644-508b-4f9a-b8fb-3578bb1d065a')\"\n",
              "            title=\"Convert this dataframe to an interactive table.\"\n",
              "            style=\"display:none;\">\n",
              "\n",
              "  <svg xmlns=\"http://www.w3.org/2000/svg\" height=\"24px\" viewBox=\"0 -960 960 960\">\n",
              "    <path d=\"M120-120v-720h720v720H120Zm60-500h600v-160H180v160Zm220 220h160v-160H400v160Zm0 220h160v-160H400v160ZM180-400h160v-160H180v160Zm440 0h160v-160H620v160ZM180-180h160v-160H180v160Zm440 0h160v-160H620v160Z\"/>\n",
              "  </svg>\n",
              "    </button>\n",
              "\n",
              "  <style>\n",
              "    .colab-df-container {\n",
              "      display:flex;\n",
              "      gap: 12px;\n",
              "    }\n",
              "\n",
              "    .colab-df-convert {\n",
              "      background-color: #E8F0FE;\n",
              "      border: none;\n",
              "      border-radius: 50%;\n",
              "      cursor: pointer;\n",
              "      display: none;\n",
              "      fill: #1967D2;\n",
              "      height: 32px;\n",
              "      padding: 0 0 0 0;\n",
              "      width: 32px;\n",
              "    }\n",
              "\n",
              "    .colab-df-convert:hover {\n",
              "      background-color: #E2EBFA;\n",
              "      box-shadow: 0px 1px 2px rgba(60, 64, 67, 0.3), 0px 1px 3px 1px rgba(60, 64, 67, 0.15);\n",
              "      fill: #174EA6;\n",
              "    }\n",
              "\n",
              "    .colab-df-buttons div {\n",
              "      margin-bottom: 4px;\n",
              "    }\n",
              "\n",
              "    [theme=dark] .colab-df-convert {\n",
              "      background-color: #3B4455;\n",
              "      fill: #D2E3FC;\n",
              "    }\n",
              "\n",
              "    [theme=dark] .colab-df-convert:hover {\n",
              "      background-color: #434B5C;\n",
              "      box-shadow: 0px 1px 3px 1px rgba(0, 0, 0, 0.15);\n",
              "      filter: drop-shadow(0px 1px 2px rgba(0, 0, 0, 0.3));\n",
              "      fill: #FFFFFF;\n",
              "    }\n",
              "  </style>\n",
              "\n",
              "    <script>\n",
              "      const buttonEl =\n",
              "        document.querySelector('#df-d2265644-508b-4f9a-b8fb-3578bb1d065a button.colab-df-convert');\n",
              "      buttonEl.style.display =\n",
              "        google.colab.kernel.accessAllowed ? 'block' : 'none';\n",
              "\n",
              "      async function convertToInteractive(key) {\n",
              "        const element = document.querySelector('#df-d2265644-508b-4f9a-b8fb-3578bb1d065a');\n",
              "        const dataTable =\n",
              "          await google.colab.kernel.invokeFunction('convertToInteractive',\n",
              "                                                    [key], {});\n",
              "        if (!dataTable) return;\n",
              "\n",
              "        const docLinkHtml = 'Like what you see? Visit the ' +\n",
              "          '<a target=\"_blank\" href=https://colab.research.google.com/notebooks/data_table.ipynb>data table notebook</a>'\n",
              "          + ' to learn more about interactive tables.';\n",
              "        element.innerHTML = '';\n",
              "        dataTable['output_type'] = 'display_data';\n",
              "        await google.colab.output.renderOutput(dataTable, element);\n",
              "        const docLink = document.createElement('div');\n",
              "        docLink.innerHTML = docLinkHtml;\n",
              "        element.appendChild(docLink);\n",
              "      }\n",
              "    </script>\n",
              "  </div>\n",
              "\n",
              "\n",
              "<div id=\"df-2976443a-c31a-4506-9c26-a6098232aeaf\">\n",
              "  <button class=\"colab-df-quickchart\" onclick=\"quickchart('df-2976443a-c31a-4506-9c26-a6098232aeaf')\"\n",
              "            title=\"Suggest charts\"\n",
              "            style=\"display:none;\">\n",
              "\n",
              "<svg xmlns=\"http://www.w3.org/2000/svg\" height=\"24px\"viewBox=\"0 0 24 24\"\n",
              "     width=\"24px\">\n",
              "    <g>\n",
              "        <path d=\"M19 3H5c-1.1 0-2 .9-2 2v14c0 1.1.9 2 2 2h14c1.1 0 2-.9 2-2V5c0-1.1-.9-2-2-2zM9 17H7v-7h2v7zm4 0h-2V7h2v10zm4 0h-2v-4h2v4z\"/>\n",
              "    </g>\n",
              "</svg>\n",
              "  </button>\n",
              "\n",
              "<style>\n",
              "  .colab-df-quickchart {\n",
              "      --bg-color: #E8F0FE;\n",
              "      --fill-color: #1967D2;\n",
              "      --hover-bg-color: #E2EBFA;\n",
              "      --hover-fill-color: #174EA6;\n",
              "      --disabled-fill-color: #AAA;\n",
              "      --disabled-bg-color: #DDD;\n",
              "  }\n",
              "\n",
              "  [theme=dark] .colab-df-quickchart {\n",
              "      --bg-color: #3B4455;\n",
              "      --fill-color: #D2E3FC;\n",
              "      --hover-bg-color: #434B5C;\n",
              "      --hover-fill-color: #FFFFFF;\n",
              "      --disabled-bg-color: #3B4455;\n",
              "      --disabled-fill-color: #666;\n",
              "  }\n",
              "\n",
              "  .colab-df-quickchart {\n",
              "    background-color: var(--bg-color);\n",
              "    border: none;\n",
              "    border-radius: 50%;\n",
              "    cursor: pointer;\n",
              "    display: none;\n",
              "    fill: var(--fill-color);\n",
              "    height: 32px;\n",
              "    padding: 0;\n",
              "    width: 32px;\n",
              "  }\n",
              "\n",
              "  .colab-df-quickchart:hover {\n",
              "    background-color: var(--hover-bg-color);\n",
              "    box-shadow: 0 1px 2px rgba(60, 64, 67, 0.3), 0 1px 3px 1px rgba(60, 64, 67, 0.15);\n",
              "    fill: var(--button-hover-fill-color);\n",
              "  }\n",
              "\n",
              "  .colab-df-quickchart-complete:disabled,\n",
              "  .colab-df-quickchart-complete:disabled:hover {\n",
              "    background-color: var(--disabled-bg-color);\n",
              "    fill: var(--disabled-fill-color);\n",
              "    box-shadow: none;\n",
              "  }\n",
              "\n",
              "  .colab-df-spinner {\n",
              "    border: 2px solid var(--fill-color);\n",
              "    border-color: transparent;\n",
              "    border-bottom-color: var(--fill-color);\n",
              "    animation:\n",
              "      spin 1s steps(1) infinite;\n",
              "  }\n",
              "\n",
              "  @keyframes spin {\n",
              "    0% {\n",
              "      border-color: transparent;\n",
              "      border-bottom-color: var(--fill-color);\n",
              "      border-left-color: var(--fill-color);\n",
              "    }\n",
              "    20% {\n",
              "      border-color: transparent;\n",
              "      border-left-color: var(--fill-color);\n",
              "      border-top-color: var(--fill-color);\n",
              "    }\n",
              "    30% {\n",
              "      border-color: transparent;\n",
              "      border-left-color: var(--fill-color);\n",
              "      border-top-color: var(--fill-color);\n",
              "      border-right-color: var(--fill-color);\n",
              "    }\n",
              "    40% {\n",
              "      border-color: transparent;\n",
              "      border-right-color: var(--fill-color);\n",
              "      border-top-color: var(--fill-color);\n",
              "    }\n",
              "    60% {\n",
              "      border-color: transparent;\n",
              "      border-right-color: var(--fill-color);\n",
              "    }\n",
              "    80% {\n",
              "      border-color: transparent;\n",
              "      border-right-color: var(--fill-color);\n",
              "      border-bottom-color: var(--fill-color);\n",
              "    }\n",
              "    90% {\n",
              "      border-color: transparent;\n",
              "      border-bottom-color: var(--fill-color);\n",
              "    }\n",
              "  }\n",
              "</style>\n",
              "\n",
              "  <script>\n",
              "    async function quickchart(key) {\n",
              "      const quickchartButtonEl =\n",
              "        document.querySelector('#' + key + ' button');\n",
              "      quickchartButtonEl.disabled = true;  // To prevent multiple clicks.\n",
              "      quickchartButtonEl.classList.add('colab-df-spinner');\n",
              "      try {\n",
              "        const charts = await google.colab.kernel.invokeFunction(\n",
              "            'suggestCharts', [key], {});\n",
              "      } catch (error) {\n",
              "        console.error('Error during call to suggestCharts:', error);\n",
              "      }\n",
              "      quickchartButtonEl.classList.remove('colab-df-spinner');\n",
              "      quickchartButtonEl.classList.add('colab-df-quickchart-complete');\n",
              "    }\n",
              "    (() => {\n",
              "      let quickchartButtonEl =\n",
              "        document.querySelector('#df-2976443a-c31a-4506-9c26-a6098232aeaf button');\n",
              "      quickchartButtonEl.style.display =\n",
              "        google.colab.kernel.accessAllowed ? 'block' : 'none';\n",
              "    })();\n",
              "  </script>\n",
              "</div>\n",
              "    </div>\n",
              "  </div>\n"
            ],
            "application/vnd.google.colaboratory.intrinsic+json": {
              "type": "dataframe",
              "variable_name": "df_preprocessed",
              "summary": "{\n  \"name\": \"df_preprocessed\",\n  \"rows\": 7855,\n  \"fields\": [\n    {\n      \"column\": \"publishedAt\",\n      \"properties\": {\n        \"dtype\": \"string\",\n        \"num_unique_values\": 7826,\n        \"samples\": [\n          \"2023-09-28T03:15:44Z\",\n          \"2023-09-12T14:27:41Z\",\n          \"2023-09-20T11:50:49Z\"\n        ],\n        \"semantic_type\": \"\",\n        \"description\": \"\"\n      }\n    },\n    {\n      \"column\": \"authorDisplayName\",\n      \"properties\": {\n        \"dtype\": \"string\",\n        \"num_unique_values\": 6350,\n        \"samples\": [\n          \"@user-nd6qc3vb8o\",\n          \"@megawatimega1694\",\n          \"@mumunid4980\"\n        ],\n        \"semantic_type\": \"\",\n        \"description\": \"\"\n      }\n    },\n    {\n      \"column\": \"textDisplay\",\n      \"properties\": {\n        \"dtype\": \"string\",\n        \"num_unique_values\": 7691,\n        \"samples\": [\n          \"Harus di terapkan berapa nilai barang yg di tiktok\",\n          \"Se 7\",\n          \"Setuju kak jangan biarkan pengangguran merajalela di Indonesia karena jajahan pedangang luar\"\n        ],\n        \"semantic_type\": \"\",\n        \"description\": \"\"\n      }\n    },\n    {\n      \"column\": \"likeCount\",\n      \"properties\": {\n        \"dtype\": \"number\",\n        \"std\": 15.53868263853261,\n        \"min\": 0.0,\n        \"max\": 1020.0,\n        \"num_unique_values\": 70,\n        \"samples\": [\n          85.0,\n          0.0,\n          77.0\n        ],\n        \"semantic_type\": \"\",\n        \"description\": \"\"\n      }\n    },\n    {\n      \"column\": \"label\",\n      \"properties\": {\n        \"dtype\": \"category\",\n        \"num_unique_values\": 3,\n        \"samples\": [\n          \"negatif\",\n          \"netral\",\n          \"positif\"\n        ],\n        \"semantic_type\": \"\",\n        \"description\": \"\"\n      }\n    },\n    {\n      \"column\": \"textDisplay_Cleansing\",\n      \"properties\": {\n        \"dtype\": \"string\",\n        \"num_unique_values\": 7664,\n        \"samples\": [\n          \"sikattt\",\n          \"Saya orang banyuwangi sangat setuju kalau tik tok dilarang jualan  Karena sangat merugikan pesagang kecil    karena tik tok jualnya cari untung sedikit     dan itu mematikan umkn dalam negri    Tik tok bisa mengadu domba umkm    \",\n          \"bener   br Tiktok buat mereka yg kaya makin kaya   br Flexing dll br Kasian yg gak bs menyesuaikan sesuai perkembangan zaman apalagi penjual penjual yg tua tua kasian mrka\"\n        ],\n        \"semantic_type\": \"\",\n        \"description\": \"\"\n      }\n    }\n  ]\n}"
            }
          },
          "metadata": {},
          "execution_count": 7
        }
      ]
    },
    {
      "cell_type": "code",
      "execution_count": null,
      "metadata": {
        "colab": {
          "base_uri": "https://localhost:8080/",
          "height": 293
        },
        "id": "B2EEcRHAFZ9L",
        "outputId": "f702704b-0fd7-4e97-9e85-e686bc089a58"
      },
      "outputs": [
        {
          "output_type": "execute_result",
          "data": {
            "text/plain": [
              "            publishedAt   authorDisplayName  \\\n",
              "0  2023-11-14T03:32:13Z  @yanglucu-lucu4280   \n",
              "1  2023-10-30T08:37:26Z   @umbetchannel2844   \n",
              "2  2023-10-28T07:57:03Z       @kageming8926   \n",
              "3  2023-10-27T08:21:18Z    @bayunugroho9197   \n",
              "4  2023-10-27T02:43:15Z  @agungabdillah4557   \n",
              "\n",
              "                                         textDisplay  likeCount    label  \\\n",
              "0  Partai PAN SI ZUL NIH. BELUM JADI PRESIDEN AJA...        0.0  negatif   \n",
              "1  mohon game-game juga di tutupanakku saja sampa...        0.0  negatif   \n",
              "2  jujur setelah tiktok shop di tutup Uang semaki...        0.0   netral   \n",
              "3  Pemerintah cuma minta urus ijin ya kali nyedot...        0.0  negatif   \n",
              "4  Menutup tiktokshop supaya pasar tanah abang ra...        0.0  negatif   \n",
              "\n",
              "                               textDisplay_Cleansing  \\\n",
              "0  Partai PAN SI ZUL NIH  BELUM JADI PRESIDEN AJA...   \n",
              "1  mohon game game juga di tutupanakku saja sampa...   \n",
              "2  jujur setelah tiktok shop di tutup Uang semaki...   \n",
              "3  Pemerintah cuma minta urus ijin ya kali nyedot...   \n",
              "4  Menutup tiktokshop supaya pasar tanah abang ra...   \n",
              "\n",
              "                            textDisplay_Case_Folding  \n",
              "0  partai pan si zul nih  belum jadi presiden aja...  \n",
              "1  mohon game game juga di tutupanakku saja sampa...  \n",
              "2  jujur setelah tiktok shop di tutup uang semaki...  \n",
              "3  pemerintah cuma minta urus ijin ya kali nyedot...  \n",
              "4  menutup tiktokshop supaya pasar tanah abang ra...  "
            ],
            "text/html": [
              "\n",
              "  <div id=\"df-dd040ba0-61d5-45e2-aa91-7e43be7c8377\" class=\"colab-df-container\">\n",
              "    <div>\n",
              "<style scoped>\n",
              "    .dataframe tbody tr th:only-of-type {\n",
              "        vertical-align: middle;\n",
              "    }\n",
              "\n",
              "    .dataframe tbody tr th {\n",
              "        vertical-align: top;\n",
              "    }\n",
              "\n",
              "    .dataframe thead th {\n",
              "        text-align: right;\n",
              "    }\n",
              "</style>\n",
              "<table border=\"1\" class=\"dataframe\">\n",
              "  <thead>\n",
              "    <tr style=\"text-align: right;\">\n",
              "      <th></th>\n",
              "      <th>publishedAt</th>\n",
              "      <th>authorDisplayName</th>\n",
              "      <th>textDisplay</th>\n",
              "      <th>likeCount</th>\n",
              "      <th>label</th>\n",
              "      <th>textDisplay_Cleansing</th>\n",
              "      <th>textDisplay_Case_Folding</th>\n",
              "    </tr>\n",
              "  </thead>\n",
              "  <tbody>\n",
              "    <tr>\n",
              "      <th>0</th>\n",
              "      <td>2023-11-14T03:32:13Z</td>\n",
              "      <td>@yanglucu-lucu4280</td>\n",
              "      <td>Partai PAN SI ZUL NIH. BELUM JADI PRESIDEN AJA...</td>\n",
              "      <td>0.0</td>\n",
              "      <td>negatif</td>\n",
              "      <td>Partai PAN SI ZUL NIH  BELUM JADI PRESIDEN AJA...</td>\n",
              "      <td>partai pan si zul nih  belum jadi presiden aja...</td>\n",
              "    </tr>\n",
              "    <tr>\n",
              "      <th>1</th>\n",
              "      <td>2023-10-30T08:37:26Z</td>\n",
              "      <td>@umbetchannel2844</td>\n",
              "      <td>mohon game-game juga di tutupanakku saja sampa...</td>\n",
              "      <td>0.0</td>\n",
              "      <td>negatif</td>\n",
              "      <td>mohon game game juga di tutupanakku saja sampa...</td>\n",
              "      <td>mohon game game juga di tutupanakku saja sampa...</td>\n",
              "    </tr>\n",
              "    <tr>\n",
              "      <th>2</th>\n",
              "      <td>2023-10-28T07:57:03Z</td>\n",
              "      <td>@kageming8926</td>\n",
              "      <td>jujur setelah tiktok shop di tutup Uang semaki...</td>\n",
              "      <td>0.0</td>\n",
              "      <td>netral</td>\n",
              "      <td>jujur setelah tiktok shop di tutup Uang semaki...</td>\n",
              "      <td>jujur setelah tiktok shop di tutup uang semaki...</td>\n",
              "    </tr>\n",
              "    <tr>\n",
              "      <th>3</th>\n",
              "      <td>2023-10-27T08:21:18Z</td>\n",
              "      <td>@bayunugroho9197</td>\n",
              "      <td>Pemerintah cuma minta urus ijin ya kali nyedot...</td>\n",
              "      <td>0.0</td>\n",
              "      <td>negatif</td>\n",
              "      <td>Pemerintah cuma minta urus ijin ya kali nyedot...</td>\n",
              "      <td>pemerintah cuma minta urus ijin ya kali nyedot...</td>\n",
              "    </tr>\n",
              "    <tr>\n",
              "      <th>4</th>\n",
              "      <td>2023-10-27T02:43:15Z</td>\n",
              "      <td>@agungabdillah4557</td>\n",
              "      <td>Menutup tiktokshop supaya pasar tanah abang ra...</td>\n",
              "      <td>0.0</td>\n",
              "      <td>negatif</td>\n",
              "      <td>Menutup tiktokshop supaya pasar tanah abang ra...</td>\n",
              "      <td>menutup tiktokshop supaya pasar tanah abang ra...</td>\n",
              "    </tr>\n",
              "  </tbody>\n",
              "</table>\n",
              "</div>\n",
              "    <div class=\"colab-df-buttons\">\n",
              "\n",
              "  <div class=\"colab-df-container\">\n",
              "    <button class=\"colab-df-convert\" onclick=\"convertToInteractive('df-dd040ba0-61d5-45e2-aa91-7e43be7c8377')\"\n",
              "            title=\"Convert this dataframe to an interactive table.\"\n",
              "            style=\"display:none;\">\n",
              "\n",
              "  <svg xmlns=\"http://www.w3.org/2000/svg\" height=\"24px\" viewBox=\"0 -960 960 960\">\n",
              "    <path d=\"M120-120v-720h720v720H120Zm60-500h600v-160H180v160Zm220 220h160v-160H400v160Zm0 220h160v-160H400v160ZM180-400h160v-160H180v160Zm440 0h160v-160H620v160ZM180-180h160v-160H180v160Zm440 0h160v-160H620v160Z\"/>\n",
              "  </svg>\n",
              "    </button>\n",
              "\n",
              "  <style>\n",
              "    .colab-df-container {\n",
              "      display:flex;\n",
              "      gap: 12px;\n",
              "    }\n",
              "\n",
              "    .colab-df-convert {\n",
              "      background-color: #E8F0FE;\n",
              "      border: none;\n",
              "      border-radius: 50%;\n",
              "      cursor: pointer;\n",
              "      display: none;\n",
              "      fill: #1967D2;\n",
              "      height: 32px;\n",
              "      padding: 0 0 0 0;\n",
              "      width: 32px;\n",
              "    }\n",
              "\n",
              "    .colab-df-convert:hover {\n",
              "      background-color: #E2EBFA;\n",
              "      box-shadow: 0px 1px 2px rgba(60, 64, 67, 0.3), 0px 1px 3px 1px rgba(60, 64, 67, 0.15);\n",
              "      fill: #174EA6;\n",
              "    }\n",
              "\n",
              "    .colab-df-buttons div {\n",
              "      margin-bottom: 4px;\n",
              "    }\n",
              "\n",
              "    [theme=dark] .colab-df-convert {\n",
              "      background-color: #3B4455;\n",
              "      fill: #D2E3FC;\n",
              "    }\n",
              "\n",
              "    [theme=dark] .colab-df-convert:hover {\n",
              "      background-color: #434B5C;\n",
              "      box-shadow: 0px 1px 3px 1px rgba(0, 0, 0, 0.15);\n",
              "      filter: drop-shadow(0px 1px 2px rgba(0, 0, 0, 0.3));\n",
              "      fill: #FFFFFF;\n",
              "    }\n",
              "  </style>\n",
              "\n",
              "    <script>\n",
              "      const buttonEl =\n",
              "        document.querySelector('#df-dd040ba0-61d5-45e2-aa91-7e43be7c8377 button.colab-df-convert');\n",
              "      buttonEl.style.display =\n",
              "        google.colab.kernel.accessAllowed ? 'block' : 'none';\n",
              "\n",
              "      async function convertToInteractive(key) {\n",
              "        const element = document.querySelector('#df-dd040ba0-61d5-45e2-aa91-7e43be7c8377');\n",
              "        const dataTable =\n",
              "          await google.colab.kernel.invokeFunction('convertToInteractive',\n",
              "                                                    [key], {});\n",
              "        if (!dataTable) return;\n",
              "\n",
              "        const docLinkHtml = 'Like what you see? Visit the ' +\n",
              "          '<a target=\"_blank\" href=https://colab.research.google.com/notebooks/data_table.ipynb>data table notebook</a>'\n",
              "          + ' to learn more about interactive tables.';\n",
              "        element.innerHTML = '';\n",
              "        dataTable['output_type'] = 'display_data';\n",
              "        await google.colab.output.renderOutput(dataTable, element);\n",
              "        const docLink = document.createElement('div');\n",
              "        docLink.innerHTML = docLinkHtml;\n",
              "        element.appendChild(docLink);\n",
              "      }\n",
              "    </script>\n",
              "  </div>\n",
              "\n",
              "\n",
              "<div id=\"df-01924f7d-eb4b-46c5-96ac-d2140433dad8\">\n",
              "  <button class=\"colab-df-quickchart\" onclick=\"quickchart('df-01924f7d-eb4b-46c5-96ac-d2140433dad8')\"\n",
              "            title=\"Suggest charts\"\n",
              "            style=\"display:none;\">\n",
              "\n",
              "<svg xmlns=\"http://www.w3.org/2000/svg\" height=\"24px\"viewBox=\"0 0 24 24\"\n",
              "     width=\"24px\">\n",
              "    <g>\n",
              "        <path d=\"M19 3H5c-1.1 0-2 .9-2 2v14c0 1.1.9 2 2 2h14c1.1 0 2-.9 2-2V5c0-1.1-.9-2-2-2zM9 17H7v-7h2v7zm4 0h-2V7h2v10zm4 0h-2v-4h2v4z\"/>\n",
              "    </g>\n",
              "</svg>\n",
              "  </button>\n",
              "\n",
              "<style>\n",
              "  .colab-df-quickchart {\n",
              "      --bg-color: #E8F0FE;\n",
              "      --fill-color: #1967D2;\n",
              "      --hover-bg-color: #E2EBFA;\n",
              "      --hover-fill-color: #174EA6;\n",
              "      --disabled-fill-color: #AAA;\n",
              "      --disabled-bg-color: #DDD;\n",
              "  }\n",
              "\n",
              "  [theme=dark] .colab-df-quickchart {\n",
              "      --bg-color: #3B4455;\n",
              "      --fill-color: #D2E3FC;\n",
              "      --hover-bg-color: #434B5C;\n",
              "      --hover-fill-color: #FFFFFF;\n",
              "      --disabled-bg-color: #3B4455;\n",
              "      --disabled-fill-color: #666;\n",
              "  }\n",
              "\n",
              "  .colab-df-quickchart {\n",
              "    background-color: var(--bg-color);\n",
              "    border: none;\n",
              "    border-radius: 50%;\n",
              "    cursor: pointer;\n",
              "    display: none;\n",
              "    fill: var(--fill-color);\n",
              "    height: 32px;\n",
              "    padding: 0;\n",
              "    width: 32px;\n",
              "  }\n",
              "\n",
              "  .colab-df-quickchart:hover {\n",
              "    background-color: var(--hover-bg-color);\n",
              "    box-shadow: 0 1px 2px rgba(60, 64, 67, 0.3), 0 1px 3px 1px rgba(60, 64, 67, 0.15);\n",
              "    fill: var(--button-hover-fill-color);\n",
              "  }\n",
              "\n",
              "  .colab-df-quickchart-complete:disabled,\n",
              "  .colab-df-quickchart-complete:disabled:hover {\n",
              "    background-color: var(--disabled-bg-color);\n",
              "    fill: var(--disabled-fill-color);\n",
              "    box-shadow: none;\n",
              "  }\n",
              "\n",
              "  .colab-df-spinner {\n",
              "    border: 2px solid var(--fill-color);\n",
              "    border-color: transparent;\n",
              "    border-bottom-color: var(--fill-color);\n",
              "    animation:\n",
              "      spin 1s steps(1) infinite;\n",
              "  }\n",
              "\n",
              "  @keyframes spin {\n",
              "    0% {\n",
              "      border-color: transparent;\n",
              "      border-bottom-color: var(--fill-color);\n",
              "      border-left-color: var(--fill-color);\n",
              "    }\n",
              "    20% {\n",
              "      border-color: transparent;\n",
              "      border-left-color: var(--fill-color);\n",
              "      border-top-color: var(--fill-color);\n",
              "    }\n",
              "    30% {\n",
              "      border-color: transparent;\n",
              "      border-left-color: var(--fill-color);\n",
              "      border-top-color: var(--fill-color);\n",
              "      border-right-color: var(--fill-color);\n",
              "    }\n",
              "    40% {\n",
              "      border-color: transparent;\n",
              "      border-right-color: var(--fill-color);\n",
              "      border-top-color: var(--fill-color);\n",
              "    }\n",
              "    60% {\n",
              "      border-color: transparent;\n",
              "      border-right-color: var(--fill-color);\n",
              "    }\n",
              "    80% {\n",
              "      border-color: transparent;\n",
              "      border-right-color: var(--fill-color);\n",
              "      border-bottom-color: var(--fill-color);\n",
              "    }\n",
              "    90% {\n",
              "      border-color: transparent;\n",
              "      border-bottom-color: var(--fill-color);\n",
              "    }\n",
              "  }\n",
              "</style>\n",
              "\n",
              "  <script>\n",
              "    async function quickchart(key) {\n",
              "      const quickchartButtonEl =\n",
              "        document.querySelector('#' + key + ' button');\n",
              "      quickchartButtonEl.disabled = true;  // To prevent multiple clicks.\n",
              "      quickchartButtonEl.classList.add('colab-df-spinner');\n",
              "      try {\n",
              "        const charts = await google.colab.kernel.invokeFunction(\n",
              "            'suggestCharts', [key], {});\n",
              "      } catch (error) {\n",
              "        console.error('Error during call to suggestCharts:', error);\n",
              "      }\n",
              "      quickchartButtonEl.classList.remove('colab-df-spinner');\n",
              "      quickchartButtonEl.classList.add('colab-df-quickchart-complete');\n",
              "    }\n",
              "    (() => {\n",
              "      let quickchartButtonEl =\n",
              "        document.querySelector('#df-01924f7d-eb4b-46c5-96ac-d2140433dad8 button');\n",
              "      quickchartButtonEl.style.display =\n",
              "        google.colab.kernel.accessAllowed ? 'block' : 'none';\n",
              "    })();\n",
              "  </script>\n",
              "</div>\n",
              "    </div>\n",
              "  </div>\n"
            ],
            "application/vnd.google.colaboratory.intrinsic+json": {
              "type": "dataframe",
              "variable_name": "df_preprocessed",
              "summary": "{\n  \"name\": \"df_preprocessed\",\n  \"rows\": 7855,\n  \"fields\": [\n    {\n      \"column\": \"publishedAt\",\n      \"properties\": {\n        \"dtype\": \"string\",\n        \"num_unique_values\": 7826,\n        \"samples\": [\n          \"2023-09-28T03:15:44Z\",\n          \"2023-09-12T14:27:41Z\",\n          \"2023-09-20T11:50:49Z\"\n        ],\n        \"semantic_type\": \"\",\n        \"description\": \"\"\n      }\n    },\n    {\n      \"column\": \"authorDisplayName\",\n      \"properties\": {\n        \"dtype\": \"string\",\n        \"num_unique_values\": 6350,\n        \"samples\": [\n          \"@user-nd6qc3vb8o\",\n          \"@megawatimega1694\",\n          \"@mumunid4980\"\n        ],\n        \"semantic_type\": \"\",\n        \"description\": \"\"\n      }\n    },\n    {\n      \"column\": \"textDisplay\",\n      \"properties\": {\n        \"dtype\": \"string\",\n        \"num_unique_values\": 7691,\n        \"samples\": [\n          \"Harus di terapkan berapa nilai barang yg di tiktok\",\n          \"Se 7\",\n          \"Setuju kak jangan biarkan pengangguran merajalela di Indonesia karena jajahan pedangang luar\"\n        ],\n        \"semantic_type\": \"\",\n        \"description\": \"\"\n      }\n    },\n    {\n      \"column\": \"likeCount\",\n      \"properties\": {\n        \"dtype\": \"number\",\n        \"std\": 15.53868263853261,\n        \"min\": 0.0,\n        \"max\": 1020.0,\n        \"num_unique_values\": 70,\n        \"samples\": [\n          85.0,\n          0.0,\n          77.0\n        ],\n        \"semantic_type\": \"\",\n        \"description\": \"\"\n      }\n    },\n    {\n      \"column\": \"label\",\n      \"properties\": {\n        \"dtype\": \"category\",\n        \"num_unique_values\": 3,\n        \"samples\": [\n          \"negatif\",\n          \"netral\",\n          \"positif\"\n        ],\n        \"semantic_type\": \"\",\n        \"description\": \"\"\n      }\n    },\n    {\n      \"column\": \"textDisplay_Cleansing\",\n      \"properties\": {\n        \"dtype\": \"string\",\n        \"num_unique_values\": 7664,\n        \"samples\": [\n          \"sikattt\",\n          \"Saya orang banyuwangi sangat setuju kalau tik tok dilarang jualan  Karena sangat merugikan pesagang kecil    karena tik tok jualnya cari untung sedikit     dan itu mematikan umkn dalam negri    Tik tok bisa mengadu domba umkm    \",\n          \"bener   br Tiktok buat mereka yg kaya makin kaya   br Flexing dll br Kasian yg gak bs menyesuaikan sesuai perkembangan zaman apalagi penjual penjual yg tua tua kasian mrka\"\n        ],\n        \"semantic_type\": \"\",\n        \"description\": \"\"\n      }\n    },\n    {\n      \"column\": \"textDisplay_Case_Folding\",\n      \"properties\": {\n        \"dtype\": \"string\",\n        \"num_unique_values\": 7641,\n        \"samples\": [\n          \"apakah barang ditanah abang ga ada barang import \",\n          \"nah ni baru bener    br kasihan pelaku umkm kecil dimana dan semuanya mengeluh sepi    br klu bisa jg online shop ditutup   \",\n          \"gimana ga bangkrut para pedagang kecil   yg punya usaha jual langsung ke costumer   contoh si a punya usaha pembuatan  baju langsg dipasarin lewat tiktok harga 10rbu sedangkn pedagang kecil harus melalui tangan ke tangan  mau ga mau jual 30rbu  otomatis pda cari yg murah   di online pun tinggal santai drmh barang datangharga murah  \"\n        ],\n        \"semantic_type\": \"\",\n        \"description\": \"\"\n      }\n    }\n  ]\n}"
            }
          },
          "metadata": {},
          "execution_count": 8
        }
      ],
      "source": [
        "#@markdown kode ini menerapkan Case Folding untuk membuat semua huruf memiliki format lowercase pada kolom baru\n",
        "review =[]\n",
        "for index, row in df_preprocessed.iterrows():\n",
        "    review.append(cleansing(row[fitur]).lower())\n",
        "\n",
        "df_preprocessed[fitur + \"_Case_Folding\"] = review\n",
        "df_preprocessed.head()\n"
      ]
    },
    {
      "cell_type": "code",
      "source": [
        "text = df_preprocessed[fitur].iloc[110]\n",
        "print(cleansing(text).lower())"
      ],
      "metadata": {
        "colab": {
          "base_uri": "https://localhost:8080/"
        },
        "id": "YtgHyQLB_42j",
        "outputId": "df08fa36-2816-450b-b6f8-b8a7a51c8fd6"
      },
      "execution_count": null,
      "outputs": [
        {
          "output_type": "stream",
          "name": "stdout",
          "text": [
            "banyak yg kaya mendadak semenjak ada tiktok shop sampai quot  ada yg beliin mobil untuk para staf nya\n"
          ]
        }
      ]
    },
    {
      "cell_type": "markdown",
      "source": [
        "### Tokenizing"
      ],
      "metadata": {
        "id": "Fj8A42Hq1b1G"
      }
    },
    {
      "cell_type": "code",
      "source": [
        "#@markdown ini adalah fungsi melakukan tokenizing atau mengubah string menjadi list kata\n",
        "def tokenize(text):\n",
        "  # Memisahkan kata-kata\n",
        "  tokens = text.split()\n",
        "\n",
        "  # Mengembalikan list of tokens\n",
        "  return tokens\n",
        "\n",
        "# Contoh penggunaan\n",
        "text = \"Ini adalah contoh kalimat yang ingin di-tokenize.\"\n",
        "tokens = tokenize(text)\n",
        "\n",
        "print(tokens)\n"
      ],
      "metadata": {
        "colab": {
          "base_uri": "https://localhost:8080/"
        },
        "id": "FRk6jyU81eGs",
        "outputId": "6edf57ba-eb34-4a36-d559-274fab5b3250"
      },
      "execution_count": null,
      "outputs": [
        {
          "output_type": "stream",
          "name": "stdout",
          "text": [
            "['Ini', 'adalah', 'contoh', 'kalimat', 'yang', 'ingin', 'di-tokenize.']\n"
          ]
        }
      ]
    },
    {
      "cell_type": "code",
      "source": [
        "#@markdown kode ini menerapkan fungsi tokenize() pada kolom baru\n",
        "df_preprocessed[fitur + \"_tokenizing\"] = [tokenize(df_preprocessed[fitur + \"_Case_Folding\"][i]) for i in range(len(df_preprocessed))]"
      ],
      "metadata": {
        "id": "jWAaLXB21610"
      },
      "execution_count": null,
      "outputs": []
    },
    {
      "cell_type": "markdown",
      "metadata": {
        "id": "3BNQvzUOZwUa"
      },
      "source": [
        "### Filtering"
      ]
    },
    {
      "cell_type": "code",
      "execution_count": null,
      "metadata": {
        "colab": {
          "base_uri": "https://localhost:8080/"
        },
        "id": "Wy4BUD4RZxDY",
        "outputId": "1a59380e-4109-452e-f651-adcb384818b4"
      },
      "outputs": [
        {
          "output_type": "stream",
          "name": "stdout",
          "text": [
            "Collecting Sastrawi\n",
            "  Downloading Sastrawi-1.0.1-py2.py3-none-any.whl (209 kB)\n",
            "\u001b[2K     \u001b[90m━━━━━━━━━━━━━━━━━━━━━━━━━━━━━━━━━━━━━━━━\u001b[0m \u001b[32m209.7/209.7 kB\u001b[0m \u001b[31m4.1 MB/s\u001b[0m eta \u001b[36m0:00:00\u001b[0m\n",
            "\u001b[?25hInstalling collected packages: Sastrawi\n",
            "Successfully installed Sastrawi-1.0.1\n"
          ]
        }
      ],
      "source": [
        "#@markdown instalasi library Sastrawi\n",
        "!pip install Sastrawi"
      ]
    },
    {
      "cell_type": "code",
      "execution_count": null,
      "metadata": {
        "colab": {
          "base_uri": "https://localhost:8080/"
        },
        "id": "0inRGBCtaAVc",
        "outputId": "ddb48848-c1a7-4ceb-8302-eceb7912913e"
      },
      "outputs": [
        {
          "output_type": "stream",
          "name": "stdout",
          "text": [
            "Ini contoh kalimat ingin di-tokenize.\n"
          ]
        }
      ],
      "source": [
        "#@markdown kode ini adalah inisiasi penghapus stopword dan contoh penggunaannya\n",
        "from Sastrawi.StopWordRemover.StopWordRemoverFactory import StopWordRemoverFactory\n",
        "\n",
        "factory = StopWordRemoverFactory()\n",
        "stopword = factory.create_stop_word_remover()\n",
        "\n",
        "#contoh\n",
        "stop = stopword.remove(text)\n",
        "print(stop)\n"
      ]
    },
    {
      "cell_type": "code",
      "source": [
        "#@markdown ini adalah contoh kode penggunaan stopword remover diatas, dari cleansing hingga penghapusan stopword remover\n",
        "text = df_preprocessed[fitur].iloc[30]\n",
        "txt = cleansing(text)\n",
        "text2 = stopword.remove(txt)\n",
        "print(\"Awal : \",text)\n",
        "print(\"Cleansing : \",txt)\n",
        "print(\"Stopword : \", text2)"
      ],
      "metadata": {
        "colab": {
          "base_uri": "https://localhost:8080/"
        },
        "id": "a9cGqOnzB9pt",
        "outputId": "2ae4c88b-f3b3-41bf-c893-68082b5849e2"
      },
      "execution_count": null,
      "outputs": [
        {
          "output_type": "stream",
          "name": "stdout",
          "text": [
            "Awal :  Dampak positif<br>-ancaman project S (menggusur produk lokal dengan menciptakan produk tiongkok) dapat dihindari<br>-membuka peluang toko online dalam negeri<br>-melindungi produk lokal<br><br><br>Negatif<br>-pendapatan seller dan affiliator tiktokshop menghilang seketika<br>-pedagang barang impor impor terancam<br><br>Kesimpulan : saya mendukung\n",
            "Cleansing :  Dampak positif br  ancaman project S  menggusur produk lokal dengan menciptakan produk tiongkok  dapat dihindari br  membuka peluang toko online dalam negeri br  melindungi produk lokal br  br  br Negatif br  pendapatan seller dan affiliator tiktokshop menghilang seketika br  pedagang barang impor impor terancam br  br Kesimpulan   saya mendukung\n",
            "Stopword :  Dampak positif br  ancaman project S  menggusur produk lokal menciptakan produk tiongkok  dihindari br  membuka peluang toko online negeri br  melindungi produk lokal br  br  br Negatif br  pendapatan seller affiliator tiktokshop menghilang seketika br  pedagang barang impor impor terancam br  br Kesimpulan   mendukung\n"
          ]
        }
      ]
    },
    {
      "cell_type": "code",
      "execution_count": null,
      "metadata": {
        "colab": {
          "base_uri": "https://localhost:8080/",
          "height": 539
        },
        "id": "tjhSHGoscnTc",
        "outputId": "c84bf49c-8f60-4921-dc37-05bfb3a006db"
      },
      "outputs": [
        {
          "output_type": "execute_result",
          "data": {
            "text/plain": [
              "            publishedAt   authorDisplayName  \\\n",
              "0  2023-11-14T03:32:13Z  @yanglucu-lucu4280   \n",
              "1  2023-10-30T08:37:26Z   @umbetchannel2844   \n",
              "2  2023-10-28T07:57:03Z       @kageming8926   \n",
              "3  2023-10-27T08:21:18Z    @bayunugroho9197   \n",
              "4  2023-10-27T02:43:15Z  @agungabdillah4557   \n",
              "\n",
              "                                         textDisplay  likeCount    label  \\\n",
              "0  Partai PAN SI ZUL NIH. BELUM JADI PRESIDEN AJA...        0.0  negatif   \n",
              "1  mohon game-game juga di tutupanakku saja sampa...        0.0  negatif   \n",
              "2  jujur setelah tiktok shop di tutup Uang semaki...        0.0   netral   \n",
              "3  Pemerintah cuma minta urus ijin ya kali nyedot...        0.0  negatif   \n",
              "4  Menutup tiktokshop supaya pasar tanah abang ra...        0.0  negatif   \n",
              "\n",
              "                               textDisplay_Cleansing  \\\n",
              "0  Partai PAN SI ZUL NIH  BELUM JADI PRESIDEN AJA...   \n",
              "1  mohon game game juga di tutupanakku saja sampa...   \n",
              "2  jujur setelah tiktok shop di tutup Uang semaki...   \n",
              "3  Pemerintah cuma minta urus ijin ya kali nyedot...   \n",
              "4  Menutup tiktokshop supaya pasar tanah abang ra...   \n",
              "\n",
              "                            textDisplay_Case_Folding  \\\n",
              "0  partai pan si zul nih  belum jadi presiden aja...   \n",
              "1  mohon game game juga di tutupanakku saja sampa...   \n",
              "2  jujur setelah tiktok shop di tutup uang semaki...   \n",
              "3  pemerintah cuma minta urus ijin ya kali nyedot...   \n",
              "4  menutup tiktokshop supaya pasar tanah abang ra...   \n",
              "\n",
              "                              textDisplay_tokenizing  \\\n",
              "0  [partai, pan, si, zul, nih, belum, jadi, presi...   \n",
              "1  [mohon, game, game, juga, di, tutupanakku, saj...   \n",
              "2  [jujur, setelah, tiktok, shop, di, tutup, uang...   \n",
              "3  [pemerintah, cuma, minta, urus, ijin, ya, kali...   \n",
              "4  [menutup, tiktokshop, supaya, pasar, tanah, ab...   \n",
              "\n",
              "                               textDisplay_Filtering  \n",
              "0  partai pan si zul nih  jadi presiden aja udah ...  \n",
              "1  mohon game game di tutupanakku sampai sakit ga...  \n",
              "2         jujur tiktok shop tutup uang semakin pekat  \n",
              "3  pemerintah cuma minta urus ijin kali nyedot ua...  \n",
              "4  menutup tiktokshop pasar tanah abang ramai sep...  "
            ],
            "text/html": [
              "\n",
              "  <div id=\"df-dae17498-92f8-4eef-ae05-0f9bbd903e06\" class=\"colab-df-container\">\n",
              "    <div>\n",
              "<style scoped>\n",
              "    .dataframe tbody tr th:only-of-type {\n",
              "        vertical-align: middle;\n",
              "    }\n",
              "\n",
              "    .dataframe tbody tr th {\n",
              "        vertical-align: top;\n",
              "    }\n",
              "\n",
              "    .dataframe thead th {\n",
              "        text-align: right;\n",
              "    }\n",
              "</style>\n",
              "<table border=\"1\" class=\"dataframe\">\n",
              "  <thead>\n",
              "    <tr style=\"text-align: right;\">\n",
              "      <th></th>\n",
              "      <th>publishedAt</th>\n",
              "      <th>authorDisplayName</th>\n",
              "      <th>textDisplay</th>\n",
              "      <th>likeCount</th>\n",
              "      <th>label</th>\n",
              "      <th>textDisplay_Cleansing</th>\n",
              "      <th>textDisplay_Case_Folding</th>\n",
              "      <th>textDisplay_tokenizing</th>\n",
              "      <th>textDisplay_Filtering</th>\n",
              "    </tr>\n",
              "  </thead>\n",
              "  <tbody>\n",
              "    <tr>\n",
              "      <th>0</th>\n",
              "      <td>2023-11-14T03:32:13Z</td>\n",
              "      <td>@yanglucu-lucu4280</td>\n",
              "      <td>Partai PAN SI ZUL NIH. BELUM JADI PRESIDEN AJA...</td>\n",
              "      <td>0.0</td>\n",
              "      <td>negatif</td>\n",
              "      <td>Partai PAN SI ZUL NIH  BELUM JADI PRESIDEN AJA...</td>\n",
              "      <td>partai pan si zul nih  belum jadi presiden aja...</td>\n",
              "      <td>[partai, pan, si, zul, nih, belum, jadi, presi...</td>\n",
              "      <td>partai pan si zul nih  jadi presiden aja udah ...</td>\n",
              "    </tr>\n",
              "    <tr>\n",
              "      <th>1</th>\n",
              "      <td>2023-10-30T08:37:26Z</td>\n",
              "      <td>@umbetchannel2844</td>\n",
              "      <td>mohon game-game juga di tutupanakku saja sampa...</td>\n",
              "      <td>0.0</td>\n",
              "      <td>negatif</td>\n",
              "      <td>mohon game game juga di tutupanakku saja sampa...</td>\n",
              "      <td>mohon game game juga di tutupanakku saja sampa...</td>\n",
              "      <td>[mohon, game, game, juga, di, tutupanakku, saj...</td>\n",
              "      <td>mohon game game di tutupanakku sampai sakit ga...</td>\n",
              "    </tr>\n",
              "    <tr>\n",
              "      <th>2</th>\n",
              "      <td>2023-10-28T07:57:03Z</td>\n",
              "      <td>@kageming8926</td>\n",
              "      <td>jujur setelah tiktok shop di tutup Uang semaki...</td>\n",
              "      <td>0.0</td>\n",
              "      <td>netral</td>\n",
              "      <td>jujur setelah tiktok shop di tutup Uang semaki...</td>\n",
              "      <td>jujur setelah tiktok shop di tutup uang semaki...</td>\n",
              "      <td>[jujur, setelah, tiktok, shop, di, tutup, uang...</td>\n",
              "      <td>jujur tiktok shop tutup uang semakin pekat</td>\n",
              "    </tr>\n",
              "    <tr>\n",
              "      <th>3</th>\n",
              "      <td>2023-10-27T08:21:18Z</td>\n",
              "      <td>@bayunugroho9197</td>\n",
              "      <td>Pemerintah cuma minta urus ijin ya kali nyedot...</td>\n",
              "      <td>0.0</td>\n",
              "      <td>negatif</td>\n",
              "      <td>Pemerintah cuma minta urus ijin ya kali nyedot...</td>\n",
              "      <td>pemerintah cuma minta urus ijin ya kali nyedot...</td>\n",
              "      <td>[pemerintah, cuma, minta, urus, ijin, ya, kali...</td>\n",
              "      <td>pemerintah cuma minta urus ijin kali nyedot ua...</td>\n",
              "    </tr>\n",
              "    <tr>\n",
              "      <th>4</th>\n",
              "      <td>2023-10-27T02:43:15Z</td>\n",
              "      <td>@agungabdillah4557</td>\n",
              "      <td>Menutup tiktokshop supaya pasar tanah abang ra...</td>\n",
              "      <td>0.0</td>\n",
              "      <td>negatif</td>\n",
              "      <td>Menutup tiktokshop supaya pasar tanah abang ra...</td>\n",
              "      <td>menutup tiktokshop supaya pasar tanah abang ra...</td>\n",
              "      <td>[menutup, tiktokshop, supaya, pasar, tanah, ab...</td>\n",
              "      <td>menutup tiktokshop pasar tanah abang ramai sep...</td>\n",
              "    </tr>\n",
              "  </tbody>\n",
              "</table>\n",
              "</div>\n",
              "    <div class=\"colab-df-buttons\">\n",
              "\n",
              "  <div class=\"colab-df-container\">\n",
              "    <button class=\"colab-df-convert\" onclick=\"convertToInteractive('df-dae17498-92f8-4eef-ae05-0f9bbd903e06')\"\n",
              "            title=\"Convert this dataframe to an interactive table.\"\n",
              "            style=\"display:none;\">\n",
              "\n",
              "  <svg xmlns=\"http://www.w3.org/2000/svg\" height=\"24px\" viewBox=\"0 -960 960 960\">\n",
              "    <path d=\"M120-120v-720h720v720H120Zm60-500h600v-160H180v160Zm220 220h160v-160H400v160Zm0 220h160v-160H400v160ZM180-400h160v-160H180v160Zm440 0h160v-160H620v160ZM180-180h160v-160H180v160Zm440 0h160v-160H620v160Z\"/>\n",
              "  </svg>\n",
              "    </button>\n",
              "\n",
              "  <style>\n",
              "    .colab-df-container {\n",
              "      display:flex;\n",
              "      gap: 12px;\n",
              "    }\n",
              "\n",
              "    .colab-df-convert {\n",
              "      background-color: #E8F0FE;\n",
              "      border: none;\n",
              "      border-radius: 50%;\n",
              "      cursor: pointer;\n",
              "      display: none;\n",
              "      fill: #1967D2;\n",
              "      height: 32px;\n",
              "      padding: 0 0 0 0;\n",
              "      width: 32px;\n",
              "    }\n",
              "\n",
              "    .colab-df-convert:hover {\n",
              "      background-color: #E2EBFA;\n",
              "      box-shadow: 0px 1px 2px rgba(60, 64, 67, 0.3), 0px 1px 3px 1px rgba(60, 64, 67, 0.15);\n",
              "      fill: #174EA6;\n",
              "    }\n",
              "\n",
              "    .colab-df-buttons div {\n",
              "      margin-bottom: 4px;\n",
              "    }\n",
              "\n",
              "    [theme=dark] .colab-df-convert {\n",
              "      background-color: #3B4455;\n",
              "      fill: #D2E3FC;\n",
              "    }\n",
              "\n",
              "    [theme=dark] .colab-df-convert:hover {\n",
              "      background-color: #434B5C;\n",
              "      box-shadow: 0px 1px 3px 1px rgba(0, 0, 0, 0.15);\n",
              "      filter: drop-shadow(0px 1px 2px rgba(0, 0, 0, 0.3));\n",
              "      fill: #FFFFFF;\n",
              "    }\n",
              "  </style>\n",
              "\n",
              "    <script>\n",
              "      const buttonEl =\n",
              "        document.querySelector('#df-dae17498-92f8-4eef-ae05-0f9bbd903e06 button.colab-df-convert');\n",
              "      buttonEl.style.display =\n",
              "        google.colab.kernel.accessAllowed ? 'block' : 'none';\n",
              "\n",
              "      async function convertToInteractive(key) {\n",
              "        const element = document.querySelector('#df-dae17498-92f8-4eef-ae05-0f9bbd903e06');\n",
              "        const dataTable =\n",
              "          await google.colab.kernel.invokeFunction('convertToInteractive',\n",
              "                                                    [key], {});\n",
              "        if (!dataTable) return;\n",
              "\n",
              "        const docLinkHtml = 'Like what you see? Visit the ' +\n",
              "          '<a target=\"_blank\" href=https://colab.research.google.com/notebooks/data_table.ipynb>data table notebook</a>'\n",
              "          + ' to learn more about interactive tables.';\n",
              "        element.innerHTML = '';\n",
              "        dataTable['output_type'] = 'display_data';\n",
              "        await google.colab.output.renderOutput(dataTable, element);\n",
              "        const docLink = document.createElement('div');\n",
              "        docLink.innerHTML = docLinkHtml;\n",
              "        element.appendChild(docLink);\n",
              "      }\n",
              "    </script>\n",
              "  </div>\n",
              "\n",
              "\n",
              "<div id=\"df-3e5c062b-12bf-4039-bed6-20e11b3e19d7\">\n",
              "  <button class=\"colab-df-quickchart\" onclick=\"quickchart('df-3e5c062b-12bf-4039-bed6-20e11b3e19d7')\"\n",
              "            title=\"Suggest charts\"\n",
              "            style=\"display:none;\">\n",
              "\n",
              "<svg xmlns=\"http://www.w3.org/2000/svg\" height=\"24px\"viewBox=\"0 0 24 24\"\n",
              "     width=\"24px\">\n",
              "    <g>\n",
              "        <path d=\"M19 3H5c-1.1 0-2 .9-2 2v14c0 1.1.9 2 2 2h14c1.1 0 2-.9 2-2V5c0-1.1-.9-2-2-2zM9 17H7v-7h2v7zm4 0h-2V7h2v10zm4 0h-2v-4h2v4z\"/>\n",
              "    </g>\n",
              "</svg>\n",
              "  </button>\n",
              "\n",
              "<style>\n",
              "  .colab-df-quickchart {\n",
              "      --bg-color: #E8F0FE;\n",
              "      --fill-color: #1967D2;\n",
              "      --hover-bg-color: #E2EBFA;\n",
              "      --hover-fill-color: #174EA6;\n",
              "      --disabled-fill-color: #AAA;\n",
              "      --disabled-bg-color: #DDD;\n",
              "  }\n",
              "\n",
              "  [theme=dark] .colab-df-quickchart {\n",
              "      --bg-color: #3B4455;\n",
              "      --fill-color: #D2E3FC;\n",
              "      --hover-bg-color: #434B5C;\n",
              "      --hover-fill-color: #FFFFFF;\n",
              "      --disabled-bg-color: #3B4455;\n",
              "      --disabled-fill-color: #666;\n",
              "  }\n",
              "\n",
              "  .colab-df-quickchart {\n",
              "    background-color: var(--bg-color);\n",
              "    border: none;\n",
              "    border-radius: 50%;\n",
              "    cursor: pointer;\n",
              "    display: none;\n",
              "    fill: var(--fill-color);\n",
              "    height: 32px;\n",
              "    padding: 0;\n",
              "    width: 32px;\n",
              "  }\n",
              "\n",
              "  .colab-df-quickchart:hover {\n",
              "    background-color: var(--hover-bg-color);\n",
              "    box-shadow: 0 1px 2px rgba(60, 64, 67, 0.3), 0 1px 3px 1px rgba(60, 64, 67, 0.15);\n",
              "    fill: var(--button-hover-fill-color);\n",
              "  }\n",
              "\n",
              "  .colab-df-quickchart-complete:disabled,\n",
              "  .colab-df-quickchart-complete:disabled:hover {\n",
              "    background-color: var(--disabled-bg-color);\n",
              "    fill: var(--disabled-fill-color);\n",
              "    box-shadow: none;\n",
              "  }\n",
              "\n",
              "  .colab-df-spinner {\n",
              "    border: 2px solid var(--fill-color);\n",
              "    border-color: transparent;\n",
              "    border-bottom-color: var(--fill-color);\n",
              "    animation:\n",
              "      spin 1s steps(1) infinite;\n",
              "  }\n",
              "\n",
              "  @keyframes spin {\n",
              "    0% {\n",
              "      border-color: transparent;\n",
              "      border-bottom-color: var(--fill-color);\n",
              "      border-left-color: var(--fill-color);\n",
              "    }\n",
              "    20% {\n",
              "      border-color: transparent;\n",
              "      border-left-color: var(--fill-color);\n",
              "      border-top-color: var(--fill-color);\n",
              "    }\n",
              "    30% {\n",
              "      border-color: transparent;\n",
              "      border-left-color: var(--fill-color);\n",
              "      border-top-color: var(--fill-color);\n",
              "      border-right-color: var(--fill-color);\n",
              "    }\n",
              "    40% {\n",
              "      border-color: transparent;\n",
              "      border-right-color: var(--fill-color);\n",
              "      border-top-color: var(--fill-color);\n",
              "    }\n",
              "    60% {\n",
              "      border-color: transparent;\n",
              "      border-right-color: var(--fill-color);\n",
              "    }\n",
              "    80% {\n",
              "      border-color: transparent;\n",
              "      border-right-color: var(--fill-color);\n",
              "      border-bottom-color: var(--fill-color);\n",
              "    }\n",
              "    90% {\n",
              "      border-color: transparent;\n",
              "      border-bottom-color: var(--fill-color);\n",
              "    }\n",
              "  }\n",
              "</style>\n",
              "\n",
              "  <script>\n",
              "    async function quickchart(key) {\n",
              "      const quickchartButtonEl =\n",
              "        document.querySelector('#' + key + ' button');\n",
              "      quickchartButtonEl.disabled = true;  // To prevent multiple clicks.\n",
              "      quickchartButtonEl.classList.add('colab-df-spinner');\n",
              "      try {\n",
              "        const charts = await google.colab.kernel.invokeFunction(\n",
              "            'suggestCharts', [key], {});\n",
              "      } catch (error) {\n",
              "        console.error('Error during call to suggestCharts:', error);\n",
              "      }\n",
              "      quickchartButtonEl.classList.remove('colab-df-spinner');\n",
              "      quickchartButtonEl.classList.add('colab-df-quickchart-complete');\n",
              "    }\n",
              "    (() => {\n",
              "      let quickchartButtonEl =\n",
              "        document.querySelector('#df-3e5c062b-12bf-4039-bed6-20e11b3e19d7 button');\n",
              "      quickchartButtonEl.style.display =\n",
              "        google.colab.kernel.accessAllowed ? 'block' : 'none';\n",
              "    })();\n",
              "  </script>\n",
              "</div>\n",
              "    </div>\n",
              "  </div>\n"
            ],
            "application/vnd.google.colaboratory.intrinsic+json": {
              "type": "dataframe",
              "variable_name": "df_preprocessed",
              "summary": "{\n  \"name\": \"df_preprocessed\",\n  \"rows\": 7855,\n  \"fields\": [\n    {\n      \"column\": \"publishedAt\",\n      \"properties\": {\n        \"dtype\": \"string\",\n        \"num_unique_values\": 7826,\n        \"samples\": [\n          \"2023-09-28T03:15:44Z\",\n          \"2023-09-12T14:27:41Z\",\n          \"2023-09-20T11:50:49Z\"\n        ],\n        \"semantic_type\": \"\",\n        \"description\": \"\"\n      }\n    },\n    {\n      \"column\": \"authorDisplayName\",\n      \"properties\": {\n        \"dtype\": \"string\",\n        \"num_unique_values\": 6350,\n        \"samples\": [\n          \"@user-nd6qc3vb8o\",\n          \"@megawatimega1694\",\n          \"@mumunid4980\"\n        ],\n        \"semantic_type\": \"\",\n        \"description\": \"\"\n      }\n    },\n    {\n      \"column\": \"textDisplay\",\n      \"properties\": {\n        \"dtype\": \"string\",\n        \"num_unique_values\": 7691,\n        \"samples\": [\n          \"Harus di terapkan berapa nilai barang yg di tiktok\",\n          \"Se 7\",\n          \"Setuju kak jangan biarkan pengangguran merajalela di Indonesia karena jajahan pedangang luar\"\n        ],\n        \"semantic_type\": \"\",\n        \"description\": \"\"\n      }\n    },\n    {\n      \"column\": \"likeCount\",\n      \"properties\": {\n        \"dtype\": \"number\",\n        \"std\": 15.53868263853261,\n        \"min\": 0.0,\n        \"max\": 1020.0,\n        \"num_unique_values\": 70,\n        \"samples\": [\n          85.0,\n          0.0,\n          77.0\n        ],\n        \"semantic_type\": \"\",\n        \"description\": \"\"\n      }\n    },\n    {\n      \"column\": \"label\",\n      \"properties\": {\n        \"dtype\": \"category\",\n        \"num_unique_values\": 3,\n        \"samples\": [\n          \"negatif\",\n          \"netral\",\n          \"positif\"\n        ],\n        \"semantic_type\": \"\",\n        \"description\": \"\"\n      }\n    },\n    {\n      \"column\": \"textDisplay_Cleansing\",\n      \"properties\": {\n        \"dtype\": \"string\",\n        \"num_unique_values\": 7664,\n        \"samples\": [\n          \"sikattt\",\n          \"Saya orang banyuwangi sangat setuju kalau tik tok dilarang jualan  Karena sangat merugikan pesagang kecil    karena tik tok jualnya cari untung sedikit     dan itu mematikan umkn dalam negri    Tik tok bisa mengadu domba umkm    \",\n          \"bener   br Tiktok buat mereka yg kaya makin kaya   br Flexing dll br Kasian yg gak bs menyesuaikan sesuai perkembangan zaman apalagi penjual penjual yg tua tua kasian mrka\"\n        ],\n        \"semantic_type\": \"\",\n        \"description\": \"\"\n      }\n    },\n    {\n      \"column\": \"textDisplay_Case_Folding\",\n      \"properties\": {\n        \"dtype\": \"string\",\n        \"num_unique_values\": 7641,\n        \"samples\": [\n          \"apakah barang ditanah abang ga ada barang import \",\n          \"nah ni baru bener    br kasihan pelaku umkm kecil dimana dan semuanya mengeluh sepi    br klu bisa jg online shop ditutup   \",\n          \"gimana ga bangkrut para pedagang kecil   yg punya usaha jual langsung ke costumer   contoh si a punya usaha pembuatan  baju langsg dipasarin lewat tiktok harga 10rbu sedangkn pedagang kecil harus melalui tangan ke tangan  mau ga mau jual 30rbu  otomatis pda cari yg murah   di online pun tinggal santai drmh barang datangharga murah  \"\n        ],\n        \"semantic_type\": \"\",\n        \"description\": \"\"\n      }\n    },\n    {\n      \"column\": \"textDisplay_tokenizing\",\n      \"properties\": {\n        \"dtype\": \"object\",\n        \"semantic_type\": \"\",\n        \"description\": \"\"\n      }\n    },\n    {\n      \"column\": \"textDisplay_Filtering\",\n      \"properties\": {\n        \"dtype\": \"string\",\n        \"num_unique_values\": 7628,\n        \"samples\": [\n          \"barang ditanah abang ga barang import \",\n          \"beli online tpi beli product local skrng banyak produk lokal berkualitas\",\n          \"sekalian dong e commerce lainnya\"\n        ],\n        \"semantic_type\": \"\",\n        \"description\": \"\"\n      }\n    }\n  ]\n}"
            }
          },
          "metadata": {},
          "execution_count": 15
        }
      ],
      "source": [
        "#@markdown ini adalah kode untuk menghapus stopword\n",
        "review = []\n",
        "for index, row in df_preprocessed.iterrows():\n",
        "     review.append(stopword.remove(row[fitur + \"_Case_Folding\"]))\n",
        "\n",
        "df_preprocessed[fitur + \"_Filtering\"] = review\n",
        "df_preprocessed.head()"
      ]
    },
    {
      "cell_type": "code",
      "execution_count": null,
      "metadata": {
        "colab": {
          "base_uri": "https://localhost:8080/"
        },
        "id": "Xcke2Yfsfgz4",
        "outputId": "385530e0-9eb6-4728-85f3-07da2b3b1107"
      },
      "outputs": [
        {
          "output_type": "stream",
          "name": "stdout",
          "text": [
            "tutup tiktokshop supaya pasar tanah abang ramai seperti adalah buah konyol yang sia sia biasa orang sudah ubah semua jual mau ga mau harus ikut\n"
          ]
        }
      ],
      "source": [
        "#@markdown ini adalah kode untuk melakukan stemming atau mengubah sebuah kata menjadi kata dasar\n",
        "from Sastrawi.Stemmer.StemmerFactory import StemmerFactory\n",
        "factory = StemmerFactory()\n",
        "Stemmer = factory.create_stemmer()\n",
        "#contoh\n",
        "kalimat = 'Menutup tiktokshop supaya pasar tanah abang ramai sepertinya adalah sebuah kekonyolan yang sia sia, kebiasaan orang sudah berubah, semua penjual mau ga mau harus mengikuti'\n",
        "katadasar = Stemmer.stem(kalimat)\n",
        "print(katadasar)"
      ]
    },
    {
      "cell_type": "code",
      "source": [
        "#@markdown contoh kode melakukan stemming atau mengubah sebuah kata menjadi kata dasar\n",
        "text = df_preprocessed[fitur].iloc[28]\n",
        "txt = cleansing(text).lower()\n",
        "text2 = stopword.remove(txt)\n",
        "text3 = Stemmer.stem(text2)\n",
        "print(\"Awal : \",text)\n",
        "print(\"Cleansing : \",txt)\n",
        "print(\"Stopword : \", text2)\n",
        "print(\"Stemming : \", text3)"
      ],
      "metadata": {
        "colab": {
          "base_uri": "https://localhost:8080/"
        },
        "id": "4MSradQKDaGj",
        "outputId": "ff78e791-3921-4075-9928-f5a5d15a7491"
      },
      "execution_count": null,
      "outputs": [
        {
          "output_type": "stream",
          "name": "stdout",
          "text": [
            "Awal :  Tiktok shop kejahatan ekonomi\n",
            "Cleansing :  tiktok shop kejahatan ekonomi\n",
            "Stopword :  tiktok shop kejahatan ekonomi\n",
            "Stemming :  tiktok shop jahat ekonomi\n"
          ]
        }
      ]
    },
    {
      "cell_type": "code",
      "execution_count": null,
      "metadata": {
        "colab": {
          "base_uri": "https://localhost:8080/",
          "height": 539
        },
        "id": "GchAoTFog6R-",
        "outputId": "74c4d17d-8ab6-42f7-82fb-a8868cbbbee6"
      },
      "outputs": [
        {
          "output_type": "execute_result",
          "data": {
            "text/plain": [
              "            publishedAt   authorDisplayName  \\\n",
              "0  2023-11-14T03:32:13Z  @yanglucu-lucu4280   \n",
              "1  2023-10-30T08:37:26Z   @umbetchannel2844   \n",
              "2  2023-10-28T07:57:03Z       @kageming8926   \n",
              "3  2023-10-27T08:21:18Z    @bayunugroho9197   \n",
              "4  2023-10-27T02:43:15Z  @agungabdillah4557   \n",
              "\n",
              "                                         textDisplay  likeCount    label  \\\n",
              "0  Partai PAN SI ZUL NIH. BELUM JADI PRESIDEN AJA...        0.0  negatif   \n",
              "1  mohon game-game juga di tutupanakku saja sampa...        0.0  negatif   \n",
              "2  jujur setelah tiktok shop di tutup Uang semaki...        0.0   netral   \n",
              "3  Pemerintah cuma minta urus ijin ya kali nyedot...        0.0  negatif   \n",
              "4  Menutup tiktokshop supaya pasar tanah abang ra...        0.0  negatif   \n",
              "\n",
              "                               textDisplay_Cleansing  \\\n",
              "0  Partai PAN SI ZUL NIH  BELUM JADI PRESIDEN AJA...   \n",
              "1  mohon game game juga di tutupanakku saja sampa...   \n",
              "2  jujur setelah tiktok shop di tutup Uang semaki...   \n",
              "3  Pemerintah cuma minta urus ijin ya kali nyedot...   \n",
              "4  Menutup tiktokshop supaya pasar tanah abang ra...   \n",
              "\n",
              "                            textDisplay_Case_Folding  \\\n",
              "0  partai pan si zul nih  belum jadi presiden aja...   \n",
              "1  mohon game game juga di tutupanakku saja sampa...   \n",
              "2  jujur setelah tiktok shop di tutup uang semaki...   \n",
              "3  pemerintah cuma minta urus ijin ya kali nyedot...   \n",
              "4  menutup tiktokshop supaya pasar tanah abang ra...   \n",
              "\n",
              "                              textDisplay_tokenizing  \\\n",
              "0  [partai, pan, si, zul, nih, belum, jadi, presi...   \n",
              "1  [mohon, game, game, juga, di, tutupanakku, saj...   \n",
              "2  [jujur, setelah, tiktok, shop, di, tutup, uang...   \n",
              "3  [pemerintah, cuma, minta, urus, ijin, ya, kali...   \n",
              "4  [menutup, tiktokshop, supaya, pasar, tanah, ab...   \n",
              "\n",
              "                               textDisplay_Filtering  \n",
              "0  partai pan si zul nih jadi presiden aja udah c...  \n",
              "1  mohon game game di tutupanakku sampai sakit ga...  \n",
              "2           jujur tiktok shop tutup uang makin pekat  \n",
              "3  perintah cuma minta urus ijin kali nyedot uang...  \n",
              "4  tutup tiktokshop pasar tanah abang ramai seper...  "
            ],
            "text/html": [
              "\n",
              "  <div id=\"df-6d94fec4-47b7-417d-8bf9-17a7a312452e\" class=\"colab-df-container\">\n",
              "    <div>\n",
              "<style scoped>\n",
              "    .dataframe tbody tr th:only-of-type {\n",
              "        vertical-align: middle;\n",
              "    }\n",
              "\n",
              "    .dataframe tbody tr th {\n",
              "        vertical-align: top;\n",
              "    }\n",
              "\n",
              "    .dataframe thead th {\n",
              "        text-align: right;\n",
              "    }\n",
              "</style>\n",
              "<table border=\"1\" class=\"dataframe\">\n",
              "  <thead>\n",
              "    <tr style=\"text-align: right;\">\n",
              "      <th></th>\n",
              "      <th>publishedAt</th>\n",
              "      <th>authorDisplayName</th>\n",
              "      <th>textDisplay</th>\n",
              "      <th>likeCount</th>\n",
              "      <th>label</th>\n",
              "      <th>textDisplay_Cleansing</th>\n",
              "      <th>textDisplay_Case_Folding</th>\n",
              "      <th>textDisplay_tokenizing</th>\n",
              "      <th>textDisplay_Filtering</th>\n",
              "    </tr>\n",
              "  </thead>\n",
              "  <tbody>\n",
              "    <tr>\n",
              "      <th>0</th>\n",
              "      <td>2023-11-14T03:32:13Z</td>\n",
              "      <td>@yanglucu-lucu4280</td>\n",
              "      <td>Partai PAN SI ZUL NIH. BELUM JADI PRESIDEN AJA...</td>\n",
              "      <td>0.0</td>\n",
              "      <td>negatif</td>\n",
              "      <td>Partai PAN SI ZUL NIH  BELUM JADI PRESIDEN AJA...</td>\n",
              "      <td>partai pan si zul nih  belum jadi presiden aja...</td>\n",
              "      <td>[partai, pan, si, zul, nih, belum, jadi, presi...</td>\n",
              "      <td>partai pan si zul nih jadi presiden aja udah c...</td>\n",
              "    </tr>\n",
              "    <tr>\n",
              "      <th>1</th>\n",
              "      <td>2023-10-30T08:37:26Z</td>\n",
              "      <td>@umbetchannel2844</td>\n",
              "      <td>mohon game-game juga di tutupanakku saja sampa...</td>\n",
              "      <td>0.0</td>\n",
              "      <td>negatif</td>\n",
              "      <td>mohon game game juga di tutupanakku saja sampa...</td>\n",
              "      <td>mohon game game juga di tutupanakku saja sampa...</td>\n",
              "      <td>[mohon, game, game, juga, di, tutupanakku, saj...</td>\n",
              "      <td>mohon game game di tutupanakku sampai sakit ga...</td>\n",
              "    </tr>\n",
              "    <tr>\n",
              "      <th>2</th>\n",
              "      <td>2023-10-28T07:57:03Z</td>\n",
              "      <td>@kageming8926</td>\n",
              "      <td>jujur setelah tiktok shop di tutup Uang semaki...</td>\n",
              "      <td>0.0</td>\n",
              "      <td>netral</td>\n",
              "      <td>jujur setelah tiktok shop di tutup Uang semaki...</td>\n",
              "      <td>jujur setelah tiktok shop di tutup uang semaki...</td>\n",
              "      <td>[jujur, setelah, tiktok, shop, di, tutup, uang...</td>\n",
              "      <td>jujur tiktok shop tutup uang makin pekat</td>\n",
              "    </tr>\n",
              "    <tr>\n",
              "      <th>3</th>\n",
              "      <td>2023-10-27T08:21:18Z</td>\n",
              "      <td>@bayunugroho9197</td>\n",
              "      <td>Pemerintah cuma minta urus ijin ya kali nyedot...</td>\n",
              "      <td>0.0</td>\n",
              "      <td>negatif</td>\n",
              "      <td>Pemerintah cuma minta urus ijin ya kali nyedot...</td>\n",
              "      <td>pemerintah cuma minta urus ijin ya kali nyedot...</td>\n",
              "      <td>[pemerintah, cuma, minta, urus, ijin, ya, kali...</td>\n",
              "      <td>perintah cuma minta urus ijin kali nyedot uang...</td>\n",
              "    </tr>\n",
              "    <tr>\n",
              "      <th>4</th>\n",
              "      <td>2023-10-27T02:43:15Z</td>\n",
              "      <td>@agungabdillah4557</td>\n",
              "      <td>Menutup tiktokshop supaya pasar tanah abang ra...</td>\n",
              "      <td>0.0</td>\n",
              "      <td>negatif</td>\n",
              "      <td>Menutup tiktokshop supaya pasar tanah abang ra...</td>\n",
              "      <td>menutup tiktokshop supaya pasar tanah abang ra...</td>\n",
              "      <td>[menutup, tiktokshop, supaya, pasar, tanah, ab...</td>\n",
              "      <td>tutup tiktokshop pasar tanah abang ramai seper...</td>\n",
              "    </tr>\n",
              "  </tbody>\n",
              "</table>\n",
              "</div>\n",
              "    <div class=\"colab-df-buttons\">\n",
              "\n",
              "  <div class=\"colab-df-container\">\n",
              "    <button class=\"colab-df-convert\" onclick=\"convertToInteractive('df-6d94fec4-47b7-417d-8bf9-17a7a312452e')\"\n",
              "            title=\"Convert this dataframe to an interactive table.\"\n",
              "            style=\"display:none;\">\n",
              "\n",
              "  <svg xmlns=\"http://www.w3.org/2000/svg\" height=\"24px\" viewBox=\"0 -960 960 960\">\n",
              "    <path d=\"M120-120v-720h720v720H120Zm60-500h600v-160H180v160Zm220 220h160v-160H400v160Zm0 220h160v-160H400v160ZM180-400h160v-160H180v160Zm440 0h160v-160H620v160ZM180-180h160v-160H180v160Zm440 0h160v-160H620v160Z\"/>\n",
              "  </svg>\n",
              "    </button>\n",
              "\n",
              "  <style>\n",
              "    .colab-df-container {\n",
              "      display:flex;\n",
              "      gap: 12px;\n",
              "    }\n",
              "\n",
              "    .colab-df-convert {\n",
              "      background-color: #E8F0FE;\n",
              "      border: none;\n",
              "      border-radius: 50%;\n",
              "      cursor: pointer;\n",
              "      display: none;\n",
              "      fill: #1967D2;\n",
              "      height: 32px;\n",
              "      padding: 0 0 0 0;\n",
              "      width: 32px;\n",
              "    }\n",
              "\n",
              "    .colab-df-convert:hover {\n",
              "      background-color: #E2EBFA;\n",
              "      box-shadow: 0px 1px 2px rgba(60, 64, 67, 0.3), 0px 1px 3px 1px rgba(60, 64, 67, 0.15);\n",
              "      fill: #174EA6;\n",
              "    }\n",
              "\n",
              "    .colab-df-buttons div {\n",
              "      margin-bottom: 4px;\n",
              "    }\n",
              "\n",
              "    [theme=dark] .colab-df-convert {\n",
              "      background-color: #3B4455;\n",
              "      fill: #D2E3FC;\n",
              "    }\n",
              "\n",
              "    [theme=dark] .colab-df-convert:hover {\n",
              "      background-color: #434B5C;\n",
              "      box-shadow: 0px 1px 3px 1px rgba(0, 0, 0, 0.15);\n",
              "      filter: drop-shadow(0px 1px 2px rgba(0, 0, 0, 0.3));\n",
              "      fill: #FFFFFF;\n",
              "    }\n",
              "  </style>\n",
              "\n",
              "    <script>\n",
              "      const buttonEl =\n",
              "        document.querySelector('#df-6d94fec4-47b7-417d-8bf9-17a7a312452e button.colab-df-convert');\n",
              "      buttonEl.style.display =\n",
              "        google.colab.kernel.accessAllowed ? 'block' : 'none';\n",
              "\n",
              "      async function convertToInteractive(key) {\n",
              "        const element = document.querySelector('#df-6d94fec4-47b7-417d-8bf9-17a7a312452e');\n",
              "        const dataTable =\n",
              "          await google.colab.kernel.invokeFunction('convertToInteractive',\n",
              "                                                    [key], {});\n",
              "        if (!dataTable) return;\n",
              "\n",
              "        const docLinkHtml = 'Like what you see? Visit the ' +\n",
              "          '<a target=\"_blank\" href=https://colab.research.google.com/notebooks/data_table.ipynb>data table notebook</a>'\n",
              "          + ' to learn more about interactive tables.';\n",
              "        element.innerHTML = '';\n",
              "        dataTable['output_type'] = 'display_data';\n",
              "        await google.colab.output.renderOutput(dataTable, element);\n",
              "        const docLink = document.createElement('div');\n",
              "        docLink.innerHTML = docLinkHtml;\n",
              "        element.appendChild(docLink);\n",
              "      }\n",
              "    </script>\n",
              "  </div>\n",
              "\n",
              "\n",
              "<div id=\"df-b97bce20-afe0-4e36-8612-c089a291d9f7\">\n",
              "  <button class=\"colab-df-quickchart\" onclick=\"quickchart('df-b97bce20-afe0-4e36-8612-c089a291d9f7')\"\n",
              "            title=\"Suggest charts\"\n",
              "            style=\"display:none;\">\n",
              "\n",
              "<svg xmlns=\"http://www.w3.org/2000/svg\" height=\"24px\"viewBox=\"0 0 24 24\"\n",
              "     width=\"24px\">\n",
              "    <g>\n",
              "        <path d=\"M19 3H5c-1.1 0-2 .9-2 2v14c0 1.1.9 2 2 2h14c1.1 0 2-.9 2-2V5c0-1.1-.9-2-2-2zM9 17H7v-7h2v7zm4 0h-2V7h2v10zm4 0h-2v-4h2v4z\"/>\n",
              "    </g>\n",
              "</svg>\n",
              "  </button>\n",
              "\n",
              "<style>\n",
              "  .colab-df-quickchart {\n",
              "      --bg-color: #E8F0FE;\n",
              "      --fill-color: #1967D2;\n",
              "      --hover-bg-color: #E2EBFA;\n",
              "      --hover-fill-color: #174EA6;\n",
              "      --disabled-fill-color: #AAA;\n",
              "      --disabled-bg-color: #DDD;\n",
              "  }\n",
              "\n",
              "  [theme=dark] .colab-df-quickchart {\n",
              "      --bg-color: #3B4455;\n",
              "      --fill-color: #D2E3FC;\n",
              "      --hover-bg-color: #434B5C;\n",
              "      --hover-fill-color: #FFFFFF;\n",
              "      --disabled-bg-color: #3B4455;\n",
              "      --disabled-fill-color: #666;\n",
              "  }\n",
              "\n",
              "  .colab-df-quickchart {\n",
              "    background-color: var(--bg-color);\n",
              "    border: none;\n",
              "    border-radius: 50%;\n",
              "    cursor: pointer;\n",
              "    display: none;\n",
              "    fill: var(--fill-color);\n",
              "    height: 32px;\n",
              "    padding: 0;\n",
              "    width: 32px;\n",
              "  }\n",
              "\n",
              "  .colab-df-quickchart:hover {\n",
              "    background-color: var(--hover-bg-color);\n",
              "    box-shadow: 0 1px 2px rgba(60, 64, 67, 0.3), 0 1px 3px 1px rgba(60, 64, 67, 0.15);\n",
              "    fill: var(--button-hover-fill-color);\n",
              "  }\n",
              "\n",
              "  .colab-df-quickchart-complete:disabled,\n",
              "  .colab-df-quickchart-complete:disabled:hover {\n",
              "    background-color: var(--disabled-bg-color);\n",
              "    fill: var(--disabled-fill-color);\n",
              "    box-shadow: none;\n",
              "  }\n",
              "\n",
              "  .colab-df-spinner {\n",
              "    border: 2px solid var(--fill-color);\n",
              "    border-color: transparent;\n",
              "    border-bottom-color: var(--fill-color);\n",
              "    animation:\n",
              "      spin 1s steps(1) infinite;\n",
              "  }\n",
              "\n",
              "  @keyframes spin {\n",
              "    0% {\n",
              "      border-color: transparent;\n",
              "      border-bottom-color: var(--fill-color);\n",
              "      border-left-color: var(--fill-color);\n",
              "    }\n",
              "    20% {\n",
              "      border-color: transparent;\n",
              "      border-left-color: var(--fill-color);\n",
              "      border-top-color: var(--fill-color);\n",
              "    }\n",
              "    30% {\n",
              "      border-color: transparent;\n",
              "      border-left-color: var(--fill-color);\n",
              "      border-top-color: var(--fill-color);\n",
              "      border-right-color: var(--fill-color);\n",
              "    }\n",
              "    40% {\n",
              "      border-color: transparent;\n",
              "      border-right-color: var(--fill-color);\n",
              "      border-top-color: var(--fill-color);\n",
              "    }\n",
              "    60% {\n",
              "      border-color: transparent;\n",
              "      border-right-color: var(--fill-color);\n",
              "    }\n",
              "    80% {\n",
              "      border-color: transparent;\n",
              "      border-right-color: var(--fill-color);\n",
              "      border-bottom-color: var(--fill-color);\n",
              "    }\n",
              "    90% {\n",
              "      border-color: transparent;\n",
              "      border-bottom-color: var(--fill-color);\n",
              "    }\n",
              "  }\n",
              "</style>\n",
              "\n",
              "  <script>\n",
              "    async function quickchart(key) {\n",
              "      const quickchartButtonEl =\n",
              "        document.querySelector('#' + key + ' button');\n",
              "      quickchartButtonEl.disabled = true;  // To prevent multiple clicks.\n",
              "      quickchartButtonEl.classList.add('colab-df-spinner');\n",
              "      try {\n",
              "        const charts = await google.colab.kernel.invokeFunction(\n",
              "            'suggestCharts', [key], {});\n",
              "      } catch (error) {\n",
              "        console.error('Error during call to suggestCharts:', error);\n",
              "      }\n",
              "      quickchartButtonEl.classList.remove('colab-df-spinner');\n",
              "      quickchartButtonEl.classList.add('colab-df-quickchart-complete');\n",
              "    }\n",
              "    (() => {\n",
              "      let quickchartButtonEl =\n",
              "        document.querySelector('#df-b97bce20-afe0-4e36-8612-c089a291d9f7 button');\n",
              "      quickchartButtonEl.style.display =\n",
              "        google.colab.kernel.accessAllowed ? 'block' : 'none';\n",
              "    })();\n",
              "  </script>\n",
              "</div>\n",
              "    </div>\n",
              "  </div>\n"
            ],
            "application/vnd.google.colaboratory.intrinsic+json": {
              "type": "dataframe",
              "variable_name": "df_preprocessed",
              "summary": "{\n  \"name\": \"df_preprocessed\",\n  \"rows\": 7855,\n  \"fields\": [\n    {\n      \"column\": \"publishedAt\",\n      \"properties\": {\n        \"dtype\": \"string\",\n        \"num_unique_values\": 7826,\n        \"samples\": [\n          \"2023-09-28T03:15:44Z\",\n          \"2023-09-12T14:27:41Z\",\n          \"2023-09-20T11:50:49Z\"\n        ],\n        \"semantic_type\": \"\",\n        \"description\": \"\"\n      }\n    },\n    {\n      \"column\": \"authorDisplayName\",\n      \"properties\": {\n        \"dtype\": \"string\",\n        \"num_unique_values\": 6350,\n        \"samples\": [\n          \"@user-nd6qc3vb8o\",\n          \"@megawatimega1694\",\n          \"@mumunid4980\"\n        ],\n        \"semantic_type\": \"\",\n        \"description\": \"\"\n      }\n    },\n    {\n      \"column\": \"textDisplay\",\n      \"properties\": {\n        \"dtype\": \"string\",\n        \"num_unique_values\": 7691,\n        \"samples\": [\n          \"Harus di terapkan berapa nilai barang yg di tiktok\",\n          \"Se 7\",\n          \"Setuju kak jangan biarkan pengangguran merajalela di Indonesia karena jajahan pedangang luar\"\n        ],\n        \"semantic_type\": \"\",\n        \"description\": \"\"\n      }\n    },\n    {\n      \"column\": \"likeCount\",\n      \"properties\": {\n        \"dtype\": \"number\",\n        \"std\": 15.53868263853261,\n        \"min\": 0.0,\n        \"max\": 1020.0,\n        \"num_unique_values\": 70,\n        \"samples\": [\n          85.0,\n          0.0,\n          77.0\n        ],\n        \"semantic_type\": \"\",\n        \"description\": \"\"\n      }\n    },\n    {\n      \"column\": \"label\",\n      \"properties\": {\n        \"dtype\": \"category\",\n        \"num_unique_values\": 3,\n        \"samples\": [\n          \"negatif\",\n          \"netral\",\n          \"positif\"\n        ],\n        \"semantic_type\": \"\",\n        \"description\": \"\"\n      }\n    },\n    {\n      \"column\": \"textDisplay_Cleansing\",\n      \"properties\": {\n        \"dtype\": \"string\",\n        \"num_unique_values\": 7664,\n        \"samples\": [\n          \"sikattt\",\n          \"Saya orang banyuwangi sangat setuju kalau tik tok dilarang jualan  Karena sangat merugikan pesagang kecil    karena tik tok jualnya cari untung sedikit     dan itu mematikan umkn dalam negri    Tik tok bisa mengadu domba umkm    \",\n          \"bener   br Tiktok buat mereka yg kaya makin kaya   br Flexing dll br Kasian yg gak bs menyesuaikan sesuai perkembangan zaman apalagi penjual penjual yg tua tua kasian mrka\"\n        ],\n        \"semantic_type\": \"\",\n        \"description\": \"\"\n      }\n    },\n    {\n      \"column\": \"textDisplay_Case_Folding\",\n      \"properties\": {\n        \"dtype\": \"string\",\n        \"num_unique_values\": 7641,\n        \"samples\": [\n          \"apakah barang ditanah abang ga ada barang import \",\n          \"nah ni baru bener    br kasihan pelaku umkm kecil dimana dan semuanya mengeluh sepi    br klu bisa jg online shop ditutup   \",\n          \"gimana ga bangkrut para pedagang kecil   yg punya usaha jual langsung ke costumer   contoh si a punya usaha pembuatan  baju langsg dipasarin lewat tiktok harga 10rbu sedangkn pedagang kecil harus melalui tangan ke tangan  mau ga mau jual 30rbu  otomatis pda cari yg murah   di online pun tinggal santai drmh barang datangharga murah  \"\n        ],\n        \"semantic_type\": \"\",\n        \"description\": \"\"\n      }\n    },\n    {\n      \"column\": \"textDisplay_tokenizing\",\n      \"properties\": {\n        \"dtype\": \"object\",\n        \"semantic_type\": \"\",\n        \"description\": \"\"\n      }\n    },\n    {\n      \"column\": \"textDisplay_Filtering\",\n      \"properties\": {\n        \"dtype\": \"string\",\n        \"num_unique_values\": 7596,\n        \"samples\": [\n          \"kalo usul beli nga ribut tiap barang apa di jual harga sama dagang yang main harga dang kualitas sebut jelek jual onlen sebut di blok denda usul konsumen\",\n          \"tanah abang banyak yg jual online\",\n          \"maaf kalau anggap rencana perintah blokir tiktok shop tiktok socmed lucu aneh saya paham poin alas yg logis br kembang jaman koq lawan adab modern akhir henti akan terus gerak maju depan br banyak tentang banyak orang sekarang bisa terima sudah biasa laku banyak orang br br apa tuju tutup diri adab modern dagang modern kembang tekhnologi industri buah mundur cara pikir mem primordial kan mindset kembang jaman kembang dunia makin maju br br analogi henti tengah jalan arus ramai lalu lintas yang makin padat makin cepat gerak maju akhir akan tabrak lindas br br lindas kita musti ikut maju depan br umkm ikut peran aktif jual e commerce br br dulu tukang ojek driver taksi konvensional rame tolak gojek grab jenis solusi sederhana tidak mati kerja driver konvensional tsb musti ikut partisipasi gabung jadi driver online br br btw kalo mau blokir tiktok shop yg arti tiktok socmed mustinya semua e commerce yg shopee lazada tokopedia musti blokir mereka punya peran yg garis besar sama tiktok shop hambat laju ekonomi umkm konvensional indonesia yg tidak main e commerce br br hal peran tanggung jawab perintah pusat oemerintah daerah lah yg musti fungsi optimal bantu dorong umkm konvensional nasional bisa lebih mandiri lebih maju kancah dagang global yg makin deras arus gera br umkm konvensional mustinya lebih motivasi untuk gerak lebih kreatif lebih baik lebih maju br br salam satu lapak lapak dagang global\"\n        ],\n        \"semantic_type\": \"\",\n        \"description\": \"\"\n      }\n    }\n  ]\n}"
            }
          },
          "metadata": {},
          "execution_count": 18
        }
      ],
      "source": [
        "#@markdown penerapakan kode stemming terhadap dataset\n",
        "df_preprocessed[fitur + \"_Filtering\" ] = [Stemmer.stem(df_preprocessed[fitur + \"_Filtering\"][i]) for i in range(len(df_preprocessed))]\n",
        "df_preprocessed.head()"
      ]
    },
    {
      "cell_type": "code",
      "execution_count": null,
      "metadata": {
        "id": "or60UM1bHwXu"
      },
      "outputs": [],
      "source": [
        "#@markdown fungsi preprocess_data() adalah fungsi text preprocessing yang lengkap dari kode-kode preprocessing sebelumnya\n",
        "def preprocess_data(data):\n",
        "  # cleansing data\n",
        "  data = cleansing(data).lower()\n",
        "\n",
        "  #hapus stopwords\n",
        "  factory = StopWordRemoverFactory()\n",
        "  stopword = factory.create_stop_word_remover()\n",
        "  data = stopword.remove(data)\n",
        "\n",
        "  #steming\n",
        "  factory = StemmerFactory()\n",
        "  Stemmer = factory.create_stemmer()\n",
        "  data = Stemmer.stem(data)\n",
        "\n",
        "  # count vectorizer\n",
        "  #data = vectorizer.transform([data])\n",
        "  return data"
      ]
    },
    {
      "cell_type": "code",
      "source": [
        "#@markdown contoh penggunaan fungsi preprocess_data()\n",
        "text = df_preprocessed[fitur].iloc[33]\n",
        "print(\"text asli : \",text)\n",
        "print(\"text prepocess : \",preprocess_data(text))"
      ],
      "metadata": {
        "colab": {
          "base_uri": "https://localhost:8080/"
        },
        "id": "um2ngbQUN2cE",
        "outputId": "2ef484f8-701a-45bf-9837-3b3220b91872"
      },
      "execution_count": null,
      "outputs": [
        {
          "output_type": "stream",
          "name": "stdout",
          "text": [
            "text asli :  Orang ini keturunan dari chinajelas dia tidak setuju tiktok shop di tutup.\n",
            "text prepocess :  orang turun chinajelas tidak tuju tiktok shop tutup\n"
          ]
        }
      ]
    },
    {
      "cell_type": "code",
      "source": [
        "df_eval = pd.DataFrame({\n",
        "    'split_data' : ['80:20', '70:30', '60:40'],\n",
        "    'Akurasi Decision Tree' : [0.0] * 3,\n",
        "    'Akurasi Naive Bayes' : [0.0] * 3\n",
        "})"
      ],
      "metadata": {
        "id": "Tg--OZIdu2VZ"
      },
      "execution_count": null,
      "outputs": []
    },
    {
      "cell_type": "markdown",
      "source": [
        "## Decision Tree Dan Naive Bayes pada formasi Split Data 80%:20%\n",
        "Ini adalah percobaan komparasi antara algoritma decision tree dan naive bayes pada formasi split data 80:20 atau data training 80% dari dataset sedangkan data test 20% dari dataset"
      ],
      "metadata": {
        "id": "2tUIXp756WaD"
      }
    },
    {
      "cell_type": "markdown",
      "metadata": {
        "id": "6sP31s2xrZTH"
      },
      "source": [
        "### membagi data train dan data test"
      ]
    },
    {
      "cell_type": "code",
      "execution_count": null,
      "metadata": {
        "id": "XQabcm5br5qU"
      },
      "outputs": [],
      "source": [
        "from sklearn.model_selection import train_test_split\n",
        "x_train,x_test, y_train, y_test = train_test_split(df_preprocessed[fitur + \"_Filtering\"],df_preprocessed[label],\n",
        "                                                   test_size=0.2, stratify=df_preprocessed[label], random_state=0)"
      ]
    },
    {
      "cell_type": "markdown",
      "source": [
        "### pembobotan TFIDF"
      ],
      "metadata": {
        "id": "uEdzEIWeTEJS"
      }
    },
    {
      "cell_type": "code",
      "execution_count": null,
      "metadata": {
        "colab": {
          "base_uri": "https://localhost:8080/",
          "height": 75
        },
        "id": "ygzVexfi8lUz",
        "outputId": "847f6b4f-340a-4f6e-d11d-2707db4fbb6c",
        "cellView": "form"
      },
      "outputs": [
        {
          "output_type": "execute_result",
          "data": {
            "text/plain": [
              "TfidfVectorizer()"
            ],
            "text/html": [
              "<style>#sk-container-id-1 {color: black;background-color: white;}#sk-container-id-1 pre{padding: 0;}#sk-container-id-1 div.sk-toggleable {background-color: white;}#sk-container-id-1 label.sk-toggleable__label {cursor: pointer;display: block;width: 100%;margin-bottom: 0;padding: 0.3em;box-sizing: border-box;text-align: center;}#sk-container-id-1 label.sk-toggleable__label-arrow:before {content: \"▸\";float: left;margin-right: 0.25em;color: #696969;}#sk-container-id-1 label.sk-toggleable__label-arrow:hover:before {color: black;}#sk-container-id-1 div.sk-estimator:hover label.sk-toggleable__label-arrow:before {color: black;}#sk-container-id-1 div.sk-toggleable__content {max-height: 0;max-width: 0;overflow: hidden;text-align: left;background-color: #f0f8ff;}#sk-container-id-1 div.sk-toggleable__content pre {margin: 0.2em;color: black;border-radius: 0.25em;background-color: #f0f8ff;}#sk-container-id-1 input.sk-toggleable__control:checked~div.sk-toggleable__content {max-height: 200px;max-width: 100%;overflow: auto;}#sk-container-id-1 input.sk-toggleable__control:checked~label.sk-toggleable__label-arrow:before {content: \"▾\";}#sk-container-id-1 div.sk-estimator input.sk-toggleable__control:checked~label.sk-toggleable__label {background-color: #d4ebff;}#sk-container-id-1 div.sk-label input.sk-toggleable__control:checked~label.sk-toggleable__label {background-color: #d4ebff;}#sk-container-id-1 input.sk-hidden--visually {border: 0;clip: rect(1px 1px 1px 1px);clip: rect(1px, 1px, 1px, 1px);height: 1px;margin: -1px;overflow: hidden;padding: 0;position: absolute;width: 1px;}#sk-container-id-1 div.sk-estimator {font-family: monospace;background-color: #f0f8ff;border: 1px dotted black;border-radius: 0.25em;box-sizing: border-box;margin-bottom: 0.5em;}#sk-container-id-1 div.sk-estimator:hover {background-color: #d4ebff;}#sk-container-id-1 div.sk-parallel-item::after {content: \"\";width: 100%;border-bottom: 1px solid gray;flex-grow: 1;}#sk-container-id-1 div.sk-label:hover label.sk-toggleable__label {background-color: #d4ebff;}#sk-container-id-1 div.sk-serial::before {content: \"\";position: absolute;border-left: 1px solid gray;box-sizing: border-box;top: 0;bottom: 0;left: 50%;z-index: 0;}#sk-container-id-1 div.sk-serial {display: flex;flex-direction: column;align-items: center;background-color: white;padding-right: 0.2em;padding-left: 0.2em;position: relative;}#sk-container-id-1 div.sk-item {position: relative;z-index: 1;}#sk-container-id-1 div.sk-parallel {display: flex;align-items: stretch;justify-content: center;background-color: white;position: relative;}#sk-container-id-1 div.sk-item::before, #sk-container-id-1 div.sk-parallel-item::before {content: \"\";position: absolute;border-left: 1px solid gray;box-sizing: border-box;top: 0;bottom: 0;left: 50%;z-index: -1;}#sk-container-id-1 div.sk-parallel-item {display: flex;flex-direction: column;z-index: 1;position: relative;background-color: white;}#sk-container-id-1 div.sk-parallel-item:first-child::after {align-self: flex-end;width: 50%;}#sk-container-id-1 div.sk-parallel-item:last-child::after {align-self: flex-start;width: 50%;}#sk-container-id-1 div.sk-parallel-item:only-child::after {width: 0;}#sk-container-id-1 div.sk-dashed-wrapped {border: 1px dashed gray;margin: 0 0.4em 0.5em 0.4em;box-sizing: border-box;padding-bottom: 0.4em;background-color: white;}#sk-container-id-1 div.sk-label label {font-family: monospace;font-weight: bold;display: inline-block;line-height: 1.2em;}#sk-container-id-1 div.sk-label-container {text-align: center;}#sk-container-id-1 div.sk-container {/* jupyter's `normalize.less` sets `[hidden] { display: none; }` but bootstrap.min.css set `[hidden] { display: none !important; }` so we also need the `!important` here to be able to override the default hidden behavior on the sphinx rendered scikit-learn.org. See: https://github.com/scikit-learn/scikit-learn/issues/21755 */display: inline-block !important;position: relative;}#sk-container-id-1 div.sk-text-repr-fallback {display: none;}</style><div id=\"sk-container-id-1\" class=\"sk-top-container\"><div class=\"sk-text-repr-fallback\"><pre>TfidfVectorizer()</pre><b>In a Jupyter environment, please rerun this cell to show the HTML representation or trust the notebook. <br />On GitHub, the HTML representation is unable to render, please try loading this page with nbviewer.org.</b></div><div class=\"sk-container\" hidden><div class=\"sk-item\"><div class=\"sk-estimator sk-toggleable\"><input class=\"sk-toggleable__control sk-hidden--visually\" id=\"sk-estimator-id-1\" type=\"checkbox\" checked><label for=\"sk-estimator-id-1\" class=\"sk-toggleable__label sk-toggleable__label-arrow\">TfidfVectorizer</label><div class=\"sk-toggleable__content\"><pre>TfidfVectorizer()</pre></div></div></div></div></div>"
            ]
          },
          "metadata": {},
          "execution_count": 23
        }
      ],
      "source": [
        "#@title inisiasi pembobotan tfidf\n",
        "from sklearn.feature_extraction.text import TfidfVectorizer\n",
        "\n",
        "vectorizer = TfidfVectorizer()\n",
        "vectorizer.fit(x_train)"
      ]
    },
    {
      "cell_type": "code",
      "execution_count": null,
      "metadata": {
        "colab": {
          "base_uri": "https://localhost:8080/"
        },
        "id": "Jxpzu2Fev4Tl",
        "outputId": "847693ec-9a50-49f6-ca01-2fd834957d7e"
      },
      "outputs": [
        {
          "output_type": "stream",
          "name": "stdout",
          "text": [
            "(1571, 11357)\n",
            "(1571, 11357)\n"
          ]
        }
      ],
      "source": [
        "#@title pembobotan TFIDF pada x_train dan x_test\n",
        "x_train = vectorizer.fit_transform(x_train)\n",
        "x_test = vectorizer.transform(x_test)\n",
        "\n",
        "print(x_test.shape)\n",
        "print(x_test.shape)"
      ]
    },
    {
      "cell_type": "code",
      "execution_count": null,
      "metadata": {
        "colab": {
          "base_uri": "https://localhost:8080/"
        },
        "id": "OMpQM1678d_3",
        "outputId": "9bbe056f-fa57-4473-8aec-7f381adfeb8a"
      },
      "outputs": [
        {
          "output_type": "execute_result",
          "data": {
            "text/plain": [
              "array([[0., 0., 0., ..., 0., 0., 0.],\n",
              "       [0., 0., 0., ..., 0., 0., 0.],\n",
              "       [0., 0., 0., ..., 0., 0., 0.],\n",
              "       ...,\n",
              "       [0., 0., 0., ..., 0., 0., 0.],\n",
              "       [0., 0., 0., ..., 0., 0., 0.],\n",
              "       [0., 0., 0., ..., 0., 0., 0.]])"
            ]
          },
          "metadata": {},
          "execution_count": 25
        }
      ],
      "source": [
        "x_train.toarray()"
      ]
    },
    {
      "cell_type": "markdown",
      "source": [
        "### Decision Tree"
      ],
      "metadata": {
        "id": "YCWQCFIowpmI"
      }
    },
    {
      "cell_type": "code",
      "source": [
        "#@title training model\n",
        "from sklearn.tree import DecisionTreeClassifier\n",
        "from sklearn.metrics import accuracy_score\n",
        "\n",
        "tree = DecisionTreeClassifier()\n",
        "tree.fit(x_train, y_train)"
      ],
      "metadata": {
        "colab": {
          "base_uri": "https://localhost:8080/",
          "height": 75
        },
        "id": "qVMPlFe1wt5-",
        "outputId": "a7211051-22bd-4a79-8c21-082383937b16"
      },
      "execution_count": null,
      "outputs": [
        {
          "output_type": "execute_result",
          "data": {
            "text/plain": [
              "DecisionTreeClassifier()"
            ],
            "text/html": [
              "<style>#sk-container-id-2 {color: black;background-color: white;}#sk-container-id-2 pre{padding: 0;}#sk-container-id-2 div.sk-toggleable {background-color: white;}#sk-container-id-2 label.sk-toggleable__label {cursor: pointer;display: block;width: 100%;margin-bottom: 0;padding: 0.3em;box-sizing: border-box;text-align: center;}#sk-container-id-2 label.sk-toggleable__label-arrow:before {content: \"▸\";float: left;margin-right: 0.25em;color: #696969;}#sk-container-id-2 label.sk-toggleable__label-arrow:hover:before {color: black;}#sk-container-id-2 div.sk-estimator:hover label.sk-toggleable__label-arrow:before {color: black;}#sk-container-id-2 div.sk-toggleable__content {max-height: 0;max-width: 0;overflow: hidden;text-align: left;background-color: #f0f8ff;}#sk-container-id-2 div.sk-toggleable__content pre {margin: 0.2em;color: black;border-radius: 0.25em;background-color: #f0f8ff;}#sk-container-id-2 input.sk-toggleable__control:checked~div.sk-toggleable__content {max-height: 200px;max-width: 100%;overflow: auto;}#sk-container-id-2 input.sk-toggleable__control:checked~label.sk-toggleable__label-arrow:before {content: \"▾\";}#sk-container-id-2 div.sk-estimator input.sk-toggleable__control:checked~label.sk-toggleable__label {background-color: #d4ebff;}#sk-container-id-2 div.sk-label input.sk-toggleable__control:checked~label.sk-toggleable__label {background-color: #d4ebff;}#sk-container-id-2 input.sk-hidden--visually {border: 0;clip: rect(1px 1px 1px 1px);clip: rect(1px, 1px, 1px, 1px);height: 1px;margin: -1px;overflow: hidden;padding: 0;position: absolute;width: 1px;}#sk-container-id-2 div.sk-estimator {font-family: monospace;background-color: #f0f8ff;border: 1px dotted black;border-radius: 0.25em;box-sizing: border-box;margin-bottom: 0.5em;}#sk-container-id-2 div.sk-estimator:hover {background-color: #d4ebff;}#sk-container-id-2 div.sk-parallel-item::after {content: \"\";width: 100%;border-bottom: 1px solid gray;flex-grow: 1;}#sk-container-id-2 div.sk-label:hover label.sk-toggleable__label {background-color: #d4ebff;}#sk-container-id-2 div.sk-serial::before {content: \"\";position: absolute;border-left: 1px solid gray;box-sizing: border-box;top: 0;bottom: 0;left: 50%;z-index: 0;}#sk-container-id-2 div.sk-serial {display: flex;flex-direction: column;align-items: center;background-color: white;padding-right: 0.2em;padding-left: 0.2em;position: relative;}#sk-container-id-2 div.sk-item {position: relative;z-index: 1;}#sk-container-id-2 div.sk-parallel {display: flex;align-items: stretch;justify-content: center;background-color: white;position: relative;}#sk-container-id-2 div.sk-item::before, #sk-container-id-2 div.sk-parallel-item::before {content: \"\";position: absolute;border-left: 1px solid gray;box-sizing: border-box;top: 0;bottom: 0;left: 50%;z-index: -1;}#sk-container-id-2 div.sk-parallel-item {display: flex;flex-direction: column;z-index: 1;position: relative;background-color: white;}#sk-container-id-2 div.sk-parallel-item:first-child::after {align-self: flex-end;width: 50%;}#sk-container-id-2 div.sk-parallel-item:last-child::after {align-self: flex-start;width: 50%;}#sk-container-id-2 div.sk-parallel-item:only-child::after {width: 0;}#sk-container-id-2 div.sk-dashed-wrapped {border: 1px dashed gray;margin: 0 0.4em 0.5em 0.4em;box-sizing: border-box;padding-bottom: 0.4em;background-color: white;}#sk-container-id-2 div.sk-label label {font-family: monospace;font-weight: bold;display: inline-block;line-height: 1.2em;}#sk-container-id-2 div.sk-label-container {text-align: center;}#sk-container-id-2 div.sk-container {/* jupyter's `normalize.less` sets `[hidden] { display: none; }` but bootstrap.min.css set `[hidden] { display: none !important; }` so we also need the `!important` here to be able to override the default hidden behavior on the sphinx rendered scikit-learn.org. See: https://github.com/scikit-learn/scikit-learn/issues/21755 */display: inline-block !important;position: relative;}#sk-container-id-2 div.sk-text-repr-fallback {display: none;}</style><div id=\"sk-container-id-2\" class=\"sk-top-container\"><div class=\"sk-text-repr-fallback\"><pre>DecisionTreeClassifier()</pre><b>In a Jupyter environment, please rerun this cell to show the HTML representation or trust the notebook. <br />On GitHub, the HTML representation is unable to render, please try loading this page with nbviewer.org.</b></div><div class=\"sk-container\" hidden><div class=\"sk-item\"><div class=\"sk-estimator sk-toggleable\"><input class=\"sk-toggleable__control sk-hidden--visually\" id=\"sk-estimator-id-2\" type=\"checkbox\" checked><label for=\"sk-estimator-id-2\" class=\"sk-toggleable__label sk-toggleable__label-arrow\">DecisionTreeClassifier</label><div class=\"sk-toggleable__content\"><pre>DecisionTreeClassifier()</pre></div></div></div></div></div>"
            ]
          },
          "metadata": {},
          "execution_count": 26
        }
      ]
    },
    {
      "cell_type": "code",
      "source": [
        "#@title prediksi x_test yang ditampung ke y_pred\n",
        "y_pred = tree.predict(x_test)"
      ],
      "metadata": {
        "id": "Lbrpm_l5w3jB"
      },
      "execution_count": null,
      "outputs": []
    },
    {
      "cell_type": "code",
      "source": [
        "algo = [\"Decision Tree\", \"Naive Bayes\"]\n",
        "split_data_form = {\n",
        "    \"80:20\" : 0,\n",
        "    \"70:30\" : 1,\n",
        "    \"60:40\" : 2\n",
        "}\n",
        "df_eval['Akurasi ' + algo[0]][split_data_form[\"80:20\"]] = accuracy_score(y_test, y_pred)"
      ],
      "metadata": {
        "id": "U3mFzrjmwIMi",
        "colab": {
          "base_uri": "https://localhost:8080/"
        },
        "outputId": "a98c714d-72ec-414e-e53d-1d5fc97d9f5e"
      },
      "execution_count": null,
      "outputs": [
        {
          "output_type": "stream",
          "name": "stderr",
          "text": [
            "<ipython-input-28-d90c1e565030>:7: SettingWithCopyWarning: \n",
            "A value is trying to be set on a copy of a slice from a DataFrame\n",
            "\n",
            "See the caveats in the documentation: https://pandas.pydata.org/pandas-docs/stable/user_guide/indexing.html#returning-a-view-versus-a-copy\n",
            "  df_eval['Akurasi ' + algo[0]][split_data_form[\"80:20\"]] = accuracy_score(y_test, y_pred)\n"
          ]
        }
      ]
    },
    {
      "cell_type": "code",
      "source": [
        "print('Akurasi Decision Tree : %s ' %accuracy_score(y_test, y_pred))"
      ],
      "metadata": {
        "colab": {
          "base_uri": "https://localhost:8080/"
        },
        "id": "mV43TzhNxAHi",
        "outputId": "84dbc06d-b5e6-430f-e2ee-b5f605f80e0f"
      },
      "execution_count": null,
      "outputs": [
        {
          "output_type": "stream",
          "name": "stdout",
          "text": [
            "Akurasi Decision Tree : 0.5996180776575429 \n"
          ]
        }
      ]
    },
    {
      "cell_type": "code",
      "source": [
        "#@title evaluasi model\n",
        "from sklearn.metrics import  confusion_matrix\n",
        "from sklearn.metrics import classification_report\n",
        "\n",
        "confusion_matrix = confusion_matrix(y_test, y_pred)\n",
        "print(confusion_matrix)\n",
        "print(classification_report(y_test, y_pred))"
      ],
      "metadata": {
        "colab": {
          "base_uri": "https://localhost:8080/"
        },
        "id": "AND6VFSBxFv_",
        "outputId": "7948386f-4088-41e5-d284-6c70010ad3e6"
      },
      "execution_count": null,
      "outputs": [
        {
          "output_type": "stream",
          "name": "stdout",
          "text": [
            "[[505 153  98]\n",
            " [162 278  70]\n",
            " [ 90  56 159]]\n",
            "              precision    recall  f1-score   support\n",
            "\n",
            "     negatif       0.67      0.67      0.67       756\n",
            "      netral       0.57      0.55      0.56       510\n",
            "     positif       0.49      0.52      0.50       305\n",
            "\n",
            "    accuracy                           0.60      1571\n",
            "   macro avg       0.57      0.58      0.58      1571\n",
            "weighted avg       0.60      0.60      0.60      1571\n",
            "\n"
          ]
        }
      ]
    },
    {
      "cell_type": "code",
      "source": [
        "#@title plotting confussion matrix\n",
        "import matplotlib.pyplot as plt\n",
        "from sklearn import metrics\n",
        "\n",
        "cm_display = metrics.ConfusionMatrixDisplay(confusion_matrix = confusion_matrix, display_labels = df_preprocessed['label'].unique().tolist())\n",
        "cm_display.plot()\n",
        "plt.show()"
      ],
      "metadata": {
        "colab": {
          "base_uri": "https://localhost:8080/",
          "height": 451
        },
        "id": "94qtHDWPxP55",
        "outputId": "edcd4238-1e21-43e5-efb5-8f32ed7d8113"
      },
      "execution_count": null,
      "outputs": [
        {
          "output_type": "display_data",
          "data": {
            "text/plain": [
              "<Figure size 640x480 with 2 Axes>"
            ],
            "image/png": "[encoded data removed]"
          },
          "metadata": {}
        }
      ]
    },
    {
      "cell_type": "markdown",
      "source": [
        "### Naive Bayes"
      ],
      "metadata": {
        "id": "MB284_n2wrtl"
      }
    },
    {
      "cell_type": "code",
      "source": [
        "#@title training model\n",
        "from sklearn.naive_bayes import MultinomialNB\n",
        "from sklearn.metrics import accuracy_score\n",
        "\n",
        "nb = MultinomialNB()\n",
        "nb.fit(x_train, y_train)"
      ],
      "metadata": {
        "colab": {
          "base_uri": "https://localhost:8080/",
          "height": 75
        },
        "outputId": "94adfa1d-62c1-4746-eace-abcd6541d0a8",
        "id": "6LIpURNcxnxs"
      },
      "execution_count": null,
      "outputs": [
        {
          "output_type": "execute_result",
          "data": {
            "text/plain": [
              "MultinomialNB()"
            ],
            "text/html": [
              "<style>#sk-container-id-3 {color: black;background-color: white;}#sk-container-id-3 pre{padding: 0;}#sk-container-id-3 div.sk-toggleable {background-color: white;}#sk-container-id-3 label.sk-toggleable__label {cursor: pointer;display: block;width: 100%;margin-bottom: 0;padding: 0.3em;box-sizing: border-box;text-align: center;}#sk-container-id-3 label.sk-toggleable__label-arrow:before {content: \"▸\";float: left;margin-right: 0.25em;color: #696969;}#sk-container-id-3 label.sk-toggleable__label-arrow:hover:before {color: black;}#sk-container-id-3 div.sk-estimator:hover label.sk-toggleable__label-arrow:before {color: black;}#sk-container-id-3 div.sk-toggleable__content {max-height: 0;max-width: 0;overflow: hidden;text-align: left;background-color: #f0f8ff;}#sk-container-id-3 div.sk-toggleable__content pre {margin: 0.2em;color: black;border-radius: 0.25em;background-color: #f0f8ff;}#sk-container-id-3 input.sk-toggleable__control:checked~div.sk-toggleable__content {max-height: 200px;max-width: 100%;overflow: auto;}#sk-container-id-3 input.sk-toggleable__control:checked~label.sk-toggleable__label-arrow:before {content: \"▾\";}#sk-container-id-3 div.sk-estimator input.sk-toggleable__control:checked~label.sk-toggleable__label {background-color: #d4ebff;}#sk-container-id-3 div.sk-label input.sk-toggleable__control:checked~label.sk-toggleable__label {background-color: #d4ebff;}#sk-container-id-3 input.sk-hidden--visually {border: 0;clip: rect(1px 1px 1px 1px);clip: rect(1px, 1px, 1px, 1px);height: 1px;margin: -1px;overflow: hidden;padding: 0;position: absolute;width: 1px;}#sk-container-id-3 div.sk-estimator {font-family: monospace;background-color: #f0f8ff;border: 1px dotted black;border-radius: 0.25em;box-sizing: border-box;margin-bottom: 0.5em;}#sk-container-id-3 div.sk-estimator:hover {background-color: #d4ebff;}#sk-container-id-3 div.sk-parallel-item::after {content: \"\";width: 100%;border-bottom: 1px solid gray;flex-grow: 1;}#sk-container-id-3 div.sk-label:hover label.sk-toggleable__label {background-color: #d4ebff;}#sk-container-id-3 div.sk-serial::before {content: \"\";position: absolute;border-left: 1px solid gray;box-sizing: border-box;top: 0;bottom: 0;left: 50%;z-index: 0;}#sk-container-id-3 div.sk-serial {display: flex;flex-direction: column;align-items: center;background-color: white;padding-right: 0.2em;padding-left: 0.2em;position: relative;}#sk-container-id-3 div.sk-item {position: relative;z-index: 1;}#sk-container-id-3 div.sk-parallel {display: flex;align-items: stretch;justify-content: center;background-color: white;position: relative;}#sk-container-id-3 div.sk-item::before, #sk-container-id-3 div.sk-parallel-item::before {content: \"\";position: absolute;border-left: 1px solid gray;box-sizing: border-box;top: 0;bottom: 0;left: 50%;z-index: -1;}#sk-container-id-3 div.sk-parallel-item {display: flex;flex-direction: column;z-index: 1;position: relative;background-color: white;}#sk-container-id-3 div.sk-parallel-item:first-child::after {align-self: flex-end;width: 50%;}#sk-container-id-3 div.sk-parallel-item:last-child::after {align-self: flex-start;width: 50%;}#sk-container-id-3 div.sk-parallel-item:only-child::after {width: 0;}#sk-container-id-3 div.sk-dashed-wrapped {border: 1px dashed gray;margin: 0 0.4em 0.5em 0.4em;box-sizing: border-box;padding-bottom: 0.4em;background-color: white;}#sk-container-id-3 div.sk-label label {font-family: monospace;font-weight: bold;display: inline-block;line-height: 1.2em;}#sk-container-id-3 div.sk-label-container {text-align: center;}#sk-container-id-3 div.sk-container {/* jupyter's `normalize.less` sets `[hidden] { display: none; }` but bootstrap.min.css set `[hidden] { display: none !important; }` so we also need the `!important` here to be able to override the default hidden behavior on the sphinx rendered scikit-learn.org. See: https://github.com/scikit-learn/scikit-learn/issues/21755 */display: inline-block !important;position: relative;}#sk-container-id-3 div.sk-text-repr-fallback {display: none;}</style><div id=\"sk-container-id-3\" class=\"sk-top-container\"><div class=\"sk-text-repr-fallback\"><pre>MultinomialNB()</pre><b>In a Jupyter environment, please rerun this cell to show the HTML representation or trust the notebook. <br />On GitHub, the HTML representation is unable to render, please try loading this page with nbviewer.org.</b></div><div class=\"sk-container\" hidden><div class=\"sk-item\"><div class=\"sk-estimator sk-toggleable\"><input class=\"sk-toggleable__control sk-hidden--visually\" id=\"sk-estimator-id-3\" type=\"checkbox\" checked><label for=\"sk-estimator-id-3\" class=\"sk-toggleable__label sk-toggleable__label-arrow\">MultinomialNB</label><div class=\"sk-toggleable__content\"><pre>MultinomialNB()</pre></div></div></div></div></div>"
            ]
          },
          "metadata": {},
          "execution_count": 32
        }
      ]
    },
    {
      "cell_type": "code",
      "source": [
        "#@title prediksi x_test yang ditampung ke y_pred\n",
        "y_pred = nb.predict(x_test)"
      ],
      "metadata": {
        "id": "5VtqCMBexnyK"
      },
      "execution_count": null,
      "outputs": []
    },
    {
      "cell_type": "code",
      "source": [
        "algo = [\"Decision Tree\", \"Naive Bayes\"]\n",
        "split_data_form = {\n",
        "    \"80:20\" : 0,\n",
        "    \"70:30\" : 1,\n",
        "    \"60:40\" : 2\n",
        "}\n",
        "df_eval['Akurasi ' + algo[1]][split_data_form[\"80:20\"]] = accuracy_score(y_test, y_pred)"
      ],
      "metadata": {
        "id": "OyFp6VRYwPrK",
        "colab": {
          "base_uri": "https://localhost:8080/"
        },
        "outputId": "5ff06754-6b81-45ce-8e37-5d3da3cac2e4"
      },
      "execution_count": null,
      "outputs": [
        {
          "output_type": "stream",
          "name": "stderr",
          "text": [
            "<ipython-input-34-8497d433b4e0>:7: SettingWithCopyWarning: \n",
            "A value is trying to be set on a copy of a slice from a DataFrame\n",
            "\n",
            "See the caveats in the documentation: https://pandas.pydata.org/pandas-docs/stable/user_guide/indexing.html#returning-a-view-versus-a-copy\n",
            "  df_eval['Akurasi ' + algo[1]][split_data_form[\"80:20\"]] = accuracy_score(y_test, y_pred)\n"
          ]
        }
      ]
    },
    {
      "cell_type": "code",
      "source": [
        "print('Akurasi Naive Bayes : %s ' %accuracy_score(y_test, y_pred))"
      ],
      "metadata": {
        "colab": {
          "base_uri": "https://localhost:8080/"
        },
        "outputId": "4d1deb54-0c9b-470b-ee6d-a317ec815935",
        "id": "F3AG3W4bxnyL"
      },
      "execution_count": null,
      "outputs": [
        {
          "output_type": "stream",
          "name": "stdout",
          "text": [
            "Akurasi Naive Bayes : 0.5518777848504137 \n"
          ]
        }
      ]
    },
    {
      "cell_type": "code",
      "source": [
        "#@title evaluasi model\n",
        "from sklearn.metrics import  confusion_matrix\n",
        "from sklearn.metrics import classification_report\n",
        "\n",
        "confusion_matrix = confusion_matrix(y_test, y_pred)\n",
        "print(confusion_matrix)\n",
        "print(classification_report(y_test, y_pred))"
      ],
      "metadata": {
        "colab": {
          "base_uri": "https://localhost:8080/"
        },
        "outputId": "9c17f3e5-09c8-45d3-db95-41c2c57e764a",
        "id": "5oljKWvrxnyL"
      },
      "execution_count": null,
      "outputs": [
        {
          "output_type": "stream",
          "name": "stdout",
          "text": [
            "[[749   7   0]\n",
            " [435  73   2]\n",
            " [250  10  45]]\n",
            "              precision    recall  f1-score   support\n",
            "\n",
            "     negatif       0.52      0.99      0.68       756\n",
            "      netral       0.81      0.14      0.24       510\n",
            "     positif       0.96      0.15      0.26       305\n",
            "\n",
            "    accuracy                           0.55      1571\n",
            "   macro avg       0.76      0.43      0.39      1571\n",
            "weighted avg       0.70      0.55      0.46      1571\n",
            "\n"
          ]
        }
      ]
    },
    {
      "cell_type": "code",
      "source": [
        "#@title plotting confussion matrix\n",
        "import matplotlib.pyplot as plt\n",
        "from sklearn import metrics\n",
        "\n",
        "cm_display = metrics.ConfusionMatrixDisplay(confusion_matrix = confusion_matrix, display_labels = df_preprocessed['label'].unique().tolist())\n",
        "cm_display.plot()\n",
        "plt.show()"
      ],
      "metadata": {
        "colab": {
          "base_uri": "https://localhost:8080/",
          "height": 449
        },
        "outputId": "6555fdfd-828c-4d93-f29b-010a65155cf1",
        "id": "NV7IS6_uxnyM"
      },
      "execution_count": null,
      "outputs": [
        {
          "output_type": "display_data",
          "data": {
            "text/plain": [
              "<Figure size 640x480 with 2 Axes>"
            ],
            "image/png": "[encoded data removed]"
          },
          "metadata": {}
        }
      ]
    },
    {
      "cell_type": "markdown",
      "source": [
        "## Decision Tree Dan Naive Bayes pada formasi Split Data 70%:30%\n",
        "Ini adalah percobaan komparasi antara algoritma decision tree dan naive bayes pada formasi split data 70:30 atau data training 70% dari dataset sedangkan data test 30% dari dataset"
      ],
      "metadata": {
        "id": "hNhmgnUw6lk3"
      }
    },
    {
      "cell_type": "markdown",
      "metadata": {
        "id": "DAP-zmgE6llA"
      },
      "source": [
        "### membagi data train dan data test"
      ]
    },
    {
      "cell_type": "code",
      "execution_count": null,
      "metadata": {
        "id": "qGCV20K66llB"
      },
      "outputs": [],
      "source": [
        "from sklearn.model_selection import train_test_split\n",
        "x_train,x_test, y_train, y_test = train_test_split(df_preprocessed[fitur + \"_Filtering\"],df_preprocessed[label],\n",
        "                                                   test_size=0.3, stratify=df_preprocessed[label], random_state=0)"
      ]
    },
    {
      "cell_type": "markdown",
      "source": [
        "### pembobotan TFID"
      ],
      "metadata": {
        "id": "AIGmJxmK6llB"
      }
    },
    {
      "cell_type": "code",
      "execution_count": null,
      "metadata": {
        "colab": {
          "base_uri": "https://localhost:8080/",
          "height": 75
        },
        "outputId": "48b260c5-9e14-4acb-8590-97b7800d3d91",
        "id": "STY2U7bN6llB"
      },
      "outputs": [
        {
          "output_type": "execute_result",
          "data": {
            "text/plain": [
              "TfidfVectorizer()"
            ],
            "text/html": [
              "<style>#sk-container-id-4 {color: black;background-color: white;}#sk-container-id-4 pre{padding: 0;}#sk-container-id-4 div.sk-toggleable {background-color: white;}#sk-container-id-4 label.sk-toggleable__label {cursor: pointer;display: block;width: 100%;margin-bottom: 0;padding: 0.3em;box-sizing: border-box;text-align: center;}#sk-container-id-4 label.sk-toggleable__label-arrow:before {content: \"▸\";float: left;margin-right: 0.25em;color: #696969;}#sk-container-id-4 label.sk-toggleable__label-arrow:hover:before {color: black;}#sk-container-id-4 div.sk-estimator:hover label.sk-toggleable__label-arrow:before {color: black;}#sk-container-id-4 div.sk-toggleable__content {max-height: 0;max-width: 0;overflow: hidden;text-align: left;background-color: #f0f8ff;}#sk-container-id-4 div.sk-toggleable__content pre {margin: 0.2em;color: black;border-radius: 0.25em;background-color: #f0f8ff;}#sk-container-id-4 input.sk-toggleable__control:checked~div.sk-toggleable__content {max-height: 200px;max-width: 100%;overflow: auto;}#sk-container-id-4 input.sk-toggleable__control:checked~label.sk-toggleable__label-arrow:before {content: \"▾\";}#sk-container-id-4 div.sk-estimator input.sk-toggleable__control:checked~label.sk-toggleable__label {background-color: #d4ebff;}#sk-container-id-4 div.sk-label input.sk-toggleable__control:checked~label.sk-toggleable__label {background-color: #d4ebff;}#sk-container-id-4 input.sk-hidden--visually {border: 0;clip: rect(1px 1px 1px 1px);clip: rect(1px, 1px, 1px, 1px);height: 1px;margin: -1px;overflow: hidden;padding: 0;position: absolute;width: 1px;}#sk-container-id-4 div.sk-estimator {font-family: monospace;background-color: #f0f8ff;border: 1px dotted black;border-radius: 0.25em;box-sizing: border-box;margin-bottom: 0.5em;}#sk-container-id-4 div.sk-estimator:hover {background-color: #d4ebff;}#sk-container-id-4 div.sk-parallel-item::after {content: \"\";width: 100%;border-bottom: 1px solid gray;flex-grow: 1;}#sk-container-id-4 div.sk-label:hover label.sk-toggleable__label {background-color: #d4ebff;}#sk-container-id-4 div.sk-serial::before {content: \"\";position: absolute;border-left: 1px solid gray;box-sizing: border-box;top: 0;bottom: 0;left: 50%;z-index: 0;}#sk-container-id-4 div.sk-serial {display: flex;flex-direction: column;align-items: center;background-color: white;padding-right: 0.2em;padding-left: 0.2em;position: relative;}#sk-container-id-4 div.sk-item {position: relative;z-index: 1;}#sk-container-id-4 div.sk-parallel {display: flex;align-items: stretch;justify-content: center;background-color: white;position: relative;}#sk-container-id-4 div.sk-item::before, #sk-container-id-4 div.sk-parallel-item::before {content: \"\";position: absolute;border-left: 1px solid gray;box-sizing: border-box;top: 0;bottom: 0;left: 50%;z-index: -1;}#sk-container-id-4 div.sk-parallel-item {display: flex;flex-direction: column;z-index: 1;position: relative;background-color: white;}#sk-container-id-4 div.sk-parallel-item:first-child::after {align-self: flex-end;width: 50%;}#sk-container-id-4 div.sk-parallel-item:last-child::after {align-self: flex-start;width: 50%;}#sk-container-id-4 div.sk-parallel-item:only-child::after {width: 0;}#sk-container-id-4 div.sk-dashed-wrapped {border: 1px dashed gray;margin: 0 0.4em 0.5em 0.4em;box-sizing: border-box;padding-bottom: 0.4em;background-color: white;}#sk-container-id-4 div.sk-label label {font-family: monospace;font-weight: bold;display: inline-block;line-height: 1.2em;}#sk-container-id-4 div.sk-label-container {text-align: center;}#sk-container-id-4 div.sk-container {/* jupyter's `normalize.less` sets `[hidden] { display: none; }` but bootstrap.min.css set `[hidden] { display: none !important; }` so we also need the `!important` here to be able to override the default hidden behavior on the sphinx rendered scikit-learn.org. See: https://github.com/scikit-learn/scikit-learn/issues/21755 */display: inline-block !important;position: relative;}#sk-container-id-4 div.sk-text-repr-fallback {display: none;}</style><div id=\"sk-container-id-4\" class=\"sk-top-container\"><div class=\"sk-text-repr-fallback\"><pre>TfidfVectorizer()</pre><b>In a Jupyter environment, please rerun this cell to show the HTML representation or trust the notebook. <br />On GitHub, the HTML representation is unable to render, please try loading this page with nbviewer.org.</b></div><div class=\"sk-container\" hidden><div class=\"sk-item\"><div class=\"sk-estimator sk-toggleable\"><input class=\"sk-toggleable__control sk-hidden--visually\" id=\"sk-estimator-id-4\" type=\"checkbox\" checked><label for=\"sk-estimator-id-4\" class=\"sk-toggleable__label sk-toggleable__label-arrow\">TfidfVectorizer</label><div class=\"sk-toggleable__content\"><pre>TfidfVectorizer()</pre></div></div></div></div></div>"
            ]
          },
          "metadata": {},
          "execution_count": 39
        }
      ],
      "source": [
        "#@title inisiasi pembobotan tfidf\n",
        "from sklearn.feature_extraction.text import TfidfVectorizer\n",
        "\n",
        "vectorizer = TfidfVectorizer()\n",
        "vectorizer.fit(x_train)"
      ]
    },
    {
      "cell_type": "code",
      "execution_count": null,
      "metadata": {
        "colab": {
          "base_uri": "https://localhost:8080/"
        },
        "outputId": "799793b6-7da3-42d5-db38-f63ebfc6a29a",
        "id": "nxaEy40u6llC"
      },
      "outputs": [
        {
          "output_type": "stream",
          "name": "stdout",
          "text": [
            "(2357, 10476)\n",
            "(2357, 10476)\n"
          ]
        }
      ],
      "source": [
        "#@title pembobotan TFIDF pada x_train dan x_test\n",
        "x_train = vectorizer.fit_transform(x_train)\n",
        "x_test = vectorizer.transform(x_test)\n",
        "\n",
        "print(x_test.shape)\n",
        "print(x_test.shape)"
      ]
    },
    {
      "cell_type": "code",
      "execution_count": null,
      "metadata": {
        "colab": {
          "base_uri": "https://localhost:8080/"
        },
        "outputId": "1778b96e-a24f-4b94-a000-6ddb8904b377",
        "id": "aV7t2N-76llD"
      },
      "outputs": [
        {
          "output_type": "execute_result",
          "data": {
            "text/plain": [
              "array([[0., 0., 0., ..., 0., 0., 0.],\n",
              "       [0., 0., 0., ..., 0., 0., 0.],\n",
              "       [0., 0., 0., ..., 0., 0., 0.],\n",
              "       ...,\n",
              "       [0., 0., 0., ..., 0., 0., 0.],\n",
              "       [0., 0., 0., ..., 0., 0., 0.],\n",
              "       [0., 0., 0., ..., 0., 0., 0.]])"
            ]
          },
          "metadata": {},
          "execution_count": 41
        }
      ],
      "source": [
        "x_train.toarray()"
      ]
    },
    {
      "cell_type": "markdown",
      "source": [
        "### Decision Tree"
      ],
      "metadata": {
        "id": "8Z9GYaG_6llD"
      }
    },
    {
      "cell_type": "code",
      "source": [
        "#@title training model\n",
        "from sklearn.tree import DecisionTreeClassifier\n",
        "from sklearn.metrics import accuracy_score\n",
        "\n",
        "tree = DecisionTreeClassifier()\n",
        "tree.fit(x_train, y_train)"
      ],
      "metadata": {
        "colab": {
          "base_uri": "https://localhost:8080/",
          "height": 75
        },
        "outputId": "4799d551-1cb7-4b73-b92f-bd1aab9fdae3",
        "id": "Uq8HgxiT6llD"
      },
      "execution_count": null,
      "outputs": [
        {
          "output_type": "execute_result",
          "data": {
            "text/plain": [
              "DecisionTreeClassifier()"
            ],
            "text/html": [
              "<style>#sk-container-id-5 {color: black;background-color: white;}#sk-container-id-5 pre{padding: 0;}#sk-container-id-5 div.sk-toggleable {background-color: white;}#sk-container-id-5 label.sk-toggleable__label {cursor: pointer;display: block;width: 100%;margin-bottom: 0;padding: 0.3em;box-sizing: border-box;text-align: center;}#sk-container-id-5 label.sk-toggleable__label-arrow:before {content: \"▸\";float: left;margin-right: 0.25em;color: #696969;}#sk-container-id-5 label.sk-toggleable__label-arrow:hover:before {color: black;}#sk-container-id-5 div.sk-estimator:hover label.sk-toggleable__label-arrow:before {color: black;}#sk-container-id-5 div.sk-toggleable__content {max-height: 0;max-width: 0;overflow: hidden;text-align: left;background-color: #f0f8ff;}#sk-container-id-5 div.sk-toggleable__content pre {margin: 0.2em;color: black;border-radius: 0.25em;background-color: #f0f8ff;}#sk-container-id-5 input.sk-toggleable__control:checked~div.sk-toggleable__content {max-height: 200px;max-width: 100%;overflow: auto;}#sk-container-id-5 input.sk-toggleable__control:checked~label.sk-toggleable__label-arrow:before {content: \"▾\";}#sk-container-id-5 div.sk-estimator input.sk-toggleable__control:checked~label.sk-toggleable__label {background-color: #d4ebff;}#sk-container-id-5 div.sk-label input.sk-toggleable__control:checked~label.sk-toggleable__label {background-color: #d4ebff;}#sk-container-id-5 input.sk-hidden--visually {border: 0;clip: rect(1px 1px 1px 1px);clip: rect(1px, 1px, 1px, 1px);height: 1px;margin: -1px;overflow: hidden;padding: 0;position: absolute;width: 1px;}#sk-container-id-5 div.sk-estimator {font-family: monospace;background-color: #f0f8ff;border: 1px dotted black;border-radius: 0.25em;box-sizing: border-box;margin-bottom: 0.5em;}#sk-container-id-5 div.sk-estimator:hover {background-color: #d4ebff;}#sk-container-id-5 div.sk-parallel-item::after {content: \"\";width: 100%;border-bottom: 1px solid gray;flex-grow: 1;}#sk-container-id-5 div.sk-label:hover label.sk-toggleable__label {background-color: #d4ebff;}#sk-container-id-5 div.sk-serial::before {content: \"\";position: absolute;border-left: 1px solid gray;box-sizing: border-box;top: 0;bottom: 0;left: 50%;z-index: 0;}#sk-container-id-5 div.sk-serial {display: flex;flex-direction: column;align-items: center;background-color: white;padding-right: 0.2em;padding-left: 0.2em;position: relative;}#sk-container-id-5 div.sk-item {position: relative;z-index: 1;}#sk-container-id-5 div.sk-parallel {display: flex;align-items: stretch;justify-content: center;background-color: white;position: relative;}#sk-container-id-5 div.sk-item::before, #sk-container-id-5 div.sk-parallel-item::before {content: \"\";position: absolute;border-left: 1px solid gray;box-sizing: border-box;top: 0;bottom: 0;left: 50%;z-index: -1;}#sk-container-id-5 div.sk-parallel-item {display: flex;flex-direction: column;z-index: 1;position: relative;background-color: white;}#sk-container-id-5 div.sk-parallel-item:first-child::after {align-self: flex-end;width: 50%;}#sk-container-id-5 div.sk-parallel-item:last-child::after {align-self: flex-start;width: 50%;}#sk-container-id-5 div.sk-parallel-item:only-child::after {width: 0;}#sk-container-id-5 div.sk-dashed-wrapped {border: 1px dashed gray;margin: 0 0.4em 0.5em 0.4em;box-sizing: border-box;padding-bottom: 0.4em;background-color: white;}#sk-container-id-5 div.sk-label label {font-family: monospace;font-weight: bold;display: inline-block;line-height: 1.2em;}#sk-container-id-5 div.sk-label-container {text-align: center;}#sk-container-id-5 div.sk-container {/* jupyter's `normalize.less` sets `[hidden] { display: none; }` but bootstrap.min.css set `[hidden] { display: none !important; }` so we also need the `!important` here to be able to override the default hidden behavior on the sphinx rendered scikit-learn.org. See: https://github.com/scikit-learn/scikit-learn/issues/21755 */display: inline-block !important;position: relative;}#sk-container-id-5 div.sk-text-repr-fallback {display: none;}</style><div id=\"sk-container-id-5\" class=\"sk-top-container\"><div class=\"sk-text-repr-fallback\"><pre>DecisionTreeClassifier()</pre><b>In a Jupyter environment, please rerun this cell to show the HTML representation or trust the notebook. <br />On GitHub, the HTML representation is unable to render, please try loading this page with nbviewer.org.</b></div><div class=\"sk-container\" hidden><div class=\"sk-item\"><div class=\"sk-estimator sk-toggleable\"><input class=\"sk-toggleable__control sk-hidden--visually\" id=\"sk-estimator-id-5\" type=\"checkbox\" checked><label for=\"sk-estimator-id-5\" class=\"sk-toggleable__label sk-toggleable__label-arrow\">DecisionTreeClassifier</label><div class=\"sk-toggleable__content\"><pre>DecisionTreeClassifier()</pre></div></div></div></div></div>"
            ]
          },
          "metadata": {},
          "execution_count": 42
        }
      ]
    },
    {
      "cell_type": "code",
      "source": [
        "#@title prediksi x_test yang ditampung ke y_pred\n",
        "y_pred = tree.predict(x_test)"
      ],
      "metadata": {
        "id": "_GJO_22z6llE"
      },
      "execution_count": null,
      "outputs": []
    },
    {
      "cell_type": "code",
      "source": [
        "algo = [\"Decision Tree\", \"Naive Bayes\"]\n",
        "split_data_form = {\n",
        "    \"80:20\" : 0,\n",
        "    \"70:30\" : 1,\n",
        "    \"60:40\" : 2\n",
        "}\n",
        "df_eval['Akurasi ' + algo[0]][split_data_form[\"70:30\"]] = accuracy_score(y_test, y_pred)"
      ],
      "metadata": {
        "id": "gBfZFOxtwUkK",
        "colab": {
          "base_uri": "https://localhost:8080/"
        },
        "outputId": "a37f3f52-ba26-4144-e9b3-cb6d72997d16"
      },
      "execution_count": null,
      "outputs": [
        {
          "output_type": "stream",
          "name": "stderr",
          "text": [
            "<ipython-input-44-37d2d7aec849>:7: SettingWithCopyWarning: \n",
            "A value is trying to be set on a copy of a slice from a DataFrame\n",
            "\n",
            "See the caveats in the documentation: https://pandas.pydata.org/pandas-docs/stable/user_guide/indexing.html#returning-a-view-versus-a-copy\n",
            "  df_eval['Akurasi ' + algo[0]][split_data_form[\"70:30\"]] = accuracy_score(y_test, y_pred)\n"
          ]
        }
      ]
    },
    {
      "cell_type": "code",
      "source": [
        "print('Akurasi Decision Tree : %s ' %accuracy_score(y_test, y_pred))"
      ],
      "metadata": {
        "colab": {
          "base_uri": "https://localhost:8080/"
        },
        "outputId": "afb4e9c3-5f6b-4b6f-8f9a-116de7d22566",
        "id": "IscNc-sr6llE"
      },
      "execution_count": null,
      "outputs": [
        {
          "output_type": "stream",
          "name": "stdout",
          "text": [
            "Akurasi Decision Tree : 0.5829444208739923 \n"
          ]
        }
      ]
    },
    {
      "cell_type": "code",
      "source": [
        "#@title evaluasi model\n",
        "from sklearn.metrics import  confusion_matrix\n",
        "from sklearn.metrics import classification_report\n",
        "\n",
        "confusion_matrix = confusion_matrix(y_test, y_pred)\n",
        "print(confusion_matrix)\n",
        "print(classification_report(y_test, y_pred))"
      ],
      "metadata": {
        "colab": {
          "base_uri": "https://localhost:8080/"
        },
        "outputId": "a2ab5ce7-75d0-4830-a0c8-b5687047bef1",
        "id": "J_ixJslR6llE"
      },
      "execution_count": null,
      "outputs": [
        {
          "output_type": "stream",
          "name": "stdout",
          "text": [
            "[[700 271 163]\n",
            " [227 439 100]\n",
            " [141  81 235]]\n",
            "              precision    recall  f1-score   support\n",
            "\n",
            "     negatif       0.66      0.62      0.64      1134\n",
            "      netral       0.55      0.57      0.56       766\n",
            "     positif       0.47      0.51      0.49       457\n",
            "\n",
            "    accuracy                           0.58      2357\n",
            "   macro avg       0.56      0.57      0.56      2357\n",
            "weighted avg       0.59      0.58      0.58      2357\n",
            "\n"
          ]
        }
      ]
    },
    {
      "cell_type": "code",
      "source": [
        "#@title plotting confussion matrix\n",
        "import matplotlib.pyplot as plt\n",
        "from sklearn import metrics\n",
        "\n",
        "cm_display = metrics.ConfusionMatrixDisplay(confusion_matrix = confusion_matrix, display_labels = df_preprocessed['label'].unique().tolist())\n",
        "cm_display.plot()\n",
        "plt.show()"
      ],
      "metadata": {
        "colab": {
          "base_uri": "https://localhost:8080/",
          "height": 455
        },
        "outputId": "03648894-99ca-4d6d-c00b-1fee17399130",
        "id": "w8pqbBKp6llE"
      },
      "execution_count": null,
      "outputs": [
        {
          "output_type": "display_data",
          "data": {
            "text/plain": [
              "<Figure size 640x480 with 2 Axes>"
            ],
            "image/png": "[encoded data removed]"
          },
          "metadata": {}
        }
      ]
    },
    {
      "cell_type": "markdown",
      "source": [
        "### Naive Bayes"
      ],
      "metadata": {
        "id": "xo8ikJvr6llF"
      }
    },
    {
      "cell_type": "code",
      "source": [
        "#@title training model\n",
        "from sklearn.naive_bayes import MultinomialNB\n",
        "from sklearn.metrics import accuracy_score\n",
        "\n",
        "nb = MultinomialNB()\n",
        "nb.fit(x_train, y_train)"
      ],
      "metadata": {
        "colab": {
          "base_uri": "https://localhost:8080/",
          "height": 75
        },
        "outputId": "bd025e1b-00ec-4b2d-a8d4-7eed863d7cf4",
        "id": "DKFQuwXf6llF"
      },
      "execution_count": null,
      "outputs": [
        {
          "output_type": "execute_result",
          "data": {
            "text/plain": [
              "MultinomialNB()"
            ],
            "text/html": [
              "<style>#sk-container-id-6 {color: black;background-color: white;}#sk-container-id-6 pre{padding: 0;}#sk-container-id-6 div.sk-toggleable {background-color: white;}#sk-container-id-6 label.sk-toggleable__label {cursor: pointer;display: block;width: 100%;margin-bottom: 0;padding: 0.3em;box-sizing: border-box;text-align: center;}#sk-container-id-6 label.sk-toggleable__label-arrow:before {content: \"▸\";float: left;margin-right: 0.25em;color: #696969;}#sk-container-id-6 label.sk-toggleable__label-arrow:hover:before {color: black;}#sk-container-id-6 div.sk-estimator:hover label.sk-toggleable__label-arrow:before {color: black;}#sk-container-id-6 div.sk-toggleable__content {max-height: 0;max-width: 0;overflow: hidden;text-align: left;background-color: #f0f8ff;}#sk-container-id-6 div.sk-toggleable__content pre {margin: 0.2em;color: black;border-radius: 0.25em;background-color: #f0f8ff;}#sk-container-id-6 input.sk-toggleable__control:checked~div.sk-toggleable__content {max-height: 200px;max-width: 100%;overflow: auto;}#sk-container-id-6 input.sk-toggleable__control:checked~label.sk-toggleable__label-arrow:before {content: \"▾\";}#sk-container-id-6 div.sk-estimator input.sk-toggleable__control:checked~label.sk-toggleable__label {background-color: #d4ebff;}#sk-container-id-6 div.sk-label input.sk-toggleable__control:checked~label.sk-toggleable__label {background-color: #d4ebff;}#sk-container-id-6 input.sk-hidden--visually {border: 0;clip: rect(1px 1px 1px 1px);clip: rect(1px, 1px, 1px, 1px);height: 1px;margin: -1px;overflow: hidden;padding: 0;position: absolute;width: 1px;}#sk-container-id-6 div.sk-estimator {font-family: monospace;background-color: #f0f8ff;border: 1px dotted black;border-radius: 0.25em;box-sizing: border-box;margin-bottom: 0.5em;}#sk-container-id-6 div.sk-estimator:hover {background-color: #d4ebff;}#sk-container-id-6 div.sk-parallel-item::after {content: \"\";width: 100%;border-bottom: 1px solid gray;flex-grow: 1;}#sk-container-id-6 div.sk-label:hover label.sk-toggleable__label {background-color: #d4ebff;}#sk-container-id-6 div.sk-serial::before {content: \"\";position: absolute;border-left: 1px solid gray;box-sizing: border-box;top: 0;bottom: 0;left: 50%;z-index: 0;}#sk-container-id-6 div.sk-serial {display: flex;flex-direction: column;align-items: center;background-color: white;padding-right: 0.2em;padding-left: 0.2em;position: relative;}#sk-container-id-6 div.sk-item {position: relative;z-index: 1;}#sk-container-id-6 div.sk-parallel {display: flex;align-items: stretch;justify-content: center;background-color: white;position: relative;}#sk-container-id-6 div.sk-item::before, #sk-container-id-6 div.sk-parallel-item::before {content: \"\";position: absolute;border-left: 1px solid gray;box-sizing: border-box;top: 0;bottom: 0;left: 50%;z-index: -1;}#sk-container-id-6 div.sk-parallel-item {display: flex;flex-direction: column;z-index: 1;position: relative;background-color: white;}#sk-container-id-6 div.sk-parallel-item:first-child::after {align-self: flex-end;width: 50%;}#sk-container-id-6 div.sk-parallel-item:last-child::after {align-self: flex-start;width: 50%;}#sk-container-id-6 div.sk-parallel-item:only-child::after {width: 0;}#sk-container-id-6 div.sk-dashed-wrapped {border: 1px dashed gray;margin: 0 0.4em 0.5em 0.4em;box-sizing: border-box;padding-bottom: 0.4em;background-color: white;}#sk-container-id-6 div.sk-label label {font-family: monospace;font-weight: bold;display: inline-block;line-height: 1.2em;}#sk-container-id-6 div.sk-label-container {text-align: center;}#sk-container-id-6 div.sk-container {/* jupyter's `normalize.less` sets `[hidden] { display: none; }` but bootstrap.min.css set `[hidden] { display: none !important; }` so we also need the `!important` here to be able to override the default hidden behavior on the sphinx rendered scikit-learn.org. See: https://github.com/scikit-learn/scikit-learn/issues/21755 */display: inline-block !important;position: relative;}#sk-container-id-6 div.sk-text-repr-fallback {display: none;}</style><div id=\"sk-container-id-6\" class=\"sk-top-container\"><div class=\"sk-text-repr-fallback\"><pre>MultinomialNB()</pre><b>In a Jupyter environment, please rerun this cell to show the HTML representation or trust the notebook. <br />On GitHub, the HTML representation is unable to render, please try loading this page with nbviewer.org.</b></div><div class=\"sk-container\" hidden><div class=\"sk-item\"><div class=\"sk-estimator sk-toggleable\"><input class=\"sk-toggleable__control sk-hidden--visually\" id=\"sk-estimator-id-6\" type=\"checkbox\" checked><label for=\"sk-estimator-id-6\" class=\"sk-toggleable__label sk-toggleable__label-arrow\">MultinomialNB</label><div class=\"sk-toggleable__content\"><pre>MultinomialNB()</pre></div></div></div></div></div>"
            ]
          },
          "metadata": {},
          "execution_count": 48
        }
      ]
    },
    {
      "cell_type": "code",
      "source": [
        "#@title prediksi x_test yang ditampung ke y_pred\n",
        "y_pred = nb.predict(x_test)"
      ],
      "metadata": {
        "id": "R9LCRbph6llF"
      },
      "execution_count": null,
      "outputs": []
    },
    {
      "cell_type": "code",
      "source": [
        "algo = [\"Decision Tree\", \"Naive Bayes\"]\n",
        "split_data_form = {\n",
        "    \"80:20\" : 0,\n",
        "    \"70:30\" : 1,\n",
        "    \"60:40\" : 2\n",
        "}\n",
        "df_eval['Akurasi ' + algo[1]][split_data_form[\"70:30\"]] = accuracy_score(y_test, y_pred)"
      ],
      "metadata": {
        "id": "6my0YhVDwYZ_",
        "colab": {
          "base_uri": "https://localhost:8080/"
        },
        "outputId": "1e78d5f6-32e5-497e-d25d-89cb6d7c7c48"
      },
      "execution_count": null,
      "outputs": [
        {
          "output_type": "stream",
          "name": "stderr",
          "text": [
            "<ipython-input-50-7f30226f1a34>:7: SettingWithCopyWarning: \n",
            "A value is trying to be set on a copy of a slice from a DataFrame\n",
            "\n",
            "See the caveats in the documentation: https://pandas.pydata.org/pandas-docs/stable/user_guide/indexing.html#returning-a-view-versus-a-copy\n",
            "  df_eval['Akurasi ' + algo[1]][split_data_form[\"70:30\"]] = accuracy_score(y_test, y_pred)\n"
          ]
        }
      ]
    },
    {
      "cell_type": "code",
      "source": [
        "print('Akurasi Naive Bayes : %s ' %accuracy_score(y_test, y_pred))"
      ],
      "metadata": {
        "colab": {
          "base_uri": "https://localhost:8080/"
        },
        "outputId": "a103016c-01da-4dd8-86a7-f8f3fa862b1d",
        "id": "FwdHVUbk6llF"
      },
      "execution_count": null,
      "outputs": [
        {
          "output_type": "stream",
          "name": "stdout",
          "text": [
            "Akurasi Naive Bayes : 0.5473058973271108 \n"
          ]
        }
      ]
    },
    {
      "cell_type": "code",
      "source": [
        "#@title evaluasi model\n",
        "from sklearn.metrics import  confusion_matrix\n",
        "from sklearn.metrics import classification_report\n",
        "\n",
        "confusion_matrix = confusion_matrix(y_test, y_pred)\n",
        "print(confusion_matrix)\n",
        "print(classification_report(y_test, y_pred))"
      ],
      "metadata": {
        "colab": {
          "base_uri": "https://localhost:8080/"
        },
        "outputId": "28aecff7-3e84-40e8-d3fe-a66c6a730c41",
        "id": "zPTJgnQc6llG"
      },
      "execution_count": null,
      "outputs": [
        {
          "output_type": "stream",
          "name": "stdout",
          "text": [
            "[[1123   11    0]\n",
            " [ 657  106    3]\n",
            " [ 383   13   61]]\n",
            "              precision    recall  f1-score   support\n",
            "\n",
            "     negatif       0.52      0.99      0.68      1134\n",
            "      netral       0.82      0.14      0.24       766\n",
            "     positif       0.95      0.13      0.23       457\n",
            "\n",
            "    accuracy                           0.55      2357\n",
            "   macro avg       0.76      0.42      0.38      2357\n",
            "weighted avg       0.70      0.55      0.45      2357\n",
            "\n"
          ]
        }
      ]
    },
    {
      "cell_type": "code",
      "source": [
        "#@title plotting confussion matrix\n",
        "import matplotlib.pyplot as plt\n",
        "from sklearn import metrics\n",
        "\n",
        "cm_display = metrics.ConfusionMatrixDisplay(confusion_matrix = confusion_matrix, display_labels = df_preprocessed['label'].unique().tolist())\n",
        "cm_display.plot()\n",
        "plt.show()"
      ],
      "metadata": {
        "colab": {
          "base_uri": "https://localhost:8080/",
          "height": 449
        },
        "outputId": "986503df-a5e3-49fa-9ee5-b2d1487959f6",
        "id": "8iAkVej06llG"
      },
      "execution_count": null,
      "outputs": [
        {
          "output_type": "display_data",
          "data": {
            "text/plain": [
              "<Figure size 640x480 with 2 Axes>"
            ],
            "image/png": "[encoded data removed]"
          },
          "metadata": {}
        }
      ]
    },
    {
      "cell_type": "markdown",
      "source": [
        "## Decision Tree Dan Naive Bayes pada formasi Split Data 60%:40%\n",
        "Ini adalah percobaan komparasi antara algoritma decision tree dan naive bayes pada formasi split data 60:40 atau data training 60% dari dataset sedangkan data test 40% dari dataset"
      ],
      "metadata": {
        "id": "E3X1XUOU6pg1"
      }
    },
    {
      "cell_type": "markdown",
      "metadata": {
        "id": "z3S6NdG86pg9"
      },
      "source": [
        "### membagi data train dan data test"
      ]
    },
    {
      "cell_type": "code",
      "execution_count": null,
      "metadata": {
        "id": "evqpaduF6pg-"
      },
      "outputs": [],
      "source": [
        "from sklearn.model_selection import train_test_split\n",
        "x_train,x_test, y_train, y_test = train_test_split(df_preprocessed[fitur + \"_Filtering\"],df_preprocessed[label],\n",
        "                                                   test_size=0.4, stratify=df_preprocessed[label], random_state=0)"
      ]
    },
    {
      "cell_type": "markdown",
      "source": [
        "### pembobotan TFID"
      ],
      "metadata": {
        "id": "FtGfcVUR6pg-"
      }
    },
    {
      "cell_type": "code",
      "execution_count": null,
      "metadata": {
        "colab": {
          "base_uri": "https://localhost:8080/",
          "height": 75
        },
        "outputId": "e3bd6919-bcdc-4ffb-a5f0-3eb6bf402ec3",
        "id": "xIMTMQrY6pg-"
      },
      "outputs": [
        {
          "output_type": "execute_result",
          "data": {
            "text/plain": [
              "TfidfVectorizer()"
            ],
            "text/html": [
              "<style>#sk-container-id-7 {color: black;background-color: white;}#sk-container-id-7 pre{padding: 0;}#sk-container-id-7 div.sk-toggleable {background-color: white;}#sk-container-id-7 label.sk-toggleable__label {cursor: pointer;display: block;width: 100%;margin-bottom: 0;padding: 0.3em;box-sizing: border-box;text-align: center;}#sk-container-id-7 label.sk-toggleable__label-arrow:before {content: \"▸\";float: left;margin-right: 0.25em;color: #696969;}#sk-container-id-7 label.sk-toggleable__label-arrow:hover:before {color: black;}#sk-container-id-7 div.sk-estimator:hover label.sk-toggleable__label-arrow:before {color: black;}#sk-container-id-7 div.sk-toggleable__content {max-height: 0;max-width: 0;overflow: hidden;text-align: left;background-color: #f0f8ff;}#sk-container-id-7 div.sk-toggleable__content pre {margin: 0.2em;color: black;border-radius: 0.25em;background-color: #f0f8ff;}#sk-container-id-7 input.sk-toggleable__control:checked~div.sk-toggleable__content {max-height: 200px;max-width: 100%;overflow: auto;}#sk-container-id-7 input.sk-toggleable__control:checked~label.sk-toggleable__label-arrow:before {content: \"▾\";}#sk-container-id-7 div.sk-estimator input.sk-toggleable__control:checked~label.sk-toggleable__label {background-color: #d4ebff;}#sk-container-id-7 div.sk-label input.sk-toggleable__control:checked~label.sk-toggleable__label {background-color: #d4ebff;}#sk-container-id-7 input.sk-hidden--visually {border: 0;clip: rect(1px 1px 1px 1px);clip: rect(1px, 1px, 1px, 1px);height: 1px;margin: -1px;overflow: hidden;padding: 0;position: absolute;width: 1px;}#sk-container-id-7 div.sk-estimator {font-family: monospace;background-color: #f0f8ff;border: 1px dotted black;border-radius: 0.25em;box-sizing: border-box;margin-bottom: 0.5em;}#sk-container-id-7 div.sk-estimator:hover {background-color: #d4ebff;}#sk-container-id-7 div.sk-parallel-item::after {content: \"\";width: 100%;border-bottom: 1px solid gray;flex-grow: 1;}#sk-container-id-7 div.sk-label:hover label.sk-toggleable__label {background-color: #d4ebff;}#sk-container-id-7 div.sk-serial::before {content: \"\";position: absolute;border-left: 1px solid gray;box-sizing: border-box;top: 0;bottom: 0;left: 50%;z-index: 0;}#sk-container-id-7 div.sk-serial {display: flex;flex-direction: column;align-items: center;background-color: white;padding-right: 0.2em;padding-left: 0.2em;position: relative;}#sk-container-id-7 div.sk-item {position: relative;z-index: 1;}#sk-container-id-7 div.sk-parallel {display: flex;align-items: stretch;justify-content: center;background-color: white;position: relative;}#sk-container-id-7 div.sk-item::before, #sk-container-id-7 div.sk-parallel-item::before {content: \"\";position: absolute;border-left: 1px solid gray;box-sizing: border-box;top: 0;bottom: 0;left: 50%;z-index: -1;}#sk-container-id-7 div.sk-parallel-item {display: flex;flex-direction: column;z-index: 1;position: relative;background-color: white;}#sk-container-id-7 div.sk-parallel-item:first-child::after {align-self: flex-end;width: 50%;}#sk-container-id-7 div.sk-parallel-item:last-child::after {align-self: flex-start;width: 50%;}#sk-container-id-7 div.sk-parallel-item:only-child::after {width: 0;}#sk-container-id-7 div.sk-dashed-wrapped {border: 1px dashed gray;margin: 0 0.4em 0.5em 0.4em;box-sizing: border-box;padding-bottom: 0.4em;background-color: white;}#sk-container-id-7 div.sk-label label {font-family: monospace;font-weight: bold;display: inline-block;line-height: 1.2em;}#sk-container-id-7 div.sk-label-container {text-align: center;}#sk-container-id-7 div.sk-container {/* jupyter's `normalize.less` sets `[hidden] { display: none; }` but bootstrap.min.css set `[hidden] { display: none !important; }` so we also need the `!important` here to be able to override the default hidden behavior on the sphinx rendered scikit-learn.org. See: https://github.com/scikit-learn/scikit-learn/issues/21755 */display: inline-block !important;position: relative;}#sk-container-id-7 div.sk-text-repr-fallback {display: none;}</style><div id=\"sk-container-id-7\" class=\"sk-top-container\"><div class=\"sk-text-repr-fallback\"><pre>TfidfVectorizer()</pre><b>In a Jupyter environment, please rerun this cell to show the HTML representation or trust the notebook. <br />On GitHub, the HTML representation is unable to render, please try loading this page with nbviewer.org.</b></div><div class=\"sk-container\" hidden><div class=\"sk-item\"><div class=\"sk-estimator sk-toggleable\"><input class=\"sk-toggleable__control sk-hidden--visually\" id=\"sk-estimator-id-7\" type=\"checkbox\" checked><label for=\"sk-estimator-id-7\" class=\"sk-toggleable__label sk-toggleable__label-arrow\">TfidfVectorizer</label><div class=\"sk-toggleable__content\"><pre>TfidfVectorizer()</pre></div></div></div></div></div>"
            ]
          },
          "metadata": {},
          "execution_count": 55
        }
      ],
      "source": [
        "#@title inisiasi pembobotan tfidf\n",
        "from sklearn.feature_extraction.text import TfidfVectorizer\n",
        "\n",
        "vectorizer = TfidfVectorizer()\n",
        "vectorizer.fit(x_train)"
      ]
    },
    {
      "cell_type": "code",
      "execution_count": null,
      "metadata": {
        "colab": {
          "base_uri": "https://localhost:8080/"
        },
        "outputId": "87f3ae0d-5066-40ce-ad03-dcf2885cfe81",
        "id": "lJllc65r6pg_"
      },
      "outputs": [
        {
          "output_type": "stream",
          "name": "stdout",
          "text": [
            "(3142, 9555)\n",
            "(3142, 9555)\n"
          ]
        }
      ],
      "source": [
        "#@title pembobotan TFIDF pada x_train dan x_test\n",
        "x_train = vectorizer.fit_transform(x_train)\n",
        "x_test = vectorizer.transform(x_test)\n",
        "\n",
        "print(x_test.shape)\n",
        "print(x_test.shape)"
      ]
    },
    {
      "cell_type": "code",
      "execution_count": null,
      "metadata": {
        "colab": {
          "base_uri": "https://localhost:8080/"
        },
        "outputId": "c2e14d41-98f4-429a-e4cd-1e452a3f5605",
        "id": "EU3n8EYp6pg_"
      },
      "outputs": [
        {
          "output_type": "execute_result",
          "data": {
            "text/plain": [
              "array([[0., 0., 0., ..., 0., 0., 0.],\n",
              "       [0., 0., 0., ..., 0., 0., 0.],\n",
              "       [0., 0., 0., ..., 0., 0., 0.],\n",
              "       ...,\n",
              "       [0., 0., 0., ..., 0., 0., 0.],\n",
              "       [0., 0., 0., ..., 0., 0., 0.],\n",
              "       [0., 0., 0., ..., 0., 0., 0.]])"
            ]
          },
          "metadata": {},
          "execution_count": 57
        }
      ],
      "source": [
        "x_train.toarray()"
      ]
    },
    {
      "cell_type": "markdown",
      "source": [
        "### Decision Tree"
      ],
      "metadata": {
        "id": "9pf-sT9X6phA"
      }
    },
    {
      "cell_type": "code",
      "source": [
        "#@title training model\n",
        "from sklearn.tree import DecisionTreeClassifier\n",
        "from sklearn.metrics import accuracy_score\n",
        "\n",
        "tree = DecisionTreeClassifier()\n",
        "tree.fit(x_train, y_train)"
      ],
      "metadata": {
        "colab": {
          "base_uri": "https://localhost:8080/",
          "height": 75
        },
        "outputId": "cb7a89f9-9dbf-4fdc-e2c8-697d4339d846",
        "id": "8JK4BIwf6phA"
      },
      "execution_count": null,
      "outputs": [
        {
          "output_type": "execute_result",
          "data": {
            "text/plain": [
              "DecisionTreeClassifier()"
            ],
            "text/html": [
              "<style>#sk-container-id-8 {color: black;background-color: white;}#sk-container-id-8 pre{padding: 0;}#sk-container-id-8 div.sk-toggleable {background-color: white;}#sk-container-id-8 label.sk-toggleable__label {cursor: pointer;display: block;width: 100%;margin-bottom: 0;padding: 0.3em;box-sizing: border-box;text-align: center;}#sk-container-id-8 label.sk-toggleable__label-arrow:before {content: \"▸\";float: left;margin-right: 0.25em;color: #696969;}#sk-container-id-8 label.sk-toggleable__label-arrow:hover:before {color: black;}#sk-container-id-8 div.sk-estimator:hover label.sk-toggleable__label-arrow:before {color: black;}#sk-container-id-8 div.sk-toggleable__content {max-height: 0;max-width: 0;overflow: hidden;text-align: left;background-color: #f0f8ff;}#sk-container-id-8 div.sk-toggleable__content pre {margin: 0.2em;color: black;border-radius: 0.25em;background-color: #f0f8ff;}#sk-container-id-8 input.sk-toggleable__control:checked~div.sk-toggleable__content {max-height: 200px;max-width: 100%;overflow: auto;}#sk-container-id-8 input.sk-toggleable__control:checked~label.sk-toggleable__label-arrow:before {content: \"▾\";}#sk-container-id-8 div.sk-estimator input.sk-toggleable__control:checked~label.sk-toggleable__label {background-color: #d4ebff;}#sk-container-id-8 div.sk-label input.sk-toggleable__control:checked~label.sk-toggleable__label {background-color: #d4ebff;}#sk-container-id-8 input.sk-hidden--visually {border: 0;clip: rect(1px 1px 1px 1px);clip: rect(1px, 1px, 1px, 1px);height: 1px;margin: -1px;overflow: hidden;padding: 0;position: absolute;width: 1px;}#sk-container-id-8 div.sk-estimator {font-family: monospace;background-color: #f0f8ff;border: 1px dotted black;border-radius: 0.25em;box-sizing: border-box;margin-bottom: 0.5em;}#sk-container-id-8 div.sk-estimator:hover {background-color: #d4ebff;}#sk-container-id-8 div.sk-parallel-item::after {content: \"\";width: 100%;border-bottom: 1px solid gray;flex-grow: 1;}#sk-container-id-8 div.sk-label:hover label.sk-toggleable__label {background-color: #d4ebff;}#sk-container-id-8 div.sk-serial::before {content: \"\";position: absolute;border-left: 1px solid gray;box-sizing: border-box;top: 0;bottom: 0;left: 50%;z-index: 0;}#sk-container-id-8 div.sk-serial {display: flex;flex-direction: column;align-items: center;background-color: white;padding-right: 0.2em;padding-left: 0.2em;position: relative;}#sk-container-id-8 div.sk-item {position: relative;z-index: 1;}#sk-container-id-8 div.sk-parallel {display: flex;align-items: stretch;justify-content: center;background-color: white;position: relative;}#sk-container-id-8 div.sk-item::before, #sk-container-id-8 div.sk-parallel-item::before {content: \"\";position: absolute;border-left: 1px solid gray;box-sizing: border-box;top: 0;bottom: 0;left: 50%;z-index: -1;}#sk-container-id-8 div.sk-parallel-item {display: flex;flex-direction: column;z-index: 1;position: relative;background-color: white;}#sk-container-id-8 div.sk-parallel-item:first-child::after {align-self: flex-end;width: 50%;}#sk-container-id-8 div.sk-parallel-item:last-child::after {align-self: flex-start;width: 50%;}#sk-container-id-8 div.sk-parallel-item:only-child::after {width: 0;}#sk-container-id-8 div.sk-dashed-wrapped {border: 1px dashed gray;margin: 0 0.4em 0.5em 0.4em;box-sizing: border-box;padding-bottom: 0.4em;background-color: white;}#sk-container-id-8 div.sk-label label {font-family: monospace;font-weight: bold;display: inline-block;line-height: 1.2em;}#sk-container-id-8 div.sk-label-container {text-align: center;}#sk-container-id-8 div.sk-container {/* jupyter's `normalize.less` sets `[hidden] { display: none; }` but bootstrap.min.css set `[hidden] { display: none !important; }` so we also need the `!important` here to be able to override the default hidden behavior on the sphinx rendered scikit-learn.org. See: https://github.com/scikit-learn/scikit-learn/issues/21755 */display: inline-block !important;position: relative;}#sk-container-id-8 div.sk-text-repr-fallback {display: none;}</style><div id=\"sk-container-id-8\" class=\"sk-top-container\"><div class=\"sk-text-repr-fallback\"><pre>DecisionTreeClassifier()</pre><b>In a Jupyter environment, please rerun this cell to show the HTML representation or trust the notebook. <br />On GitHub, the HTML representation is unable to render, please try loading this page with nbviewer.org.</b></div><div class=\"sk-container\" hidden><div class=\"sk-item\"><div class=\"sk-estimator sk-toggleable\"><input class=\"sk-toggleable__control sk-hidden--visually\" id=\"sk-estimator-id-8\" type=\"checkbox\" checked><label for=\"sk-estimator-id-8\" class=\"sk-toggleable__label sk-toggleable__label-arrow\">DecisionTreeClassifier</label><div class=\"sk-toggleable__content\"><pre>DecisionTreeClassifier()</pre></div></div></div></div></div>"
            ]
          },
          "metadata": {},
          "execution_count": 58
        }
      ]
    },
    {
      "cell_type": "code",
      "source": [
        "#@title prediksi x_test yang ditampung ke y_pred\n",
        "y_pred = tree.predict(x_test)"
      ],
      "metadata": {
        "id": "N7hOvic46phA"
      },
      "execution_count": null,
      "outputs": []
    },
    {
      "cell_type": "code",
      "source": [
        "algo = [\"Decision Tree\", \"Naive Bayes\"]\n",
        "split_data_form = {\n",
        "    \"80:20\" : 0,\n",
        "    \"70:30\" : 1,\n",
        "    \"60:40\" : 2\n",
        "}\n",
        "df_eval['Akurasi ' + algo[0]][split_data_form[\"60:40\"]] = accuracy_score(y_test, y_pred)"
      ],
      "metadata": {
        "id": "5rf3VBcEwdso",
        "colab": {
          "base_uri": "https://localhost:8080/"
        },
        "outputId": "ed70584c-98c2-45ba-c552-6f1ec5471baa"
      },
      "execution_count": null,
      "outputs": [
        {
          "output_type": "stream",
          "name": "stderr",
          "text": [
            "<ipython-input-60-4f01bfc440ad>:7: SettingWithCopyWarning: \n",
            "A value is trying to be set on a copy of a slice from a DataFrame\n",
            "\n",
            "See the caveats in the documentation: https://pandas.pydata.org/pandas-docs/stable/user_guide/indexing.html#returning-a-view-versus-a-copy\n",
            "  df_eval['Akurasi ' + algo[0]][split_data_form[\"60:40\"]] = accuracy_score(y_test, y_pred)\n"
          ]
        }
      ]
    },
    {
      "cell_type": "code",
      "source": [
        "print('Akurasi Decision Tree : %s ' %accuracy_score(y_test, y_pred))"
      ],
      "metadata": {
        "colab": {
          "base_uri": "https://localhost:8080/"
        },
        "outputId": "900ecba6-8ca4-4f59-bcad-ffe0ac53fbe3",
        "id": "u1Yyd-ei6phA"
      },
      "execution_count": null,
      "outputs": [
        {
          "output_type": "stream",
          "name": "stdout",
          "text": [
            "Akurasi Decision Tree : 0.5846594525779758 \n"
          ]
        }
      ]
    },
    {
      "cell_type": "code",
      "source": [
        "#@title evaluasi model\n",
        "from sklearn.metrics import  confusion_matrix\n",
        "from sklearn.metrics import classification_report\n",
        "\n",
        "confusion_matrix = confusion_matrix(y_test, y_pred)\n",
        "print(confusion_matrix)\n",
        "print(classification_report(y_test, y_pred))"
      ],
      "metadata": {
        "colab": {
          "base_uri": "https://localhost:8080/"
        },
        "outputId": "ba57ced3-c6b5-4b13-f6bc-756fff0ac85d",
        "id": "BXmTIV7k6phB"
      },
      "execution_count": null,
      "outputs": [
        {
          "output_type": "stream",
          "name": "stdout",
          "text": [
            "[[944 352 216]\n",
            " [302 589 129]\n",
            " [183 123 304]]\n",
            "              precision    recall  f1-score   support\n",
            "\n",
            "     negatif       0.66      0.62      0.64      1512\n",
            "      netral       0.55      0.58      0.57      1020\n",
            "     positif       0.47      0.50      0.48       610\n",
            "\n",
            "    accuracy                           0.58      3142\n",
            "   macro avg       0.56      0.57      0.56      3142\n",
            "weighted avg       0.59      0.58      0.59      3142\n",
            "\n"
          ]
        }
      ]
    },
    {
      "cell_type": "code",
      "source": [
        "#@title plotting confussion matrix\n",
        "import matplotlib.pyplot as plt\n",
        "from sklearn import metrics\n",
        "\n",
        "cm_display = metrics.ConfusionMatrixDisplay(confusion_matrix = confusion_matrix, display_labels = df_preprocessed['label'].unique().tolist())\n",
        "cm_display.plot()\n",
        "plt.show()"
      ],
      "metadata": {
        "colab": {
          "base_uri": "https://localhost:8080/",
          "height": 449
        },
        "outputId": "97c52978-8544-4ec2-ed53-a946ba0e4e95",
        "id": "6VLoj-FE6phB"
      },
      "execution_count": null,
      "outputs": [
        {
          "output_type": "display_data",
          "data": {
            "text/plain": [
              "<Figure size 640x480 with 2 Axes>"
            ],
            "image/png": "[encoded data removed]"
          },
          "metadata": {}
        }
      ]
    },
    {
      "cell_type": "markdown",
      "source": [
        "### Naive Bayes"
      ],
      "metadata": {
        "id": "WFgWTbPn6phC"
      }
    },
    {
      "cell_type": "code",
      "source": [
        "#@title training model\n",
        "from sklearn.naive_bayes import MultinomialNB\n",
        "from sklearn.metrics import accuracy_score\n",
        "\n",
        "nb = MultinomialNB()\n",
        "nb.fit(x_train, y_train)"
      ],
      "metadata": {
        "colab": {
          "base_uri": "https://localhost:8080/",
          "height": 75
        },
        "outputId": "686fc911-2280-4fa4-e08c-52d0f9579652",
        "id": "dlR2YjRp6phC"
      },
      "execution_count": null,
      "outputs": [
        {
          "output_type": "execute_result",
          "data": {
            "text/plain": [
              "MultinomialNB()"
            ],
            "text/html": [
              "<style>#sk-container-id-9 {color: black;background-color: white;}#sk-container-id-9 pre{padding: 0;}#sk-container-id-9 div.sk-toggleable {background-color: white;}#sk-container-id-9 label.sk-toggleable__label {cursor: pointer;display: block;width: 100%;margin-bottom: 0;padding: 0.3em;box-sizing: border-box;text-align: center;}#sk-container-id-9 label.sk-toggleable__label-arrow:before {content: \"▸\";float: left;margin-right: 0.25em;color: #696969;}#sk-container-id-9 label.sk-toggleable__label-arrow:hover:before {color: black;}#sk-container-id-9 div.sk-estimator:hover label.sk-toggleable__label-arrow:before {color: black;}#sk-container-id-9 div.sk-toggleable__content {max-height: 0;max-width: 0;overflow: hidden;text-align: left;background-color: #f0f8ff;}#sk-container-id-9 div.sk-toggleable__content pre {margin: 0.2em;color: black;border-radius: 0.25em;background-color: #f0f8ff;}#sk-container-id-9 input.sk-toggleable__control:checked~div.sk-toggleable__content {max-height: 200px;max-width: 100%;overflow: auto;}#sk-container-id-9 input.sk-toggleable__control:checked~label.sk-toggleable__label-arrow:before {content: \"▾\";}#sk-container-id-9 div.sk-estimator input.sk-toggleable__control:checked~label.sk-toggleable__label {background-color: #d4ebff;}#sk-container-id-9 div.sk-label input.sk-toggleable__control:checked~label.sk-toggleable__label {background-color: #d4ebff;}#sk-container-id-9 input.sk-hidden--visually {border: 0;clip: rect(1px 1px 1px 1px);clip: rect(1px, 1px, 1px, 1px);height: 1px;margin: -1px;overflow: hidden;padding: 0;position: absolute;width: 1px;}#sk-container-id-9 div.sk-estimator {font-family: monospace;background-color: #f0f8ff;border: 1px dotted black;border-radius: 0.25em;box-sizing: border-box;margin-bottom: 0.5em;}#sk-container-id-9 div.sk-estimator:hover {background-color: #d4ebff;}#sk-container-id-9 div.sk-parallel-item::after {content: \"\";width: 100%;border-bottom: 1px solid gray;flex-grow: 1;}#sk-container-id-9 div.sk-label:hover label.sk-toggleable__label {background-color: #d4ebff;}#sk-container-id-9 div.sk-serial::before {content: \"\";position: absolute;border-left: 1px solid gray;box-sizing: border-box;top: 0;bottom: 0;left: 50%;z-index: 0;}#sk-container-id-9 div.sk-serial {display: flex;flex-direction: column;align-items: center;background-color: white;padding-right: 0.2em;padding-left: 0.2em;position: relative;}#sk-container-id-9 div.sk-item {position: relative;z-index: 1;}#sk-container-id-9 div.sk-parallel {display: flex;align-items: stretch;justify-content: center;background-color: white;position: relative;}#sk-container-id-9 div.sk-item::before, #sk-container-id-9 div.sk-parallel-item::before {content: \"\";position: absolute;border-left: 1px solid gray;box-sizing: border-box;top: 0;bottom: 0;left: 50%;z-index: -1;}#sk-container-id-9 div.sk-parallel-item {display: flex;flex-direction: column;z-index: 1;position: relative;background-color: white;}#sk-container-id-9 div.sk-parallel-item:first-child::after {align-self: flex-end;width: 50%;}#sk-container-id-9 div.sk-parallel-item:last-child::after {align-self: flex-start;width: 50%;}#sk-container-id-9 div.sk-parallel-item:only-child::after {width: 0;}#sk-container-id-9 div.sk-dashed-wrapped {border: 1px dashed gray;margin: 0 0.4em 0.5em 0.4em;box-sizing: border-box;padding-bottom: 0.4em;background-color: white;}#sk-container-id-9 div.sk-label label {font-family: monospace;font-weight: bold;display: inline-block;line-height: 1.2em;}#sk-container-id-9 div.sk-label-container {text-align: center;}#sk-container-id-9 div.sk-container {/* jupyter's `normalize.less` sets `[hidden] { display: none; }` but bootstrap.min.css set `[hidden] { display: none !important; }` so we also need the `!important` here to be able to override the default hidden behavior on the sphinx rendered scikit-learn.org. See: https://github.com/scikit-learn/scikit-learn/issues/21755 */display: inline-block !important;position: relative;}#sk-container-id-9 div.sk-text-repr-fallback {display: none;}</style><div id=\"sk-container-id-9\" class=\"sk-top-container\"><div class=\"sk-text-repr-fallback\"><pre>MultinomialNB()</pre><b>In a Jupyter environment, please rerun this cell to show the HTML representation or trust the notebook. <br />On GitHub, the HTML representation is unable to render, please try loading this page with nbviewer.org.</b></div><div class=\"sk-container\" hidden><div class=\"sk-item\"><div class=\"sk-estimator sk-toggleable\"><input class=\"sk-toggleable__control sk-hidden--visually\" id=\"sk-estimator-id-9\" type=\"checkbox\" checked><label for=\"sk-estimator-id-9\" class=\"sk-toggleable__label sk-toggleable__label-arrow\">MultinomialNB</label><div class=\"sk-toggleable__content\"><pre>MultinomialNB()</pre></div></div></div></div></div>"
            ]
          },
          "metadata": {},
          "execution_count": 64
        }
      ]
    },
    {
      "cell_type": "code",
      "source": [
        "#@title prediksi x_test yang ditampung ke y_pred\n",
        "y_pred = nb.predict(x_test)"
      ],
      "metadata": {
        "id": "HCAUhFe86phC"
      },
      "execution_count": null,
      "outputs": []
    },
    {
      "cell_type": "code",
      "source": [
        "algo = [\"Decision Tree\", \"Naive Bayes\"]\n",
        "split_data_form = {\n",
        "    \"80:20\" : 0,\n",
        "    \"70:30\" : 1,\n",
        "    \"60:40\" : 2\n",
        "}\n",
        "df_eval['Akurasi ' + algo[1]][split_data_form[\"60:40\"]] = accuracy_score(y_test, y_pred)"
      ],
      "metadata": {
        "id": "po0O87uxwks0",
        "colab": {
          "base_uri": "https://localhost:8080/"
        },
        "outputId": "ee8bc70b-5ea3-4f60-c480-24da9ec1863b"
      },
      "execution_count": null,
      "outputs": [
        {
          "output_type": "stream",
          "name": "stderr",
          "text": [
            "<ipython-input-66-b96c92ba1d57>:7: SettingWithCopyWarning: \n",
            "A value is trying to be set on a copy of a slice from a DataFrame\n",
            "\n",
            "See the caveats in the documentation: https://pandas.pydata.org/pandas-docs/stable/user_guide/indexing.html#returning-a-view-versus-a-copy\n",
            "  df_eval['Akurasi ' + algo[1]][split_data_form[\"60:40\"]] = accuracy_score(y_test, y_pred)\n"
          ]
        }
      ]
    },
    {
      "cell_type": "code",
      "source": [
        "print('Akurasi Naive Bayes : %s ' %accuracy_score(y_test, y_pred))"
      ],
      "metadata": {
        "colab": {
          "base_uri": "https://localhost:8080/"
        },
        "outputId": "849b477c-aeb2-411e-b82e-f5a42e062baf",
        "id": "bwc7Sy376phD"
      },
      "execution_count": null,
      "outputs": [
        {
          "output_type": "stream",
          "name": "stdout",
          "text": [
            "Akurasi Naive Bayes : 0.5467854869509866 \n"
          ]
        }
      ]
    },
    {
      "cell_type": "code",
      "source": [
        "#@title evaluasi model\n",
        "from sklearn.metrics import  confusion_matrix\n",
        "from sklearn.metrics import classification_report\n",
        "\n",
        "confusion_matrix = confusion_matrix(y_test, y_pred)\n",
        "print(confusion_matrix)\n",
        "print(classification_report(y_test, y_pred))"
      ],
      "metadata": {
        "colab": {
          "base_uri": "https://localhost:8080/"
        },
        "outputId": "1ede3aec-95b8-4c76-9abc-779bed62d2d2",
        "id": "qZS8q4nz6phD"
      },
      "execution_count": null,
      "outputs": [
        {
          "output_type": "stream",
          "name": "stdout",
          "text": [
            "[[1492   20    0]\n",
            " [ 872  145    3]\n",
            " [ 509   20   81]]\n",
            "              precision    recall  f1-score   support\n",
            "\n",
            "     negatif       0.52      0.99      0.68      1512\n",
            "      netral       0.78      0.14      0.24      1020\n",
            "     positif       0.96      0.13      0.23       610\n",
            "\n",
            "    accuracy                           0.55      3142\n",
            "   macro avg       0.76      0.42      0.38      3142\n",
            "weighted avg       0.69      0.55      0.45      3142\n",
            "\n"
          ]
        }
      ]
    },
    {
      "cell_type": "code",
      "source": [
        "#@title plotting confussion matrix\n",
        "import matplotlib.pyplot as plt\n",
        "from sklearn import metrics\n",
        "\n",
        "cm_display = metrics.ConfusionMatrixDisplay(confusion_matrix = confusion_matrix, display_labels = df_preprocessed['label'].unique().tolist())\n",
        "cm_display.plot()\n",
        "plt.show()"
      ],
      "metadata": {
        "colab": {
          "base_uri": "https://localhost:8080/",
          "height": 449
        },
        "outputId": "0a52fe2e-62dd-425e-8f3b-25a90490306d",
        "id": "SanlwkGT6phD"
      },
      "execution_count": null,
      "outputs": [
        {
          "output_type": "display_data",
          "data": {
            "text/plain": [
              "<Figure size 640x480 with 2 Axes>"
            ],
            "image/png": "[encoded data removed]"
          },
          "metadata": {}
        }
      ]
    },
    {
      "cell_type": "markdown",
      "source": [
        "## Tabel Komparasi Akurasi"
      ],
      "metadata": {
        "id": "s_hIeSY1wpnK"
      }
    },
    {
      "cell_type": "code",
      "source": [
        "df_eval"
      ],
      "metadata": {
        "id": "7dV5MgJuwvBR",
        "outputId": "33d3363b-f296-4c9b-8441-50a8ff51b8da",
        "colab": {
          "base_uri": "https://localhost:8080/",
          "height": 143
        }
      },
      "execution_count": null,
      "outputs": [
        {
          "output_type": "execute_result",
          "data": {
            "text/plain": [
              "  split_data  Akurasi Decision Tree  Akurasi Naive Bayes\n",
              "0      80:20               0.599618             0.551878\n",
              "1      70:30               0.582944             0.547306\n",
              "2      60:40               0.584659             0.546785"
            ],
            "text/html": [
              "\n",
              "  <div id=\"df-893a45f0-d1bb-4570-b2b1-10064293aef4\" class=\"colab-df-container\">\n",
              "    <div>\n",
              "<style scoped>\n",
              "    .dataframe tbody tr th:only-of-type {\n",
              "        vertical-align: middle;\n",
              "    }\n",
              "\n",
              "    .dataframe tbody tr th {\n",
              "        vertical-align: top;\n",
              "    }\n",
              "\n",
              "    .dataframe thead th {\n",
              "        text-align: right;\n",
              "    }\n",
              "</style>\n",
              "<table border=\"1\" class=\"dataframe\">\n",
              "  <thead>\n",
              "    <tr style=\"text-align: right;\">\n",
              "      <th></th>\n",
              "      <th>split_data</th>\n",
              "      <th>Akurasi Decision Tree</th>\n",
              "      <th>Akurasi Naive Bayes</th>\n",
              "    </tr>\n",
              "  </thead>\n",
              "  <tbody>\n",
              "    <tr>\n",
              "      <th>0</th>\n",
              "      <td>80:20</td>\n",
              "      <td>0.599618</td>\n",
              "      <td>0.551878</td>\n",
              "    </tr>\n",
              "    <tr>\n",
              "      <th>1</th>\n",
              "      <td>70:30</td>\n",
              "      <td>0.582944</td>\n",
              "      <td>0.547306</td>\n",
              "    </tr>\n",
              "    <tr>\n",
              "      <th>2</th>\n",
              "      <td>60:40</td>\n",
              "      <td>0.584659</td>\n",
              "      <td>0.546785</td>\n",
              "    </tr>\n",
              "  </tbody>\n",
              "</table>\n",
              "</div>\n",
              "    <div class=\"colab-df-buttons\">\n",
              "\n",
              "  <div class=\"colab-df-container\">\n",
              "    <button class=\"colab-df-convert\" onclick=\"convertToInteractive('df-893a45f0-d1bb-4570-b2b1-10064293aef4')\"\n",
              "            title=\"Convert this dataframe to an interactive table.\"\n",
              "            style=\"display:none;\">\n",
              "\n",
              "  <svg xmlns=\"http://www.w3.org/2000/svg\" height=\"24px\" viewBox=\"0 -960 960 960\">\n",
              "    <path d=\"M120-120v-720h720v720H120Zm60-500h600v-160H180v160Zm220 220h160v-160H400v160Zm0 220h160v-160H400v160ZM180-400h160v-160H180v160Zm440 0h160v-160H620v160ZM180-180h160v-160H180v160Zm440 0h160v-160H620v160Z\"/>\n",
              "  </svg>\n",
              "    </button>\n",
              "\n",
              "  <style>\n",
              "    .colab-df-container {\n",
              "      display:flex;\n",
              "      gap: 12px;\n",
              "    }\n",
              "\n",
              "    .colab-df-convert {\n",
              "      background-color: #E8F0FE;\n",
              "      border: none;\n",
              "      border-radius: 50%;\n",
              "      cursor: pointer;\n",
              "      display: none;\n",
              "      fill: #1967D2;\n",
              "      height: 32px;\n",
              "      padding: 0 0 0 0;\n",
              "      width: 32px;\n",
              "    }\n",
              "\n",
              "    .colab-df-convert:hover {\n",
              "      background-color: #E2EBFA;\n",
              "      box-shadow: 0px 1px 2px rgba(60, 64, 67, 0.3), 0px 1px 3px 1px rgba(60, 64, 67, 0.15);\n",
              "      fill: #174EA6;\n",
              "    }\n",
              "\n",
              "    .colab-df-buttons div {\n",
              "      margin-bottom: 4px;\n",
              "    }\n",
              "\n",
              "    [theme=dark] .colab-df-convert {\n",
              "      background-color: #3B4455;\n",
              "      fill: #D2E3FC;\n",
              "    }\n",
              "\n",
              "    [theme=dark] .colab-df-convert:hover {\n",
              "      background-color: #434B5C;\n",
              "      box-shadow: 0px 1px 3px 1px rgba(0, 0, 0, 0.15);\n",
              "      filter: drop-shadow(0px 1px 2px rgba(0, 0, 0, 0.3));\n",
              "      fill: #FFFFFF;\n",
              "    }\n",
              "  </style>\n",
              "\n",
              "    <script>\n",
              "      const buttonEl =\n",
              "        document.querySelector('#df-893a45f0-d1bb-4570-b2b1-10064293aef4 button.colab-df-convert');\n",
              "      buttonEl.style.display =\n",
              "        google.colab.kernel.accessAllowed ? 'block' : 'none';\n",
              "\n",
              "      async function convertToInteractive(key) {\n",
              "        const element = document.querySelector('#df-893a45f0-d1bb-4570-b2b1-10064293aef4');\n",
              "        const dataTable =\n",
              "          await google.colab.kernel.invokeFunction('convertToInteractive',\n",
              "                                                    [key], {});\n",
              "        if (!dataTable) return;\n",
              "\n",
              "        const docLinkHtml = 'Like what you see? Visit the ' +\n",
              "          '<a target=\"_blank\" href=https://colab.research.google.com/notebooks/data_table.ipynb>data table notebook</a>'\n",
              "          + ' to learn more about interactive tables.';\n",
              "        element.innerHTML = '';\n",
              "        dataTable['output_type'] = 'display_data';\n",
              "        await google.colab.output.renderOutput(dataTable, element);\n",
              "        const docLink = document.createElement('div');\n",
              "        docLink.innerHTML = docLinkHtml;\n",
              "        element.appendChild(docLink);\n",
              "      }\n",
              "    </script>\n",
              "  </div>\n",
              "\n",
              "\n",
              "<div id=\"df-81caf688-73e4-4f2d-9bc6-f5dff69aa523\">\n",
              "  <button class=\"colab-df-quickchart\" onclick=\"quickchart('df-81caf688-73e4-4f2d-9bc6-f5dff69aa523')\"\n",
              "            title=\"Suggest charts\"\n",
              "            style=\"display:none;\">\n",
              "\n",
              "<svg xmlns=\"http://www.w3.org/2000/svg\" height=\"24px\"viewBox=\"0 0 24 24\"\n",
              "     width=\"24px\">\n",
              "    <g>\n",
              "        <path d=\"M19 3H5c-1.1 0-2 .9-2 2v14c0 1.1.9 2 2 2h14c1.1 0 2-.9 2-2V5c0-1.1-.9-2-2-2zM9 17H7v-7h2v7zm4 0h-2V7h2v10zm4 0h-2v-4h2v4z\"/>\n",
              "    </g>\n",
              "</svg>\n",
              "  </button>\n",
              "\n",
              "<style>\n",
              "  .colab-df-quickchart {\n",
              "      --bg-color: #E8F0FE;\n",
              "      --fill-color: #1967D2;\n",
              "      --hover-bg-color: #E2EBFA;\n",
              "      --hover-fill-color: #174EA6;\n",
              "      --disabled-fill-color: #AAA;\n",
              "      --disabled-bg-color: #DDD;\n",
              "  }\n",
              "\n",
              "  [theme=dark] .colab-df-quickchart {\n",
              "      --bg-color: #3B4455;\n",
              "      --fill-color: #D2E3FC;\n",
              "      --hover-bg-color: #434B5C;\n",
              "      --hover-fill-color: #FFFFFF;\n",
              "      --disabled-bg-color: #3B4455;\n",
              "      --disabled-fill-color: #666;\n",
              "  }\n",
              "\n",
              "  .colab-df-quickchart {\n",
              "    background-color: var(--bg-color);\n",
              "    border: none;\n",
              "    border-radius: 50%;\n",
              "    cursor: pointer;\n",
              "    display: none;\n",
              "    fill: var(--fill-color);\n",
              "    height: 32px;\n",
              "    padding: 0;\n",
              "    width: 32px;\n",
              "  }\n",
              "\n",
              "  .colab-df-quickchart:hover {\n",
              "    background-color: var(--hover-bg-color);\n",
              "    box-shadow: 0 1px 2px rgba(60, 64, 67, 0.3), 0 1px 3px 1px rgba(60, 64, 67, 0.15);\n",
              "    fill: var(--button-hover-fill-color);\n",
              "  }\n",
              "\n",
              "  .colab-df-quickchart-complete:disabled,\n",
              "  .colab-df-quickchart-complete:disabled:hover {\n",
              "    background-color: var(--disabled-bg-color);\n",
              "    fill: var(--disabled-fill-color);\n",
              "    box-shadow: none;\n",
              "  }\n",
              "\n",
              "  .colab-df-spinner {\n",
              "    border: 2px solid var(--fill-color);\n",
              "    border-color: transparent;\n",
              "    border-bottom-color: var(--fill-color);\n",
              "    animation:\n",
              "      spin 1s steps(1) infinite;\n",
              "  }\n",
              "\n",
              "  @keyframes spin {\n",
              "    0% {\n",
              "      border-color: transparent;\n",
              "      border-bottom-color: var(--fill-color);\n",
              "      border-left-color: var(--fill-color);\n",
              "    }\n",
              "    20% {\n",
              "      border-color: transparent;\n",
              "      border-left-color: var(--fill-color);\n",
              "      border-top-color: var(--fill-color);\n",
              "    }\n",
              "    30% {\n",
              "      border-color: transparent;\n",
              "      border-left-color: var(--fill-color);\n",
              "      border-top-color: var(--fill-color);\n",
              "      border-right-color: var(--fill-color);\n",
              "    }\n",
              "    40% {\n",
              "      border-color: transparent;\n",
              "      border-right-color: var(--fill-color);\n",
              "      border-top-color: var(--fill-color);\n",
              "    }\n",
              "    60% {\n",
              "      border-color: transparent;\n",
              "      border-right-color: var(--fill-color);\n",
              "    }\n",
              "    80% {\n",
              "      border-color: transparent;\n",
              "      border-right-color: var(--fill-color);\n",
              "      border-bottom-color: var(--fill-color);\n",
              "    }\n",
              "    90% {\n",
              "      border-color: transparent;\n",
              "      border-bottom-color: var(--fill-color);\n",
              "    }\n",
              "  }\n",
              "</style>\n",
              "\n",
              "  <script>\n",
              "    async function quickchart(key) {\n",
              "      const quickchartButtonEl =\n",
              "        document.querySelector('#' + key + ' button');\n",
              "      quickchartButtonEl.disabled = true;  // To prevent multiple clicks.\n",
              "      quickchartButtonEl.classList.add('colab-df-spinner');\n",
              "      try {\n",
              "        const charts = await google.colab.kernel.invokeFunction(\n",
              "            'suggestCharts', [key], {});\n",
              "      } catch (error) {\n",
              "        console.error('Error during call to suggestCharts:', error);\n",
              "      }\n",
              "      quickchartButtonEl.classList.remove('colab-df-spinner');\n",
              "      quickchartButtonEl.classList.add('colab-df-quickchart-complete');\n",
              "    }\n",
              "    (() => {\n",
              "      let quickchartButtonEl =\n",
              "        document.querySelector('#df-81caf688-73e4-4f2d-9bc6-f5dff69aa523 button');\n",
              "      quickchartButtonEl.style.display =\n",
              "        google.colab.kernel.accessAllowed ? 'block' : 'none';\n",
              "    })();\n",
              "  </script>\n",
              "</div>\n",
              "    </div>\n",
              "  </div>\n"
            ],
            "application/vnd.google.colaboratory.intrinsic+json": {
              "type": "dataframe",
              "variable_name": "df_eval",
              "summary": "{\n  \"name\": \"df_eval\",\n  \"rows\": 3,\n  \"fields\": [\n    {\n      \"column\": \"split_data\",\n      \"properties\": {\n        \"dtype\": \"string\",\n        \"num_unique_values\": 3,\n        \"samples\": [\n          \"80:20\",\n          \"70:30\",\n          \"60:40\"\n        ],\n        \"semantic_type\": \"\",\n        \"description\": \"\"\n      }\n    },\n    {\n      \"column\": \"Akurasi Decision Tree\",\n      \"properties\": {\n        \"dtype\": \"number\",\n        \"std\": 0.009171628613577544,\n        \"min\": 0.5829444208739923,\n        \"max\": 0.5996180776575429,\n        \"num_unique_values\": 3,\n        \"samples\": [\n          0.5996180776575429,\n          0.5829444208739923,\n          0.5846594525779758\n        ],\n        \"semantic_type\": \"\",\n        \"description\": \"\"\n      }\n    },\n    {\n      \"column\": \"Akurasi Naive Bayes\",\n      \"properties\": {\n        \"dtype\": \"number\",\n        \"std\": 0.002801918401792501,\n        \"min\": 0.5467854869509866,\n        \"max\": 0.5518777848504137,\n        \"num_unique_values\": 3,\n        \"samples\": [\n          0.5518777848504137,\n          0.5473058973271108,\n          0.5467854869509866\n        ],\n        \"semantic_type\": \"\",\n        \"description\": \"\"\n      }\n    }\n  ]\n}"
            }
          },
          "metadata": {},
          "execution_count": 70
        }
      ]
    },
    {
      "cell_type": "code",
      "source": [],
      "metadata": {
        "id": "3x8KEKLZww20"
      },
      "execution_count": null,
      "outputs": []
    }
  ],
  "metadata": {
    "colab": {
      "collapsed_sections": [
        "8So-dbpMDNrG"
      ],
      "provenance": []
    },
    "kernelspec": {
      "display_name": "Python 3",
      "name": "python3"
    },
    "language_info": {
      "name": "python"
    },
    "gpuClass": "standard"
  },
  "nbformat": 4,
  "nbformat_minor": 0
}