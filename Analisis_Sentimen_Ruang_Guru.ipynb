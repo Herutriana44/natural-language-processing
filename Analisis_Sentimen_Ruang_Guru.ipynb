{
  "cells": [
    {
      "cell_type": "markdown",
      "metadata": {
        "id": "o7wyadZN6MTE"
      },
      "source": [
        "sentimen aplikasi zenius"
      ]
    },
    {
      "cell_type": "markdown",
      "metadata": {
        "id": "DmKwOCH98YBC"
      },
      "source": [
        "1.instal *lebery*"
      ]
    },
    {
      "cell_type": "code",
      "execution_count": null,
      "metadata": {
        "id": "kjv6Y5Ql6Qnb"
      },
      "outputs": [],
      "source": [
        "import pandas as pd\n",
        "import string\n",
        "from sklearn.pipeline import Pipeline\n",
        "import numpy as np\n"
      ]
    },
    {
      "cell_type": "markdown",
      "source": [
        "Dataset"
      ],
      "metadata": {
        "id": "bvc1SaixSoM9"
      }
    },
    {
      "cell_type": "code",
      "execution_count": null,
      "metadata": {
        "colab": {
          "base_uri": "https://localhost:8080/",
          "height": 206
        },
        "id": "vzF5eTjB6jzj",
        "outputId": "88d22052-810c-458e-d7be-025d3001f367"
      },
      "outputs": [
        {
          "output_type": "execute_result",
          "data": {
            "text/plain": [
              "                        userName  ranting             tanggal  \\\n",
              "0                   Haqiqi Abdan        4 2022-06-27 13:01:35   \n",
              "1  Bhaskar Elvandio Premanaputra        4 2022-06-27 11:27:48   \n",
              "2                  syella herlin        1 2022-06-27 11:12:16   \n",
              "3             Nur Annisa Wiryani        4 2022-06-27 07:23:30   \n",
              "4                  Hasni Ibrahim        5 2022-06-27 04:01:23   \n",
              "\n",
              "                                              ulasan  \n",
              "0  Untuk device laptop apa memang belum ada fitur...  \n",
              "1  Pihak ruang guru,tolong ya,setiap kali sya men...  \n",
              "2  Halo kak ini semenjak update tidak bisa dibuka...  \n",
              "3  ruangguru punya fitur yang menurut aku lengkap...  \n",
              "4  Belajar di ruangguru sangat menyenangkan.... J...  "
            ],
            "text/html": [
              "\n",
              "  <div id=\"df-fb2a1807-2535-4cb5-8a17-e9b5f76f516d\">\n",
              "    <div class=\"colab-df-container\">\n",
              "      <div>\n",
              "<style scoped>\n",
              "    .dataframe tbody tr th:only-of-type {\n",
              "        vertical-align: middle;\n",
              "    }\n",
              "\n",
              "    .dataframe tbody tr th {\n",
              "        vertical-align: top;\n",
              "    }\n",
              "\n",
              "    .dataframe thead th {\n",
              "        text-align: right;\n",
              "    }\n",
              "</style>\n",
              "<table border=\"1\" class=\"dataframe\">\n",
              "  <thead>\n",
              "    <tr style=\"text-align: right;\">\n",
              "      <th></th>\n",
              "      <th>userName</th>\n",
              "      <th>ranting</th>\n",
              "      <th>tanggal</th>\n",
              "      <th>ulasan</th>\n",
              "    </tr>\n",
              "  </thead>\n",
              "  <tbody>\n",
              "    <tr>\n",
              "      <th>0</th>\n",
              "      <td>Haqiqi Abdan</td>\n",
              "      <td>4</td>\n",
              "      <td>2022-06-27 13:01:35</td>\n",
              "      <td>Untuk device laptop apa memang belum ada fitur...</td>\n",
              "    </tr>\n",
              "    <tr>\n",
              "      <th>1</th>\n",
              "      <td>Bhaskar Elvandio Premanaputra</td>\n",
              "      <td>4</td>\n",
              "      <td>2022-06-27 11:27:48</td>\n",
              "      <td>Pihak ruang guru,tolong ya,setiap kali sya men...</td>\n",
              "    </tr>\n",
              "    <tr>\n",
              "      <th>2</th>\n",
              "      <td>syella herlin</td>\n",
              "      <td>1</td>\n",
              "      <td>2022-06-27 11:12:16</td>\n",
              "      <td>Halo kak ini semenjak update tidak bisa dibuka...</td>\n",
              "    </tr>\n",
              "    <tr>\n",
              "      <th>3</th>\n",
              "      <td>Nur Annisa Wiryani</td>\n",
              "      <td>4</td>\n",
              "      <td>2022-06-27 07:23:30</td>\n",
              "      <td>ruangguru punya fitur yang menurut aku lengkap...</td>\n",
              "    </tr>\n",
              "    <tr>\n",
              "      <th>4</th>\n",
              "      <td>Hasni Ibrahim</td>\n",
              "      <td>5</td>\n",
              "      <td>2022-06-27 04:01:23</td>\n",
              "      <td>Belajar di ruangguru sangat menyenangkan.... J...</td>\n",
              "    </tr>\n",
              "  </tbody>\n",
              "</table>\n",
              "</div>\n",
              "      <button class=\"colab-df-convert\" onclick=\"convertToInteractive('df-fb2a1807-2535-4cb5-8a17-e9b5f76f516d')\"\n",
              "              title=\"Convert this dataframe to an interactive table.\"\n",
              "              style=\"display:none;\">\n",
              "        \n",
              "  <svg xmlns=\"http://www.w3.org/2000/svg\" height=\"24px\"viewBox=\"0 0 24 24\"\n",
              "       width=\"24px\">\n",
              "    <path d=\"M0 0h24v24H0V0z\" fill=\"none\"/>\n",
              "    <path d=\"M18.56 5.44l.94 2.06.94-2.06 2.06-.94-2.06-.94-.94-2.06-.94 2.06-2.06.94zm-11 1L8.5 8.5l.94-2.06 2.06-.94-2.06-.94L8.5 2.5l-.94 2.06-2.06.94zm10 10l.94 2.06.94-2.06 2.06-.94-2.06-.94-.94-2.06-.94 2.06-2.06.94z\"/><path d=\"M17.41 7.96l-1.37-1.37c-.4-.4-.92-.59-1.43-.59-.52 0-1.04.2-1.43.59L10.3 9.45l-7.72 7.72c-.78.78-.78 2.05 0 2.83L4 21.41c.39.39.9.59 1.41.59.51 0 1.02-.2 1.41-.59l7.78-7.78 2.81-2.81c.8-.78.8-2.07 0-2.86zM5.41 20L4 18.59l7.72-7.72 1.47 1.35L5.41 20z\"/>\n",
              "  </svg>\n",
              "      </button>\n",
              "      \n",
              "  <style>\n",
              "    .colab-df-container {\n",
              "      display:flex;\n",
              "      flex-wrap:wrap;\n",
              "      gap: 12px;\n",
              "    }\n",
              "\n",
              "    .colab-df-convert {\n",
              "      background-color: #E8F0FE;\n",
              "      border: none;\n",
              "      border-radius: 50%;\n",
              "      cursor: pointer;\n",
              "      display: none;\n",
              "      fill: #1967D2;\n",
              "      height: 32px;\n",
              "      padding: 0 0 0 0;\n",
              "      width: 32px;\n",
              "    }\n",
              "\n",
              "    .colab-df-convert:hover {\n",
              "      background-color: #E2EBFA;\n",
              "      box-shadow: 0px 1px 2px rgba(60, 64, 67, 0.3), 0px 1px 3px 1px rgba(60, 64, 67, 0.15);\n",
              "      fill: #174EA6;\n",
              "    }\n",
              "\n",
              "    [theme=dark] .colab-df-convert {\n",
              "      background-color: #3B4455;\n",
              "      fill: #D2E3FC;\n",
              "    }\n",
              "\n",
              "    [theme=dark] .colab-df-convert:hover {\n",
              "      background-color: #434B5C;\n",
              "      box-shadow: 0px 1px 3px 1px rgba(0, 0, 0, 0.15);\n",
              "      filter: drop-shadow(0px 1px 2px rgba(0, 0, 0, 0.3));\n",
              "      fill: #FFFFFF;\n",
              "    }\n",
              "  </style>\n",
              "\n",
              "      <script>\n",
              "        const buttonEl =\n",
              "          document.querySelector('#df-fb2a1807-2535-4cb5-8a17-e9b5f76f516d button.colab-df-convert');\n",
              "        buttonEl.style.display =\n",
              "          google.colab.kernel.accessAllowed ? 'block' : 'none';\n",
              "\n",
              "        async function convertToInteractive(key) {\n",
              "          const element = document.querySelector('#df-fb2a1807-2535-4cb5-8a17-e9b5f76f516d');\n",
              "          const dataTable =\n",
              "            await google.colab.kernel.invokeFunction('convertToInteractive',\n",
              "                                                     [key], {});\n",
              "          if (!dataTable) return;\n",
              "\n",
              "          const docLinkHtml = 'Like what you see? Visit the ' +\n",
              "            '<a target=\"_blank\" href=https://colab.research.google.com/notebooks/data_table.ipynb>data table notebook</a>'\n",
              "            + ' to learn more about interactive tables.';\n",
              "          element.innerHTML = '';\n",
              "          dataTable['output_type'] = 'display_data';\n",
              "          await google.colab.output.renderOutput(dataTable, element);\n",
              "          const docLink = document.createElement('div');\n",
              "          docLink.innerHTML = docLinkHtml;\n",
              "          element.appendChild(docLink);\n",
              "        }\n",
              "      </script>\n",
              "    </div>\n",
              "  </div>\n",
              "  "
            ]
          },
          "metadata": {},
          "execution_count": 2
        }
      ],
      "source": [
        "df_review = pd.read_excel(\"/content/guru_data..xlsx\")\n",
        "df_test = df_review\n",
        "df_review.head(5)"
      ]
    },
    {
      "cell_type": "code",
      "source": [
        "df_as = pd.read_excel(\"/content/guru_data..xlsx\")"
      ],
      "metadata": {
        "id": "0nTeVhGb7m9n"
      },
      "execution_count": null,
      "outputs": []
    },
    {
      "cell_type": "code",
      "source": [
        "df_as['ranting'].value_counts()"
      ],
      "metadata": {
        "colab": {
          "base_uri": "https://localhost:8080/"
        },
        "id": "lKjPgxfJ3D-o",
        "outputId": "6ed41722-8dfc-4717-aade-f61a285ffb58"
      },
      "execution_count": null,
      "outputs": [
        {
          "output_type": "execute_result",
          "data": {
            "text/plain": [
              "5    1029\n",
              "4     195\n",
              "3     124\n",
              "1      93\n",
              "2      59\n",
              "Name: ranting, dtype: int64"
            ]
          },
          "metadata": {},
          "execution_count": 4
        }
      ]
    },
    {
      "cell_type": "markdown",
      "source": [
        "Menampilkan grafik frekuensi rating"
      ],
      "metadata": {
        "id": "zHm4yhVwS9ni"
      }
    },
    {
      "cell_type": "code",
      "source": [
        "import matplotlib.pyplot as plt\n",
        "\n",
        "# x-coordinates of left sides of bars\n",
        "left = [1, 2, 3, 4, 5]\n",
        "\n",
        "# heights of bars\n",
        "height = [93, 59, 124, 195, 1029]\n",
        "\n",
        "# labels for bars\n",
        "tick_label = [1, 2, 3, 4, 5]\n",
        "\n",
        "# plotting a bar chart\n",
        "plt.bar(left, height, tick_label = tick_label,\n",
        "        width = 0.8, color = ['red', 'green'])\n",
        "\n",
        "# naming the x-axis\n",
        "plt.xlabel('Rating')\n",
        "# naming the y-axis\n",
        "plt.ylabel('Frekuensi Data')\n",
        "# plot title\n",
        "plt.title('Frekuensi Rating Dalam Dataset Ruang Guru')\n",
        "\n",
        "# function to show the plot\n",
        "plt.show()"
      ],
      "metadata": {
        "colab": {
          "base_uri": "https://localhost:8080/",
          "height": 295
        },
        "id": "0v26PghG3-kN",
        "outputId": "cd954ae8-ac5c-4c7d-db91-e5804407c928"
      },
      "execution_count": null,
      "outputs": [
        {
          "output_type": "display_data",
          "data": {
            "text/plain": [
              "<Figure size 432x288 with 1 Axes>"
            ],
            "image/png": "[encoded data removed]"
          },
          "metadata": {
            "needs_background": "light"
          }
        }
      ]
    },
    {
      "cell_type": "markdown",
      "metadata": {
        "id": "8So-dbpMDNrG"
      },
      "source": [
        "#jumlah rating"
      ]
    },
    {
      "cell_type": "code",
      "execution_count": null,
      "metadata": {
        "colab": {
          "base_uri": "https://localhost:8080/"
        },
        "id": "aMU6Fhzw7LuG",
        "outputId": "de5aa7d6-50bd-434b-b37a-28f50c3d2d7e"
      },
      "outputs": [
        {
          "output_type": "execute_result",
          "data": {
            "text/plain": [
              "5    1029\n",
              "4     195\n",
              "3     124\n",
              "1      93\n",
              "2      59\n",
              "Name: ranting, dtype: int64"
            ]
          },
          "metadata": {},
          "execution_count": 6
        }
      ],
      "source": [
        "df_review[\"ranting\"].value_counts()"
      ]
    },
    {
      "cell_type": "markdown",
      "metadata": {
        "id": "iEPDMjdM8c9H"
      },
      "source": [
        "2.plabelan"
      ]
    },
    {
      "cell_type": "code",
      "execution_count": null,
      "metadata": {
        "colab": {
          "base_uri": "https://localhost:8080/"
        },
        "id": "ieHwjKoN8dTq",
        "outputId": "b1af0b69-d2ab-4d37-c517-0ba026a5748b"
      },
      "outputs": [
        {
          "output_type": "execute_result",
          "data": {
            "text/plain": [
              "                        userName             tanggal  \\\n",
              "0                   Haqiqi Abdan 2022-06-27 13:01:35   \n",
              "1  Bhaskar Elvandio Premanaputra 2022-06-27 11:27:48   \n",
              "2                  syella herlin 2022-06-27 11:12:16   \n",
              "3             Nur Annisa Wiryani 2022-06-27 07:23:30   \n",
              "4                  Hasni Ibrahim 2022-06-27 04:01:23   \n",
              "\n",
              "                                              ulasan sentimen  \n",
              "0  Untuk device laptop apa memang belum ada fitur...  positif  \n",
              "1  Pihak ruang guru,tolong ya,setiap kali sya men...  positif  \n",
              "2  Halo kak ini semenjak update tidak bisa dibuka...  negatif  \n",
              "3  ruangguru punya fitur yang menurut aku lengkap...  positif  \n",
              "4  Belajar di ruangguru sangat menyenangkan.... J...  positif  "
            ],
            "text/html": [
              "\n",
              "  <div id=\"df-b707605f-d77a-4092-a2b1-25fe2d6a997f\">\n",
              "    <div class=\"colab-df-container\">\n",
              "      <div>\n",
              "<style scoped>\n",
              "    .dataframe tbody tr th:only-of-type {\n",
              "        vertical-align: middle;\n",
              "    }\n",
              "\n",
              "    .dataframe tbody tr th {\n",
              "        vertical-align: top;\n",
              "    }\n",
              "\n",
              "    .dataframe thead th {\n",
              "        text-align: right;\n",
              "    }\n",
              "</style>\n",
              "<table border=\"1\" class=\"dataframe\">\n",
              "  <thead>\n",
              "    <tr style=\"text-align: right;\">\n",
              "      <th></th>\n",
              "      <th>userName</th>\n",
              "      <th>tanggal</th>\n",
              "      <th>ulasan</th>\n",
              "      <th>sentimen</th>\n",
              "    </tr>\n",
              "  </thead>\n",
              "  <tbody>\n",
              "    <tr>\n",
              "      <th>0</th>\n",
              "      <td>Haqiqi Abdan</td>\n",
              "      <td>2022-06-27 13:01:35</td>\n",
              "      <td>Untuk device laptop apa memang belum ada fitur...</td>\n",
              "      <td>positif</td>\n",
              "    </tr>\n",
              "    <tr>\n",
              "      <th>1</th>\n",
              "      <td>Bhaskar Elvandio Premanaputra</td>\n",
              "      <td>2022-06-27 11:27:48</td>\n",
              "      <td>Pihak ruang guru,tolong ya,setiap kali sya men...</td>\n",
              "      <td>positif</td>\n",
              "    </tr>\n",
              "    <tr>\n",
              "      <th>2</th>\n",
              "      <td>syella herlin</td>\n",
              "      <td>2022-06-27 11:12:16</td>\n",
              "      <td>Halo kak ini semenjak update tidak bisa dibuka...</td>\n",
              "      <td>negatif</td>\n",
              "    </tr>\n",
              "    <tr>\n",
              "      <th>3</th>\n",
              "      <td>Nur Annisa Wiryani</td>\n",
              "      <td>2022-06-27 07:23:30</td>\n",
              "      <td>ruangguru punya fitur yang menurut aku lengkap...</td>\n",
              "      <td>positif</td>\n",
              "    </tr>\n",
              "    <tr>\n",
              "      <th>4</th>\n",
              "      <td>Hasni Ibrahim</td>\n",
              "      <td>2022-06-27 04:01:23</td>\n",
              "      <td>Belajar di ruangguru sangat menyenangkan.... J...</td>\n",
              "      <td>positif</td>\n",
              "    </tr>\n",
              "  </tbody>\n",
              "</table>\n",
              "</div>\n",
              "      <button class=\"colab-df-convert\" onclick=\"convertToInteractive('df-b707605f-d77a-4092-a2b1-25fe2d6a997f')\"\n",
              "              title=\"Convert this dataframe to an interactive table.\"\n",
              "              style=\"display:none;\">\n",
              "        \n",
              "  <svg xmlns=\"http://www.w3.org/2000/svg\" height=\"24px\"viewBox=\"0 0 24 24\"\n",
              "       width=\"24px\">\n",
              "    <path d=\"M0 0h24v24H0V0z\" fill=\"none\"/>\n",
              "    <path d=\"M18.56 5.44l.94 2.06.94-2.06 2.06-.94-2.06-.94-.94-2.06-.94 2.06-2.06.94zm-11 1L8.5 8.5l.94-2.06 2.06-.94-2.06-.94L8.5 2.5l-.94 2.06-2.06.94zm10 10l.94 2.06.94-2.06 2.06-.94-2.06-.94-.94-2.06-.94 2.06-2.06.94z\"/><path d=\"M17.41 7.96l-1.37-1.37c-.4-.4-.92-.59-1.43-.59-.52 0-1.04.2-1.43.59L10.3 9.45l-7.72 7.72c-.78.78-.78 2.05 0 2.83L4 21.41c.39.39.9.59 1.41.59.51 0 1.02-.2 1.41-.59l7.78-7.78 2.81-2.81c.8-.78.8-2.07 0-2.86zM5.41 20L4 18.59l7.72-7.72 1.47 1.35L5.41 20z\"/>\n",
              "  </svg>\n",
              "      </button>\n",
              "      \n",
              "  <style>\n",
              "    .colab-df-container {\n",
              "      display:flex;\n",
              "      flex-wrap:wrap;\n",
              "      gap: 12px;\n",
              "    }\n",
              "\n",
              "    .colab-df-convert {\n",
              "      background-color: #E8F0FE;\n",
              "      border: none;\n",
              "      border-radius: 50%;\n",
              "      cursor: pointer;\n",
              "      display: none;\n",
              "      fill: #1967D2;\n",
              "      height: 32px;\n",
              "      padding: 0 0 0 0;\n",
              "      width: 32px;\n",
              "    }\n",
              "\n",
              "    .colab-df-convert:hover {\n",
              "      background-color: #E2EBFA;\n",
              "      box-shadow: 0px 1px 2px rgba(60, 64, 67, 0.3), 0px 1px 3px 1px rgba(60, 64, 67, 0.15);\n",
              "      fill: #174EA6;\n",
              "    }\n",
              "\n",
              "    [theme=dark] .colab-df-convert {\n",
              "      background-color: #3B4455;\n",
              "      fill: #D2E3FC;\n",
              "    }\n",
              "\n",
              "    [theme=dark] .colab-df-convert:hover {\n",
              "      background-color: #434B5C;\n",
              "      box-shadow: 0px 1px 3px 1px rgba(0, 0, 0, 0.15);\n",
              "      filter: drop-shadow(0px 1px 2px rgba(0, 0, 0, 0.3));\n",
              "      fill: #FFFFFF;\n",
              "    }\n",
              "  </style>\n",
              "\n",
              "      <script>\n",
              "        const buttonEl =\n",
              "          document.querySelector('#df-b707605f-d77a-4092-a2b1-25fe2d6a997f button.colab-df-convert');\n",
              "        buttonEl.style.display =\n",
              "          google.colab.kernel.accessAllowed ? 'block' : 'none';\n",
              "\n",
              "        async function convertToInteractive(key) {\n",
              "          const element = document.querySelector('#df-b707605f-d77a-4092-a2b1-25fe2d6a997f');\n",
              "          const dataTable =\n",
              "            await google.colab.kernel.invokeFunction('convertToInteractive',\n",
              "                                                     [key], {});\n",
              "          if (!dataTable) return;\n",
              "\n",
              "          const docLinkHtml = 'Like what you see? Visit the ' +\n",
              "            '<a target=\"_blank\" href=https://colab.research.google.com/notebooks/data_table.ipynb>data table notebook</a>'\n",
              "            + ' to learn more about interactive tables.';\n",
              "          element.innerHTML = '';\n",
              "          dataTable['output_type'] = 'display_data';\n",
              "          await google.colab.output.renderOutput(dataTable, element);\n",
              "          const docLink = document.createElement('div');\n",
              "          docLink.innerHTML = docLinkHtml;\n",
              "          element.appendChild(docLink);\n",
              "        }\n",
              "      </script>\n",
              "    </div>\n",
              "  </div>\n",
              "  "
            ]
          },
          "metadata": {},
          "execution_count": 7
        }
      ],
      "source": [
        "sentimen = []\n",
        "for index, row in df_review.iterrows():\n",
        "     if row['ranting']>=3:\n",
        "        sentimen.append('positif')\n",
        "     else:\n",
        "       sentimen.append('negatif')\n",
        "df_review['sentimen'] = sentimen\n",
        "df_review = df_review.drop(columns=['ranting'])\n",
        "df_review.head()"
      ]
    },
    {
      "cell_type": "code",
      "execution_count": null,
      "metadata": {
        "colab": {
          "base_uri": "https://localhost:8080/"
        },
        "id": "R1w5Tx3292TL",
        "outputId": "7b35d03a-3fe1-46e4-9c36-756f5badf7db"
      },
      "outputs": [
        {
          "output_type": "execute_result",
          "data": {
            "text/plain": [
              "positif    1348\n",
              "negatif     152\n",
              "Name: sentimen, dtype: int64"
            ]
          },
          "metadata": {},
          "execution_count": 8
        }
      ],
      "source": [
        "df_review['sentimen'].value_counts()"
      ]
    },
    {
      "cell_type": "code",
      "source": [
        "import matplotlib.pyplot as plt\n",
        "\n",
        "# Data to plot\n",
        "labels = 'Negatif', 'Positif'\n",
        "sizes = [152, 1348]\n",
        "colors = ['red', 'blue']\n",
        "explode = (0.1, 0)  # explode 1st slice\n",
        "\n",
        "# Plot\n",
        "plt.pie(sizes, explode=explode, labels=labels, colors=colors,\n",
        "autopct='%1.1f%%', shadow=True, startangle=140)\n",
        "\n",
        "plt.axis('equal')\n",
        "plt.title(\"Persentase Sentimen Sebelum Menerapkan Model Pada Aplikasi Ruang Guru\")\n",
        "plt.show()\n",
        "print(\"Negatif =\",sizes[0])\n",
        "print(\"Positif =\",sizes[1])\n",
        "print(\"Jumlah Keseluruhan Data =\",sum(sizes))"
      ],
      "metadata": {
        "colab": {
          "base_uri": "https://localhost:8080/"
        },
        "id": "a79FTesj8DpC",
        "outputId": "48fb210f-d32a-4ddf-9aa8-10e8266b69c3"
      },
      "execution_count": null,
      "outputs": [
        {
          "output_type": "display_data",
          "data": {
            "text/plain": [
              "<Figure size 432x288 with 1 Axes>"
            ],
            "image/png": "[encoded data removed]"
          },
          "metadata": {}
        },
        {
          "output_type": "stream",
          "name": "stdout",
          "text": [
            "Negatif = 152\n",
            "Positif = 1348\n",
            "Jumlah Keseluruhan Data = 1500\n"
          ]
        }
      ]
    },
    {
      "cell_type": "markdown",
      "metadata": {
        "id": "5Tc1dAtI-q8W"
      },
      "source": [
        "3.menghilangkan tabel yang tidak digunakan"
      ]
    },
    {
      "cell_type": "code",
      "execution_count": null,
      "metadata": {
        "colab": {
          "base_uri": "https://localhost:8080/"
        },
        "id": "D1OAG1uC-tnF",
        "outputId": "8d3356fa-45e3-438b-fd6a-1c1bdefddba2"
      },
      "outputs": [
        {
          "output_type": "execute_result",
          "data": {
            "text/plain": [
              "                                              ulasan sentimen\n",
              "0  Untuk device laptop apa memang belum ada fitur...  positif\n",
              "1  Pihak ruang guru,tolong ya,setiap kali sya men...  positif\n",
              "2  Halo kak ini semenjak update tidak bisa dibuka...  negatif\n",
              "3  ruangguru punya fitur yang menurut aku lengkap...  positif\n",
              "4  Belajar di ruangguru sangat menyenangkan.... J...  positif"
            ],
            "text/html": [
              "\n",
              "  <div id=\"df-7668ddee-82d9-4595-8fab-1e2c801e9ae8\">\n",
              "    <div class=\"colab-df-container\">\n",
              "      <div>\n",
              "<style scoped>\n",
              "    .dataframe tbody tr th:only-of-type {\n",
              "        vertical-align: middle;\n",
              "    }\n",
              "\n",
              "    .dataframe tbody tr th {\n",
              "        vertical-align: top;\n",
              "    }\n",
              "\n",
              "    .dataframe thead th {\n",
              "        text-align: right;\n",
              "    }\n",
              "</style>\n",
              "<table border=\"1\" class=\"dataframe\">\n",
              "  <thead>\n",
              "    <tr style=\"text-align: right;\">\n",
              "      <th></th>\n",
              "      <th>ulasan</th>\n",
              "      <th>sentimen</th>\n",
              "    </tr>\n",
              "  </thead>\n",
              "  <tbody>\n",
              "    <tr>\n",
              "      <th>0</th>\n",
              "      <td>Untuk device laptop apa memang belum ada fitur...</td>\n",
              "      <td>positif</td>\n",
              "    </tr>\n",
              "    <tr>\n",
              "      <th>1</th>\n",
              "      <td>Pihak ruang guru,tolong ya,setiap kali sya men...</td>\n",
              "      <td>positif</td>\n",
              "    </tr>\n",
              "    <tr>\n",
              "      <th>2</th>\n",
              "      <td>Halo kak ini semenjak update tidak bisa dibuka...</td>\n",
              "      <td>negatif</td>\n",
              "    </tr>\n",
              "    <tr>\n",
              "      <th>3</th>\n",
              "      <td>ruangguru punya fitur yang menurut aku lengkap...</td>\n",
              "      <td>positif</td>\n",
              "    </tr>\n",
              "    <tr>\n",
              "      <th>4</th>\n",
              "      <td>Belajar di ruangguru sangat menyenangkan.... J...</td>\n",
              "      <td>positif</td>\n",
              "    </tr>\n",
              "  </tbody>\n",
              "</table>\n",
              "</div>\n",
              "      <button class=\"colab-df-convert\" onclick=\"convertToInteractive('df-7668ddee-82d9-4595-8fab-1e2c801e9ae8')\"\n",
              "              title=\"Convert this dataframe to an interactive table.\"\n",
              "              style=\"display:none;\">\n",
              "        \n",
              "  <svg xmlns=\"http://www.w3.org/2000/svg\" height=\"24px\"viewBox=\"0 0 24 24\"\n",
              "       width=\"24px\">\n",
              "    <path d=\"M0 0h24v24H0V0z\" fill=\"none\"/>\n",
              "    <path d=\"M18.56 5.44l.94 2.06.94-2.06 2.06-.94-2.06-.94-.94-2.06-.94 2.06-2.06.94zm-11 1L8.5 8.5l.94-2.06 2.06-.94-2.06-.94L8.5 2.5l-.94 2.06-2.06.94zm10 10l.94 2.06.94-2.06 2.06-.94-2.06-.94-.94-2.06-.94 2.06-2.06.94z\"/><path d=\"M17.41 7.96l-1.37-1.37c-.4-.4-.92-.59-1.43-.59-.52 0-1.04.2-1.43.59L10.3 9.45l-7.72 7.72c-.78.78-.78 2.05 0 2.83L4 21.41c.39.39.9.59 1.41.59.51 0 1.02-.2 1.41-.59l7.78-7.78 2.81-2.81c.8-.78.8-2.07 0-2.86zM5.41 20L4 18.59l7.72-7.72 1.47 1.35L5.41 20z\"/>\n",
              "  </svg>\n",
              "      </button>\n",
              "      \n",
              "  <style>\n",
              "    .colab-df-container {\n",
              "      display:flex;\n",
              "      flex-wrap:wrap;\n",
              "      gap: 12px;\n",
              "    }\n",
              "\n",
              "    .colab-df-convert {\n",
              "      background-color: #E8F0FE;\n",
              "      border: none;\n",
              "      border-radius: 50%;\n",
              "      cursor: pointer;\n",
              "      display: none;\n",
              "      fill: #1967D2;\n",
              "      height: 32px;\n",
              "      padding: 0 0 0 0;\n",
              "      width: 32px;\n",
              "    }\n",
              "\n",
              "    .colab-df-convert:hover {\n",
              "      background-color: #E2EBFA;\n",
              "      box-shadow: 0px 1px 2px rgba(60, 64, 67, 0.3), 0px 1px 3px 1px rgba(60, 64, 67, 0.15);\n",
              "      fill: #174EA6;\n",
              "    }\n",
              "\n",
              "    [theme=dark] .colab-df-convert {\n",
              "      background-color: #3B4455;\n",
              "      fill: #D2E3FC;\n",
              "    }\n",
              "\n",
              "    [theme=dark] .colab-df-convert:hover {\n",
              "      background-color: #434B5C;\n",
              "      box-shadow: 0px 1px 3px 1px rgba(0, 0, 0, 0.15);\n",
              "      filter: drop-shadow(0px 1px 2px rgba(0, 0, 0, 0.3));\n",
              "      fill: #FFFFFF;\n",
              "    }\n",
              "  </style>\n",
              "\n",
              "      <script>\n",
              "        const buttonEl =\n",
              "          document.querySelector('#df-7668ddee-82d9-4595-8fab-1e2c801e9ae8 button.colab-df-convert');\n",
              "        buttonEl.style.display =\n",
              "          google.colab.kernel.accessAllowed ? 'block' : 'none';\n",
              "\n",
              "        async function convertToInteractive(key) {\n",
              "          const element = document.querySelector('#df-7668ddee-82d9-4595-8fab-1e2c801e9ae8');\n",
              "          const dataTable =\n",
              "            await google.colab.kernel.invokeFunction('convertToInteractive',\n",
              "                                                     [key], {});\n",
              "          if (!dataTable) return;\n",
              "\n",
              "          const docLinkHtml = 'Like what you see? Visit the ' +\n",
              "            '<a target=\"_blank\" href=https://colab.research.google.com/notebooks/data_table.ipynb>data table notebook</a>'\n",
              "            + ' to learn more about interactive tables.';\n",
              "          element.innerHTML = '';\n",
              "          dataTable['output_type'] = 'display_data';\n",
              "          await google.colab.output.renderOutput(dataTable, element);\n",
              "          const docLink = document.createElement('div');\n",
              "          docLink.innerHTML = docLinkHtml;\n",
              "          element.appendChild(docLink);\n",
              "        }\n",
              "      </script>\n",
              "    </div>\n",
              "  </div>\n",
              "  "
            ]
          },
          "metadata": {},
          "execution_count": 10
        }
      ],
      "source": [
        "df_preprocessed = df_review.copy()\n",
        "df_preprocessed = df_preprocessed.drop (columns=['userName', 'tanggal'])\n",
        "df_preprocessed.head()"
      ]
    },
    {
      "cell_type": "code",
      "source": [
        "df_preprocessed['sentimen'].value_counts()"
      ],
      "metadata": {
        "colab": {
          "base_uri": "https://localhost:8080/"
        },
        "id": "9gPfB876-L4z",
        "outputId": "24515315-6127-40f5-bcb2-93eae3d7d7e5"
      },
      "execution_count": null,
      "outputs": [
        {
          "output_type": "execute_result",
          "data": {
            "text/plain": [
              "positif    1348\n",
              "negatif     152\n",
              "Name: sentimen, dtype: int64"
            ]
          },
          "metadata": {},
          "execution_count": 11
        }
      ]
    },
    {
      "cell_type": "markdown",
      "metadata": {
        "id": "tgSqbjeYFZWo"
      },
      "source": [
        "#cleansing"
      ]
    },
    {
      "cell_type": "code",
      "execution_count": null,
      "metadata": {
        "id": "uWIZVUYEFxIT"
      },
      "outputs": [],
      "source": [
        "import string, re\n",
        "\n",
        "def cleansing(data):\n",
        "  #lower text\n",
        "  data = data.lower()\n",
        "\n",
        "  #hapus punctuation\n",
        "  remove =string.punctuation\n",
        "  translator = str.maketrans(remove,' '*len(remove))\n",
        "  data = data.translate(translator)\n",
        "\n",
        "  #remove ASCII dan unicode\n",
        "  data = data.encode('ascii','ignore').decode('utf-8')\n",
        "  data = re.sub(r'[^\\x00-\\x7f]',r'', data)\n",
        "\n",
        "  #remove newline\n",
        "  data = data.replace('\\n','')\n",
        "\n",
        "  return data\n",
        "\n",
        ""
      ]
    },
    {
      "cell_type": "code",
      "execution_count": null,
      "metadata": {
        "colab": {
          "base_uri": "https://localhost:8080/",
          "height": 206
        },
        "id": "B2EEcRHAFZ9L",
        "outputId": "1834bb79-e233-4949-bbb2-7efa723ad3f6"
      },
      "outputs": [
        {
          "output_type": "execute_result",
          "data": {
            "text/plain": [
              "                                              ulasan sentimen\n",
              "0  untuk device laptop apa memang belum ada fitur...  positif\n",
              "1  pihak ruang guru tolong ya setiap kali sya men...  positif\n",
              "2  halo kak ini semenjak update tidak bisa dibuka...  negatif\n",
              "3  ruangguru punya fitur yang menurut aku lengkap...  positif\n",
              "4  belajar di ruangguru sangat menyenangkan     j...  positif"
            ],
            "text/html": [
              "\n",
              "  <div id=\"df-35c92fd7-81c9-4692-8bde-6d2da98ae252\">\n",
              "    <div class=\"colab-df-container\">\n",
              "      <div>\n",
              "<style scoped>\n",
              "    .dataframe tbody tr th:only-of-type {\n",
              "        vertical-align: middle;\n",
              "    }\n",
              "\n",
              "    .dataframe tbody tr th {\n",
              "        vertical-align: top;\n",
              "    }\n",
              "\n",
              "    .dataframe thead th {\n",
              "        text-align: right;\n",
              "    }\n",
              "</style>\n",
              "<table border=\"1\" class=\"dataframe\">\n",
              "  <thead>\n",
              "    <tr style=\"text-align: right;\">\n",
              "      <th></th>\n",
              "      <th>ulasan</th>\n",
              "      <th>sentimen</th>\n",
              "    </tr>\n",
              "  </thead>\n",
              "  <tbody>\n",
              "    <tr>\n",
              "      <th>0</th>\n",
              "      <td>untuk device laptop apa memang belum ada fitur...</td>\n",
              "      <td>positif</td>\n",
              "    </tr>\n",
              "    <tr>\n",
              "      <th>1</th>\n",
              "      <td>pihak ruang guru tolong ya setiap kali sya men...</td>\n",
              "      <td>positif</td>\n",
              "    </tr>\n",
              "    <tr>\n",
              "      <th>2</th>\n",
              "      <td>halo kak ini semenjak update tidak bisa dibuka...</td>\n",
              "      <td>negatif</td>\n",
              "    </tr>\n",
              "    <tr>\n",
              "      <th>3</th>\n",
              "      <td>ruangguru punya fitur yang menurut aku lengkap...</td>\n",
              "      <td>positif</td>\n",
              "    </tr>\n",
              "    <tr>\n",
              "      <th>4</th>\n",
              "      <td>belajar di ruangguru sangat menyenangkan     j...</td>\n",
              "      <td>positif</td>\n",
              "    </tr>\n",
              "  </tbody>\n",
              "</table>\n",
              "</div>\n",
              "      <button class=\"colab-df-convert\" onclick=\"convertToInteractive('df-35c92fd7-81c9-4692-8bde-6d2da98ae252')\"\n",
              "              title=\"Convert this dataframe to an interactive table.\"\n",
              "              style=\"display:none;\">\n",
              "        \n",
              "  <svg xmlns=\"http://www.w3.org/2000/svg\" height=\"24px\"viewBox=\"0 0 24 24\"\n",
              "       width=\"24px\">\n",
              "    <path d=\"M0 0h24v24H0V0z\" fill=\"none\"/>\n",
              "    <path d=\"M18.56 5.44l.94 2.06.94-2.06 2.06-.94-2.06-.94-.94-2.06-.94 2.06-2.06.94zm-11 1L8.5 8.5l.94-2.06 2.06-.94-2.06-.94L8.5 2.5l-.94 2.06-2.06.94zm10 10l.94 2.06.94-2.06 2.06-.94-2.06-.94-.94-2.06-.94 2.06-2.06.94z\"/><path d=\"M17.41 7.96l-1.37-1.37c-.4-.4-.92-.59-1.43-.59-.52 0-1.04.2-1.43.59L10.3 9.45l-7.72 7.72c-.78.78-.78 2.05 0 2.83L4 21.41c.39.39.9.59 1.41.59.51 0 1.02-.2 1.41-.59l7.78-7.78 2.81-2.81c.8-.78.8-2.07 0-2.86zM5.41 20L4 18.59l7.72-7.72 1.47 1.35L5.41 20z\"/>\n",
              "  </svg>\n",
              "      </button>\n",
              "      \n",
              "  <style>\n",
              "    .colab-df-container {\n",
              "      display:flex;\n",
              "      flex-wrap:wrap;\n",
              "      gap: 12px;\n",
              "    }\n",
              "\n",
              "    .colab-df-convert {\n",
              "      background-color: #E8F0FE;\n",
              "      border: none;\n",
              "      border-radius: 50%;\n",
              "      cursor: pointer;\n",
              "      display: none;\n",
              "      fill: #1967D2;\n",
              "      height: 32px;\n",
              "      padding: 0 0 0 0;\n",
              "      width: 32px;\n",
              "    }\n",
              "\n",
              "    .colab-df-convert:hover {\n",
              "      background-color: #E2EBFA;\n",
              "      box-shadow: 0px 1px 2px rgba(60, 64, 67, 0.3), 0px 1px 3px 1px rgba(60, 64, 67, 0.15);\n",
              "      fill: #174EA6;\n",
              "    }\n",
              "\n",
              "    [theme=dark] .colab-df-convert {\n",
              "      background-color: #3B4455;\n",
              "      fill: #D2E3FC;\n",
              "    }\n",
              "\n",
              "    [theme=dark] .colab-df-convert:hover {\n",
              "      background-color: #434B5C;\n",
              "      box-shadow: 0px 1px 3px 1px rgba(0, 0, 0, 0.15);\n",
              "      filter: drop-shadow(0px 1px 2px rgba(0, 0, 0, 0.3));\n",
              "      fill: #FFFFFF;\n",
              "    }\n",
              "  </style>\n",
              "\n",
              "      <script>\n",
              "        const buttonEl =\n",
              "          document.querySelector('#df-35c92fd7-81c9-4692-8bde-6d2da98ae252 button.colab-df-convert');\n",
              "        buttonEl.style.display =\n",
              "          google.colab.kernel.accessAllowed ? 'block' : 'none';\n",
              "\n",
              "        async function convertToInteractive(key) {\n",
              "          const element = document.querySelector('#df-35c92fd7-81c9-4692-8bde-6d2da98ae252');\n",
              "          const dataTable =\n",
              "            await google.colab.kernel.invokeFunction('convertToInteractive',\n",
              "                                                     [key], {});\n",
              "          if (!dataTable) return;\n",
              "\n",
              "          const docLinkHtml = 'Like what you see? Visit the ' +\n",
              "            '<a target=\"_blank\" href=https://colab.research.google.com/notebooks/data_table.ipynb>data table notebook</a>'\n",
              "            + ' to learn more about interactive tables.';\n",
              "          element.innerHTML = '';\n",
              "          dataTable['output_type'] = 'display_data';\n",
              "          await google.colab.output.renderOutput(dataTable, element);\n",
              "          const docLink = document.createElement('div');\n",
              "          docLink.innerHTML = docLinkHtml;\n",
              "          element.appendChild(docLink);\n",
              "        }\n",
              "      </script>\n",
              "    </div>\n",
              "  </div>\n",
              "  "
            ]
          },
          "metadata": {},
          "execution_count": 13
        }
      ],
      "source": [
        "#jalankan cleansing data\n",
        "review =[]\n",
        "for index, row in df_preprocessed.iterrows():\n",
        "    review.append(cleansing(row[\"ulasan\"]))\n",
        "\n",
        "df_preprocessed[\"ulasan\"] = review\n",
        "df_preprocessed.head()\n"
      ]
    },
    {
      "cell_type": "code",
      "source": [
        "df_as['ulasan'].iloc[3]"
      ],
      "metadata": {
        "colab": {
          "base_uri": "https://localhost:8080/",
          "height": 53
        },
        "id": "H8ixs1gF_lAM",
        "outputId": "2c2d8d95-ca0c-42e1-f8ac-f1ee1af6e175"
      },
      "execution_count": null,
      "outputs": [
        {
          "output_type": "execute_result",
          "data": {
            "text/plain": [
              "'ruangguru punya fitur yang menurut aku lengkap banget. Tapi sayangnya volume suara dari video pembelajaran nya sering kali kecil, jadinya pas belajar aga terganggu'"
            ],
            "application/vnd.google.colaboratory.intrinsic+json": {
              "type": "string"
            }
          },
          "metadata": {},
          "execution_count": 14
        }
      ]
    },
    {
      "cell_type": "code",
      "source": [
        "df_as['ulasan'].iloc[110]"
      ],
      "metadata": {
        "colab": {
          "base_uri": "https://localhost:8080/",
          "height": 35
        },
        "id": "7Md8EZD5-4Qy",
        "outputId": "3b215785-d6c8-4463-f5ce-7cabbffc0831"
      },
      "execution_count": null,
      "outputs": [
        {
          "output_type": "execute_result",
          "data": {
            "text/plain": [
              "'Apk ini sangatlah membantu cara untuk memecahkan rumus rumus yg saya tidak paham'"
            ],
            "application/vnd.google.colaboratory.intrinsic+json": {
              "type": "string"
            }
          },
          "metadata": {},
          "execution_count": 15
        }
      ]
    },
    {
      "cell_type": "code",
      "source": [
        "text = df_as['ulasan'].iloc[110]\n",
        "print(cleansing(text))"
      ],
      "metadata": {
        "colab": {
          "base_uri": "https://localhost:8080/"
        },
        "id": "YtgHyQLB_42j",
        "outputId": "bf19624c-e1c7-4af5-d9a9-c3463fb77cb5"
      },
      "execution_count": null,
      "outputs": [
        {
          "output_type": "stream",
          "name": "stdout",
          "text": [
            "apk ini sangatlah membantu cara untuk memecahkan rumus rumus yg saya tidak paham\n"
          ]
        }
      ]
    },
    {
      "cell_type": "markdown",
      "metadata": {
        "id": "3BNQvzUOZwUa"
      },
      "source": [
        "#remove stopword"
      ]
    },
    {
      "cell_type": "code",
      "execution_count": null,
      "metadata": {
        "colab": {
          "base_uri": "https://localhost:8080/"
        },
        "id": "Wy4BUD4RZxDY",
        "outputId": "71690282-cacd-4f04-eb4f-44025a8cc4ac"
      },
      "outputs": [
        {
          "output_type": "stream",
          "name": "stdout",
          "text": [
            "Looking in indexes: https://pypi.org/simple, https://us-python.pkg.dev/colab-wheels/public/simple/\n",
            "Requirement already satisfied: Sastrawi in /usr/local/lib/python3.7/dist-packages (1.0.1)\n"
          ]
        }
      ],
      "source": [
        "!pip install Sastrawi\n"
      ]
    },
    {
      "cell_type": "code",
      "execution_count": null,
      "metadata": {
        "colab": {
          "base_uri": "https://localhost:8080/"
        },
        "id": "0inRGBCtaAVc",
        "outputId": "46c89aac-334a-42ef-a7c8-e5dc83e6d0ff"
      },
      "outputs": [
        {
          "output_type": "stream",
          "name": "stdout",
          "text": [
            "Aplikasi yg keren nih, khususnya fitur terbaru ZenCore.. Kita melatih kemampuan belajar CorePractice berkali-kali.. Belajar jadi lebih asik nyaman.. Semoga kedepannya muncul fitur\" keren ya\n"
          ]
        }
      ],
      "source": [
        "# import libary\n",
        "from Sastrawi.StopWordRemover.StopWordRemoverFactory import StopWordRemoverFactory\n",
        "\n",
        "factory = StopWordRemoverFactory()\n",
        "stopword = factory.create_stop_word_remover()\n",
        "\n",
        "#contoh\n",
        "kalimat ='Aplikasi yg keren nih, khususnya untuk fitur terbaru ZenCore.. Kita bisa melatih kemampuan belajar di CorePractice berkali-kali.. Belajar jadi lebih asik dan nyaman.. Semoga kedepannya muncul fitur\" keren lagi ya'\n",
        "stop = stopword.remove(kalimat)\n",
        "print(stop)\n"
      ]
    },
    {
      "cell_type": "code",
      "source": [
        "text = df_as['ulasan'].iloc[30]\n",
        "txt = cleansing(text)\n",
        "text2 = stopword.remove(txt)\n",
        "print(\"Awal : \",text)\n",
        "print(\"Cleansing : \",txt)\n",
        "print(\"Stopword : \", text2)"
      ],
      "metadata": {
        "colab": {
          "base_uri": "https://localhost:8080/"
        },
        "id": "a9cGqOnzB9pt",
        "outputId": "1009170b-44f3-432e-a44d-b82c9c311abb"
      },
      "execution_count": null,
      "outputs": [
        {
          "output_type": "stream",
          "name": "stdout",
          "text": [
            "Awal :  Terimakasih ruang guru saya lolos Sbmptn karena giat belajar di ruang guru. Tapi mohon dibenahi untuk pemilihan jawaban kuis nya kadang eror. Dan tingkat kan kualitas resolusi vidio nya\n",
            "Cleansing :  terimakasih ruang guru saya lolos sbmptn karena giat belajar di ruang guru  tapi mohon dibenahi untuk pemilihan jawaban kuis nya kadang eror  dan tingkat kan kualitas resolusi vidio nya\n",
            "Stopword :  terimakasih ruang guru lolos sbmptn giat belajar ruang guru  mohon dibenahi pemilihan jawaban kuis nya kadang eror  tingkat kan kualitas resolusi vidio nya\n"
          ]
        }
      ]
    },
    {
      "cell_type": "code",
      "execution_count": null,
      "metadata": {
        "colab": {
          "base_uri": "https://localhost:8080/",
          "height": 206
        },
        "id": "tjhSHGoscnTc",
        "outputId": "11eba6cd-e1d9-4ee3-8d57-a2242aa91006"
      },
      "outputs": [
        {
          "output_type": "execute_result",
          "data": {
            "text/plain": [
              "                                              ulasan sentimen\n",
              "0     device laptop apa memang ada fitur adapto nya   positif\n",
              "1  pihak ruang guru ya kali sya menonton dafa lul...  positif\n",
              "2  halo kak semenjak update bisa dibuka tampilan ...  negatif\n",
              "3  ruangguru punya fitur menurut aku lengkap bang...  positif\n",
              "4  belajar ruangguru sangat menyenangkan     jang...  positif"
            ],
            "text/html": [
              "\n",
              "  <div id=\"df-30b6c1df-29f1-4890-a871-90614d9fd8e3\">\n",
              "    <div class=\"colab-df-container\">\n",
              "      <div>\n",
              "<style scoped>\n",
              "    .dataframe tbody tr th:only-of-type {\n",
              "        vertical-align: middle;\n",
              "    }\n",
              "\n",
              "    .dataframe tbody tr th {\n",
              "        vertical-align: top;\n",
              "    }\n",
              "\n",
              "    .dataframe thead th {\n",
              "        text-align: right;\n",
              "    }\n",
              "</style>\n",
              "<table border=\"1\" class=\"dataframe\">\n",
              "  <thead>\n",
              "    <tr style=\"text-align: right;\">\n",
              "      <th></th>\n",
              "      <th>ulasan</th>\n",
              "      <th>sentimen</th>\n",
              "    </tr>\n",
              "  </thead>\n",
              "  <tbody>\n",
              "    <tr>\n",
              "      <th>0</th>\n",
              "      <td>device laptop apa memang ada fitur adapto nya</td>\n",
              "      <td>positif</td>\n",
              "    </tr>\n",
              "    <tr>\n",
              "      <th>1</th>\n",
              "      <td>pihak ruang guru ya kali sya menonton dafa lul...</td>\n",
              "      <td>positif</td>\n",
              "    </tr>\n",
              "    <tr>\n",
              "      <th>2</th>\n",
              "      <td>halo kak semenjak update bisa dibuka tampilan ...</td>\n",
              "      <td>negatif</td>\n",
              "    </tr>\n",
              "    <tr>\n",
              "      <th>3</th>\n",
              "      <td>ruangguru punya fitur menurut aku lengkap bang...</td>\n",
              "      <td>positif</td>\n",
              "    </tr>\n",
              "    <tr>\n",
              "      <th>4</th>\n",
              "      <td>belajar ruangguru sangat menyenangkan     jang...</td>\n",
              "      <td>positif</td>\n",
              "    </tr>\n",
              "  </tbody>\n",
              "</table>\n",
              "</div>\n",
              "      <button class=\"colab-df-convert\" onclick=\"convertToInteractive('df-30b6c1df-29f1-4890-a871-90614d9fd8e3')\"\n",
              "              title=\"Convert this dataframe to an interactive table.\"\n",
              "              style=\"display:none;\">\n",
              "        \n",
              "  <svg xmlns=\"http://www.w3.org/2000/svg\" height=\"24px\"viewBox=\"0 0 24 24\"\n",
              "       width=\"24px\">\n",
              "    <path d=\"M0 0h24v24H0V0z\" fill=\"none\"/>\n",
              "    <path d=\"M18.56 5.44l.94 2.06.94-2.06 2.06-.94-2.06-.94-.94-2.06-.94 2.06-2.06.94zm-11 1L8.5 8.5l.94-2.06 2.06-.94-2.06-.94L8.5 2.5l-.94 2.06-2.06.94zm10 10l.94 2.06.94-2.06 2.06-.94-2.06-.94-.94-2.06-.94 2.06-2.06.94z\"/><path d=\"M17.41 7.96l-1.37-1.37c-.4-.4-.92-.59-1.43-.59-.52 0-1.04.2-1.43.59L10.3 9.45l-7.72 7.72c-.78.78-.78 2.05 0 2.83L4 21.41c.39.39.9.59 1.41.59.51 0 1.02-.2 1.41-.59l7.78-7.78 2.81-2.81c.8-.78.8-2.07 0-2.86zM5.41 20L4 18.59l7.72-7.72 1.47 1.35L5.41 20z\"/>\n",
              "  </svg>\n",
              "      </button>\n",
              "      \n",
              "  <style>\n",
              "    .colab-df-container {\n",
              "      display:flex;\n",
              "      flex-wrap:wrap;\n",
              "      gap: 12px;\n",
              "    }\n",
              "\n",
              "    .colab-df-convert {\n",
              "      background-color: #E8F0FE;\n",
              "      border: none;\n",
              "      border-radius: 50%;\n",
              "      cursor: pointer;\n",
              "      display: none;\n",
              "      fill: #1967D2;\n",
              "      height: 32px;\n",
              "      padding: 0 0 0 0;\n",
              "      width: 32px;\n",
              "    }\n",
              "\n",
              "    .colab-df-convert:hover {\n",
              "      background-color: #E2EBFA;\n",
              "      box-shadow: 0px 1px 2px rgba(60, 64, 67, 0.3), 0px 1px 3px 1px rgba(60, 64, 67, 0.15);\n",
              "      fill: #174EA6;\n",
              "    }\n",
              "\n",
              "    [theme=dark] .colab-df-convert {\n",
              "      background-color: #3B4455;\n",
              "      fill: #D2E3FC;\n",
              "    }\n",
              "\n",
              "    [theme=dark] .colab-df-convert:hover {\n",
              "      background-color: #434B5C;\n",
              "      box-shadow: 0px 1px 3px 1px rgba(0, 0, 0, 0.15);\n",
              "      filter: drop-shadow(0px 1px 2px rgba(0, 0, 0, 0.3));\n",
              "      fill: #FFFFFF;\n",
              "    }\n",
              "  </style>\n",
              "\n",
              "      <script>\n",
              "        const buttonEl =\n",
              "          document.querySelector('#df-30b6c1df-29f1-4890-a871-90614d9fd8e3 button.colab-df-convert');\n",
              "        buttonEl.style.display =\n",
              "          google.colab.kernel.accessAllowed ? 'block' : 'none';\n",
              "\n",
              "        async function convertToInteractive(key) {\n",
              "          const element = document.querySelector('#df-30b6c1df-29f1-4890-a871-90614d9fd8e3');\n",
              "          const dataTable =\n",
              "            await google.colab.kernel.invokeFunction('convertToInteractive',\n",
              "                                                     [key], {});\n",
              "          if (!dataTable) return;\n",
              "\n",
              "          const docLinkHtml = 'Like what you see? Visit the ' +\n",
              "            '<a target=\"_blank\" href=https://colab.research.google.com/notebooks/data_table.ipynb>data table notebook</a>'\n",
              "            + ' to learn more about interactive tables.';\n",
              "          element.innerHTML = '';\n",
              "          dataTable['output_type'] = 'display_data';\n",
              "          await google.colab.output.renderOutput(dataTable, element);\n",
              "          const docLink = document.createElement('div');\n",
              "          docLink.innerHTML = docLinkHtml;\n",
              "          element.appendChild(docLink);\n",
              "        }\n",
              "      </script>\n",
              "    </div>\n",
              "  </div>\n",
              "  "
            ]
          },
          "metadata": {},
          "execution_count": 20
        }
      ],
      "source": [
        "review = []\n",
        "for index, row in df_preprocessed.iterrows():\n",
        "     review.append(stopword.remove(row[\"ulasan\"]))\n",
        "\n",
        "df_preprocessed[\"ulasan\"] = review\n",
        "df_preprocessed.head()"
      ]
    },
    {
      "cell_type": "markdown",
      "metadata": {
        "id": "qSePcv7_fZlY"
      },
      "source": [
        "#steaming"
      ]
    },
    {
      "cell_type": "code",
      "source": [
        "!pip install Sastrawi"
      ],
      "metadata": {
        "colab": {
          "base_uri": "https://localhost:8080/"
        },
        "id": "2_Hw6WJhyf9d",
        "outputId": "6d831265-98d5-4dc0-cb07-9ff410468721"
      },
      "execution_count": null,
      "outputs": [
        {
          "output_type": "stream",
          "name": "stdout",
          "text": [
            "Looking in indexes: https://pypi.org/simple, https://us-python.pkg.dev/colab-wheels/public/simple/\n",
            "Requirement already satisfied: Sastrawi in /usr/local/lib/python3.7/dist-packages (1.0.1)\n"
          ]
        }
      ]
    },
    {
      "cell_type": "code",
      "execution_count": null,
      "metadata": {
        "colab": {
          "base_uri": "https://localhost:8080/"
        },
        "id": "Xcke2Yfsfgz4",
        "outputId": "860c78ec-9db1-432a-dc3a-a4093007ed2c"
      },
      "outputs": [
        {
          "output_type": "stream",
          "name": "stdout",
          "text": [
            "aplikasi yg keren nih khusus untuk fitur baru zencore kita bisa latih mampu ajar di corepractice kali ajar jadi lebih asik dan nyaman moga depan muncul fitur keren lagi ya\n"
          ]
        }
      ],
      "source": [
        "from Sastrawi.Stemmer.StemmerFactory import StemmerFactory\n",
        "factory = StemmerFactory()\n",
        "Stemmer = factory.create_stemmer()\n",
        "#contoh\n",
        "kalimat = 'Aplikasi yg keren nih, khususnya untuk fitur terbaru ZenCore.. Kita bisa melatih kemampuan belajar di CorePractice berkali-kali.. Belajar jadi lebih asik dan nyaman.. Semoga kedepannya muncul fitur\" keren lagi ya'\n",
        "katadasar = Stemmer.stem(kalimat)\n",
        "print(katadasar)"
      ]
    },
    {
      "cell_type": "code",
      "source": [
        "text = df_as['ulasan'].iloc[28]\n",
        "txt = cleansing(text)\n",
        "text2 = stopword.remove(txt)\n",
        "text3 = Stemmer.stem(text2)\n",
        "print(\"Awal : \",text)\n",
        "print(\"Cleansing : \",txt)\n",
        "print(\"Stopword : \", text2)\n",
        "print(\"Stemming : \", text3)"
      ],
      "metadata": {
        "colab": {
          "base_uri": "https://localhost:8080/"
        },
        "id": "4MSradQKDaGj",
        "outputId": "2cc5f9cf-0505-4c6b-eafa-bcc48ef372ff"
      },
      "execution_count": null,
      "outputs": [
        {
          "output_type": "stream",
          "name": "stdout",
          "text": [
            "Awal :  Pengalaman pakek Ruangguru oke banget, saya berlangganan 9 bulan untuk gapyear dan mengikuti sekitar 10 tryout premium, Alhamdulillah masuk di pilihan ke dua yaitu UIN Jakarta, jurusan manajemen.\n",
            "Cleansing :  pengalaman pakek ruangguru oke banget  saya berlangganan 9 bulan untuk gapyear dan mengikuti sekitar 10 tryout premium  alhamdulillah masuk di pilihan ke dua yaitu uin jakarta  jurusan manajemen \n",
            "Stopword :  pengalaman pakek ruangguru oke banget  berlangganan 9 bulan gapyear mengikuti 10 tryout premium  alhamdulillah masuk pilihan dua uin jakarta  jurusan manajemen \n",
            "Stemming :  alam pakek ruangguru oke banget langgan 9 bulan gapyear ikut 10 tryout premium alhamdulillah masuk pilih dua uin jakarta jurus manajemen\n"
          ]
        }
      ]
    },
    {
      "cell_type": "code",
      "execution_count": null,
      "metadata": {
        "colab": {
          "base_uri": "https://localhost:8080/",
          "height": 206
        },
        "id": "GchAoTFog6R-",
        "outputId": "f0f7f123-8a4d-4471-a2a3-426c70e295e4"
      },
      "outputs": [
        {
          "output_type": "execute_result",
          "data": {
            "text/plain": [
              "                                              ulasan sentimen\n",
              "0      device laptop apa memang ada fitur adapto nya  positif\n",
              "1  pihak ruang guru ya kali sya tonton dafa lulu ...  positif\n",
              "2  halo kak semenjak update bisa buka tampil blac...  negatif\n",
              "3  ruangguru punya fitur turut aku lengkap banget...  positif\n",
              "4  ajar ruangguru sangat senang jangan lupa dafta...  positif"
            ],
            "text/html": [
              "\n",
              "  <div id=\"df-4a6c5db1-5b02-484f-853f-ce7df2abf63c\">\n",
              "    <div class=\"colab-df-container\">\n",
              "      <div>\n",
              "<style scoped>\n",
              "    .dataframe tbody tr th:only-of-type {\n",
              "        vertical-align: middle;\n",
              "    }\n",
              "\n",
              "    .dataframe tbody tr th {\n",
              "        vertical-align: top;\n",
              "    }\n",
              "\n",
              "    .dataframe thead th {\n",
              "        text-align: right;\n",
              "    }\n",
              "</style>\n",
              "<table border=\"1\" class=\"dataframe\">\n",
              "  <thead>\n",
              "    <tr style=\"text-align: right;\">\n",
              "      <th></th>\n",
              "      <th>ulasan</th>\n",
              "      <th>sentimen</th>\n",
              "    </tr>\n",
              "  </thead>\n",
              "  <tbody>\n",
              "    <tr>\n",
              "      <th>0</th>\n",
              "      <td>device laptop apa memang ada fitur adapto nya</td>\n",
              "      <td>positif</td>\n",
              "    </tr>\n",
              "    <tr>\n",
              "      <th>1</th>\n",
              "      <td>pihak ruang guru ya kali sya tonton dafa lulu ...</td>\n",
              "      <td>positif</td>\n",
              "    </tr>\n",
              "    <tr>\n",
              "      <th>2</th>\n",
              "      <td>halo kak semenjak update bisa buka tampil blac...</td>\n",
              "      <td>negatif</td>\n",
              "    </tr>\n",
              "    <tr>\n",
              "      <th>3</th>\n",
              "      <td>ruangguru punya fitur turut aku lengkap banget...</td>\n",
              "      <td>positif</td>\n",
              "    </tr>\n",
              "    <tr>\n",
              "      <th>4</th>\n",
              "      <td>ajar ruangguru sangat senang jangan lupa dafta...</td>\n",
              "      <td>positif</td>\n",
              "    </tr>\n",
              "  </tbody>\n",
              "</table>\n",
              "</div>\n",
              "      <button class=\"colab-df-convert\" onclick=\"convertToInteractive('df-4a6c5db1-5b02-484f-853f-ce7df2abf63c')\"\n",
              "              title=\"Convert this dataframe to an interactive table.\"\n",
              "              style=\"display:none;\">\n",
              "        \n",
              "  <svg xmlns=\"http://www.w3.org/2000/svg\" height=\"24px\"viewBox=\"0 0 24 24\"\n",
              "       width=\"24px\">\n",
              "    <path d=\"M0 0h24v24H0V0z\" fill=\"none\"/>\n",
              "    <path d=\"M18.56 5.44l.94 2.06.94-2.06 2.06-.94-2.06-.94-.94-2.06-.94 2.06-2.06.94zm-11 1L8.5 8.5l.94-2.06 2.06-.94-2.06-.94L8.5 2.5l-.94 2.06-2.06.94zm10 10l.94 2.06.94-2.06 2.06-.94-2.06-.94-.94-2.06-.94 2.06-2.06.94z\"/><path d=\"M17.41 7.96l-1.37-1.37c-.4-.4-.92-.59-1.43-.59-.52 0-1.04.2-1.43.59L10.3 9.45l-7.72 7.72c-.78.78-.78 2.05 0 2.83L4 21.41c.39.39.9.59 1.41.59.51 0 1.02-.2 1.41-.59l7.78-7.78 2.81-2.81c.8-.78.8-2.07 0-2.86zM5.41 20L4 18.59l7.72-7.72 1.47 1.35L5.41 20z\"/>\n",
              "  </svg>\n",
              "      </button>\n",
              "      \n",
              "  <style>\n",
              "    .colab-df-container {\n",
              "      display:flex;\n",
              "      flex-wrap:wrap;\n",
              "      gap: 12px;\n",
              "    }\n",
              "\n",
              "    .colab-df-convert {\n",
              "      background-color: #E8F0FE;\n",
              "      border: none;\n",
              "      border-radius: 50%;\n",
              "      cursor: pointer;\n",
              "      display: none;\n",
              "      fill: #1967D2;\n",
              "      height: 32px;\n",
              "      padding: 0 0 0 0;\n",
              "      width: 32px;\n",
              "    }\n",
              "\n",
              "    .colab-df-convert:hover {\n",
              "      background-color: #E2EBFA;\n",
              "      box-shadow: 0px 1px 2px rgba(60, 64, 67, 0.3), 0px 1px 3px 1px rgba(60, 64, 67, 0.15);\n",
              "      fill: #174EA6;\n",
              "    }\n",
              "\n",
              "    [theme=dark] .colab-df-convert {\n",
              "      background-color: #3B4455;\n",
              "      fill: #D2E3FC;\n",
              "    }\n",
              "\n",
              "    [theme=dark] .colab-df-convert:hover {\n",
              "      background-color: #434B5C;\n",
              "      box-shadow: 0px 1px 3px 1px rgba(0, 0, 0, 0.15);\n",
              "      filter: drop-shadow(0px 1px 2px rgba(0, 0, 0, 0.3));\n",
              "      fill: #FFFFFF;\n",
              "    }\n",
              "  </style>\n",
              "\n",
              "      <script>\n",
              "        const buttonEl =\n",
              "          document.querySelector('#df-4a6c5db1-5b02-484f-853f-ce7df2abf63c button.colab-df-convert');\n",
              "        buttonEl.style.display =\n",
              "          google.colab.kernel.accessAllowed ? 'block' : 'none';\n",
              "\n",
              "        async function convertToInteractive(key) {\n",
              "          const element = document.querySelector('#df-4a6c5db1-5b02-484f-853f-ce7df2abf63c');\n",
              "          const dataTable =\n",
              "            await google.colab.kernel.invokeFunction('convertToInteractive',\n",
              "                                                     [key], {});\n",
              "          if (!dataTable) return;\n",
              "\n",
              "          const docLinkHtml = 'Like what you see? Visit the ' +\n",
              "            '<a target=\"_blank\" href=https://colab.research.google.com/notebooks/data_table.ipynb>data table notebook</a>'\n",
              "            + ' to learn more about interactive tables.';\n",
              "          element.innerHTML = '';\n",
              "          dataTable['output_type'] = 'display_data';\n",
              "          await google.colab.output.renderOutput(dataTable, element);\n",
              "          const docLink = document.createElement('div');\n",
              "          docLink.innerHTML = docLinkHtml;\n",
              "          element.appendChild(docLink);\n",
              "        }\n",
              "      </script>\n",
              "    </div>\n",
              "  </div>\n",
              "  "
            ]
          },
          "metadata": {},
          "execution_count": 24
        }
      ],
      "source": [
        "#implementasi pada data kita\n",
        "review = []\n",
        "for index, row in df_preprocessed.iterrows():\n",
        "     review.append(Stemmer.stem(row[\"ulasan\"]))\n",
        "\n",
        "df_preprocessed[\"ulasan\"] = review\n",
        "df_preprocessed.head()"
      ]
    },
    {
      "cell_type": "code",
      "execution_count": null,
      "metadata": {
        "id": "xA2YO0jSE1TA"
      },
      "outputs": [],
      "source": [
        "df_preprocessed.to_excel(\"zen.xlsx\", index = False)  #Save the file as CSV , to download: click the folder icon on the left. the csv file should be there."
      ]
    },
    {
      "cell_type": "code",
      "execution_count": null,
      "metadata": {
        "id": "or60UM1bHwXu"
      },
      "outputs": [],
      "source": [
        "def preprocess_data(data):\n",
        "  # cleansing data\n",
        "  data = cleansing(data)\n",
        "\n",
        "  #hapus stopwords\n",
        "  factory = StopWordRemoverFactory()\n",
        "  stopword = factory.create_stop_word_remover()\n",
        "  data = stopword.remove(data)\n",
        "\n",
        "  #steming\n",
        "  factory = StemmerFactory()\n",
        "  Stemmer = factory.create_stemmer()\n",
        "  data = Stemmer.stem(data)\n",
        "\n",
        "  # count vectorizer\n",
        "  #data = vectorizer.transform([data])\n",
        "  return data"
      ]
    },
    {
      "cell_type": "code",
      "source": [
        "text = df_as['ulasan'].iloc[33]\n",
        "print(\"text asli : \",text)\n",
        "print(\"text prepocess : \",preprocess_data(text))"
      ],
      "metadata": {
        "colab": {
          "base_uri": "https://localhost:8080/"
        },
        "id": "um2ngbQUN2cE",
        "outputId": "2a2fe408-dbbc-46dc-acfa-bac17ebe00af"
      },
      "execution_count": null,
      "outputs": [
        {
          "output_type": "stream",
          "name": "stdout",
          "text": [
            "text asli :  Tolong dong cicilannya bisa lebih dari 3x. Soalnya ini bayarnya pakek duit jajan jadi, tiap bulan cuma kekumpul dikit, udah dikit mau di pakek buat paket internet pula hadehh. Mau joinan akun tapi takut di bohongi temen T-T\n",
            "text prepocess :  dong cicil lebih 3x soal bayar pakek duit jajan jadi tiap bulan cuma kumpul dikit udah dikit mau pakek buat paket internet hadehh mau joinan akun takut bohong temen t t\n"
          ]
        }
      ]
    },
    {
      "cell_type": "markdown",
      "metadata": {
        "id": "6sP31s2xrZTH"
      },
      "source": [
        "menbagi data train dan data test"
      ]
    },
    {
      "cell_type": "code",
      "execution_count": null,
      "metadata": {
        "id": "XQabcm5br5qU"
      },
      "outputs": [],
      "source": [
        "from sklearn.model_selection import train_test_split\n",
        "x_train,x_test, y_train, y_test = train_test_split(df_preprocessed['ulasan'],df_preprocessed['sentimen'],\n",
        "                                                   test_size=0.2, stratify=df_preprocessed['sentimen'], random_state=0)"
      ]
    },
    {
      "cell_type": "markdown",
      "source": [
        "pembobotan TFID"
      ],
      "metadata": {
        "id": "uEdzEIWeTEJS"
      }
    },
    {
      "cell_type": "code",
      "execution_count": null,
      "metadata": {
        "colab": {
          "base_uri": "https://localhost:8080/",
          "height": 345
        },
        "id": "ygzVexfi8lUz",
        "outputId": "c60c79fe-8ff7-4f0e-8b6f-0bbccca6aa32"
      },
      "outputs": [
        {
          "output_type": "error",
          "ename": "AttributeError",
          "evalue": "ignored",
          "traceback": [
            "\u001b[0;31m---------------------------------------------------------------------------\u001b[0m",
            "\u001b[0;31mAttributeError\u001b[0m                            Traceback (most recent call last)",
            "\u001b[0;32m<ipython-input-72-066e61d0e78d>\u001b[0m in \u001b[0;36m<module>\u001b[0;34m()\u001b[0m\n\u001b[1;32m      4\u001b[0m \u001b[0;31m#vectorizer = TfidfVectorizer()\u001b[0m\u001b[0;34m\u001b[0m\u001b[0;34m\u001b[0m\u001b[0;34m\u001b[0m\u001b[0m\n\u001b[1;32m      5\u001b[0m \u001b[0mvectorizer\u001b[0m \u001b[0;34m=\u001b[0m \u001b[0mCountVectorizer\u001b[0m\u001b[0;34m(\u001b[0m\u001b[0;34m)\u001b[0m\u001b[0;34m\u001b[0m\u001b[0;34m\u001b[0m\u001b[0m\n\u001b[0;32m----> 6\u001b[0;31m \u001b[0mvectorizer\u001b[0m\u001b[0;34m.\u001b[0m\u001b[0mfit\u001b[0m\u001b[0;34m(\u001b[0m\u001b[0mx_train\u001b[0m\u001b[0;34m)\u001b[0m\u001b[0;34m\u001b[0m\u001b[0;34m\u001b[0m\u001b[0m\n\u001b[0m",
            "\u001b[0;32m/usr/local/lib/python3.7/dist-packages/sklearn/feature_extraction/text.py\u001b[0m in \u001b[0;36mfit\u001b[0;34m(self, raw_documents, y)\u001b[0m\n\u001b[1;32m   1281\u001b[0m         \"\"\"\n\u001b[1;32m   1282\u001b[0m         \u001b[0mself\u001b[0m\u001b[0;34m.\u001b[0m\u001b[0m_warn_for_unused_params\u001b[0m\u001b[0;34m(\u001b[0m\u001b[0;34m)\u001b[0m\u001b[0;34m\u001b[0m\u001b[0;34m\u001b[0m\u001b[0m\n\u001b[0;32m-> 1283\u001b[0;31m         \u001b[0mself\u001b[0m\u001b[0;34m.\u001b[0m\u001b[0mfit_transform\u001b[0m\u001b[0;34m(\u001b[0m\u001b[0mraw_documents\u001b[0m\u001b[0;34m)\u001b[0m\u001b[0;34m\u001b[0m\u001b[0;34m\u001b[0m\u001b[0m\n\u001b[0m\u001b[1;32m   1284\u001b[0m         \u001b[0;32mreturn\u001b[0m \u001b[0mself\u001b[0m\u001b[0;34m\u001b[0m\u001b[0;34m\u001b[0m\u001b[0m\n\u001b[1;32m   1285\u001b[0m \u001b[0;34m\u001b[0m\u001b[0m\n",
            "\u001b[0;32m/usr/local/lib/python3.7/dist-packages/sklearn/feature_extraction/text.py\u001b[0m in \u001b[0;36mfit_transform\u001b[0;34m(self, raw_documents, y)\u001b[0m\n\u001b[1;32m   1328\u001b[0m                     \u001b[0;32mbreak\u001b[0m\u001b[0;34m\u001b[0m\u001b[0;34m\u001b[0m\u001b[0m\n\u001b[1;32m   1329\u001b[0m \u001b[0;34m\u001b[0m\u001b[0m\n\u001b[0;32m-> 1330\u001b[0;31m         \u001b[0mvocabulary\u001b[0m\u001b[0;34m,\u001b[0m \u001b[0mX\u001b[0m \u001b[0;34m=\u001b[0m \u001b[0mself\u001b[0m\u001b[0;34m.\u001b[0m\u001b[0m_count_vocab\u001b[0m\u001b[0;34m(\u001b[0m\u001b[0mraw_documents\u001b[0m\u001b[0;34m,\u001b[0m \u001b[0mself\u001b[0m\u001b[0;34m.\u001b[0m\u001b[0mfixed_vocabulary_\u001b[0m\u001b[0;34m)\u001b[0m\u001b[0;34m\u001b[0m\u001b[0;34m\u001b[0m\u001b[0m\n\u001b[0m\u001b[1;32m   1331\u001b[0m \u001b[0;34m\u001b[0m\u001b[0m\n\u001b[1;32m   1332\u001b[0m         \u001b[0;32mif\u001b[0m \u001b[0mself\u001b[0m\u001b[0;34m.\u001b[0m\u001b[0mbinary\u001b[0m\u001b[0;34m:\u001b[0m\u001b[0;34m\u001b[0m\u001b[0;34m\u001b[0m\u001b[0m\n",
            "\u001b[0;32m/usr/local/lib/python3.7/dist-packages/sklearn/feature_extraction/text.py\u001b[0m in \u001b[0;36m_count_vocab\u001b[0;34m(self, raw_documents, fixed_vocab)\u001b[0m\n\u001b[1;32m   1199\u001b[0m         \u001b[0;32mfor\u001b[0m \u001b[0mdoc\u001b[0m \u001b[0;32min\u001b[0m \u001b[0mraw_documents\u001b[0m\u001b[0;34m:\u001b[0m\u001b[0;34m\u001b[0m\u001b[0;34m\u001b[0m\u001b[0m\n\u001b[1;32m   1200\u001b[0m             \u001b[0mfeature_counter\u001b[0m \u001b[0;34m=\u001b[0m \u001b[0;34m{\u001b[0m\u001b[0;34m}\u001b[0m\u001b[0;34m\u001b[0m\u001b[0;34m\u001b[0m\u001b[0m\n\u001b[0;32m-> 1201\u001b[0;31m             \u001b[0;32mfor\u001b[0m \u001b[0mfeature\u001b[0m \u001b[0;32min\u001b[0m \u001b[0manalyze\u001b[0m\u001b[0;34m(\u001b[0m\u001b[0mdoc\u001b[0m\u001b[0;34m)\u001b[0m\u001b[0;34m:\u001b[0m\u001b[0;34m\u001b[0m\u001b[0;34m\u001b[0m\u001b[0m\n\u001b[0m\u001b[1;32m   1202\u001b[0m                 \u001b[0;32mtry\u001b[0m\u001b[0;34m:\u001b[0m\u001b[0;34m\u001b[0m\u001b[0;34m\u001b[0m\u001b[0m\n\u001b[1;32m   1203\u001b[0m                     \u001b[0mfeature_idx\u001b[0m \u001b[0;34m=\u001b[0m \u001b[0mvocabulary\u001b[0m\u001b[0;34m[\u001b[0m\u001b[0mfeature\u001b[0m\u001b[0;34m]\u001b[0m\u001b[0;34m\u001b[0m\u001b[0;34m\u001b[0m\u001b[0m\n",
            "\u001b[0;32m/usr/local/lib/python3.7/dist-packages/sklearn/feature_extraction/text.py\u001b[0m in \u001b[0;36m_analyze\u001b[0;34m(doc, analyzer, tokenizer, ngrams, preprocessor, decoder, stop_words)\u001b[0m\n\u001b[1;32m    111\u001b[0m     \u001b[0;32melse\u001b[0m\u001b[0;34m:\u001b[0m\u001b[0;34m\u001b[0m\u001b[0;34m\u001b[0m\u001b[0m\n\u001b[1;32m    112\u001b[0m         \u001b[0;32mif\u001b[0m \u001b[0mpreprocessor\u001b[0m \u001b[0;32mis\u001b[0m \u001b[0;32mnot\u001b[0m \u001b[0;32mNone\u001b[0m\u001b[0;34m:\u001b[0m\u001b[0;34m\u001b[0m\u001b[0;34m\u001b[0m\u001b[0m\n\u001b[0;32m--> 113\u001b[0;31m             \u001b[0mdoc\u001b[0m \u001b[0;34m=\u001b[0m \u001b[0mpreprocessor\u001b[0m\u001b[0;34m(\u001b[0m\u001b[0mdoc\u001b[0m\u001b[0;34m)\u001b[0m\u001b[0;34m\u001b[0m\u001b[0;34m\u001b[0m\u001b[0m\n\u001b[0m\u001b[1;32m    114\u001b[0m         \u001b[0;32mif\u001b[0m \u001b[0mtokenizer\u001b[0m \u001b[0;32mis\u001b[0m \u001b[0;32mnot\u001b[0m \u001b[0;32mNone\u001b[0m\u001b[0;34m:\u001b[0m\u001b[0;34m\u001b[0m\u001b[0;34m\u001b[0m\u001b[0m\n\u001b[1;32m    115\u001b[0m             \u001b[0mdoc\u001b[0m \u001b[0;34m=\u001b[0m \u001b[0mtokenizer\u001b[0m\u001b[0;34m(\u001b[0m\u001b[0mdoc\u001b[0m\u001b[0;34m)\u001b[0m\u001b[0;34m\u001b[0m\u001b[0;34m\u001b[0m\u001b[0m\n",
            "\u001b[0;32m/usr/local/lib/python3.7/dist-packages/sklearn/feature_extraction/text.py\u001b[0m in \u001b[0;36m_preprocess\u001b[0;34m(doc, accent_function, lower)\u001b[0m\n\u001b[1;32m     69\u001b[0m     \"\"\"\n\u001b[1;32m     70\u001b[0m     \u001b[0;32mif\u001b[0m \u001b[0mlower\u001b[0m\u001b[0;34m:\u001b[0m\u001b[0;34m\u001b[0m\u001b[0;34m\u001b[0m\u001b[0m\n\u001b[0;32m---> 71\u001b[0;31m         \u001b[0mdoc\u001b[0m \u001b[0;34m=\u001b[0m \u001b[0mdoc\u001b[0m\u001b[0;34m.\u001b[0m\u001b[0mlower\u001b[0m\u001b[0;34m(\u001b[0m\u001b[0;34m)\u001b[0m\u001b[0;34m\u001b[0m\u001b[0;34m\u001b[0m\u001b[0m\n\u001b[0m\u001b[1;32m     72\u001b[0m     \u001b[0;32mif\u001b[0m \u001b[0maccent_function\u001b[0m \u001b[0;32mis\u001b[0m \u001b[0;32mnot\u001b[0m \u001b[0;32mNone\u001b[0m\u001b[0;34m:\u001b[0m\u001b[0;34m\u001b[0m\u001b[0;34m\u001b[0m\u001b[0m\n\u001b[1;32m     73\u001b[0m         \u001b[0mdoc\u001b[0m \u001b[0;34m=\u001b[0m \u001b[0maccent_function\u001b[0m\u001b[0;34m(\u001b[0m\u001b[0mdoc\u001b[0m\u001b[0;34m)\u001b[0m\u001b[0;34m\u001b[0m\u001b[0;34m\u001b[0m\u001b[0m\n",
            "\u001b[0;32m/usr/local/lib/python3.7/dist-packages/scipy/sparse/base.py\u001b[0m in \u001b[0;36m__getattr__\u001b[0;34m(self, attr)\u001b[0m\n\u001b[1;32m    685\u001b[0m             \u001b[0;32mreturn\u001b[0m \u001b[0mself\u001b[0m\u001b[0;34m.\u001b[0m\u001b[0mgetnnz\u001b[0m\u001b[0;34m(\u001b[0m\u001b[0;34m)\u001b[0m\u001b[0;34m\u001b[0m\u001b[0;34m\u001b[0m\u001b[0m\n\u001b[1;32m    686\u001b[0m         \u001b[0;32melse\u001b[0m\u001b[0;34m:\u001b[0m\u001b[0;34m\u001b[0m\u001b[0;34m\u001b[0m\u001b[0m\n\u001b[0;32m--> 687\u001b[0;31m             \u001b[0;32mraise\u001b[0m \u001b[0mAttributeError\u001b[0m\u001b[0;34m(\u001b[0m\u001b[0mattr\u001b[0m \u001b[0;34m+\u001b[0m \u001b[0;34m\" not found\"\u001b[0m\u001b[0;34m)\u001b[0m\u001b[0;34m\u001b[0m\u001b[0;34m\u001b[0m\u001b[0m\n\u001b[0m\u001b[1;32m    688\u001b[0m \u001b[0;34m\u001b[0m\u001b[0m\n\u001b[1;32m    689\u001b[0m     \u001b[0;32mdef\u001b[0m \u001b[0mtranspose\u001b[0m\u001b[0;34m(\u001b[0m\u001b[0mself\u001b[0m\u001b[0;34m,\u001b[0m \u001b[0maxes\u001b[0m\u001b[0;34m=\u001b[0m\u001b[0;32mNone\u001b[0m\u001b[0;34m,\u001b[0m \u001b[0mcopy\u001b[0m\u001b[0;34m=\u001b[0m\u001b[0;32mFalse\u001b[0m\u001b[0;34m)\u001b[0m\u001b[0;34m:\u001b[0m\u001b[0;34m\u001b[0m\u001b[0;34m\u001b[0m\u001b[0m\n",
            "\u001b[0;31mAttributeError\u001b[0m: lower not found"
          ]
        }
      ],
      "source": [
        "from sklearn.feature_extraction.text import TfidfVectorizer\n",
        "\n",
        "vectorizer = TfidfVectorizer()\n",
        "vectorizer.fit(x_train)"
      ]
    },
    {
      "cell_type": "code",
      "source": [
        "kamus = vectorizer.vocabulary_\n",
        "kamus[\"aku\"]"
      ],
      "metadata": {
        "colab": {
          "base_uri": "https://localhost:8080/"
        },
        "id": "ZHIqMtYR1zSP",
        "outputId": "c9702b84-208f-4a65-f472-fbc51fa27754"
      },
      "execution_count": null,
      "outputs": [
        {
          "output_type": "execute_result",
          "data": {
            "text/plain": [
              "135"
            ]
          },
          "metadata": {},
          "execution_count": 30
        }
      ]
    },
    {
      "cell_type": "code",
      "source": [
        "def preprocess_data2(data):\n",
        "  # cleansing data\n",
        "  data = cleansing(data)\n",
        "\n",
        "  #hapus stopwords\n",
        "  factory = StopWordRemoverFactory()\n",
        "  stopword = factory.create_stop_word_remover()\n",
        "  data = stopword.remove(data)\n",
        "\n",
        "  #steming\n",
        "  factory = StemmerFactory()\n",
        "  Stemmer = factory.create_stemmer()\n",
        "  data = Stemmer.stem(data)\n",
        "\n",
        "  vector = []\n",
        "  kalimat = data.split()\n",
        "  for i in kalimat:\n",
        "    vec = kamus.get(i)\n",
        "    vector.append(vec)\n",
        "  return vector"
      ],
      "metadata": {
        "id": "2knhQ6-6164T"
      },
      "execution_count": null,
      "outputs": []
    },
    {
      "cell_type": "code",
      "source": [
        "def preprocess_data3(data):\n",
        "  # cleansing data\n",
        "  data = cleansing(data)\n",
        "\n",
        "  #hapus stopwords\n",
        "  factory = StopWordRemoverFactory()\n",
        "  stopword = factory.create_stop_word_remover()\n",
        "  data = stopword.remove(data)\n",
        "\n",
        "  #steming\n",
        "  factory = StemmerFactory()\n",
        "  Stemmer = factory.create_stemmer()\n",
        "  data = Stemmer.stem(data)\n",
        "\n",
        "  # count vectorizer\n",
        "  data = vectorizer.transform([data])\n",
        "  return data"
      ],
      "metadata": {
        "id": "H4BsY9a0BBNk"
      },
      "execution_count": null,
      "outputs": []
    },
    {
      "cell_type": "code",
      "source": [
        "data = \"suka ruang guru\"\n",
        "print(preprocess_data3(data))"
      ],
      "metadata": {
        "colab": {
          "base_uri": "https://localhost:8080/"
        },
        "id": "EX7RDDOs5xbB",
        "outputId": "1b11dc2f-c8b2-4dff-a55e-a15e3a3d14ed"
      },
      "execution_count": null,
      "outputs": [
        {
          "output_type": "stream",
          "name": "stdout",
          "text": [
            "  (0, 2742)\t0.7011036044250224\n",
            "  (0, 2397)\t0.508049603485779\n",
            "  (0, 1009)\t0.5003392211891695\n"
          ]
        }
      ]
    },
    {
      "cell_type": "code",
      "source": [
        "data = \"suka ruang guru\"\n",
        "print(preprocess_data2(data))"
      ],
      "metadata": {
        "colab": {
          "base_uri": "https://localhost:8080/"
        },
        "id": "_2RStBt_BUJ4",
        "outputId": "a9023889-9682-4ca5-d46a-3885309de7bc"
      },
      "execution_count": null,
      "outputs": [
        {
          "output_type": "stream",
          "name": "stdout",
          "text": [
            "[2742, 2397, 1009]\n"
          ]
        }
      ]
    },
    {
      "cell_type": "code",
      "source": [
        "df_asu = df_as.astype({\"ulasan\":str})"
      ],
      "metadata": {
        "id": "JoJCFmGG534U"
      },
      "execution_count": null,
      "outputs": []
    },
    {
      "cell_type": "code",
      "source": [
        "df_as.dtypes"
      ],
      "metadata": {
        "colab": {
          "base_uri": "https://localhost:8080/"
        },
        "id": "TD7IkttN7KtT",
        "outputId": "5b1d9ff5-de9e-43e3-f66d-e80e7aa9650b"
      },
      "execution_count": null,
      "outputs": [
        {
          "output_type": "execute_result",
          "data": {
            "text/plain": [
              "userName            object\n",
              "ranting              int64\n",
              "tanggal     datetime64[ns]\n",
              "ulasan              object\n",
              "dtype: object"
            ]
          },
          "metadata": {},
          "execution_count": 36
        }
      ]
    },
    {
      "cell_type": "code",
      "source": [
        "df_asu['ulasan'][0]"
      ],
      "metadata": {
        "colab": {
          "base_uri": "https://localhost:8080/",
          "height": 35
        },
        "id": "w7QkObqL7iPR",
        "outputId": "c90dd87a-8aa3-4d88-8071-9d9f40bbc981"
      },
      "execution_count": null,
      "outputs": [
        {
          "output_type": "execute_result",
          "data": {
            "text/plain": [
              "'Untuk device laptop apa memang belum ada fitur adapto nya ya?'"
            ],
            "application/vnd.google.colaboratory.intrinsic+json": {
              "type": "string"
            }
          },
          "metadata": {},
          "execution_count": 37
        }
      ]
    },
    {
      "cell_type": "code",
      "source": [
        "df_asu['pembobotan'] = \"\"\n",
        "for j in range(0,len(df_asu['ulasan'])):\n",
        "  df_asu['pembobotan'][j] = preprocess_data2(df_asu['ulasan'][j])"
      ],
      "metadata": {
        "id": "MRtff0aM6Chl"
      },
      "execution_count": null,
      "outputs": []
    },
    {
      "cell_type": "code",
      "source": [
        "df_asu.head()"
      ],
      "metadata": {
        "colab": {
          "base_uri": "https://localhost:8080/",
          "height": 206
        },
        "id": "2UNboWtL8EnU",
        "outputId": "3f8f5b8d-a409-4037-db93-3142d9966794"
      },
      "execution_count": null,
      "outputs": [
        {
          "output_type": "execute_result",
          "data": {
            "text/plain": [
              "                        userName  ranting             tanggal  \\\n",
              "0                   Haqiqi Abdan        4 2022-06-27 13:01:35   \n",
              "1  Bhaskar Elvandio Premanaputra        4 2022-06-27 11:27:48   \n",
              "2                  syella herlin        1 2022-06-27 11:12:16   \n",
              "3             Nur Annisa Wiryani        4 2022-06-27 07:23:30   \n",
              "4                  Hasni Ibrahim        5 2022-06-27 04:01:23   \n",
              "\n",
              "                                              ulasan  \n",
              "0  Untuk device laptop apa memang belum ada fitur...  \n",
              "1  Pihak ruang guru,tolong ya,setiap kali sya men...  \n",
              "2  Halo kak ini semenjak update tidak bisa dibuka...  \n",
              "3  ruangguru punya fitur yang menurut aku lengkap...  \n",
              "4  Belajar di ruangguru sangat menyenangkan.... J...  "
            ],
            "text/html": [
              "\n",
              "  <div id=\"df-cf38a587-e7e2-432e-abdc-72b19a9e5b36\">\n",
              "    <div class=\"colab-df-container\">\n",
              "      <div>\n",
              "<style scoped>\n",
              "    .dataframe tbody tr th:only-of-type {\n",
              "        vertical-align: middle;\n",
              "    }\n",
              "\n",
              "    .dataframe tbody tr th {\n",
              "        vertical-align: top;\n",
              "    }\n",
              "\n",
              "    .dataframe thead th {\n",
              "        text-align: right;\n",
              "    }\n",
              "</style>\n",
              "<table border=\"1\" class=\"dataframe\">\n",
              "  <thead>\n",
              "    <tr style=\"text-align: right;\">\n",
              "      <th></th>\n",
              "      <th>userName</th>\n",
              "      <th>ranting</th>\n",
              "      <th>tanggal</th>\n",
              "      <th>ulasan</th>\n",
              "    </tr>\n",
              "  </thead>\n",
              "  <tbody>\n",
              "    <tr>\n",
              "      <th>0</th>\n",
              "      <td>Haqiqi Abdan</td>\n",
              "      <td>4</td>\n",
              "      <td>2022-06-27 13:01:35</td>\n",
              "      <td>Untuk device laptop apa memang belum ada fitur...</td>\n",
              "    </tr>\n",
              "    <tr>\n",
              "      <th>1</th>\n",
              "      <td>Bhaskar Elvandio Premanaputra</td>\n",
              "      <td>4</td>\n",
              "      <td>2022-06-27 11:27:48</td>\n",
              "      <td>Pihak ruang guru,tolong ya,setiap kali sya men...</td>\n",
              "    </tr>\n",
              "    <tr>\n",
              "      <th>2</th>\n",
              "      <td>syella herlin</td>\n",
              "      <td>1</td>\n",
              "      <td>2022-06-27 11:12:16</td>\n",
              "      <td>Halo kak ini semenjak update tidak bisa dibuka...</td>\n",
              "    </tr>\n",
              "    <tr>\n",
              "      <th>3</th>\n",
              "      <td>Nur Annisa Wiryani</td>\n",
              "      <td>4</td>\n",
              "      <td>2022-06-27 07:23:30</td>\n",
              "      <td>ruangguru punya fitur yang menurut aku lengkap...</td>\n",
              "    </tr>\n",
              "    <tr>\n",
              "      <th>4</th>\n",
              "      <td>Hasni Ibrahim</td>\n",
              "      <td>5</td>\n",
              "      <td>2022-06-27 04:01:23</td>\n",
              "      <td>Belajar di ruangguru sangat menyenangkan.... J...</td>\n",
              "    </tr>\n",
              "  </tbody>\n",
              "</table>\n",
              "</div>\n",
              "      <button class=\"colab-df-convert\" onclick=\"convertToInteractive('df-cf38a587-e7e2-432e-abdc-72b19a9e5b36')\"\n",
              "              title=\"Convert this dataframe to an interactive table.\"\n",
              "              style=\"display:none;\">\n",
              "        \n",
              "  <svg xmlns=\"http://www.w3.org/2000/svg\" height=\"24px\"viewBox=\"0 0 24 24\"\n",
              "       width=\"24px\">\n",
              "    <path d=\"M0 0h24v24H0V0z\" fill=\"none\"/>\n",
              "    <path d=\"M18.56 5.44l.94 2.06.94-2.06 2.06-.94-2.06-.94-.94-2.06-.94 2.06-2.06.94zm-11 1L8.5 8.5l.94-2.06 2.06-.94-2.06-.94L8.5 2.5l-.94 2.06-2.06.94zm10 10l.94 2.06.94-2.06 2.06-.94-2.06-.94-.94-2.06-.94 2.06-2.06.94z\"/><path d=\"M17.41 7.96l-1.37-1.37c-.4-.4-.92-.59-1.43-.59-.52 0-1.04.2-1.43.59L10.3 9.45l-7.72 7.72c-.78.78-.78 2.05 0 2.83L4 21.41c.39.39.9.59 1.41.59.51 0 1.02-.2 1.41-.59l7.78-7.78 2.81-2.81c.8-.78.8-2.07 0-2.86zM5.41 20L4 18.59l7.72-7.72 1.47 1.35L5.41 20z\"/>\n",
              "  </svg>\n",
              "      </button>\n",
              "      \n",
              "  <style>\n",
              "    .colab-df-container {\n",
              "      display:flex;\n",
              "      flex-wrap:wrap;\n",
              "      gap: 12px;\n",
              "    }\n",
              "\n",
              "    .colab-df-convert {\n",
              "      background-color: #E8F0FE;\n",
              "      border: none;\n",
              "      border-radius: 50%;\n",
              "      cursor: pointer;\n",
              "      display: none;\n",
              "      fill: #1967D2;\n",
              "      height: 32px;\n",
              "      padding: 0 0 0 0;\n",
              "      width: 32px;\n",
              "    }\n",
              "\n",
              "    .colab-df-convert:hover {\n",
              "      background-color: #E2EBFA;\n",
              "      box-shadow: 0px 1px 2px rgba(60, 64, 67, 0.3), 0px 1px 3px 1px rgba(60, 64, 67, 0.15);\n",
              "      fill: #174EA6;\n",
              "    }\n",
              "\n",
              "    [theme=dark] .colab-df-convert {\n",
              "      background-color: #3B4455;\n",
              "      fill: #D2E3FC;\n",
              "    }\n",
              "\n",
              "    [theme=dark] .colab-df-convert:hover {\n",
              "      background-color: #434B5C;\n",
              "      box-shadow: 0px 1px 3px 1px rgba(0, 0, 0, 0.15);\n",
              "      filter: drop-shadow(0px 1px 2px rgba(0, 0, 0, 0.3));\n",
              "      fill: #FFFFFF;\n",
              "    }\n",
              "  </style>\n",
              "\n",
              "      <script>\n",
              "        const buttonEl =\n",
              "          document.querySelector('#df-cf38a587-e7e2-432e-abdc-72b19a9e5b36 button.colab-df-convert');\n",
              "        buttonEl.style.display =\n",
              "          google.colab.kernel.accessAllowed ? 'block' : 'none';\n",
              "\n",
              "        async function convertToInteractive(key) {\n",
              "          const element = document.querySelector('#df-cf38a587-e7e2-432e-abdc-72b19a9e5b36');\n",
              "          const dataTable =\n",
              "            await google.colab.kernel.invokeFunction('convertToInteractive',\n",
              "                                                     [key], {});\n",
              "          if (!dataTable) return;\n",
              "\n",
              "          const docLinkHtml = 'Like what you see? Visit the ' +\n",
              "            '<a target=\"_blank\" href=https://colab.research.google.com/notebooks/data_table.ipynb>data table notebook</a>'\n",
              "            + ' to learn more about interactive tables.';\n",
              "          element.innerHTML = '';\n",
              "          dataTable['output_type'] = 'display_data';\n",
              "          await google.colab.output.renderOutput(dataTable, element);\n",
              "          const docLink = document.createElement('div');\n",
              "          docLink.innerHTML = docLinkHtml;\n",
              "          element.appendChild(docLink);\n",
              "        }\n",
              "      </script>\n",
              "    </div>\n",
              "  </div>\n",
              "  "
            ]
          },
          "metadata": {},
          "execution_count": 39
        }
      ]
    },
    {
      "cell_type": "code",
      "source": [
        "sentimen = []\n",
        "for index, row in df_asu.iterrows():\n",
        "     if row['ranting']>=3:\n",
        "        sentimen.append('positif')\n",
        "     else:\n",
        "       sentimen.append('negatif')\n",
        "df_asu['sentimen'] = sentimen\n",
        "df_asu.head()"
      ],
      "metadata": {
        "colab": {
          "base_uri": "https://localhost:8080/",
          "height": 206
        },
        "id": "UgXgL5R3A62C",
        "outputId": "77933aa7-9aed-48c0-8c4e-7af631b5c04c"
      },
      "execution_count": null,
      "outputs": [
        {
          "output_type": "execute_result",
          "data": {
            "text/plain": [
              "                        userName  ranting             tanggal  \\\n",
              "0                   Haqiqi Abdan        4 2022-06-27 13:01:35   \n",
              "1  Bhaskar Elvandio Premanaputra        4 2022-06-27 11:27:48   \n",
              "2                  syella herlin        1 2022-06-27 11:12:16   \n",
              "3             Nur Annisa Wiryani        4 2022-06-27 07:23:30   \n",
              "4                  Hasni Ibrahim        5 2022-06-27 04:01:23   \n",
              "\n",
              "                                              ulasan sentimen  \n",
              "0  Untuk device laptop apa memang belum ada fitur...  positif  \n",
              "1  Pihak ruang guru,tolong ya,setiap kali sya men...  positif  \n",
              "2  Halo kak ini semenjak update tidak bisa dibuka...  negatif  \n",
              "3  ruangguru punya fitur yang menurut aku lengkap...  positif  \n",
              "4  Belajar di ruangguru sangat menyenangkan.... J...  positif  "
            ],
            "text/html": [
              "\n",
              "  <div id=\"df-3239ed29-8fb3-49a9-bae4-2268e13b3704\">\n",
              "    <div class=\"colab-df-container\">\n",
              "      <div>\n",
              "<style scoped>\n",
              "    .dataframe tbody tr th:only-of-type {\n",
              "        vertical-align: middle;\n",
              "    }\n",
              "\n",
              "    .dataframe tbody tr th {\n",
              "        vertical-align: top;\n",
              "    }\n",
              "\n",
              "    .dataframe thead th {\n",
              "        text-align: right;\n",
              "    }\n",
              "</style>\n",
              "<table border=\"1\" class=\"dataframe\">\n",
              "  <thead>\n",
              "    <tr style=\"text-align: right;\">\n",
              "      <th></th>\n",
              "      <th>userName</th>\n",
              "      <th>ranting</th>\n",
              "      <th>tanggal</th>\n",
              "      <th>ulasan</th>\n",
              "      <th>sentimen</th>\n",
              "    </tr>\n",
              "  </thead>\n",
              "  <tbody>\n",
              "    <tr>\n",
              "      <th>0</th>\n",
              "      <td>Haqiqi Abdan</td>\n",
              "      <td>4</td>\n",
              "      <td>2022-06-27 13:01:35</td>\n",
              "      <td>Untuk device laptop apa memang belum ada fitur...</td>\n",
              "      <td>positif</td>\n",
              "    </tr>\n",
              "    <tr>\n",
              "      <th>1</th>\n",
              "      <td>Bhaskar Elvandio Premanaputra</td>\n",
              "      <td>4</td>\n",
              "      <td>2022-06-27 11:27:48</td>\n",
              "      <td>Pihak ruang guru,tolong ya,setiap kali sya men...</td>\n",
              "      <td>positif</td>\n",
              "    </tr>\n",
              "    <tr>\n",
              "      <th>2</th>\n",
              "      <td>syella herlin</td>\n",
              "      <td>1</td>\n",
              "      <td>2022-06-27 11:12:16</td>\n",
              "      <td>Halo kak ini semenjak update tidak bisa dibuka...</td>\n",
              "      <td>negatif</td>\n",
              "    </tr>\n",
              "    <tr>\n",
              "      <th>3</th>\n",
              "      <td>Nur Annisa Wiryani</td>\n",
              "      <td>4</td>\n",
              "      <td>2022-06-27 07:23:30</td>\n",
              "      <td>ruangguru punya fitur yang menurut aku lengkap...</td>\n",
              "      <td>positif</td>\n",
              "    </tr>\n",
              "    <tr>\n",
              "      <th>4</th>\n",
              "      <td>Hasni Ibrahim</td>\n",
              "      <td>5</td>\n",
              "      <td>2022-06-27 04:01:23</td>\n",
              "      <td>Belajar di ruangguru sangat menyenangkan.... J...</td>\n",
              "      <td>positif</td>\n",
              "    </tr>\n",
              "  </tbody>\n",
              "</table>\n",
              "</div>\n",
              "      <button class=\"colab-df-convert\" onclick=\"convertToInteractive('df-3239ed29-8fb3-49a9-bae4-2268e13b3704')\"\n",
              "              title=\"Convert this dataframe to an interactive table.\"\n",
              "              style=\"display:none;\">\n",
              "        \n",
              "  <svg xmlns=\"http://www.w3.org/2000/svg\" height=\"24px\"viewBox=\"0 0 24 24\"\n",
              "       width=\"24px\">\n",
              "    <path d=\"M0 0h24v24H0V0z\" fill=\"none\"/>\n",
              "    <path d=\"M18.56 5.44l.94 2.06.94-2.06 2.06-.94-2.06-.94-.94-2.06-.94 2.06-2.06.94zm-11 1L8.5 8.5l.94-2.06 2.06-.94-2.06-.94L8.5 2.5l-.94 2.06-2.06.94zm10 10l.94 2.06.94-2.06 2.06-.94-2.06-.94-.94-2.06-.94 2.06-2.06.94z\"/><path d=\"M17.41 7.96l-1.37-1.37c-.4-.4-.92-.59-1.43-.59-.52 0-1.04.2-1.43.59L10.3 9.45l-7.72 7.72c-.78.78-.78 2.05 0 2.83L4 21.41c.39.39.9.59 1.41.59.51 0 1.02-.2 1.41-.59l7.78-7.78 2.81-2.81c.8-.78.8-2.07 0-2.86zM5.41 20L4 18.59l7.72-7.72 1.47 1.35L5.41 20z\"/>\n",
              "  </svg>\n",
              "      </button>\n",
              "      \n",
              "  <style>\n",
              "    .colab-df-container {\n",
              "      display:flex;\n",
              "      flex-wrap:wrap;\n",
              "      gap: 12px;\n",
              "    }\n",
              "\n",
              "    .colab-df-convert {\n",
              "      background-color: #E8F0FE;\n",
              "      border: none;\n",
              "      border-radius: 50%;\n",
              "      cursor: pointer;\n",
              "      display: none;\n",
              "      fill: #1967D2;\n",
              "      height: 32px;\n",
              "      padding: 0 0 0 0;\n",
              "      width: 32px;\n",
              "    }\n",
              "\n",
              "    .colab-df-convert:hover {\n",
              "      background-color: #E2EBFA;\n",
              "      box-shadow: 0px 1px 2px rgba(60, 64, 67, 0.3), 0px 1px 3px 1px rgba(60, 64, 67, 0.15);\n",
              "      fill: #174EA6;\n",
              "    }\n",
              "\n",
              "    [theme=dark] .colab-df-convert {\n",
              "      background-color: #3B4455;\n",
              "      fill: #D2E3FC;\n",
              "    }\n",
              "\n",
              "    [theme=dark] .colab-df-convert:hover {\n",
              "      background-color: #434B5C;\n",
              "      box-shadow: 0px 1px 3px 1px rgba(0, 0, 0, 0.15);\n",
              "      filter: drop-shadow(0px 1px 2px rgba(0, 0, 0, 0.3));\n",
              "      fill: #FFFFFF;\n",
              "    }\n",
              "  </style>\n",
              "\n",
              "      <script>\n",
              "        const buttonEl =\n",
              "          document.querySelector('#df-3239ed29-8fb3-49a9-bae4-2268e13b3704 button.colab-df-convert');\n",
              "        buttonEl.style.display =\n",
              "          google.colab.kernel.accessAllowed ? 'block' : 'none';\n",
              "\n",
              "        async function convertToInteractive(key) {\n",
              "          const element = document.querySelector('#df-3239ed29-8fb3-49a9-bae4-2268e13b3704');\n",
              "          const dataTable =\n",
              "            await google.colab.kernel.invokeFunction('convertToInteractive',\n",
              "                                                     [key], {});\n",
              "          if (!dataTable) return;\n",
              "\n",
              "          const docLinkHtml = 'Like what you see? Visit the ' +\n",
              "            '<a target=\"_blank\" href=https://colab.research.google.com/notebooks/data_table.ipynb>data table notebook</a>'\n",
              "            + ' to learn more about interactive tables.';\n",
              "          element.innerHTML = '';\n",
              "          dataTable['output_type'] = 'display_data';\n",
              "          await google.colab.output.renderOutput(dataTable, element);\n",
              "          const docLink = document.createElement('div');\n",
              "          docLink.innerHTML = docLinkHtml;\n",
              "          element.appendChild(docLink);\n",
              "        }\n",
              "      </script>\n",
              "    </div>\n",
              "  </div>\n",
              "  "
            ]
          },
          "metadata": {},
          "execution_count": 40
        }
      ]
    },
    {
      "cell_type": "code",
      "source": [
        "df_asu.to_excel(r'/content/RuangGuruPembobotan.xlsx', index = False)"
      ],
      "metadata": {
        "id": "ztU4OPOABE4P"
      },
      "execution_count": null,
      "outputs": []
    },
    {
      "cell_type": "markdown",
      "source": [
        "hasil pembobotan tfid"
      ],
      "metadata": {
        "id": "bN6_f2yXTJvf"
      }
    },
    {
      "cell_type": "code",
      "source": [
        "import matplotlib.pyplot as plt\n",
        "\n",
        "# x-coordinates of left sides of bars\n",
        "left = [1, 2, 3, 4, 5,6,7,8]\n",
        "\n",
        "# heights of bars\n",
        "height = [316, 1348, 1931, 1093, 1357,167,185,344]\n",
        "\n",
        "# labels for bars\n",
        "tick_label = [\"buka\", \"padahal\", \"tulis\", \"masuk\", \"paket\",\"bagus\",\"banget\",\"cara\"]\n",
        "\n",
        "# plotting a bar chart\n",
        "plt.bar(left, height, tick_label = tick_label,\n",
        "        width = 0.8, color = ['red', 'orange','blue'])\n",
        "\n",
        "# naming the x-axis\n",
        "plt.xlabel('Kata')\n",
        "# naming the y-axis\n",
        "plt.ylabel('Hasil Pembobotan')\n",
        "# plot title\n",
        "plt.title('Hasil Pembobotan TF-IDF')\n",
        "\n",
        "# function to show the plot\n",
        "plt.show()"
      ],
      "metadata": {
        "id": "yYNZAMmyzfpK",
        "colab": {
          "base_uri": "https://localhost:8080/",
          "height": 295
        },
        "outputId": "f0daec5e-2c97-4a8c-a998-fda129db55fc"
      },
      "execution_count": null,
      "outputs": [
        {
          "output_type": "display_data",
          "data": {
            "text/plain": [
              "<Figure size 432x288 with 1 Axes>"
            ],
            "image/png": "[encoded data removed]"
          },
          "metadata": {
            "needs_background": "light"
          }
        }
      ]
    },
    {
      "cell_type": "markdown",
      "metadata": {
        "id": "3kBIzT0ev3y9"
      },
      "source": [
        "merubah data training dan test ke data vektor menggunakan pembobotan tfid"
      ]
    },
    {
      "cell_type": "code",
      "execution_count": null,
      "metadata": {
        "colab": {
          "base_uri": "https://localhost:8080/"
        },
        "id": "Jxpzu2Fev4Tl",
        "outputId": "1e7b24d4-1ef0-4b79-98a9-961475d5b149"
      },
      "outputs": [
        {
          "output_type": "stream",
          "name": "stdout",
          "text": [
            "(300, 3179)\n",
            "(300, 3179)\n"
          ]
        }
      ],
      "source": [
        "#pada data kita\n",
        "x_train = vectorizer.fit_transform(x_train)\n",
        "x_test = vectorizer.transform(x_test).todense()\n",
        "\n",
        "print(x_test.shape)\n",
        "print(x_test.shape)"
      ]
    },
    {
      "cell_type": "code",
      "execution_count": null,
      "metadata": {
        "colab": {
          "base_uri": "https://localhost:8080/"
        },
        "id": "OMpQM1678d_3",
        "outputId": "72986ffd-e19a-48e0-9532-0c73b8e31a74"
      },
      "outputs": [
        {
          "output_type": "stream",
          "name": "stderr",
          "text": [
            "/usr/local/lib/python3.7/dist-packages/sklearn/utils/deprecation.py:87: FutureWarning: Function get_feature_names is deprecated; get_feature_names is deprecated in 1.0 and will be removed in 1.2. Please use get_feature_names_out instead.\n",
            "  warnings.warn(msg, category=FutureWarning)\n"
          ]
        }
      ],
      "source": [
        "count_array = x_train.toarray()\n",
        "dfa = pd.DataFrame(data=count_array,columns = vectorizer.get_feature_names())"
      ]
    },
    {
      "cell_type": "code",
      "source": [
        "print(x_train[0])"
      ],
      "metadata": {
        "colab": {
          "base_uri": "https://localhost:8080/"
        },
        "id": "SHCuq0nSO3Oz",
        "outputId": "31f829a3-0b43-4bd2-da43-d6c24dc0b85f"
      },
      "execution_count": null,
      "outputs": [
        {
          "output_type": "stream",
          "name": "stdout",
          "text": [
            "  (0, 1699)\t0.07268396445933245\n",
            "  (0, 1405)\t0.10482662516186307\n",
            "  (0, 199)\t0.0953461575792709\n",
            "  (0, 2008)\t0.15953739158601876\n",
            "  (0, 1388)\t0.16878854908005003\n",
            "  (0, 1858)\t0.13206735332966046\n",
            "  (0, 659)\t0.1402053065457773\n",
            "  (0, 1291)\t0.08549454012162158\n",
            "  (0, 1820)\t0.15953739158601876\n",
            "  (0, 759)\t0.1402053065457773\n",
            "  (0, 2098)\t0.0876691526012706\n",
            "  (0, 1046)\t0.11116111577338798\n",
            "  (0, 1310)\t0.06953190398955997\n",
            "  (0, 2247)\t0.16878854908005003\n",
            "  (0, 1555)\t0.12281619583562918\n",
            "  (0, 2464)\t0.14788231152377754\n",
            "  (0, 1254)\t0.08143364766239275\n",
            "  (0, 985)\t0.15953739158601876\n",
            "  (0, 2979)\t0.1402053065457773\n",
            "  (0, 333)\t0.13458095972224063\n",
            "  (0, 539)\t0.12989274085001146\n",
            "  (0, 453)\t0.14372243339190166\n",
            "  (0, 1400)\t0.14372243339190166\n",
            "  (0, 893)\t0.11513919085762891\n",
            "  (0, 1808)\t0.11865631770375329\n",
            "  :\t:\n",
            "  (0, 2887)\t0.07537132125327792\n",
            "  (0, 565)\t0.11306356405062694\n",
            "  (0, 1645)\t0.09580710581738743\n",
            "  (0, 312)\t0.16294044220657466\n",
            "  (0, 361)\t0.11742271123741706\n",
            "  (0, 832)\t0.13206735332966046\n",
            "  (0, 1505)\t0.11306356405062694\n",
            "  (0, 250)\t0.13206735332966046\n",
            "  (0, 2397)\t0.047730800297697745\n",
            "  (0, 1009)\t0.09401283372265971\n",
            "  (0, 2442)\t0.07105354517801964\n",
            "  (0, 305)\t0.15953739158601876\n",
            "  (0, 2171)\t0.10940516020972203\n",
            "  (0, 3015)\t0.07777524382148786\n",
            "  (0, 135)\t0.17753768349625976\n",
            "  (0, 2808)\t0.1070012376415121\n",
            "  (0, 1552)\t0.07694547376930891\n",
            "  (0, 927)\t0.3102598205109657\n",
            "  (0, 121)\t0.10366114136035522\n",
            "  (0, 3082)\t0.15523185058663924\n",
            "  (0, 2627)\t0.1243903483516602\n",
            "  (0, 214)\t0.04511274571893986\n",
            "  (0, 2948)\t0.33757709816010006\n",
            "  (0, 437)\t0.14788231152377754\n",
            "  (0, 981)\t0.11026624963779821\n"
          ]
        }
      ]
    },
    {
      "cell_type": "markdown",
      "metadata": {
        "id": "G3mpAr8uwddd"
      },
      "source": [
        "#preproses data"
      ]
    },
    {
      "cell_type": "markdown",
      "metadata": {
        "id": "crzpuD750vEj"
      },
      "source": [
        "proses svm"
      ]
    },
    {
      "cell_type": "code",
      "execution_count": null,
      "metadata": {
        "colab": {
          "base_uri": "https://localhost:8080/"
        },
        "id": "b87vYLWT1GTY",
        "outputId": "f542d5d6-0050-487f-8a10-6507b835f28c"
      },
      "outputs": [
        {
          "output_type": "execute_result",
          "data": {
            "text/plain": [
              "LinearSVC()"
            ]
          },
          "metadata": {},
          "execution_count": 50
        }
      ],
      "source": [
        "from sklearn import svm\n",
        "from sklearn.svm import LinearSVC\n",
        "from sklearn.metrics import accuracy_score\n",
        "\n",
        "svm = LinearSVC()\n",
        "svm.fit(x_train, y_train)"
      ]
    },
    {
      "cell_type": "markdown",
      "source": [
        "Menampilkan akurasi"
      ],
      "metadata": {
        "id": "L2u28COcTfUy"
      }
    },
    {
      "cell_type": "code",
      "execution_count": null,
      "metadata": {
        "id": "En2J1ZDzsCsL",
        "colab": {
          "base_uri": "https://localhost:8080/"
        },
        "outputId": "e793663c-617d-44e4-bb64-02e6c1df3533"
      },
      "outputs": [
        {
          "output_type": "stream",
          "name": "stdout",
          "text": [
            "Accuracy score model final: 0.9033333333333333 \n"
          ]
        },
        {
          "output_type": "stream",
          "name": "stderr",
          "text": [
            "/usr/local/lib/python3.7/dist-packages/sklearn/utils/validation.py:598: FutureWarning: np.matrix usage is deprecated in 1.0 and will raise a TypeError in 1.2. Please convert to a numpy array with np.asarray. For more information see: https://numpy.org/doc/stable/reference/generated/numpy.matrix.html\n",
            "  FutureWarning,\n"
          ]
        }
      ],
      "source": [
        "print('Accuracy score model final: %s ' %accuracy_score(y_test, svm.predict(x_test)))"
      ]
    },
    {
      "cell_type": "markdown",
      "source": [
        "Lakukan prediksi terhadap seluruh dataset ruang guru"
      ],
      "metadata": {
        "id": "dpq5tsc2Ti3l"
      }
    },
    {
      "cell_type": "code",
      "source": [
        "dfZen = pd.read_excel(\"/content/guru_data..xlsx\")\n",
        "dfZen.head()"
      ],
      "metadata": {
        "id": "qU6kin6r7xCD",
        "colab": {
          "base_uri": "https://localhost:8080/",
          "height": 206
        },
        "outputId": "e994636e-e608-416b-d696-63d3548b0cfc"
      },
      "execution_count": null,
      "outputs": [
        {
          "output_type": "execute_result",
          "data": {
            "text/plain": [
              "                        userName  ranting             tanggal  \\\n",
              "0                   Haqiqi Abdan        4 2022-06-27 13:01:35   \n",
              "1  Bhaskar Elvandio Premanaputra        4 2022-06-27 11:27:48   \n",
              "2                  syella herlin        1 2022-06-27 11:12:16   \n",
              "3             Nur Annisa Wiryani        4 2022-06-27 07:23:30   \n",
              "4                  Hasni Ibrahim        5 2022-06-27 04:01:23   \n",
              "\n",
              "                                              ulasan  \n",
              "0  Untuk device laptop apa memang belum ada fitur...  \n",
              "1  Pihak ruang guru,tolong ya,setiap kali sya men...  \n",
              "2  Halo kak ini semenjak update tidak bisa dibuka...  \n",
              "3  ruangguru punya fitur yang menurut aku lengkap...  \n",
              "4  Belajar di ruangguru sangat menyenangkan.... J...  "
            ],
            "text/html": [
              "\n",
              "  <div id=\"df-04d63379-c291-466f-b536-bf084c25dfc6\">\n",
              "    <div class=\"colab-df-container\">\n",
              "      <div>\n",
              "<style scoped>\n",
              "    .dataframe tbody tr th:only-of-type {\n",
              "        vertical-align: middle;\n",
              "    }\n",
              "\n",
              "    .dataframe tbody tr th {\n",
              "        vertical-align: top;\n",
              "    }\n",
              "\n",
              "    .dataframe thead th {\n",
              "        text-align: right;\n",
              "    }\n",
              "</style>\n",
              "<table border=\"1\" class=\"dataframe\">\n",
              "  <thead>\n",
              "    <tr style=\"text-align: right;\">\n",
              "      <th></th>\n",
              "      <th>userName</th>\n",
              "      <th>ranting</th>\n",
              "      <th>tanggal</th>\n",
              "      <th>ulasan</th>\n",
              "    </tr>\n",
              "  </thead>\n",
              "  <tbody>\n",
              "    <tr>\n",
              "      <th>0</th>\n",
              "      <td>Haqiqi Abdan</td>\n",
              "      <td>4</td>\n",
              "      <td>2022-06-27 13:01:35</td>\n",
              "      <td>Untuk device laptop apa memang belum ada fitur...</td>\n",
              "    </tr>\n",
              "    <tr>\n",
              "      <th>1</th>\n",
              "      <td>Bhaskar Elvandio Premanaputra</td>\n",
              "      <td>4</td>\n",
              "      <td>2022-06-27 11:27:48</td>\n",
              "      <td>Pihak ruang guru,tolong ya,setiap kali sya men...</td>\n",
              "    </tr>\n",
              "    <tr>\n",
              "      <th>2</th>\n",
              "      <td>syella herlin</td>\n",
              "      <td>1</td>\n",
              "      <td>2022-06-27 11:12:16</td>\n",
              "      <td>Halo kak ini semenjak update tidak bisa dibuka...</td>\n",
              "    </tr>\n",
              "    <tr>\n",
              "      <th>3</th>\n",
              "      <td>Nur Annisa Wiryani</td>\n",
              "      <td>4</td>\n",
              "      <td>2022-06-27 07:23:30</td>\n",
              "      <td>ruangguru punya fitur yang menurut aku lengkap...</td>\n",
              "    </tr>\n",
              "    <tr>\n",
              "      <th>4</th>\n",
              "      <td>Hasni Ibrahim</td>\n",
              "      <td>5</td>\n",
              "      <td>2022-06-27 04:01:23</td>\n",
              "      <td>Belajar di ruangguru sangat menyenangkan.... J...</td>\n",
              "    </tr>\n",
              "  </tbody>\n",
              "</table>\n",
              "</div>\n",
              "      <button class=\"colab-df-convert\" onclick=\"convertToInteractive('df-04d63379-c291-466f-b536-bf084c25dfc6')\"\n",
              "              title=\"Convert this dataframe to an interactive table.\"\n",
              "              style=\"display:none;\">\n",
              "        \n",
              "  <svg xmlns=\"http://www.w3.org/2000/svg\" height=\"24px\"viewBox=\"0 0 24 24\"\n",
              "       width=\"24px\">\n",
              "    <path d=\"M0 0h24v24H0V0z\" fill=\"none\"/>\n",
              "    <path d=\"M18.56 5.44l.94 2.06.94-2.06 2.06-.94-2.06-.94-.94-2.06-.94 2.06-2.06.94zm-11 1L8.5 8.5l.94-2.06 2.06-.94-2.06-.94L8.5 2.5l-.94 2.06-2.06.94zm10 10l.94 2.06.94-2.06 2.06-.94-2.06-.94-.94-2.06-.94 2.06-2.06.94z\"/><path d=\"M17.41 7.96l-1.37-1.37c-.4-.4-.92-.59-1.43-.59-.52 0-1.04.2-1.43.59L10.3 9.45l-7.72 7.72c-.78.78-.78 2.05 0 2.83L4 21.41c.39.39.9.59 1.41.59.51 0 1.02-.2 1.41-.59l7.78-7.78 2.81-2.81c.8-.78.8-2.07 0-2.86zM5.41 20L4 18.59l7.72-7.72 1.47 1.35L5.41 20z\"/>\n",
              "  </svg>\n",
              "      </button>\n",
              "      \n",
              "  <style>\n",
              "    .colab-df-container {\n",
              "      display:flex;\n",
              "      flex-wrap:wrap;\n",
              "      gap: 12px;\n",
              "    }\n",
              "\n",
              "    .colab-df-convert {\n",
              "      background-color: #E8F0FE;\n",
              "      border: none;\n",
              "      border-radius: 50%;\n",
              "      cursor: pointer;\n",
              "      display: none;\n",
              "      fill: #1967D2;\n",
              "      height: 32px;\n",
              "      padding: 0 0 0 0;\n",
              "      width: 32px;\n",
              "    }\n",
              "\n",
              "    .colab-df-convert:hover {\n",
              "      background-color: #E2EBFA;\n",
              "      box-shadow: 0px 1px 2px rgba(60, 64, 67, 0.3), 0px 1px 3px 1px rgba(60, 64, 67, 0.15);\n",
              "      fill: #174EA6;\n",
              "    }\n",
              "\n",
              "    [theme=dark] .colab-df-convert {\n",
              "      background-color: #3B4455;\n",
              "      fill: #D2E3FC;\n",
              "    }\n",
              "\n",
              "    [theme=dark] .colab-df-convert:hover {\n",
              "      background-color: #434B5C;\n",
              "      box-shadow: 0px 1px 3px 1px rgba(0, 0, 0, 0.15);\n",
              "      filter: drop-shadow(0px 1px 2px rgba(0, 0, 0, 0.3));\n",
              "      fill: #FFFFFF;\n",
              "    }\n",
              "  </style>\n",
              "\n",
              "      <script>\n",
              "        const buttonEl =\n",
              "          document.querySelector('#df-04d63379-c291-466f-b536-bf084c25dfc6 button.colab-df-convert');\n",
              "        buttonEl.style.display =\n",
              "          google.colab.kernel.accessAllowed ? 'block' : 'none';\n",
              "\n",
              "        async function convertToInteractive(key) {\n",
              "          const element = document.querySelector('#df-04d63379-c291-466f-b536-bf084c25dfc6');\n",
              "          const dataTable =\n",
              "            await google.colab.kernel.invokeFunction('convertToInteractive',\n",
              "                                                     [key], {});\n",
              "          if (!dataTable) return;\n",
              "\n",
              "          const docLinkHtml = 'Like what you see? Visit the ' +\n",
              "            '<a target=\"_blank\" href=https://colab.research.google.com/notebooks/data_table.ipynb>data table notebook</a>'\n",
              "            + ' to learn more about interactive tables.';\n",
              "          element.innerHTML = '';\n",
              "          dataTable['output_type'] = 'display_data';\n",
              "          await google.colab.output.renderOutput(dataTable, element);\n",
              "          const docLink = document.createElement('div');\n",
              "          docLink.innerHTML = docLinkHtml;\n",
              "          element.appendChild(docLink);\n",
              "        }\n",
              "      </script>\n",
              "    </div>\n",
              "  </div>\n",
              "  "
            ]
          },
          "metadata": {},
          "execution_count": 52
        }
      ]
    },
    {
      "cell_type": "code",
      "source": [
        "prediction = []\n",
        "for i in range(0,len(dfZen['ulasan'])):\n",
        "  predict_transform = vectorizer.transform([dfZen['ulasan'][i]])\n",
        "  prediction.append(svm.predict(predict_transform))"
      ],
      "metadata": {
        "id": "EoZgqWW87-uc"
      },
      "execution_count": null,
      "outputs": []
    },
    {
      "cell_type": "code",
      "source": [
        "dfZen['predict'] = prediction"
      ],
      "metadata": {
        "id": "-sPpXrNb9szZ"
      },
      "execution_count": null,
      "outputs": []
    },
    {
      "cell_type": "code",
      "source": [
        "import matplotlib.pyplot as plt\n",
        "\n",
        "# Data to plot\n",
        "labels = 'Negatif', 'Positif'\n",
        "sizes = [375, 1125]\n",
        "colors = ['red', 'green']\n",
        "explode = (0.1, 0)  # explode 1st slice\n",
        "\n",
        "# Plot\n",
        "plt.pie(sizes, explode=explode, labels=labels, colors=colors,\n",
        "autopct='%1.1f%%', shadow=True, startangle=140)\n",
        "\n",
        "plt.axis('equal')\n",
        "plt.title(\"Persentase Sentimen Pada Aplikasi Ruang Guru\")\n",
        "plt.show()\n",
        "print(\"Negatif =\",sizes[0])\n",
        "print(\"Positif =\",sizes[1])\n",
        "print(\"Jumlah Keseluruhan Data =\",sum(sizes))"
      ],
      "metadata": {
        "id": "2NQIr70wCaSD",
        "colab": {
          "base_uri": "https://localhost:8080/",
          "height": 316
        },
        "outputId": "319c101d-bc9c-464f-ad8e-59eb9becab25"
      },
      "execution_count": null,
      "outputs": [
        {
          "output_type": "display_data",
          "data": {
            "text/plain": [
              "<Figure size 432x288 with 1 Axes>"
            ],
            "image/png": "[encoded data removed]"
          },
          "metadata": {}
        },
        {
          "output_type": "stream",
          "name": "stdout",
          "text": [
            "Negatif = 375\n",
            "Positif = 1125\n",
            "Jumlah Keseluruhan Data = 1500\n"
          ]
        }
      ]
    },
    {
      "cell_type": "code",
      "source": [
        "dfZen.to_excel(\"zenPredict.xlsx\", index = False)  #Save the file as CSV , to download: click the folder icon on the left. the csv file should be there."
      ],
      "metadata": {
        "id": "FWd0EcNc-WNO"
      },
      "execution_count": null,
      "outputs": []
    },
    {
      "cell_type": "markdown",
      "metadata": {
        "id": "_JnatFv0tC4y"
      },
      "source": [
        "#evaluasi model svm"
      ]
    },
    {
      "cell_type": "markdown",
      "source": [
        "Evaluasi dan menampilkan confussion matrix untuk menghitung evaluasi"
      ],
      "metadata": {
        "id": "55y0s63HTrCw"
      }
    },
    {
      "cell_type": "code",
      "execution_count": null,
      "metadata": {
        "id": "uAv8iqAItDTf",
        "colab": {
          "base_uri": "https://localhost:8080/"
        },
        "outputId": "52f8b97d-ef78-41f9-9b93-a5120643e813"
      },
      "outputs": [
        {
          "output_type": "stream",
          "name": "stdout",
          "text": [
            "Accuracy of SVM classifier on test set : 0.90\n",
            "[[  9  21]\n",
            " [  8 262]]\n",
            "              precision    recall  f1-score   support\n",
            "\n",
            "     negatif       0.53      0.30      0.38        30\n",
            "     positif       0.93      0.97      0.95       270\n",
            "\n",
            "    accuracy                           0.90       300\n",
            "   macro avg       0.73      0.64      0.67       300\n",
            "weighted avg       0.89      0.90      0.89       300\n",
            "\n"
          ]
        },
        {
          "output_type": "stream",
          "name": "stderr",
          "text": [
            "/usr/local/lib/python3.7/dist-packages/sklearn/utils/validation.py:598: FutureWarning: np.matrix usage is deprecated in 1.0 and will raise a TypeError in 1.2. Please convert to a numpy array with np.asarray. For more information see: https://numpy.org/doc/stable/reference/generated/numpy.matrix.html\n",
            "  FutureWarning,\n",
            "/usr/local/lib/python3.7/dist-packages/sklearn/utils/validation.py:598: FutureWarning: np.matrix usage is deprecated in 1.0 and will raise a TypeError in 1.2. Please convert to a numpy array with np.asarray. For more information see: https://numpy.org/doc/stable/reference/generated/numpy.matrix.html\n",
            "  FutureWarning,\n"
          ]
        }
      ],
      "source": [
        "from sklearn.metrics import  confusion_matrix\n",
        "from sklearn.metrics import classification_report\n",
        "from sklearn.metrics import accuracy_score\n",
        "y_pred = svm.predict(x_test)\n",
        "print('Accuracy of SVM classifier on test set : {:.2f}'.format(svm.score(x_test, y_test)))\n",
        "\n",
        "confusion_matrix = confusion_matrix(y_test, y_pred)\n",
        "print(confusion_matrix)\n",
        "print(classification_report(y_test, y_pred))"
      ]
    },
    {
      "cell_type": "code",
      "source": [
        "import matplotlib.pyplot as plt\n",
        "from sklearn import metrics\n",
        "\n",
        "cm_display = metrics.ConfusionMatrixDisplay(confusion_matrix = confusion_matrix, display_labels = [False, True])\n",
        "cm_display.plot()\n",
        "plt.show()"
      ],
      "metadata": {
        "colab": {
          "base_uri": "https://localhost:8080/",
          "height": 279
        },
        "id": "eZnDQGHAwRGD",
        "outputId": "ffb107cd-d567-472e-e2bb-0f8b36f8f4be"
      },
      "execution_count": null,
      "outputs": [
        {
          "output_type": "display_data",
          "data": {
            "text/plain": [
              "<Figure size 432x288 with 2 Axes>"
            ],
            "image/png": "[encoded data removed]"
          },
          "metadata": {
            "needs_background": "light"
          }
        }
      ]
    }
  ],
  "metadata": {
    "colab": {
      "collapsed_sections": [
        "8So-dbpMDNrG"
      ],
      "provenance": []
    },
    "kernelspec": {
      "display_name": "Python 3",
      "name": "python3"
    },
    "language_info": {
      "name": "python"
    },
    "accelerator": "GPU",
    "gpuClass": "standard"
  },
  "nbformat": 4,
  "nbformat_minor": 0
}